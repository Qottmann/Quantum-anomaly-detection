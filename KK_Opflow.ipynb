{
 "cells": [
  {
   "cell_type": "markdown",
   "id": "ee4d246c-a61d-4573-be4d-02cea9569e40",
   "metadata": {},
   "source": [
    "Here I want to explore how to evaluate expectation values in Qiskit, to analyze the VQE results  \n",
    "Most of the stuff is explained here https://qiskit.org/documentation/tutorials/operators/01_operator_flow.html  \n",
    "These issue tickets are somewhat also helpful  \n",
    "[Inconsistence between qasm and eval outputs of opflow expectation value #6255](https://github.com/Qiskit/qiskit-terra/issues/6255)  \n",
    "[Opflow takes the adjoint of an Operator if the expectation value is written as OperatorMeasurement #6254](https://github.com/Qiskit/qiskit-terra/issues/6254)  "
   ]
  },
  {
   "cell_type": "code",
   "execution_count": 1,
   "id": "cdaf42e3-3f42-4cb3-9b9c-5cb5a3374e94",
   "metadata": {},
   "outputs": [],
   "source": [
    "import time\n",
    "import numpy as np\n",
    "import qiskit\n",
    "from qiskit.opflow import X,Z,I\n",
    "from qiskit.opflow.state_fns import StateFn, CircuitStateFn\n",
    "import matplotlib.pyplot as plt\n",
    "%matplotlib inline"
   ]
  },
  {
   "cell_type": "code",
   "execution_count": 2,
   "id": "443a7ff8-93d6-4da5-93ba-ad233a9124b6",
   "metadata": {},
   "outputs": [],
   "source": [
    "# copypaste niccolo's code\n",
    "def QNKron(N,op1,op2,pos): \n",
    "    '''\n",
    "    Tensor product operator (Qiskit Pauli operators)\n",
    "    returns tensor product of op1,op2 on sites pos,pos+1 and identity on remaining sites\n",
    "\n",
    "    N:number of sites\n",
    "    op1,op2: Pauli operators on neighboring sites\n",
    "    pos: site to insert op1\n",
    "    '''\n",
    "    temp=np.array([I]*(N))\n",
    "    temp[pos]=op1 \n",
    "    if pos!=(N-1):\n",
    "        temp[pos+1]=op2\n",
    "    mat=1\n",
    "    for j in range(N):\n",
    "        mat=mat^temp[j]\n",
    "    return mat\n",
    "def QHIsing(N,lam,p):\n",
    "    '''\n",
    "    Quantum Ising Hamiltonian (1D) with transverse field (Qiskit Pauli operators)\n",
    "    \n",
    "    N:number of sites \n",
    "    lam: transverse field)\n",
    "    '''\n",
    "\n",
    "    H=-QNKron(N,Z,Z,0)-lam*QNKron(N,X,I,0)-p*QNKron(N,Z,I,0)\n",
    "    for i in range(1,N-1):\n",
    "        H=H-QNKron(N,Z,Z,i)-lam*QNKron(N,X,I,i)-p*QNKron(N,Z,I,i)\n",
    "    H=H-lam*QNKron(N,X,I,N-1)-p*QNKron(N,Z,I,N-1)\n",
    "    return H\n",
    "\n",
    "def Mag(N):\n",
    "    sz=np.array([[1,0],[0,-1]])\n",
    "    M=np.zeros((2**N,2**N))\n",
    "    for i in range(N):\n",
    "        M=M+NKron(N,sz,np.eye(2),i)\n",
    "    return M/N"
   ]
  },
  {
   "cell_type": "code",
   "execution_count": 3,
   "id": "ba68c8d1-0605-48b7-af9b-459bfe604262",
   "metadata": {},
   "outputs": [],
   "source": [
    "def sort_vals(vals):\n",
    "    \"\"\" vals is (unsorted) dictionary of parameters from VQE ansatz circuit, this returns sorted values as list \"\"\"\n",
    "    indices = np.array([_.index for _ in vals])           # unordered list of indices from the ParameterVectorElement(Theta(INDEX))\n",
    "    vals_sorted = np.array([vals[_] for _ in vals])       # unordered list of values (but same ordering as indices)\n",
    "    return vals_sorted[np.argsort(indices)]\n",
    "\n",
    "def init_vqe(vals):\n",
    "    return qiskit.circuit.library.EfficientSU2(L, reps=3).assign_parameters(sort_vals(vals))"
   ]
  },
  {
   "cell_type": "code",
   "execution_count": 4,
   "id": "a835bc45-cb52-4ecd-a370-da2e3455187c",
   "metadata": {},
   "outputs": [],
   "source": [
    "L = 6\n",
    "VQE_vals = np.load(f'params_VQE_ising_N{L}.npy', allow_pickle=True).item()\n",
    "\n",
    "lambdas = np.array([_ for _ in VQE_vals]) # list of lambda values (the items in the dictionary)\n",
    "# note that Rike calls them gs"
   ]
  },
  {
   "cell_type": "code",
   "execution_count": 5,
   "id": "36bde0cf-c009-4cc9-ad1d-5a37bb9a8f43",
   "metadata": {},
   "outputs": [],
   "source": [
    "lambda0 = lambdas[0]"
   ]
  },
  {
   "cell_type": "code",
   "execution_count": 6,
   "id": "c99f37b5-3ad4-437c-8711-11b3faaa53c4",
   "metadata": {},
   "outputs": [],
   "source": [
    "H = QHIsing(L,np.float32(lambda0),1e-4) # build Hamiltonian Op"
   ]
  },
  {
   "cell_type": "code",
   "execution_count": 7,
   "id": "9a1b2983-b32b-4309-a96c-85d97e18d406",
   "metadata": {},
   "outputs": [],
   "source": [
    "state = init_vqe(VQE_vals[lambda0])\n",
    "# state is technically a circuit, that prepares the ground state via VQE circuit\n",
    "#state.draw() # uncomment to see, but is very long"
   ]
  },
  {
   "cell_type": "code",
   "execution_count": 8,
   "id": "1d7747ef-73f7-45dd-b6af-b083144a2932",
   "metadata": {},
   "outputs": [],
   "source": [
    "mag = Z ^ Z ^ Z ^ Z ^ Z ^ Z"
   ]
  },
  {
   "cell_type": "code",
   "execution_count": 9,
   "id": "b9e860a0-b26b-4178-9a79-009f1fe5e967",
   "metadata": {},
   "outputs": [
    {
     "data": {
      "text/plain": [
       "OperatorStateFn(PauliOp(Pauli('ZZZZZZ'), coeff=1.0), coeff=1.0, is_measurement=True)"
      ]
     },
     "execution_count": 9,
     "metadata": {},
     "output_type": "execute_result"
    }
   ],
   "source": [
    "# the ~ is the adjoint, but also it turns the is_measurement attribute to True\n",
    "~StateFn(mag)"
   ]
  },
  {
   "cell_type": "code",
   "execution_count": 10,
   "id": "9fbbf6a5-fa3c-4398-8de2-9e95e8a07dd0",
   "metadata": {},
   "outputs": [
    {
     "data": {
      "text/plain": [
       "CircuitStateFn(<qiskit.circuit.library.n_local.efficient_su2.EfficientSU2 object at 0x7fd141507640>, coeff=1.0, is_measurement=False)"
      ]
     },
     "execution_count": 10,
     "metadata": {},
     "output_type": "execute_result"
    }
   ],
   "source": [
    "StateFn(state)"
   ]
  },
  {
   "cell_type": "code",
   "execution_count": 11,
   "id": "ccf45b18-296f-43b5-9096-51c7cb33e395",
   "metadata": {},
   "outputs": [
    {
     "data": {
      "text/plain": [
       "(0.9999460696468839+0j)"
      ]
     },
     "execution_count": 11,
     "metadata": {},
     "output_type": "execute_result"
    }
   ],
   "source": [
    "meas_outcome = ~StateFn(mag) @ StateFn(state)\n",
    "meas_outcome.eval()"
   ]
  },
  {
   "cell_type": "markdown",
   "id": "033905f2-cff9-4b47-89cf-19db91f09523",
   "metadata": {},
   "source": [
    "I also tried with the Hamiltonian but he didnt like that, I guess it has to do with ho Niccolo's code constructs the Hamiltonian and what StateFn can accept. Ideally we would construct the Hamiltonian with the routines described in the opflow tutorial"
   ]
  },
  {
   "cell_type": "code",
   "execution_count": null,
   "id": "097343e0-e0ad-4ac4-a3a1-35d5ab866c0c",
   "metadata": {},
   "outputs": [],
   "source": []
  }
 ],
 "metadata": {
  "kernelspec": {
   "display_name": "Python 3",
   "language": "python",
   "name": "python3"
  },
  "language_info": {
   "codemirror_mode": {
    "name": "ipython",
    "version": 3
   },
   "file_extension": ".py",
   "mimetype": "text/x-python",
   "name": "python",
   "nbconvert_exporter": "python",
   "pygments_lexer": "ipython3",
   "version": "3.9.4"
  }
 },
 "nbformat": 4,
 "nbformat_minor": 5
}
