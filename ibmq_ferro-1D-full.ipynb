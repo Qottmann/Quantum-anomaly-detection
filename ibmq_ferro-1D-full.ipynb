{
 "cells": [
  {
   "cell_type": "code",
   "execution_count": 10,
   "id": "62aac339",
   "metadata": {},
   "outputs": [],
   "source": [
    "import time\n",
    "import datetime\n",
    "import numpy as np\n",
    "from matplotlib import pyplot as plt\n",
    "\n",
    "import qiskit\n",
    "from qiskit import *\n",
    "from qiskit.opflow import X,Z,I\n",
    "from qiskit.opflow.state_fns import StateFn, CircuitStateFn\n",
    "from qiskit.providers.aer import StatevectorSimulator, AerSimulator\n",
    "from qiskit.algorithms import VQE\n",
    "from qiskit.algorithms.optimizers import COBYLA, SLSQP, SPSA\n",
    "\n",
    "from qiskit.ignis.mitigation.measurement import CompleteMeasFitter # you will need to pip install qiskit-ignis\n",
    "\n",
    "from scipy import sparse\n",
    "import scipy.sparse.linalg.eigen.arpack as arp\n",
    "from modules.utils import *"
   ]
  },
  {
   "cell_type": "code",
   "execution_count": 2,
   "id": "19bd4fdf",
   "metadata": {},
   "outputs": [
    {
     "name": "stdout",
     "output_type": "stream",
     "text": [
      "filename:  data/qsim_params_VQE_Ising_L5_anti_1_10 notebook name:  ibmq_ferro-1D-full\n"
     ]
    }
   ],
   "source": [
    "gz = 0\n",
    "anti = 1\n",
    "\n",
    "L = 5\n",
    "num_trash = 2\n",
    "logspace_size = 10\n",
    "\n",
    "name = \"ibmq_ferro-1D-full\"\n",
    "filename = f\"data/qsim_params_VQE_Ising_L{L:.0f}_anti_{anti:.0f}_{logspace_size}\"\n",
    "print(\"filename: \", filename, \"notebook name: \", name)\n",
    "gx_vals = np.logspace(-2,2,logspace_size)"
   ]
  },
  {
   "cell_type": "code",
   "execution_count": 3,
   "id": "3f2f5b8a-957e-403e-8bfe-f11757f2fb80",
   "metadata": {},
   "outputs": [],
   "source": [
    "IBMQ.load_account() # this then automatically loads your saved account\n",
    "provider = IBMQ.get_provider(hub='ibm-q-research')"
   ]
  },
  {
   "cell_type": "code",
   "execution_count": 4,
   "id": "d900d904-13e6-423e-926e-0ca04521305b",
   "metadata": {},
   "outputs": [],
   "source": [
    "device = provider.backends(simulator=False, operational=True)[6] # 6 bogota ; 4 rome"
   ]
  },
  {
   "cell_type": "code",
   "execution_count": 5,
   "id": "1b3293e2",
   "metadata": {},
   "outputs": [],
   "source": [
    "backend = qiskit.providers.aer.AerSimulator.from_backend(device)"
   ]
  },
  {
   "cell_type": "code",
   "execution_count": 6,
   "id": "53a699a8",
   "metadata": {},
   "outputs": [],
   "source": [
    "coupling_map = device.configuration().coupling_map\n",
    "noise_model = qiskit.providers.aer.noise.NoiseModel.from_backend(device)\n",
    "basis_gates = noise_model.basis_gates"
   ]
  },
  {
   "cell_type": "code",
   "execution_count": 11,
   "id": "88b32b9c",
   "metadata": {},
   "outputs": [],
   "source": [
    "#aqua_globals.random_seed = seed\n",
    "qi = qiskit.utils.QuantumInstance(backend=backend, # , seed_simulator=seed, seed_transpiler=seed\n",
    "                         coupling_map=coupling_map, noise_model=noise_model,\n",
    "                         measurement_error_mitigation_cls= CompleteMeasFitter, \n",
    "                         cals_matrix_refresh_period=30  #How often to refresh the calibration matrix in measurement mitigation. in minutes\n",
    "                                 )"
   ]
  },
  {
   "cell_type": "code",
   "execution_count": 44,
   "id": "02e229e0-398f-4f3e-9fa2-6afb523f9b8f",
   "metadata": {},
   "outputs": [
    {
     "name": "stderr",
     "output_type": "stream",
     "text": [
      "Measured Observable is not composed of only Paulis, converting to Pauli representation, which can be expensive.\n"
     ]
    },
    {
     "name": "stdout",
     "output_type": "stream",
     "text": [
      "elapsed time 0:03:26.321803\n"
     ]
    }
   ],
   "source": [
    "counts = []\n",
    "values = []\n",
    "\n",
    "def store_intermediate_result(eval_count, parameters, mean, std):\n",
    "    counts.append(eval_count)\n",
    "    values.append(mean)\n",
    "    \n",
    "# Hamiltonian\n",
    "gx = 0.1\n",
    "H = QHIsing(L,anti,np.float32(gx),np.float32(gz))\n",
    "\n",
    "# Optimizer and Ansatz\n",
    "ansatz = qiskit.circuit.library.TwoLocal(L,rotation_blocks='rx', entanglement_blocks='cz', reps=3) #EfficientSU2(L, reps=3) #\n",
    "#optimizer = SLSQP(maxiter=1000)\n",
    "#optimizer = COBYLA(maxiter=200)\n",
    "optimizer = SPSA(maxiter=500)\n",
    "\n",
    "# Run VQE\n",
    "t0 = datetime.datetime.now()\n",
    "vqe = VQE(ansatz=ansatz, optimizer=optimizer, callback=store_intermediate_result, quantum_instance=qi) #qi # AerSimulator() for consistency check, with that it works so it really is the noise that is the problem\n",
    "result = vqe.compute_minimum_eigenvalue(operator=H, aux_operators=[QMag(L,anti)])\n",
    "print(f\"elapsed time {datetime.datetime.now()-t0}\")"
   ]
  },
  {
   "cell_type": "code",
   "execution_count": 45,
   "id": "76d895e9-2622-4487-b1fe-38c5132b34f4",
   "metadata": {},
   "outputs": [
    {
     "data": {
      "text/plain": [
       "Text(0, 0.5, 'value')"
      ]
     },
     "execution_count": 45,
     "metadata": {},
     "output_type": "execute_result"
    },
    {
     "data": {
      "image/png": "[encoded data removed]",
      "text/plain": [
       "<Figure size 432x288 with 1 Axes>"
      ]
     },
     "metadata": {
      "needs_background": "light"
     },
     "output_type": "display_data"
    }
   ],
   "source": [
    "plt.plot(counts, values)\n",
    "plt.xlabel(\"evaluation counts\")\n",
    "plt.ylabel(\"value\")"
   ]
  },
  {
   "cell_type": "code",
   "execution_count": 46,
   "id": "765a910f-6a13-41fb-b082-35b62d5de0be",
   "metadata": {},
   "outputs": [
    {
     "name": "stdout",
     "output_type": "stream",
     "text": [
      "ED energy: -4.01850914771919 ;; VQE energy: -1.5080027403019058 ;; diff -2.510506407417284\n",
      "ED mag: (0.997183282331299+0j) ;; VQE mag: [[-0.1330718941499719]] ;; diff [[(1.130255176481271+0j)]]\n"
     ]
    }
   ],
   "source": [
    "# ED for comparison\n",
    "ED_state, E, ham = ising_groundstate(L, anti, np.float32(gx), np.float32(gz))\n",
    "print(f\"ED energy: {E} ;; VQE energy: {result.eigenvalue} ;; diff {E - result.eigenvalue}\")\n",
    "print(f\"ED mag: {ED_state.T.conj()@Mag(L,anti)@ED_state} ;; VQE mag: {result.aux_operator_eigenvalues} ;; diff {ED_state.T.conj()@Mag(L,anti)@ED_state - result.aux_operator_eigenvalues}\")"
   ]
  },
  {
   "cell_type": "markdown",
   "id": "eee37dfd-ce2a-4c6e-b110-55469a2c72d8",
   "metadata": {},
   "source": [
    "As long as this part doesnt work there is no point in simulating / running the anomaly detection with bad states"
   ]
  },
  {
   "cell_type": "markdown",
   "id": "05e8069d-dc21-40f8-af36-32b14769ef1a",
   "metadata": {},
   "source": [
    "### Comparison with noiseless simulation"
   ]
  },
  {
   "cell_type": "code",
   "execution_count": 47,
   "id": "41e685f8-e2ba-4d35-8a44-3a39899225de",
   "metadata": {},
   "outputs": [
    {
     "name": "stderr",
     "output_type": "stream",
     "text": [
      "Measured Observable is not composed of only Paulis, converting to Pauli representation, which can be expensive.\n"
     ]
    },
    {
     "name": "stdout",
     "output_type": "stream",
     "text": [
      "elapsed time 0:01:08.949058\n"
     ]
    }
   ],
   "source": [
    "counts = []\n",
    "values = []\n",
    "\n",
    "def store_intermediate_result(eval_count, parameters, mean, std):\n",
    "    counts.append(eval_count)\n",
    "    values.append(mean)\n",
    "    \n",
    "# Hamiltonian\n",
    "gx = 0.1\n",
    "H = QHIsing(L,anti,np.float32(gx),np.float32(gz))\n",
    "\n",
    "# Optimizer and Ansatz\n",
    "ansatz = qiskit.circuit.library.TwoLocal(L,rotation_blocks='rx', entanglement_blocks='cz', reps=3) #EfficientSU2(L, reps=3) #\n",
    "#optimizer = SLSQP(maxiter=1000)\n",
    "#optimizer = COBYLA(maxiter=200)\n",
    "optimizer = SPSA(maxiter=500)\n",
    "\n",
    "# Run VQE\n",
    "t0 = datetime.datetime.now()\n",
    "vqe = VQE(ansatz=ansatz, optimizer=optimizer, callback=store_intermediate_result, quantum_instance=AerSimulator()) #qi # AerSimulator() for consistency check, with that it works so it really is the noise that is the problem\n",
    "result = vqe.compute_minimum_eigenvalue(operator=H, aux_operators=[QMag(L,anti)])\n",
    "print(f\"elapsed time {datetime.datetime.now()-t0}\")"
   ]
  },
  {
   "cell_type": "code",
   "execution_count": 50,
   "id": "345f28ed-013c-48a9-8b75-a0ca1321993c",
   "metadata": {},
   "outputs": [
    {
     "name": "stdout",
     "output_type": "stream",
     "text": [
      "ED energy: -4.018509147719188 ;; VQE energy: -3.969144531212165 ;; diff -0.04936461650702295\n",
      "ED mag: (0.9971832823312707+0j) ;; VQE mag: [[0.9808593750000001]] ;; diff [[(0.01632390733127065+0j)]]\n"
     ]
    }
   ],
   "source": [
    "# ED for comparison\n",
    "ED_state, E, ham = ising_groundstate(L, anti, np.float32(gx), np.float32(gz))\n",
    "print(f\"ED energy: {E} ;; VQE energy: {result.eigenvalue} ;; diff {E - result.eigenvalue}\")\n",
    "print(f\"ED mag: {ED_state.T.conj()@Mag(L,anti)@ED_state} ;; VQE mag: {result.aux_operator_eigenvalues} ;; diff {ED_state.T.conj()@Mag(L,anti)@ED_state - result.aux_operator_eigenvalues}\")"
   ]
  },
  {
   "cell_type": "code",
   "execution_count": 52,
   "id": "cdcc764e-4ce1-4d2d-9b11-62105e919046",
   "metadata": {},
   "outputs": [
    {
     "data": {
      "text/plain": [
       "Text(0.5, 1.0, 'Noiseless SImulation')"
      ]
     },
     "execution_count": 52,
     "metadata": {},
     "output_type": "execute_result"
    },
    {
     "data": {
      "image/png": "[encoded data removed]",
      "text/plain": [
       "<Figure size 432x288 with 1 Axes>"
      ]
     },
     "metadata": {
      "needs_background": "light"
     },
     "output_type": "display_data"
    }
   ],
   "source": [
    "plt.plot(counts, values, label=\"VQE results\")\n",
    "plt.plot([0,1000],[E]*2, label=\"ED result\")\n",
    "plt.legend()\n",
    "plt.xlabel(\"evaluation counts\")\n",
    "plt.ylabel(\"value\")\n",
    "plt.title(\"Noiseless SImulation\")"
   ]
  },
  {
   "cell_type": "code",
   "execution_count": 38,
   "id": "decb9c50",
   "metadata": {},
   "outputs": [],
   "source": [
    "##############################################################################\n",
    "### II - Training  ###########################################################\n",
    "##############################################################################\n",
    "\n",
    "thetas = np.random.uniform(0, 2*np.pi, 2*L+2) # initial parameters without feature encoding\n",
    "# thetas = np.random.uniform(0, 2*np.pi, (2*L+2, 2)) # initial parameters with feature encoding"
   ]
  },
  {
   "cell_type": "code",
   "execution_count": 45,
   "id": "fe7c098f",
   "metadata": {},
   "outputs": [],
   "source": [
    "# linear entangler (as in scales linearly with trash qubits)\n",
    "def get_entangler_map(L, num_trash, i_permut=1):\n",
    "    result = []\n",
    "    nums = list(range(L)) # here was the problem, it doesnt like when list elements are taken from numpy\n",
    "    nums_compressed = nums.copy()[:L-num_trash]\n",
    "    nums_trash = nums.copy()[-num_trash:]\n",
    "    #print(nums, nums_compressed, nums_trash)\n",
    "    # combine all trash qubits with themselves\n",
    "    for trash_q in nums_trash[:-1]:\n",
    "        result.append((trash_q+1,trash_q))\n",
    "    # combine each of the trash qubits with every n-th\n",
    "    repeated = list(nums_trash) * (L-num_trash) # repeat the list of trash indices cyclicly\n",
    "    for i in range(L-num_trash):\n",
    "        result.append((repeated[i_permut + i], nums_compressed[i]))\n",
    "    return result\n",
    "\n",
    "def QAE_Ansatz(thetas, L, num_trash, insert_barriers=False, parametrized_gate = \"ry\", entangling_gate = \"cz\"):\n",
    "    entanglement = [get_entangler_map(L,num_trash,i_permut) for i_permut in range(num_trash)]\n",
    "    circ = qiskit.circuit.library.TwoLocal(L, \n",
    "                                           parametrized_gate,\n",
    "                                           entangling_gate,\n",
    "                                           entanglement,\n",
    "                                           reps=num_trash,\n",
    "                                           insert_barriers=insert_barriers,\n",
    "                                           skip_final_rotation_layer=True\n",
    "                                          ).assign_parameters(thetas[:-num_trash])\n",
    "    if insert_barriers: circ.barrier()\n",
    "    for i in range(num_trash):\n",
    "        circ.ry(thetas[L-i-1], L-i-1)\n",
    "        #circ.ry(circuit.Parameter(f'θ{i}'), L-i-1)\n",
    "    return circ\n",
    "\n",
    "def prepare_circuit(thetas, L=6, num_trash=2, init_state=None, measurement=True, vqe=True):\n",
    "    qreg = QuantumRegister(L, 'q')\n",
    "    creg = ClassicalRegister(num_trash, 'c')\n",
    "    circ = QuantumCircuit(qreg, creg)\n",
    "    circ += QAE_Ansatz(thetas, L, num_trash, insert_barriers=True)#.assign_parameters(thetas) # difference to bind?\n",
    "    if measurement:\n",
    "        for i in range(num_trash):\n",
    "            circ.measure(qreg[L-i-1], creg[i])\n",
    "    if init_state is not None:\n",
    "        if vqe:\n",
    "            circ = init_vqe(init_state,L=L) + circ\n",
    "        else:\n",
    "            circ.initialize(init_state, qreg)\n",
    "    return circ"
   ]
  },
  {
   "cell_type": "code",
   "execution_count": 46,
   "id": "1f034325",
   "metadata": {},
   "outputs": [],
   "source": [
    "def feature_encoding(thetas, x):\n",
    "    \"\"\" thetas: parameters to be optimized, x: Ising model parameter (eg. field) \"\"\"\n",
    "    new_thetas = []\n",
    "    thetas = thetas.reshape((-1,2))\n",
    "    for theta in thetas:\n",
    "        new_thetas.append(theta[0] * x + theta[1])\n",
    "    return new_thetas"
   ]
  },
  {
   "cell_type": "markdown",
   "id": "e71b7700",
   "metadata": {},
   "source": [
    "### Execute circuit\n",
    "Circuit is executed on simulator and measurement outcomes on the trash qubits are stored"
   ]
  },
  {
   "cell_type": "code",
   "execution_count": 47,
   "id": "bd45800a",
   "metadata": {},
   "outputs": [
    {
     "name": "stderr",
     "output_type": "stream",
     "text": [
      "<ipython-input-45-a05c1f5c1b9e>:37: DeprecationWarning: The QuantumCircuit.__iadd__() method is being deprecated. Use the compose() (potentially with the inplace=True argument) and tensor() methods which are more flexible w.r.t circuit register compatibility.\n",
      "  circ += QAE_Ansatz(thetas, L, num_trash, insert_barriers=True)#.assign_parameters(thetas) # difference to bind?\n",
      "/home/kkottmann/anaconda3/envs/qiskit_env/lib/python3.9/site-packages/qiskit/circuit/quantumcircuit.py:876: DeprecationWarning: The QuantumCircuit.extend() method is being deprecated. Use the compose() (potentially with the inplace=True argument) and tensor() methods which are more flexible w.r.t circuit register compatibility.\n",
      "  return self.extend(rhs)\n",
      "<ipython-input-45-a05c1f5c1b9e>:43: DeprecationWarning: The QuantumCircuit.__add__() method is being deprecated.Use the compose() method which is more flexible w.r.t circuit register compatibility.\n",
      "  circ = init_vqe(init_state,L=L) + circ\n",
      "/home/kkottmann/anaconda3/envs/qiskit_env/lib/python3.9/site-packages/qiskit/circuit/quantumcircuit.py:869: DeprecationWarning: The QuantumCircuit.combine() method is being deprecated. Use the compose() method which is more flexible w.r.t circuit register compatibility.\n",
      "  return self.combine(rhs)\n"
     ]
    },
    {
     "data": {
      "text/plain": [
       "23"
      ]
     },
     "execution_count": 47,
     "metadata": {},
     "output_type": "execute_result"
    }
   ],
   "source": [
    "def run_circuit(thetas, L, num_trash, init_state, vqe=True, shots=100):\n",
    "    circ = prepare_circuit(thetas, L, num_trash, init_state, vqe=vqe)\n",
    "\n",
    "    # Execute the circuit on the qasm simulator.\n",
    "    job_sim = execute(circ, backend_sim, shots=shots, seed_simulator=123, seed_transpiler=234) # fix seed to make it reproducible\n",
    "\n",
    "    # Grab the results from the job.\n",
    "    result_sim = job_sim.result()\n",
    "\n",
    "    counts = result_sim.get_counts(circ)\n",
    "#     print(counts)\n",
    "    \n",
    "#     mems = result_sim.get_memory(circ)\n",
    "#     print(mems)\n",
    "    return counts\n",
    "phi = opt_params[0]\n",
    "run_circuit(thetas, L, num_trash, phi)['11']"
   ]
  },
  {
   "cell_type": "markdown",
   "id": "3b91318f",
   "metadata": {},
   "source": [
    "### Optimize circuit\n",
    "Define cost function (averaged hamming distance of measurement outcomes) and minimze it using either scipy or qiskit optimizer modules (the latter is also based on scipy though)."
   ]
  },
  {
   "cell_type": "code",
   "execution_count": 49,
   "id": "45efa0e5",
   "metadata": {},
   "outputs": [],
   "source": [
    "\n",
    "\n",
    "def cost_function_single(thetas, L, num_trash, p, shots=1000, vqe=True, param_encoding=False, x=0):\n",
    "    \"\"\" Optimizes circuit \"\"\"\n",
    "    if vqe:\n",
    "        init_state = phis[p]\n",
    "    else:\n",
    "        J, gx, gz = p\n",
    "        init_state, _ = ising_groundstate(L, J, gx, gz)\n",
    "    if param_encoding: thetas = feature_encoding(thetas, x) \n",
    "    out = run_circuit(thetas, L, num_trash, init_state, vqe=vqe, shots=shots)\n",
    "    cost = out.get('11', 0)*2 + out.get('01', 0) + out.get('10', 0)\n",
    "    return cost/shots\n",
    "\n",
    "def cost_function(thetas, L, num_trash, ising_params, shots=1000, vqe=True, param_encoding=False, x=0):\n",
    "    \"\"\" Optimizes circuit \"\"\"\n",
    "    cost = 0.\n",
    "    n_samples = len(ising_params)\n",
    "    for i, p in enumerate(ising_params):\n",
    "        if param_encoding: \n",
    "            cost += cost_function_single(thetas, L, num_trash, p, shots, vqe, param_encoding, x[i])\n",
    "        else:\n",
    "            cost += cost_function_single(thetas, L, num_trash, p, shots, vqe, param_encoding)\n",
    "    return cost/n_samples\n",
    "\n",
    "def optimize(ising_params, L=6, num_trash=2, thetas=None, shots=1000, max_iter=400, vqe=True, param_encoding=False, x=0, pick_optimizer = None):\n",
    "    if thetas is None:\n",
    "        n_params = (2*L+2)*2 if param_encoding else (2*L+2)\n",
    "        thetas = np.random.uniform(0, 2*np.pi, n_params) # initial parameters without feature encoding\n",
    "        \n",
    "    print(\"Initial cost: {:.3f}\".format(cost_function(thetas, L, num_trash, ising_params, shots, vqe, param_encoding, x)))\n",
    "    \n",
    "    counts, values, accepted = [], [], []\n",
    "    def store_intermediate_result(eval_count, parameters, mean, std, ac):\n",
    "        # counts.append(eval_count)\n",
    "        values.append(mean)\n",
    "        accepted.append(ac)\n",
    "\n",
    "    # Initialize optimizer\n",
    "    if pick_optimizer == \"cobyla\":\n",
    "        optimizer = COBYLA(maxiter=max_iter, tol=0.0001)\n",
    "    if pick_optimizer == \"adam\" or pick_optimizer == \"ADAM\":\n",
    "        optimizer = qiskit.algorithms.optimizers.ADAM(maxiter=max_iter)\n",
    "    # optimizer = L_BFGS_B(maxfun=300, maxiter=max_iter)#, factr=10, iprint=- 1, epsilon=1e-08)\n",
    "    if pick_optimizer == \"spsa\" or pick_optimizer == None:\n",
    "        optimizer = SPSA(maxiter=max_iter,\n",
    "                         #blocking=True,\n",
    "                         callback=store_intermediate_result,\n",
    "                         #learning_rate=1e-1,\n",
    "                         #perturbation=0.4\n",
    "                         ) # recommended from qiskit (first iteraction takes quite long)\n",
    "                           # to reduce time figure out optimal learning rate and perturbation in advance\n",
    "\n",
    "    start_time = time.time()\n",
    "    ret = optimizer.optimize(\n",
    "                            num_vars=len(thetas),\n",
    "                            objective_function=(lambda thetas: cost_function(thetas, L, num_trash, ising_params, shots, vqe, param_encoding, x)),\n",
    "                            initial_point=thetas\n",
    "                            )\n",
    "    print(\"Time: {:.5f} sec\".format(time.time()-start_time))\n",
    "    print(ret)\n",
    "    return ret[0], values, accepted\n",
    "\n"
   ]
  },
  {
   "cell_type": "code",
   "execution_count": 50,
   "id": "6a35a037",
   "metadata": {},
   "outputs": [],
   "source": [
    "def run_inference(thetas, shots=1000, L=5):\n",
    "    cost = np.zeros((len(gx_vals)))\n",
    "    shots = 1000\n",
    "    for i,p in enumerate(list(zip(gxs, gzs))):\n",
    "            cost[i] = cost_function_single(thetas, L, num_trash, i, shots=shots)\n",
    "    return cost"
   ]
  },
  {
   "cell_type": "markdown",
   "id": "fd31c5da",
   "metadata": {},
   "source": [
    "## Training on bottom-left"
   ]
  },
  {
   "cell_type": "code",
   "execution_count": 52,
   "id": "bf88cd56",
   "metadata": {},
   "outputs": [],
   "source": [
    "paramss =[\n",
    "    [0], # train on bottom left point\n",
    "]"
   ]
  },
  {
   "cell_type": "code",
   "execution_count": 54,
   "id": "ce025763",
   "metadata": {},
   "outputs": [
    {
     "name": "stdout",
     "output_type": "stream",
     "text": [
      "1 / 1 - params (gz, gx) in [(0, 0.01)]\n"
     ]
    }
   ],
   "source": [
    "for i,params in enumerate(paramss):\n",
    "    print(f\"{i+1} / {len(paramss)} - params (gz, gx) in {[(gzs[p], gxs[p]) for p in params]}\")"
   ]
  },
  {
   "cell_type": "code",
   "execution_count": 55,
   "id": "4cb35e27",
   "metadata": {},
   "outputs": [],
   "source": [
    "thetass = [None] * len(paramss)\n",
    "losss = [None] * len(paramss)\n",
    "costs = [None] * len(paramss)"
   ]
  },
  {
   "cell_type": "markdown",
   "id": "94b08a5e",
   "metadata": {},
   "source": [
    "## Run 1"
   ]
  },
  {
   "cell_type": "code",
   "execution_count": 56,
   "id": "a4370739",
   "metadata": {},
   "outputs": [
    {
     "name": "stdout",
     "output_type": "stream",
     "text": [
      "1 / 1 - params (gz, gx) in [(0, 0.01)]\n",
      "Initial cost: 1.069\n",
      "Time: 26.65872 sec\n",
      "(array([ 5.32756975, -1.45493624,  3.7899829 ,  6.76658342,  5.1009913 ,\n",
      "        1.08606106, -0.97363079,  2.74248751,  4.27880354, -2.74954995,\n",
      "        4.31288663, -1.43048015]), 0.793, 300)\n"
     ]
    },
    {
     "data": {
      "image/png": "[encoded data removed]",
      "text/plain": [
       "<Figure size 432x288 with 1 Axes>"
      ]
     },
     "metadata": {
      "needs_background": "light"
     },
     "output_type": "display_data"
    }
   ],
   "source": [
    "for i,params in enumerate(paramss):\n",
    "    print(f\"{i+1} / {len(paramss)} - params (gz, gx) in {[(gzs[p], gxs[p]) for p in params]}\")\n",
    "    thetas, loss, accepted = optimize(params, max_iter=100, L=5) #, pick_optimizer=\"adam\")\n",
    "    thetass[i], losss[i] = thetas, loss\n",
    "    plt.plot(loss)\n",
    "    cost = run_inference(thetas)\n",
    "    costs[i] = cost"
   ]
  },
  {
   "cell_type": "code",
   "execution_count": 65,
   "id": "3714b27c",
   "metadata": {},
   "outputs": [
    {
     "name": "stderr",
     "output_type": "stream",
     "text": [
      "/home/kkottmann/anaconda3/envs/qiskit_env/lib/python3.9/site-packages/numpy/core/_asarray.py:102: ComplexWarning: Casting complex values to real discards the imaginary part\n",
      "  return array(a, dtype, copy=False, order=order)\n"
     ]
    },
    {
     "data": {
      "text/plain": [
       "Text(0.5, 0, '$g_x$')"
      ]
     },
     "execution_count": 65,
     "metadata": {},
     "output_type": "execute_result"
    },
    {
     "data": {
      "image/png": "[encoded data removed]",
      "text/plain": [
       "<Figure size 432x360 with 1 Axes>"
      ]
     },
     "metadata": {
      "needs_background": "light"
     },
     "output_type": "display_data"
    }
   ],
   "source": [
    "fig, ax = plt.subplots(ncols=1, figsize=(6,5))\n",
    "ax.plot(gxs,cost,\"x--\", label = \"loss\")\n",
    "ax.plot(gxs,Qmags,\"x--\", label=\"$\\\\langle s_z \\\\rangle$\")\n",
    "ax.set_xscale(\"log\")\n",
    "ax.legend()\n",
    "ax.set_xlabel(\"$g_x$\", fontsize= 14)"
   ]
  },
  {
   "cell_type": "code",
   "execution_count": null,
   "id": "5de189c7",
   "metadata": {},
   "outputs": [],
   "source": []
  }
 ],
 "metadata": {
  "kernelspec": {
   "display_name": "Python 3",
   "language": "python",
   "name": "python3"
  },
  "language_info": {
   "codemirror_mode": {
    "name": "ipython",
    "version": 3
   },
   "file_extension": ".py",
   "mimetype": "text/x-python",
   "name": "python",
   "nbconvert_exporter": "python",
   "pygments_lexer": "ipython3",
   "version": "3.9.4"
  }
 },
 "nbformat": 4,
 "nbformat_minor": 5
}
