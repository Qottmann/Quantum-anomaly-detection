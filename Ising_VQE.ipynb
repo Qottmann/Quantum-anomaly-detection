{
 "cells": [
  {
   "cell_type": "code",
   "execution_count": 19,
   "metadata": {},
   "outputs": [
    {
     "name": "stdout",
     "output_type": "stream",
     "text": [
      "{   'cost_function_evals': 1971,\n",
      "    'eigenstate': array([-0.01635262+6.09106577e-18j,  0.00944737-9.63391001e-19j,\n",
      "        0.12033955+3.68572189e-17j, -0.03258666-2.13869620e-17j,\n",
      "        0.0054853 +3.12593482e-17j, -0.00246734-8.25062491e-18j,\n",
      "       -0.01383083-1.33593144e-17j,  0.00333819+4.35925368e-18j,\n",
      "        0.12022947+2.02543901e-16j, -0.08213945-9.39724982e-17j,\n",
      "       -0.91136662-1.61676339e-16j,  0.22627187+4.58721208e-17j,\n",
      "       -0.0341934 -2.49327412e-18j,  0.01689713+8.06955031e-18j,\n",
      "        0.11782525+1.29466294e-16j, -0.02629836-4.03318054e-17j,\n",
      "        0.01148931+2.62504882e-17j, -0.00576898-6.95074346e-18j,\n",
      "       -0.08189404-3.11641537e-17j,  0.02315388+9.10196643e-18j,\n",
      "       -0.00757213+1.81484008e-16j,  0.0023889 -4.96699462e-17j,\n",
      "        0.02159293-2.79471675e-18j, -0.00650032-6.11482326e-18j,\n",
      "       -0.03055024-1.33248383e-16j,  0.01912473+4.40527950e-17j,\n",
      "        0.22570367-1.58446758e-16j, -0.05950208+5.82583181e-17j,\n",
      "        0.0068488 +7.86889073e-17j, -0.00356435-2.67709185e-17j,\n",
      "       -0.03106356-1.80836674e-17j,  0.00749649+3.15159745e-18j]),\n",
      "    'eigenvalue': (-4.44394521462418+0j),\n",
      "    'optimal_parameters': {   ParameterVectorElement(θ[19]): 5.835944596291112,\n",
      "                              ParameterVectorElement(θ[17]): -0.29597385729763004,\n",
      "                              ParameterVectorElement(θ[11]): -0.7891737212455727,\n",
      "                              ParameterVectorElement(θ[7]): 3.1635826034413324,\n",
      "                              ParameterVectorElement(θ[18]): -2.9117613562264975,\n",
      "                              ParameterVectorElement(θ[16]): 2.6195498933806447,\n",
      "                              ParameterVectorElement(θ[15]): -6.884197226963409,\n",
      "                              ParameterVectorElement(θ[8]): -6.408294429432886,\n",
      "                              ParameterVectorElement(θ[12]): 6.216249816626051,\n",
      "                              ParameterVectorElement(θ[10]): 3.244428760058766,\n",
      "                              ParameterVectorElement(θ[13]): -4.9636847248487515,\n",
      "                              ParameterVectorElement(θ[9]): 1.2873036244777172,\n",
      "                              ParameterVectorElement(θ[14]): 1.4886730081815707,\n",
      "                              ParameterVectorElement(θ[5]): 6.2830333456149425,\n",
      "                              ParameterVectorElement(θ[6]): 1.1555239994193416,\n",
      "                              ParameterVectorElement(θ[3]): -5.002534035519085,\n",
      "                              ParameterVectorElement(θ[2]): -3.0224600389381773,\n",
      "                              ParameterVectorElement(θ[1]): -1.6980349075149699,\n",
      "                              ParameterVectorElement(θ[4]): -4.757546165915184,\n",
      "                              ParameterVectorElement(θ[0]): 3.1014445143486657},\n",
      "    'optimal_point': array([ 3.10144451,  3.24442876, -0.78917372,  6.21624982, -4.96368472,\n",
      "        1.48867301, -6.88419723,  2.61954989, -0.29597386, -2.91176136,\n",
      "        5.8359446 , -1.69803491, -3.02246004, -5.00253404, -4.75754617,\n",
      "        6.28303335,  1.155524  ,  3.1635826 , -6.40829443,  1.28730362]),\n",
      "    'optimal_value': -4.44394521462418,\n",
      "    'optimizer_evals': 1971,\n",
      "    'optimizer_time': 10.568364381790161}\n",
      "Energy:  (-4.44394521462418+0j)\n"
     ]
    }
   ],
   "source": [
    "from qiskit import BasicAer\n",
    "from qiskit.aqua.operators import X, Z, I\n",
    "from qiskit.aqua import QuantumInstance, aqua_globals\n",
    "from qiskit.aqua.algorithms import VQE\n",
    "from qiskit.aqua.components.optimizers import SLSQP\n",
    "from qiskit.circuit.library import TwoLocal\n",
    "from qiskit.aqua import aqua_globals\n",
    "\n",
    "h = 0.5\n",
    "\n",
    "H = (Z ^ Z ^ I ^ I ^ I) + \\\n",
    "    (I ^ Z ^ Z ^ I ^ I) + \\\n",
    "    (I ^ I ^ Z ^ Z ^ I) + \\\n",
    "    (I ^ I ^ I ^ Z ^ Z) + \\\n",
    "    (h * X ^ I ^ I ^ I ^ I) + \\\n",
    "    (h * I ^ X ^ I ^ I ^ I) + \\\n",
    "    (h * I ^ I ^ X ^ I ^ I) + \\\n",
    "    (h * I ^ I ^ I ^ X ^ I) + \\\n",
    "    (h * I ^ I ^ I ^ I ^ X) \n",
    "\n",
    "seed = 50\n",
    "aqua_globals.random_seed = seed\n",
    "qi = QuantumInstance(BasicAer.get_backend('statevector_simulator'), seed_transpiler=seed, seed_simulator=seed)\n",
    "\n",
    "ansatz = TwoLocal(rotation_blocks='ry', entanglement_blocks='cz')\n",
    "slsqp = SLSQP(maxiter=1000)\n",
    "vqe = VQE(operator=H, var_form=ansatz, optimizer=slsqp, quantum_instance=qi)\n",
    "result = vqe.run()\n",
    "\n",
    "import pprint\n",
    "pp = pprint.PrettyPrinter(indent=4)\n",
    "pp.pprint(result)\n",
    "\n",
    "print('Energy: ', result.eigenvalue)"
   ]
  },
  {
   "cell_type": "code",
   "execution_count": 20,
   "metadata": {},
   "outputs": [
    {
     "name": "stdout",
     "output_type": "stream",
     "text": [
      "Energy:  -4.469490344005437\n"
     ]
    }
   ],
   "source": [
    "from tenpy.networks.mps import MPS\n",
    "from tenpy.models.tf_ising import TFIChain\n",
    "from tenpy.algorithms import dmrg\n",
    "import matplotlib.pyplot as plt\n",
    "\n",
    "def DMRG_TFI(L, h, chi_max = 30, verbose=0, bc = 'finite', perturbation=False, orthogonal=[]):\n",
    "    \n",
    "    '''DMRG in the TFI model in a finite 1D chain'''\n",
    "\n",
    "    model_params = dict(L=L, J=1., g=h, bc_MPS=bc, conserve=None, verbose=verbose)\n",
    "    M = TFIChain(model_params)\n",
    "    psi = MPS.from_product_state(M.lat.mps_sites(), [\"up\"] * M.lat.N_sites, bc=M.lat.bc_MPS)\n",
    "   \n",
    "    dmrg_params = {                                                                                             \n",
    "        'mixer': True,                                                                                          \n",
    "        'trunc_params': {                                                                                       \n",
    "        'chi_max': chi_max,                                                                                                                                                                    \n",
    "        },                                                                                                      \n",
    "        'max_E_err': 1.e-16,                                                                                    \n",
    "        'verbose': 0,\n",
    "        'orthogonal_to': orthogonal}\n",
    "    \n",
    "    info = dmrg.run(psi, M, dmrg_params)\n",
    "    \n",
    "    return info['E'], psi\n",
    "\n",
    "L = 5\n",
    "h = 0.5\n",
    "\n",
    "E, psi = DMRG_TFI(L, h, chi_max = 100)\n",
    "print('Energy: ', E)"
   ]
  },
  {
   "cell_type": "code",
   "execution_count": null,
   "metadata": {},
   "outputs": [],
   "source": []
  }
 ],
 "metadata": {
  "kernelspec": {
   "display_name": "Python 3",
   "language": "python",
   "name": "python3"
  },
  "language_info": {
   "codemirror_mode": {
    "name": "ipython",
    "version": 3
   },
   "file_extension": ".py",
   "mimetype": "text/x-python",
   "name": "python",
   "nbconvert_exporter": "python",
   "pygments_lexer": "ipython3",
   "version": "3.7.3"
  }
 },
 "nbformat": 4,
 "nbformat_minor": 2
}
