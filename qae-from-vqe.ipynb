{
 "cells": [
  {
   "cell_type": "markdown",
   "id": "966b796b",
   "metadata": {},
   "source": [
    "# Variational quantum autoencoder\n",
    "\n",
    "Circuit ansatz from: https://arxiv.org/pdf/2010.06599.pdf"
   ]
  },
  {
   "cell_type": "code",
   "execution_count": 1,
   "id": "c417d5fc",
   "metadata": {},
   "outputs": [],
   "source": [
    "import time\n",
    "import numpy as np\n",
    "from scipy.optimize import minimize, basinhopping\n",
    "from qiskit import *\n",
    "from qiskit.quantum_info import Statevector\n",
    "from qiskit.algorithms.optimizers import COBYLA, L_BFGS_B, SPSA\n",
    "import matplotlib.pyplot as plt\n",
    "%matplotlib inline"
   ]
  },
  {
   "cell_type": "markdown",
   "id": "440789d2",
   "metadata": {},
   "source": [
    "### Exact diagonalization \n",
    "In order to get ground state for input into quantum circuit"
   ]
  },
  {
   "cell_type": "code",
   "execution_count": 2,
   "id": "e8db1eb8",
   "metadata": {},
   "outputs": [],
   "source": [
    "# from: https://tenpy.readthedocs.io/en/latest/toycodes/tfi_exact.html\n",
    "import numpy as np\n",
    "import scipy.sparse as sparse\n",
    "import scipy.sparse.linalg.eigen.arpack as arp\n",
    "import warnings\n",
    "import scipy.integrate\n",
    "\n",
    "\n",
    "def ising_groundstate(L, J, g):\n",
    "    \"\"\"For comparison: obtain ground state energy from exact diagonalization.\n",
    "\n",
    "    Exponentially expensive in L, only works for small enough `L` <~ 20.\n",
    "    \"\"\"\n",
    "    if L >= 20:\n",
    "        warnings.warn(\"Large L: Exact diagonalization might take a long time!\")\n",
    "    # get single site operaors\n",
    "    sx = sparse.csr_matrix(np.array([[0., 1.], [1., 0.]]))\n",
    "    sz = sparse.csr_matrix(np.array([[1., 0.], [0., -1.]]))\n",
    "    id = sparse.csr_matrix(np.eye(2))\n",
    "    sx_list = []  # sx_list[i] = kron([id, id, ..., id, sx, id, .... id])\n",
    "    sz_list = []\n",
    "    for i_site in range(L):\n",
    "        x_ops = [id] * L\n",
    "        z_ops = [id] * L\n",
    "        x_ops[i_site] = sx\n",
    "        z_ops[i_site] = sz\n",
    "        X = x_ops[0]\n",
    "        Z = z_ops[0]\n",
    "        for j in range(1, L):\n",
    "            X = sparse.kron(X, x_ops[j], 'csr')\n",
    "            Z = sparse.kron(Z, z_ops[j], 'csr')\n",
    "        sx_list.append(X)\n",
    "        sz_list.append(Z)\n",
    "    H_xx = sparse.csr_matrix((2**L, 2**L))\n",
    "    H_z = sparse.csr_matrix((2**L, 2**L))\n",
    "    for i in range(L - 1):\n",
    "        H_xx = H_xx + sx_list[i] * sx_list[(i + 1) % L]\n",
    "    for i in range(L):\n",
    "        H_z = H_z + sz_list[i]\n",
    "    H = -J * H_xx - g * H_z\n",
    "    E, V = arp.eigsh(H, k=1, which='SA', return_eigenvectors=True, ncv=20)\n",
    "    return V[:,0], E[0]\n",
    "init_state, E = ising_groundstate(6, 1., 1.)"
   ]
  },
  {
   "cell_type": "code",
   "execution_count": null,
   "id": "f80be260-f2ea-4a47-8b63-d78cda0f8953",
   "metadata": {},
   "outputs": [],
   "source": []
  },
  {
   "cell_type": "markdown",
   "id": "1ad839e0",
   "metadata": {},
   "source": [
    "### Define variational quantum circuit\n",
    "At the moment only works for 6 quibts (two of them are trash qubits).\n",
    "\n",
    "Other ansatze that might be worth trying: PauliTwoDesign, RealAmplitudes, EfficientSU2"
   ]
  },
  {
   "cell_type": "code",
   "execution_count": 4,
   "id": "2026d0cf",
   "metadata": {},
   "outputs": [],
   "source": [
    "# Use Aer's qasm_simulator\n",
    "backend_sim = Aer.get_backend('qasm_simulator')\n",
    "\n",
    "L = 6 # system size\n",
    "thetas = np.random.uniform(0, 2*np.pi, 2*L+2) # initial parameters without feature encoding\n",
    "# thetas = np.random.uniform(0, 2*np.pi, (2*L+2, 2)) # initial parameters with feature encoding"
   ]
  },
  {
   "cell_type": "code",
   "execution_count": 116,
   "id": "4628989a-ebd5-4aa0-9b90-adca4d90fe04",
   "metadata": {},
   "outputs": [],
   "source": [
    "def sort_vals(vals):\n",
    "    \"\"\" vals is (unsorted) dictionary of parameters from VQE ansatz circuit, this returns sorted values as list \"\"\"\n",
    "    indices = np.array([_.index for _ in vals])           # unordered list of indices from the ParameterVectorElement(Theta(INDEX))\n",
    "    vals_sorted = np.array([vals[_] for _ in vals])       # unordered list of values (but same ordering as indices)\n",
    "    return vals_sorted[np.argsort(indices)]\n",
    "\n",
    "def init_vqe(vals):\n",
    "    return qiskit.circuit.library.EfficientSU2(L, reps=3).assign_parameters(sort_vals(vals))"
   ]
  },
  {
   "cell_type": "code",
   "execution_count": 112,
   "id": "2fd37555-b414-4bb2-98b6-545741934cb4",
   "metadata": {},
   "outputs": [],
   "source": [
    "L = 6\n",
    "VQE_vals = np.load(f'params_VQE_ising_N{L}.npy', allow_pickle=True).item()\n",
    "\n",
    "lambdas = np.array([_ for _ in VQE_vals]) # list of lambda values (the items in the dictionary)\n",
    "# note that Rike calls them gs"
   ]
  },
  {
   "cell_type": "code",
   "execution_count": 121,
   "id": "f69f9d68-3947-444b-9634-782c3a45d3f5",
   "metadata": {},
   "outputs": [
    {
     "data": {
      "text/plain": [
       "array([1.00000000e-02, 2.78255940e-02, 7.74263683e-02, 2.15443469e-01,\n",
       "       5.99484250e-01, 1.66810054e+00, 4.64158883e+00, 1.29154967e+01,\n",
       "       3.59381366e+01, 1.00000000e+02])"
      ]
     },
     "execution_count": 121,
     "metadata": {},
     "output_type": "execute_result"
    }
   ],
   "source": [
    "lambdas"
   ]
  },
  {
   "cell_type": "code",
   "execution_count": 138,
   "id": "bf3988c7",
   "metadata": {},
   "outputs": [],
   "source": [
    "def prepare_circuit(init_state=None, measurement=True):\n",
    "    qreg = QuantumRegister(L, 'q')\n",
    "    creg = ClassicalRegister(2, 'c')\n",
    "    circ = QuantumCircuit(qreg, creg)\n",
    "    entangler_map1 = [(5, 4), (5, 3), (5, 1), (4, 2), (4, 0)]\n",
    "    entangler_map2 = [(5, 4), (5, 2), (4, 3), (5, 0), (4, 1)]\n",
    "    circ += circuit.library.TwoLocal(L, 'ry', 'cz', entanglement = [entangler_map1, entangler_map2], reps=2, insert_barriers=True, skip_final_rotation_layer=True)\n",
    "    circ.ry(circuit.Parameter('θ1'), 4)\n",
    "    circ.ry(circuit.Parameter('θ2'), 5)\n",
    "    if measurement:\n",
    "        circ.measure(qreg[4], creg[0])\n",
    "        circ.measure(qreg[5], creg[1])\n",
    "    if init_state is not None: \n",
    "        circ = init_vqe(init_state) + circ\n",
    "    \n",
    "    return circ\n",
    "\n",
    "# same circuit as above (more explicit)\n",
    "def prepare_circuit2(thetas, init_state=None, measurement=True):\n",
    "    qreg = QuantumRegister(L, 'q')\n",
    "    creg = ClassicalRegister(2, 'c')\n",
    "    circ = QuantumCircuit(qreg, creg)\n",
    "    #if init_state is not None: circ.initialize(init_state, qreg)\n",
    "    for i,t in enumerate(thetas[:L]):\n",
    "        circ.ry(t, i)\n",
    "    circ.cz(5,4)\n",
    "    circ.cz(5,3)\n",
    "    circ.cz(5,1)\n",
    "    circ.cz(4,2)\n",
    "    circ.cz(4,0)\n",
    "    for i,t in enumerate(thetas[L:2*L]):\n",
    "        circ.ry(t, i)\n",
    "    circ.cz(5,4)\n",
    "    circ.cz(5,2)\n",
    "    circ.cz(4,3)\n",
    "    circ.cz(5,0)\n",
    "    circ.cz(4,1)\n",
    "    circ.ry(thetas[2*L], 4)\n",
    "    circ.ry(thetas[2*L+1], 5)\n",
    "    if measurement:\n",
    "        circ.measure(qreg[4], creg[0])\n",
    "        circ.measure(qreg[5], creg[1])\n",
    "    if init_state is not None: \n",
    "        circ = init_vqe(init_state) + circ\n",
    "    return circ"
   ]
  },
  {
   "cell_type": "code",
   "execution_count": 118,
   "id": "5ec95b7a",
   "metadata": {},
   "outputs": [],
   "source": [
    "def feature_encoding(thetas, x):\n",
    "    \"\"\" thetas: parameters to be optimized, x: Ising model parameter (eg. field) \"\"\"\n",
    "    new_thetas = []\n",
    "    thetas = thetas.reshape((-1,2))\n",
    "    for theta in thetas:\n",
    "        new_thetas.append(theta[0] * x + theta[1])\n",
    "    return new_thetas"
   ]
  },
  {
   "cell_type": "code",
   "execution_count": 119,
   "id": "c0a34a67",
   "metadata": {},
   "outputs": [
    {
     "data": {
      "image/png": "[encoded data removed]",
      "text/plain": [
       "<Figure size 1110x445.48 with 1 Axes>"
      ]
     },
     "execution_count": 119,
     "metadata": {},
     "output_type": "execute_result"
    }
   ],
   "source": [
    "circ = prepare_circuit()\n",
    "t_qc = transpile(circ, backend=backend_sim)\n",
    "\n",
    "circ.draw('mpl') # trash qubits are at the bottom"
   ]
  },
  {
   "cell_type": "code",
   "execution_count": 120,
   "id": "f608e393",
   "metadata": {},
   "outputs": [
    {
     "data": {
      "image/png": "[encoded data removed]",
      "text/plain": [
       "<Figure size 929.397x445.48 with 1 Axes>"
      ]
     },
     "execution_count": 120,
     "metadata": {},
     "output_type": "execute_result"
    }
   ],
   "source": [
    "circ = prepare_circuit2(thetas)\n",
    "# circ = prepare_circuit(feature_encoding(thetas, .6))\n",
    "circ.draw('mpl') # identical to above"
   ]
  },
  {
   "cell_type": "markdown",
   "id": "83039206",
   "metadata": {},
   "source": [
    "### Execute circuit\n",
    "Circuit is executed on simulator and measurement outcomes on the trash qubits are stored"
   ]
  },
  {
   "cell_type": "code",
   "execution_count": 15,
   "id": "aacc06af",
   "metadata": {},
   "outputs": [
    {
     "data": {
      "text/plain": [
       "26"
      ]
     },
     "execution_count": 15,
     "metadata": {},
     "output_type": "execute_result"
    }
   ],
   "source": [
    "def run_circuit(thetas, init_state, shots=100):\n",
    "    circ = prepare_circuit2(thetas, init_state)\n",
    "\n",
    "    # Execute the circuit on the qasm simulator.\n",
    "    job_sim = execute(circ, backend_sim, shots=shots)#, memory=True)\n",
    "\n",
    "    # Grab the results from the job.\n",
    "    result_sim = job_sim.result()\n",
    "\n",
    "    counts = result_sim.get_counts(circ)\n",
    "#     print(counts)\n",
    "    \n",
    "#     mems = result_sim.get_memory(circ)\n",
    "#     print(mems)\n",
    "    return counts\n",
    "run_circuit(thetas, init_state)['11']"
   ]
  },
  {
   "cell_type": "markdown",
   "id": "8a9bd59e",
   "metadata": {},
   "source": [
    "### Optimize circuit\n",
    "Define cost function (averaged hamming distance of measurement outcomes) and minimze it using either scipy or qiskit optimizer modules (the latter is also based on scipy though)."
   ]
  },
  {
   "cell_type": "code",
   "execution_count": 130,
   "id": "0978d4e3",
   "metadata": {},
   "outputs": [
    {
     "data": {
      "text/plain": [
       "0.577"
      ]
     },
     "execution_count": 130,
     "metadata": {},
     "output_type": "execute_result"
    }
   ],
   "source": [
    "J, g = 1., lambdas[0] # Ising parameters for which ground state should be compressed\n",
    "init_state = VQE_vals[lambdas[0]] # train on smallest lambda ;; this may grammatically be confusing, init_state = dictionary with unsorted parameters\n",
    "circ = prepare_circuit(init_state)\n",
    "t_qc = transpile(circ, backend=backend_sim)\n",
    "\n",
    "def cost_function_single(thetas, t_qc):\n",
    "    \"\"\" Optimizes circuit for single input state \"\"\"\n",
    "    shots = 1000 # Number of measurements for single training example\n",
    "    qobj = compiler.assemble(t_qc.bind_parameters(thetas), backend=backend_sim, shots=shots)\n",
    "    result = backend_sim.run(qobj).result()\n",
    "    out = result.get_counts()\n",
    "    cost = out.get('11', 0)*2 + out.get('01', 0) + out.get('10', 0)\n",
    "    return cost/shots\n",
    "cost_function_single(thetas, t_qc)"
   ]
  },
  {
   "cell_type": "code",
   "execution_count": 131,
   "id": "14642b02",
   "metadata": {},
   "outputs": [
    {
     "name": "stdout",
     "output_type": "stream",
     "text": [
      "Time:  0.6885499954223633\n"
     ]
    },
    {
     "data": {
      "text/plain": [
       "(array([ 0.60845968,  4.68432125,  6.73824597,  5.09380408,  0.11946011,\n",
       "         1.67894324,  3.59105617,  1.87477794,  4.4136599 ,  5.03819992,\n",
       "         2.01876115,  5.08789994,  3.20525082, -0.46532493]),\n",
       " 0.479,\n",
       " 50)"
      ]
     },
     "execution_count": 131,
     "metadata": {},
     "output_type": "execute_result"
    }
   ],
   "source": [
    "thetas = np.random.uniform(0, 2*np.pi, 2*L+2) # initial parameters without feature encoding\n",
    "# thetas = np.random.uniform(0, 2*np.pi, ((2*L+2)*2)) # initial parameters with feature encoding\n",
    "\n",
    "# counts, values = [], []\n",
    "# def store_intermediate_result(eval_count, parameters, mean, std):\n",
    "#     counts.append(eval_count)\n",
    "#     values.append(mean)\n",
    "\n",
    "# Initialize optimizer\n",
    "optimizer = COBYLA(maxiter=50, tol=0.0001)\n",
    "# optimizer = L_BFGS_B(maxfun=300, maxiter=500)#, factr=10, iprint=- 1, epsilon=1e-08)\n",
    "# optimizer = SPSA(maxiter=1)#, callback=store_intermediate_result) # recommended from qiskit but terribly slow\n",
    "\n",
    "start_time = time.time()\n",
    "ret = optimizer.optimize(num_vars=thetas.shape[0], objective_function=(lambda thetas: cost_function_single(thetas, t_qc)), initial_point=thetas)\n",
    "print(\"Time: \", time.time()-start_time)\n",
    "ret"
   ]
  },
  {
   "cell_type": "code",
   "execution_count": 135,
   "id": "897c0c14-dcfd-40b4-ab29-8c6dbd8eff0d",
   "metadata": {},
   "outputs": [],
   "source": [
    "thetas = ret[0]"
   ]
  },
  {
   "cell_type": "code",
   "execution_count": 139,
   "id": "c9035b8d-15be-4dc2-8d31-fc0111c4b23c",
   "metadata": {},
   "outputs": [
    {
     "data": {
      "text/plain": [
       "16"
      ]
     },
     "execution_count": 139,
     "metadata": {},
     "output_type": "execute_result"
    }
   ],
   "source": [
    "def run_circuit(thetas, init_state, shots=100):\n",
    "    circ = prepare_circuit2(thetas, init_state)\n",
    "\n",
    "    # Execute the circuit on the qasm simulator.\n",
    "    job_sim = execute(circ, backend_sim, shots=shots)#, memory=True)\n",
    "\n",
    "    # Grab the results from the job.\n",
    "    result_sim = job_sim.result()\n",
    "\n",
    "    counts = result_sim.get_counts(circ)\n",
    "#     print(counts)\n",
    "    \n",
    "#     mems = result_sim.get_memory(circ)\n",
    "#     print(mems)\n",
    "    return counts\n",
    "run_circuit(thetas, init_state)['11']"
   ]
  },
  {
   "cell_type": "markdown",
   "id": "7f0894d4",
   "metadata": {},
   "source": [
    "### Test circuit\n",
    "Test optimized circuit on different Ising parameter values and (hopefully) observe phase transition"
   ]
  },
  {
   "cell_type": "code",
   "execution_count": 143,
   "id": "a04ec1a2",
   "metadata": {},
   "outputs": [],
   "source": [
    "gs = np.linspace(0.01, 2.0, 50)\n",
    "gs = [1.0, 1.5, 2.0]\n",
    "cost = []\n",
    "shots = 10000\n",
    "for g in lambdas:\n",
    "    new_thetas = thetas\n",
    "    out = run_circuit(new_thetas, VQE_vals[g], shots=shots)\n",
    "    cost.append((out.get('11', 0)*2 + out.get('01', 0) + out.get('10', 0))/shots)"
   ]
  },
  {
   "cell_type": "code",
   "execution_count": 147,
   "id": "e045ffb7",
   "metadata": {},
   "outputs": [
    {
     "data": {
      "image/png": "[encoded data removed]",
      "text/plain": [
       "<Figure size 432x288 with 1 Axes>"
      ]
     },
     "metadata": {
      "needs_background": "light"
     },
     "output_type": "display_data"
    }
   ],
   "source": [
    "plt.plot(lambdas, cost,\"x--\")\n",
    "plt.xlabel(r\"$g$\")\n",
    "plt.ylabel(\"Cost\")\n",
    "plt.xscale(\"log\")"
   ]
  },
  {
   "cell_type": "code",
   "execution_count": null,
   "id": "16247d8e-a5a5-4f15-9764-a7494b4fe38f",
   "metadata": {},
   "outputs": [],
   "source": []
  }
 ],
 "metadata": {
  "kernelspec": {
   "display_name": "Python 3",
   "language": "python",
   "name": "python3"
  },
  "language_info": {
   "codemirror_mode": {
    "name": "ipython",
    "version": 3
   },
   "file_extension": ".py",
   "mimetype": "text/x-python",
   "name": "python",
   "nbconvert_exporter": "python",
   "pygments_lexer": "ipython3",
   "version": "3.9.4"
  }
 },
 "nbformat": 4,
 "nbformat_minor": 5
}
