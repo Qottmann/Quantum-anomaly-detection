{
 "cells": [
  {
   "cell_type": "markdown",
   "id": "966b796b",
   "metadata": {},
   "source": [
    "# Variational quantum autoencoder\n",
    "\n",
    "Circuit ansatz from: https://arxiv.org/pdf/2010.06599.pdf"
   ]
  },
  {
   "cell_type": "code",
   "execution_count": 3,
   "id": "c417d5fc",
   "metadata": {},
   "outputs": [
    {
     "ename": "ImportError",
     "evalue": "cannot import name 'configure_inline_support' from 'ipykernel.pylab.backend_inline' (/home/kkottmann/anaconda3/envs/qiskit_env/lib/python3.9/site-packages/ipykernel/pylab/backend_inline.py)",
     "output_type": "error",
     "traceback": [
      "\u001b[0;31m---------------------------------------------------------------------------\u001b[0m",
      "\u001b[0;31mImportError\u001b[0m                               Traceback (most recent call last)",
      "\u001b[0;32m<ipython-input-3-667115853aed>\u001b[0m in \u001b[0;36m<module>\u001b[0;34m\u001b[0m\n\u001b[1;32m      6\u001b[0m \u001b[0;32mfrom\u001b[0m \u001b[0mqiskit\u001b[0m\u001b[0;34m.\u001b[0m\u001b[0malgorithms\u001b[0m\u001b[0;34m.\u001b[0m\u001b[0moptimizers\u001b[0m \u001b[0;32mimport\u001b[0m \u001b[0mCOBYLA\u001b[0m\u001b[0;34m,\u001b[0m \u001b[0mL_BFGS_B\u001b[0m\u001b[0;34m,\u001b[0m \u001b[0mSPSA\u001b[0m\u001b[0;34m\u001b[0m\u001b[0;34m\u001b[0m\u001b[0m\n\u001b[1;32m      7\u001b[0m \u001b[0;32mimport\u001b[0m \u001b[0mmatplotlib\u001b[0m\u001b[0;34m.\u001b[0m\u001b[0mpyplot\u001b[0m \u001b[0;32mas\u001b[0m \u001b[0mplt\u001b[0m\u001b[0;34m\u001b[0m\u001b[0;34m\u001b[0m\u001b[0m\n\u001b[0;32m----> 8\u001b[0;31m \u001b[0mget_ipython\u001b[0m\u001b[0;34m(\u001b[0m\u001b[0;34m)\u001b[0m\u001b[0;34m.\u001b[0m\u001b[0mrun_line_magic\u001b[0m\u001b[0;34m(\u001b[0m\u001b[0;34m'matplotlib'\u001b[0m\u001b[0;34m,\u001b[0m \u001b[0;34m'inline'\u001b[0m\u001b[0;34m)\u001b[0m\u001b[0;34m\u001b[0m\u001b[0;34m\u001b[0m\u001b[0m\n\u001b[0m",
      "\u001b[0;32m~/anaconda3/envs/qiskit_env/lib/python3.9/site-packages/IPython/core/interactiveshell.py\u001b[0m in \u001b[0;36mrun_line_magic\u001b[0;34m(self, magic_name, line, _stack_depth)\u001b[0m\n\u001b[1;32m   2342\u001b[0m                 \u001b[0mkwargs\u001b[0m\u001b[0;34m[\u001b[0m\u001b[0;34m'local_ns'\u001b[0m\u001b[0;34m]\u001b[0m \u001b[0;34m=\u001b[0m \u001b[0mself\u001b[0m\u001b[0;34m.\u001b[0m\u001b[0mget_local_scope\u001b[0m\u001b[0;34m(\u001b[0m\u001b[0mstack_depth\u001b[0m\u001b[0;34m)\u001b[0m\u001b[0;34m\u001b[0m\u001b[0;34m\u001b[0m\u001b[0m\n\u001b[1;32m   2343\u001b[0m             \u001b[0;32mwith\u001b[0m \u001b[0mself\u001b[0m\u001b[0;34m.\u001b[0m\u001b[0mbuiltin_trap\u001b[0m\u001b[0;34m:\u001b[0m\u001b[0;34m\u001b[0m\u001b[0;34m\u001b[0m\u001b[0m\n\u001b[0;32m-> 2344\u001b[0;31m                 \u001b[0mresult\u001b[0m \u001b[0;34m=\u001b[0m \u001b[0mfn\u001b[0m\u001b[0;34m(\u001b[0m\u001b[0;34m*\u001b[0m\u001b[0margs\u001b[0m\u001b[0;34m,\u001b[0m \u001b[0;34m**\u001b[0m\u001b[0mkwargs\u001b[0m\u001b[0;34m)\u001b[0m\u001b[0;34m\u001b[0m\u001b[0;34m\u001b[0m\u001b[0m\n\u001b[0m\u001b[1;32m   2345\u001b[0m             \u001b[0;32mreturn\u001b[0m \u001b[0mresult\u001b[0m\u001b[0;34m\u001b[0m\u001b[0;34m\u001b[0m\u001b[0m\n\u001b[1;32m   2346\u001b[0m \u001b[0;34m\u001b[0m\u001b[0m\n",
      "\u001b[0;32m~/anaconda3/envs/qiskit_env/lib/python3.9/site-packages/decorator.py\u001b[0m in \u001b[0;36mfun\u001b[0;34m(*args, **kw)\u001b[0m\n\u001b[1;32m    230\u001b[0m             \u001b[0;32mif\u001b[0m \u001b[0;32mnot\u001b[0m \u001b[0mkwsyntax\u001b[0m\u001b[0;34m:\u001b[0m\u001b[0;34m\u001b[0m\u001b[0;34m\u001b[0m\u001b[0m\n\u001b[1;32m    231\u001b[0m                 \u001b[0margs\u001b[0m\u001b[0;34m,\u001b[0m \u001b[0mkw\u001b[0m \u001b[0;34m=\u001b[0m \u001b[0mfix\u001b[0m\u001b[0;34m(\u001b[0m\u001b[0margs\u001b[0m\u001b[0;34m,\u001b[0m \u001b[0mkw\u001b[0m\u001b[0;34m,\u001b[0m \u001b[0msig\u001b[0m\u001b[0;34m)\u001b[0m\u001b[0;34m\u001b[0m\u001b[0;34m\u001b[0m\u001b[0m\n\u001b[0;32m--> 232\u001b[0;31m             \u001b[0;32mreturn\u001b[0m \u001b[0mcaller\u001b[0m\u001b[0;34m(\u001b[0m\u001b[0mfunc\u001b[0m\u001b[0;34m,\u001b[0m \u001b[0;34m*\u001b[0m\u001b[0;34m(\u001b[0m\u001b[0mextras\u001b[0m \u001b[0;34m+\u001b[0m \u001b[0margs\u001b[0m\u001b[0;34m)\u001b[0m\u001b[0;34m,\u001b[0m \u001b[0;34m**\u001b[0m\u001b[0mkw\u001b[0m\u001b[0;34m)\u001b[0m\u001b[0;34m\u001b[0m\u001b[0;34m\u001b[0m\u001b[0m\n\u001b[0m\u001b[1;32m    233\u001b[0m     \u001b[0mfun\u001b[0m\u001b[0;34m.\u001b[0m\u001b[0m__name__\u001b[0m \u001b[0;34m=\u001b[0m \u001b[0mfunc\u001b[0m\u001b[0;34m.\u001b[0m\u001b[0m__name__\u001b[0m\u001b[0;34m\u001b[0m\u001b[0;34m\u001b[0m\u001b[0m\n\u001b[1;32m    234\u001b[0m     \u001b[0mfun\u001b[0m\u001b[0;34m.\u001b[0m\u001b[0m__doc__\u001b[0m \u001b[0;34m=\u001b[0m \u001b[0mfunc\u001b[0m\u001b[0;34m.\u001b[0m\u001b[0m__doc__\u001b[0m\u001b[0;34m\u001b[0m\u001b[0;34m\u001b[0m\u001b[0m\n",
      "\u001b[0;32m~/anaconda3/envs/qiskit_env/lib/python3.9/site-packages/IPython/core/magic.py\u001b[0m in \u001b[0;36m<lambda>\u001b[0;34m(f, *a, **k)\u001b[0m\n\u001b[1;32m    185\u001b[0m     \u001b[0;31m# but it's overkill for just that one bit of state.\u001b[0m\u001b[0;34m\u001b[0m\u001b[0;34m\u001b[0m\u001b[0;34m\u001b[0m\u001b[0m\n\u001b[1;32m    186\u001b[0m     \u001b[0;32mdef\u001b[0m \u001b[0mmagic_deco\u001b[0m\u001b[0;34m(\u001b[0m\u001b[0marg\u001b[0m\u001b[0;34m)\u001b[0m\u001b[0;34m:\u001b[0m\u001b[0;34m\u001b[0m\u001b[0;34m\u001b[0m\u001b[0m\n\u001b[0;32m--> 187\u001b[0;31m         \u001b[0mcall\u001b[0m \u001b[0;34m=\u001b[0m \u001b[0;32mlambda\u001b[0m \u001b[0mf\u001b[0m\u001b[0;34m,\u001b[0m \u001b[0;34m*\u001b[0m\u001b[0ma\u001b[0m\u001b[0;34m,\u001b[0m \u001b[0;34m**\u001b[0m\u001b[0mk\u001b[0m\u001b[0;34m:\u001b[0m \u001b[0mf\u001b[0m\u001b[0;34m(\u001b[0m\u001b[0;34m*\u001b[0m\u001b[0ma\u001b[0m\u001b[0;34m,\u001b[0m \u001b[0;34m**\u001b[0m\u001b[0mk\u001b[0m\u001b[0;34m)\u001b[0m\u001b[0;34m\u001b[0m\u001b[0;34m\u001b[0m\u001b[0m\n\u001b[0m\u001b[1;32m    188\u001b[0m \u001b[0;34m\u001b[0m\u001b[0m\n\u001b[1;32m    189\u001b[0m         \u001b[0;32mif\u001b[0m \u001b[0mcallable\u001b[0m\u001b[0;34m(\u001b[0m\u001b[0marg\u001b[0m\u001b[0;34m)\u001b[0m\u001b[0;34m:\u001b[0m\u001b[0;34m\u001b[0m\u001b[0;34m\u001b[0m\u001b[0m\n",
      "\u001b[0;32m~/anaconda3/envs/qiskit_env/lib/python3.9/site-packages/IPython/core/magics/pylab.py\u001b[0m in \u001b[0;36mmatplotlib\u001b[0;34m(self, line)\u001b[0m\n\u001b[1;32m     97\u001b[0m             \u001b[0mprint\u001b[0m\u001b[0;34m(\u001b[0m\u001b[0;34m\"Available matplotlib backends: %s\"\u001b[0m \u001b[0;34m%\u001b[0m \u001b[0mbackends_list\u001b[0m\u001b[0;34m)\u001b[0m\u001b[0;34m\u001b[0m\u001b[0;34m\u001b[0m\u001b[0m\n\u001b[1;32m     98\u001b[0m         \u001b[0;32melse\u001b[0m\u001b[0;34m:\u001b[0m\u001b[0;34m\u001b[0m\u001b[0;34m\u001b[0m\u001b[0m\n\u001b[0;32m---> 99\u001b[0;31m             \u001b[0mgui\u001b[0m\u001b[0;34m,\u001b[0m \u001b[0mbackend\u001b[0m \u001b[0;34m=\u001b[0m \u001b[0mself\u001b[0m\u001b[0;34m.\u001b[0m\u001b[0mshell\u001b[0m\u001b[0;34m.\u001b[0m\u001b[0menable_matplotlib\u001b[0m\u001b[0;34m(\u001b[0m\u001b[0margs\u001b[0m\u001b[0;34m.\u001b[0m\u001b[0mgui\u001b[0m\u001b[0;34m.\u001b[0m\u001b[0mlower\u001b[0m\u001b[0;34m(\u001b[0m\u001b[0;34m)\u001b[0m \u001b[0;32mif\u001b[0m \u001b[0misinstance\u001b[0m\u001b[0;34m(\u001b[0m\u001b[0margs\u001b[0m\u001b[0;34m.\u001b[0m\u001b[0mgui\u001b[0m\u001b[0;34m,\u001b[0m \u001b[0mstr\u001b[0m\u001b[0;34m)\u001b[0m \u001b[0;32melse\u001b[0m \u001b[0margs\u001b[0m\u001b[0;34m.\u001b[0m\u001b[0mgui\u001b[0m\u001b[0;34m)\u001b[0m\u001b[0;34m\u001b[0m\u001b[0;34m\u001b[0m\u001b[0m\n\u001b[0m\u001b[1;32m    100\u001b[0m             \u001b[0mself\u001b[0m\u001b[0;34m.\u001b[0m\u001b[0m_show_matplotlib_backend\u001b[0m\u001b[0;34m(\u001b[0m\u001b[0margs\u001b[0m\u001b[0;34m.\u001b[0m\u001b[0mgui\u001b[0m\u001b[0;34m,\u001b[0m \u001b[0mbackend\u001b[0m\u001b[0;34m)\u001b[0m\u001b[0;34m\u001b[0m\u001b[0;34m\u001b[0m\u001b[0m\n\u001b[1;32m    101\u001b[0m \u001b[0;34m\u001b[0m\u001b[0m\n",
      "\u001b[0;32m~/anaconda3/envs/qiskit_env/lib/python3.9/site-packages/ipykernel/zmqshell.py\u001b[0m in \u001b[0;36menable_matplotlib\u001b[0;34m(self, gui)\u001b[0m\n\u001b[1;32m    601\u001b[0m         \u001b[0;31m# https://ipython.readthedocs.io/en/latest/install/kernel_install.html\u001b[0m\u001b[0;34m\u001b[0m\u001b[0;34m\u001b[0m\u001b[0;34m\u001b[0m\u001b[0m\n\u001b[1;32m    602\u001b[0m         \u001b[0;32mpass\u001b[0m\u001b[0;34m\u001b[0m\u001b[0;34m\u001b[0m\u001b[0m\n\u001b[0;32m--> 603\u001b[0;31m \u001b[0;34m\u001b[0m\u001b[0m\n\u001b[0m\u001b[1;32m    604\u001b[0m     \u001b[0;32mdef\u001b[0m \u001b[0msystem_piped\u001b[0m\u001b[0;34m(\u001b[0m\u001b[0mself\u001b[0m\u001b[0;34m,\u001b[0m \u001b[0mcmd\u001b[0m\u001b[0;34m)\u001b[0m\u001b[0;34m:\u001b[0m\u001b[0;34m\u001b[0m\u001b[0;34m\u001b[0m\u001b[0m\n\u001b[1;32m    605\u001b[0m         \"\"\"Call the given cmd in a subprocess, piping stdout/err\n",
      "\u001b[0;31mImportError\u001b[0m: cannot import name 'configure_inline_support' from 'ipykernel.pylab.backend_inline' (/home/kkottmann/anaconda3/envs/qiskit_env/lib/python3.9/site-packages/ipykernel/pylab/backend_inline.py)"
     ]
    }
   ],
   "source": [
    "import time\n",
    "import numpy as np\n",
    "from scipy.optimize import minimize, basinhopping\n",
    "from qiskit import *\n",
    "from qiskit.quantum_info import Statevector\n",
    "from qiskit.algorithms.optimizers import COBYLA, L_BFGS_B, SPSA\n",
    "import matplotlib.pyplot as plt\n",
    "%matplotlib inline"
   ]
  },
  {
   "cell_type": "markdown",
   "id": "440789d2",
   "metadata": {},
   "source": [
    "### Exact diagonalization \n",
    "In order to get ground state for input into quantum circuit"
   ]
  },
  {
   "cell_type": "code",
   "execution_count": null,
   "id": "e8db1eb8",
   "metadata": {},
   "outputs": [],
   "source": [
    "# from: https://tenpy.readthedocs.io/en/latest/toycodes/tfi_exact.html\n",
    "import numpy as np\n",
    "import scipy.sparse as sparse\n",
    "import scipy.sparse.linalg.eigen.arpack as arp\n",
    "import warnings\n",
    "import scipy.integrate\n",
    "\n",
    "\n",
    "def ising_groundstate(L, Jz, gx, gz=0): # gx is transverse field, gz the longitudinal\n",
    "    \"\"\"For comparison: obtain ground state energy from exact diagonalization.\n",
    "\n",
    "    Exponentially expensive in L, only works for small enough `L` <~ 20.\n",
    "    \"\"\"\n",
    "    if L >= 20:\n",
    "        warnings.warn(\"Large L: Exact diagonalization might take a long time!\")\n",
    "    # get single site operaors\n",
    "    sx = sparse.csr_matrix(np.array([[0., 1.], [1., 0.]]))\n",
    "    sz = sparse.csr_matrix(np.array([[1., 0.], [0., -1.]]))\n",
    "    id = sparse.csr_matrix(np.eye(2))\n",
    "    sx_list = []  # sx_list[i] = kron([id, id, ..., id, sx, id, .... id])\n",
    "    sz_list = []\n",
    "    for i_site in range(L):\n",
    "        x_ops = [id] * L\n",
    "        z_ops = [id] * L\n",
    "        x_ops[i_site] = sx\n",
    "        z_ops[i_site] = sz\n",
    "        X = x_ops[0]\n",
    "        Z = z_ops[0]\n",
    "        for j in range(1, L):\n",
    "            X = sparse.kron(X, x_ops[j], 'csr')\n",
    "            Z = sparse.kron(Z, z_ops[j], 'csr')\n",
    "        sx_list.append(X)\n",
    "        sz_list.append(Z)\n",
    "    H_zz = sparse.csr_matrix((2**L, 2**L))\n",
    "    H_z = sparse.csr_matrix((2**L, 2**L))\n",
    "    H_x = sparse.csr_matrix((2**L, 2**L))\n",
    "    for i in range(L - 1):\n",
    "        H_zz = H_zz + sz_list[i] * sz_list[(i + 1) % L]\n",
    "    for i in range(L):\n",
    "        H_z = H_z + sz_list[i]\n",
    "        H_x = H_x + sx_list[i]\n",
    "    H = -J * H_zz - gx * H_x - gz * H_z \n",
    "    E, V = arp.eigsh(H, k=1, which='SA', return_eigenvectors=True, ncv=20)\n",
    "    return V[:,0], E[0]\n",
    "init_state, E = ising_groundstate(6, 1., 1., 1.)"
   ]
  },
  {
   "cell_type": "code",
   "execution_count": null,
   "id": "f80be260-f2ea-4a47-8b63-d78cda0f8953",
   "metadata": {},
   "outputs": [],
   "source": []
  },
  {
   "cell_type": "markdown",
   "id": "1ad839e0",
   "metadata": {},
   "source": [
    "### Define variational quantum circuit\n",
    "At the moment only works for 6 quibts (two of them are trash qubits).\n",
    "\n",
    "Other ansatze that might be worth trying: PauliTwoDesign, RealAmplitudes, EfficientSU2"
   ]
  },
  {
   "cell_type": "code",
   "execution_count": null,
   "id": "2026d0cf",
   "metadata": {},
   "outputs": [],
   "source": [
    "# Use Aer's qasm_simulator\n",
    "backend_sim = Aer.get_backend('qasm_simulator')\n",
    "\n",
    "L = 6 # system size\n",
    "thetas = np.random.uniform(0, 2*np.pi, 2*L+2) # initial parameters without feature encoding\n",
    "# thetas = np.random.uniform(0, 2*np.pi, (2*L+2, 2)) # initial parameters with feature encoding"
   ]
  },
  {
   "cell_type": "code",
   "execution_count": null,
   "id": "4628989a-ebd5-4aa0-9b90-adca4d90fe04",
   "metadata": {},
   "outputs": [],
   "source": [
    "def sort_vals(vals):\n",
    "    \"\"\" vals is (unsorted) dictionary of parameters from VQE ansatz circuit, this returns sorted values as list \"\"\"\n",
    "    indices = np.array([_.index for _ in vals])           # unordered list of indices from the ParameterVectorElement(Theta(INDEX))\n",
    "    vals_sorted = np.array([vals[_] for _ in vals])       # unordered list of values (but same ordering as indices)\n",
    "    return vals_sorted[np.argsort(indices)]\n",
    "\n",
    "def init_vqe(vals):\n",
    "    return qiskit.circuit.library.EfficientSU2(L, reps=3).assign_parameters(sort_vals(vals))"
   ]
  },
  {
   "cell_type": "code",
   "execution_count": null,
   "id": "2fd37555-b414-4bb2-98b6-545741934cb4",
   "metadata": {},
   "outputs": [],
   "source": [
    "L = 6\n",
    "VQE_vals = np.load(f'params_VQE_ising_N{L}.npy', allow_pickle=True).item()\n",
    "\n",
    "lambdas = np.array([_ for _ in VQE_vals]) # list of lambda values (the items in the dictionary)\n",
    "# note that Rike calls them gs"
   ]
  },
  {
   "cell_type": "code",
   "execution_count": null,
   "id": "f69f9d68-3947-444b-9634-782c3a45d3f5",
   "metadata": {},
   "outputs": [],
   "source": [
    "lambdas"
   ]
  },
  {
   "cell_type": "code",
   "execution_count": null,
   "id": "bf3988c7",
   "metadata": {},
   "outputs": [],
   "source": [
    "def prepare_circuit(init_state=None, measurement=True):\n",
    "    qreg = QuantumRegister(L, 'q')\n",
    "    creg = ClassicalRegister(2, 'c')\n",
    "    circ = QuantumCircuit(qreg, creg)\n",
    "    entangler_map1 = [(5, 4), (5, 3), (5, 1), (4, 2), (4, 0)]\n",
    "    entangler_map2 = [(5, 4), (5, 2), (4, 3), (5, 0), (4, 1)]\n",
    "    circ += circuit.library.TwoLocal(L, 'ry', 'cz', entanglement = [entangler_map1, entangler_map2], reps=2, insert_barriers=True, skip_final_rotation_layer=True)\n",
    "    circ.ry(circuit.Parameter('θ1'), 4)\n",
    "    circ.ry(circuit.Parameter('θ2'), 5)\n",
    "    if measurement:\n",
    "        circ.measure(qreg[4], creg[0])\n",
    "        circ.measure(qreg[5], creg[1])\n",
    "    if init_state is not None: \n",
    "        circ = init_vqe(init_state) + circ\n",
    "    \n",
    "    return circ\n",
    "\n",
    "# same circuit as above (more explicit)\n",
    "def prepare_circuit2(thetas, init_state=None, measurement=True):\n",
    "    qreg = QuantumRegister(L, 'q')\n",
    "    creg = ClassicalRegister(2, 'c')\n",
    "    circ = QuantumCircuit(qreg, creg)\n",
    "    #if init_state is not None: circ.initialize(init_state, qreg)\n",
    "    for i,t in enumerate(thetas[:L]):\n",
    "        circ.ry(t, i)\n",
    "    circ.cz(5,4)\n",
    "    circ.cz(5,3)\n",
    "    circ.cz(5,1)\n",
    "    circ.cz(4,2)\n",
    "    circ.cz(4,0)\n",
    "    for i,t in enumerate(thetas[L:2*L]):\n",
    "        circ.ry(t, i)\n",
    "    circ.cz(5,4)\n",
    "    circ.cz(5,2)\n",
    "    circ.cz(4,3)\n",
    "    circ.cz(5,0)\n",
    "    circ.cz(4,1)\n",
    "    circ.ry(thetas[2*L], 4)\n",
    "    circ.ry(thetas[2*L+1], 5)\n",
    "    if measurement:\n",
    "        circ.measure(qreg[4], creg[0])\n",
    "        circ.measure(qreg[5], creg[1])\n",
    "    if init_state is not None: \n",
    "        circ = init_vqe(init_state) + circ\n",
    "    return circ"
   ]
  },
  {
   "cell_type": "code",
   "execution_count": null,
   "id": "5ec95b7a",
   "metadata": {},
   "outputs": [],
   "source": [
    "def feature_encoding(thetas, x):\n",
    "    \"\"\" thetas: parameters to be optimized, x: Ising model parameter (eg. field) \"\"\"\n",
    "    new_thetas = []\n",
    "    thetas = thetas.reshape((-1,2))\n",
    "    for theta in thetas:\n",
    "        new_thetas.append(theta[0] * x + theta[1])\n",
    "    return new_thetas"
   ]
  },
  {
   "cell_type": "code",
   "execution_count": null,
   "id": "c0a34a67",
   "metadata": {},
   "outputs": [],
   "source": [
    "circ = prepare_circuit()\n",
    "t_qc = transpile(circ, backend=backend_sim)\n",
    "circ.draw('mpl') # trash qubits are at the bottom"
   ]
  },
  {
   "cell_type": "code",
   "execution_count": null,
   "id": "f608e393",
   "metadata": {},
   "outputs": [],
   "source": [
    "circ = prepare_circuit2(thetas)\n",
    "# circ = prepare_circuit(feature_encoding(thetas, .6))\n",
    "circ.draw('mpl') # identical to above"
   ]
  },
  {
   "cell_type": "markdown",
   "id": "83039206",
   "metadata": {},
   "source": [
    "### Execute circuit\n",
    "Circuit is executed on simulator and measurement outcomes on the trash qubits are stored"
   ]
  },
  {
   "cell_type": "code",
   "execution_count": null,
   "id": "aacc06af",
   "metadata": {},
   "outputs": [],
   "source": [
    "J, g = 1., lambdas[0] # Ising parameters for which ground state should be compressed\n",
    "init_state = VQE_vals[lambdas[0]] # train on smallest lambda ;; this may grammatically be confusing, init_state = dictionary with unsorted parameters\n",
    "\n",
    "def run_circuit(thetas, init_state, shots=100):\n",
    "    circ = prepare_circuit2(thetas, init_state)\n",
    "\n",
    "    # Execute the circuit on the qasm simulator.\n",
    "    job_sim = execute(circ, backend_sim, shots=shots)#, memory=True)\n",
    "\n",
    "    # Grab the results from the job.\n",
    "    result_sim = job_sim.result()\n",
    "\n",
    "    counts = result_sim.get_counts(circ)\n",
    "#     print(counts)\n",
    "    \n",
    "#     mems = result_sim.get_memory(circ)\n",
    "#     print(mems)\n",
    "    return counts\n",
    "run_circuit(thetas, init_state)['11']"
   ]
  },
  {
   "cell_type": "markdown",
   "id": "8a9bd59e",
   "metadata": {},
   "source": [
    "### Optimize circuit\n",
    "Define cost function (averaged hamming distance of measurement outcomes) and minimze it using either scipy or qiskit optimizer modules (the latter is also based on scipy though)."
   ]
  },
  {
   "cell_type": "code",
   "execution_count": null,
   "id": "0978d4e3",
   "metadata": {},
   "outputs": [],
   "source": [
    "J, g = 1., lambdas[0] # Ising parameters for which ground state should be compressed\n",
    "init_state = VQE_vals[lambdas[0]] # train on smallest lambda ;; this may grammatically be confusing, init_state = dictionary with unsorted parameters\n",
    "circ = prepare_circuit(init_state)\n",
    "t_qc = transpile(circ, backend=backend_sim)\n",
    "\n",
    "def cost_function_single(thetas, t_qc):\n",
    "    \"\"\" Optimizes circuit for single input state \"\"\"\n",
    "    shots = 1000 # Number of measurements for single training example\n",
    "    qobj = compiler.assemble(t_qc.bind_parameters(thetas), backend=backend_sim, shots=shots)\n",
    "    result = backend_sim.run(qobj).result()\n",
    "    out = result.get_counts()\n",
    "    cost = out.get('11', 0)*2 + out.get('01', 0) + out.get('10', 0)\n",
    "    return cost/shots\n",
    "cost_function_single(thetas, t_qc)"
   ]
  },
  {
   "cell_type": "code",
   "execution_count": null,
   "id": "f7d680f8",
   "metadata": {},
   "outputs": [],
   "source": [
    "J, g = 1., lambdas[3] # Ising parameters for which ground state should be compressed\n",
    "init_state = VQE_vals[lambdas[3]] # train on smallest lambda ;; this may grammatically be confusing, init_state = dictionary with unsorted parameters\n",
    "print(lambdas[5])\n",
    "def cost_function_single2(thetas):\n",
    "    \"\"\" Optimizes circuit for single input state \"\"\"\n",
    "    shots = 1000 # Number of measurements for single training example\n",
    "    cost = 0.\n",
    "    out = run_circuit(thetas, init_state, shots=shots)\n",
    "    cost = out.get('11', 0)*2 + out.get('01', 0) + out.get('10', 0)\n",
    "    return cost/shots\n",
    "cost_function_single2(thetas)"
   ]
  },
  {
   "cell_type": "code",
   "execution_count": 2,
   "id": "14642b02",
   "metadata": {},
   "outputs": [
    {
     "ename": "NameError",
     "evalue": "name 'L' is not defined",
     "output_type": "error",
     "traceback": [
      "\u001b[0;31m---------------------------------------------------------------------------\u001b[0m",
      "\u001b[0;31mNameError\u001b[0m                                 Traceback (most recent call last)",
      "\u001b[0;32m<ipython-input-2-4392828daeec>\u001b[0m in \u001b[0;36m<module>\u001b[0;34m\u001b[0m\n\u001b[0;32m----> 1\u001b[0;31m \u001b[0mthetas\u001b[0m \u001b[0;34m=\u001b[0m \u001b[0mnp\u001b[0m\u001b[0;34m.\u001b[0m\u001b[0mrandom\u001b[0m\u001b[0;34m.\u001b[0m\u001b[0muniform\u001b[0m\u001b[0;34m(\u001b[0m\u001b[0;36m0\u001b[0m\u001b[0;34m,\u001b[0m \u001b[0;36m2\u001b[0m\u001b[0;34m*\u001b[0m\u001b[0mnp\u001b[0m\u001b[0;34m.\u001b[0m\u001b[0mpi\u001b[0m\u001b[0;34m,\u001b[0m \u001b[0;36m2\u001b[0m\u001b[0;34m*\u001b[0m\u001b[0mL\u001b[0m\u001b[0;34m+\u001b[0m\u001b[0;36m2\u001b[0m\u001b[0;34m)\u001b[0m \u001b[0;31m# initial parameters without feature encoding\u001b[0m\u001b[0;34m\u001b[0m\u001b[0;34m\u001b[0m\u001b[0m\n\u001b[0m\u001b[1;32m      2\u001b[0m \u001b[0;31m# thetas = np.random.uniform(0, 2*np.pi, ((2*L+2)*2)) # initial parameters with feature encoding\u001b[0m\u001b[0;34m\u001b[0m\u001b[0;34m\u001b[0m\u001b[0;34m\u001b[0m\u001b[0m\n\u001b[1;32m      3\u001b[0m \u001b[0;34m\u001b[0m\u001b[0m\n\u001b[1;32m      4\u001b[0m \u001b[0;31m# counts, values = [], []\u001b[0m\u001b[0;34m\u001b[0m\u001b[0;34m\u001b[0m\u001b[0;34m\u001b[0m\u001b[0m\n\u001b[1;32m      5\u001b[0m \u001b[0;31m# def store_intermediate_result(eval_count, parameters, mean, std):\u001b[0m\u001b[0;34m\u001b[0m\u001b[0;34m\u001b[0m\u001b[0;34m\u001b[0m\u001b[0m\n",
      "\u001b[0;31mNameError\u001b[0m: name 'L' is not defined"
     ]
    }
   ],
   "source": [
    "thetas = np.random.uniform(0, 2*np.pi, 2*L+2) # initial parameters without feature encoding\n",
    "# thetas = np.random.uniform(0, 2*np.pi, ((2*L+2)*2)) # initial parameters with feature encoding\n",
    "\n",
    "# counts, values = [], []\n",
    "# def store_intermediate_result(eval_count, parameters, mean, std):\n",
    "#     counts.append(eval_count)\n",
    "#     values.append(mean)\n",
    "\n",
    "# Initialize optimizer\n",
    "optimizer = COBYLA(maxiter=500, tol=0.0001)\n",
    "# optimizer = L_BFGS_B(maxfun=300, maxiter=500)#, factr=10, iprint=- 1, epsilon=1e-08)\n",
    "# optimizer = SPSA(maxiter=1)#, callback=store_intermediate_result) # recommended from qiskit but terribly slow\n",
    "\n",
    "start_time = time.time()\n",
    "# ret = optimizer.optimize(num_vars=thetas.shape[0], objective_function=(lambda thetas: cost_function_single(thetas, t_qc)), initial_point=thetas)\n",
    "ret = optimizer.optimize(num_vars=thetas.shape[0], objective_function=cost_function_single2, initial_point=thetas)\n",
    "print(\"Time: \", time.time()-start_time)\n",
    "ret"
   ]
  },
  {
   "cell_type": "code",
   "execution_count": 29,
   "id": "897c0c14-dcfd-40b4-ab29-8c6dbd8eff0d",
   "metadata": {},
   "outputs": [],
   "source": [
    "thetas = ret[0]"
   ]
  },
  {
   "cell_type": "code",
   "execution_count": 139,
   "id": "c9035b8d-15be-4dc2-8d31-fc0111c4b23c",
   "metadata": {},
   "outputs": [
    {
     "data": {
      "text/plain": [
       "16"
      ]
     },
     "execution_count": 139,
     "metadata": {},
     "output_type": "execute_result"
    }
   ],
   "source": [
    "def run_circuit(thetas, init_state, shots=100):\n",
    "    circ = prepare_circuit2(thetas, init_state)\n",
    "\n",
    "    # Execute the circuit on the qasm simulator.\n",
    "    job_sim = execute(circ, backend_sim, shots=shots)#, memory=True)\n",
    "\n",
    "    # Grab the results from the job.\n",
    "    result_sim = job_sim.result()\n",
    "\n",
    "    counts = result_sim.get_counts(circ)\n",
    "#     print(counts)\n",
    "    \n",
    "#     mems = result_sim.get_memory(circ)\n",
    "#     print(mems)\n",
    "    return counts\n",
    "run_circuit(thetas, init_state)['11']"
   ]
  },
  {
   "cell_type": "markdown",
   "id": "7f0894d4",
   "metadata": {},
   "source": [
    "### Test circuit\n",
    "Test optimized circuit on different Ising parameter values and (hopefully) observe phase transition"
   ]
  },
  {
   "cell_type": "code",
   "execution_count": 37,
   "id": "a04ec1a2",
   "metadata": {},
   "outputs": [],
   "source": [
    "gs = np.linspace(0.01, 2.0, 50)\n",
    "gs = [1.0, 1.5, 2.0]\n",
    "cost = []\n",
    "shots = 10000\n",
    "for g in lambdas:\n",
    "    new_thetas = thetas\n",
    "    out = run_circuit(new_thetas, VQE_vals[g], shots=shots)\n",
    "    cost.append((out.get('11', 0)*2 + out.get('01', 0) + out.get('10', 0))/shots)"
   ]
  },
  {
   "cell_type": "code",
   "execution_count": 43,
   "id": "e045ffb7",
   "metadata": {},
   "outputs": [
    {
     "data": {
      "text/plain": [
       "Text(0, 0.5, 'Cost')"
      ]
     },
     "execution_count": 43,
     "metadata": {},
     "output_type": "execute_result"
    },
    {
     "data": {
      "image/png": "[encoded data removed]",
      "text/plain": [
       "<Figure size 432x288 with 1 Axes>"
      ]
     },
     "metadata": {
      "needs_background": "light"
     },
     "output_type": "display_data"
    }
   ],
   "source": [
    "plt.plot(lambdas, cost,\"x--\")\n",
    "plt.xlabel(r\"$g$\")\n",
    "plt.ylabel(\"Cost\")\n",
    "# plt.xscale(\"log\")"
   ]
  },
  {
   "cell_type": "code",
   "execution_count": 36,
   "id": "16247d8e-a5a5-4f15-9764-a7494b4fe38f",
   "metadata": {},
   "outputs": [
    {
     "data": {
      "text/plain": [
       "array(['0.01', '0.027825594022071243', '0.0774263682681127',\n",
       "       '0.21544346900318834', '0.5994842503189409', '1.6681005372000592',\n",
       "       '4.6415888336127775', '12.915496650148826', '35.93813663804626',\n",
       "       '100.0'], dtype='<U20')"
      ]
     },
     "execution_count": 36,
     "metadata": {},
     "output_type": "execute_result"
    }
   ],
   "source": [
    "lambdas"
   ]
  },
  {
   "cell_type": "code",
   "execution_count": null,
   "id": "1e527882",
   "metadata": {},
   "outputs": [],
   "source": []
  }
 ],
 "metadata": {
  "kernelspec": {
   "display_name": "Python 3",
   "language": "python",
   "name": "python3"
  },
  "language_info": {
   "codemirror_mode": {
    "name": "ipython",
    "version": 3
   },
   "file_extension": ".py",
   "mimetype": "text/x-python",
   "name": "python",
   "nbconvert_exporter": "python",
   "pygments_lexer": "ipython3",
   "version": "3.9.4"
  }
 },
 "nbformat": 4,
 "nbformat_minor": 5
}
