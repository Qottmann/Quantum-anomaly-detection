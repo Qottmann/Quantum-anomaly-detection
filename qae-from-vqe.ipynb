{
 "cells": [
  {
   "cell_type": "markdown",
   "id": "966b796b",
   "metadata": {},
   "source": [
    "# Variational quantum autoencoder\n",
    "\n",
    "Circuit ansatz from: https://arxiv.org/pdf/2010.06599.pdf"
   ]
  },
  {
   "cell_type": "code",
   "execution_count": 18,
   "id": "c417d5fc",
   "metadata": {},
   "outputs": [],
   "source": [
    "import time\n",
    "import itertools\n",
    "import numpy as np\n",
    "from scipy.optimize import minimize, basinhopping\n",
    "from qiskit import *\n",
    "from qiskit.quantum_info import Statevector\n",
    "from qiskit.algorithms.optimizers import COBYLA, L_BFGS_B, SPSA\n",
    "import matplotlib.pyplot as plt\n",
    "from matplotlib.ticker import MaxNLocator\n",
    "from matplotlib.colors import BoundaryNorm\n",
    "from modules.utils import Mag\n",
    "%matplotlib inline\n",
    "cmap = plt.get_cmap(\"plasma\") #'viridis'"
   ]
  },
  {
   "cell_type": "markdown",
   "id": "440789d2",
   "metadata": {},
   "source": [
    "### Exact diagonalization \n",
    "In order to get ground state for input into quantum circuit"
   ]
  },
  {
   "cell_type": "code",
   "execution_count": 19,
   "id": "e8db1eb8",
   "metadata": {},
   "outputs": [],
   "source": [
    "# from: https://tenpy.readthedocs.io/en/latest/toycodes/tfi_exact.html\n",
    "import numpy as np\n",
    "import scipy.sparse as sparse\n",
    "import scipy.sparse.linalg.eigen.arpack as arp\n",
    "import warnings\n",
    "import scipy.integrate\n",
    "\n",
    "\n",
    "def ising_groundstate(L, J, gx, gz=0): # gx is transverse field, gz the longitudinal\n",
    "    \"\"\"For comparison: obtain ground state energy from exact diagonalization.\n",
    "\n",
    "    Exponentially expensive in L, only works for small enough `L` <~ 20.\n",
    "    \"\"\"\n",
    "    if L >= 20:\n",
    "        warnings.warn(\"Large L: Exact diagonalization might take a long time!\")\n",
    "    # get single site operaors\n",
    "    sx = sparse.csr_matrix(np.array([[0., 1.], [1., 0.]]))\n",
    "    sz = sparse.csr_matrix(np.array([[1., 0.], [0., -1.]]))\n",
    "    id = sparse.csr_matrix(np.eye(2))\n",
    "    sx_list = []  # sx_list[i] = kron([id, id, ..., id, sx, id, .... id])\n",
    "    sz_list = []\n",
    "    for i_site in range(L):\n",
    "        x_ops = [id] * L\n",
    "        z_ops = [id] * L\n",
    "        x_ops[i_site] = sx\n",
    "        z_ops[i_site] = sz\n",
    "        X = x_ops[0]\n",
    "        Z = z_ops[0]\n",
    "        for j in range(1, L):\n",
    "            X = sparse.kron(X, x_ops[j], 'csr')\n",
    "            Z = sparse.kron(Z, z_ops[j], 'csr')\n",
    "        sx_list.append(X)\n",
    "        sz_list.append(Z)\n",
    "    H_zz = sparse.csr_matrix((2**L, 2**L))\n",
    "    H_z = sparse.csr_matrix((2**L, 2**L))\n",
    "    H_x = sparse.csr_matrix((2**L, 2**L))\n",
    "    for i in range(L - 1):\n",
    "        H_zz = H_zz + sz_list[i] * sz_list[(i + 1) % L]\n",
    "    for i in range(L):\n",
    "        H_z = H_z + sz_list[i]\n",
    "        H_x = H_x + sx_list[i]\n",
    "    H = -J * H_zz - gx * H_x - gz * H_z \n",
    "    E, V = arp.eigsh(H, k=1, which='SA', return_eigenvectors=True, ncv=20)\n",
    "    return V[:,0], E[0]\n",
    "init_state, E = ising_groundstate(6, 1., 1., 1.)"
   ]
  },
  {
   "cell_type": "markdown",
   "id": "bafdba7d",
   "metadata": {},
   "source": [
    "### Load VQE parameters"
   ]
  },
  {
   "cell_type": "code",
   "execution_count": 20,
   "id": "4628989a-ebd5-4aa0-9b90-adca4d90fe04",
   "metadata": {},
   "outputs": [],
   "source": [
    "def sort_vals(vals):\n",
    "    \"\"\" vals is (unsorted) dictionary of parameters from VQE ansatz circuit, this returns sorted values as list \"\"\"\n",
    "    indices = np.array([_.index for _ in vals])           # unordered list of indices from the ParameterVectorElement(Theta(INDEX))\n",
    "    vals_sorted = np.array([vals[_] for _ in vals])       # unordered list of values (but same ordering as indices)\n",
    "    return vals_sorted[np.argsort(indices)]\n",
    "\n",
    "def init_vqe(vals):\n",
    "    #return qiskit.circuit.library.EfficientSU2(L, reps=3).assign_parameters(sort_vals(vals))\n",
    "    return qiskit.circuit.library.EfficientSU2(L, reps=3).assign_parameters(vals)"
   ]
  },
  {
   "cell_type": "code",
   "execution_count": 21,
   "id": "ff92713a",
   "metadata": {},
   "outputs": [],
   "source": [
    "L = 6\n",
    "anti = -1\n",
    "filename = f'data/params_VQE_Ising_L{L}_anti_{anti}.npz'   # name of the data file that is used\n",
    "\n",
    "VQE_vals = np.load(filename, allow_pickle=True)\n",
    "gxs = VQE_vals['gx_list']\n",
    "gzs = VQE_vals['gz_list']\n",
    "phis = VQE_vals['opt_params']"
   ]
  },
  {
   "cell_type": "code",
   "execution_count": 22,
   "id": "b27c5e3e-03fd-44a1-a181-dd54c858c631",
   "metadata": {},
   "outputs": [
    {
     "data": {
      "text/plain": [
       "100"
      ]
     },
     "execution_count": 22,
     "metadata": {},
     "output_type": "execute_result"
    }
   ],
   "source": [
    "10*10"
   ]
  },
  {
   "cell_type": "code",
   "execution_count": 23,
   "id": "5590abcd-e3fb-479c-8873-a43c11adbd54",
   "metadata": {},
   "outputs": [
    {
     "data": {
      "text/plain": [
       "(100,)"
      ]
     },
     "execution_count": 23,
     "metadata": {},
     "output_type": "execute_result"
    }
   ],
   "source": [
    "gxs.shape"
   ]
  },
  {
   "cell_type": "markdown",
   "id": "306c7515",
   "metadata": {},
   "source": [
    "filename = \"data/BH_MPS.npy\"\n",
    "VQE_vals = np.load(filename, allow_pickle=True)\n",
    "VQE_vals"
   ]
  },
  {
   "cell_type": "markdown",
   "id": "1ad839e0",
   "metadata": {},
   "source": [
    "### Define variational quantum circuit\n",
    "At the moment only works for 6 quibts (two of them are trash qubits).\n",
    "\n",
    "Other ansatze that might be worth trying: PauliTwoDesign, RealAmplitudes, EfficientSU2"
   ]
  },
  {
   "cell_type": "code",
   "execution_count": 24,
   "id": "2026d0cf",
   "metadata": {},
   "outputs": [],
   "source": [
    "# Use Aer's qasm_simulator\n",
    "backend_sim = Aer.get_backend('qasm_simulator')\n",
    "\n",
    "L = 6 # system size\n",
    "num_trash = 2\n",
    "thetas = np.random.uniform(0, 2*np.pi, num_trash*L+num_trash) # initial parameters without feature encoding\n",
    "# thetas = np.random.uniform(0, 2*np.pi, (2*L+2, 2)) # initial parameters with feature encoding"
   ]
  },
  {
   "cell_type": "code",
   "execution_count": 25,
   "id": "bf3988c7",
   "metadata": {},
   "outputs": [],
   "source": [
    "def prepare_circuit(init_state=None, measurement=True):\n",
    "    qreg = QuantumRegister(L, 'q')\n",
    "    creg = ClassicalRegister(2, 'c')\n",
    "    circ = QuantumCircuit(qreg, creg)\n",
    "    entangler_map1 = [(5, 4), (5, 3), (5, 1), (4, 2), (4, 0)]\n",
    "    entangler_map2 = [(5, 4), (5, 2), (4, 3), (5, 0), (4, 1)]\n",
    "    circ += circuit.library.TwoLocal(L, 'ry', 'cz', entanglement = [entangler_map1, entangler_map2], reps=2, insert_barriers=True, skip_final_rotation_layer=True)\n",
    "    circ.ry(circuit.Parameter('θ1'), 4)\n",
    "    circ.ry(circuit.Parameter('θ2'), 5)\n",
    "    if measurement:\n",
    "        circ.measure(qreg[4], creg[0])\n",
    "        circ.measure(qreg[5], creg[1])\n",
    "    if init_state is not None: \n",
    "        circ = init_vqe(init_state) + circ\n",
    "    return circ\n",
    "\n",
    "# same circuit as above (more explicit)\n",
    "def prepare_circuit2(thetas, init_state=None, measurement=True):\n",
    "    qreg = QuantumRegister(L, 'q')\n",
    "    creg = ClassicalRegister(2, 'c')\n",
    "    circ = QuantumCircuit(qreg, creg)\n",
    "    #if init_state is not None: circ.initialize(init_state, qreg)\n",
    "    for i,t in enumerate(thetas[:L]):\n",
    "        circ.ry(t, i)\n",
    "    circ.cz(5,4)\n",
    "    circ.cz(5,3)\n",
    "    circ.cz(5,1)\n",
    "    circ.cz(4,2)\n",
    "    circ.cz(4,0)\n",
    "    for i,t in enumerate(thetas[L:2*L]):\n",
    "        circ.ry(t, i)\n",
    "    circ.cz(5,4)\n",
    "    circ.cz(5,2)\n",
    "    circ.cz(4,3)\n",
    "    circ.cz(5,0)\n",
    "    circ.cz(4,1)\n",
    "    circ.ry(thetas[2*L], 4)\n",
    "    circ.ry(thetas[2*L+1], 5)\n",
    "    if measurement:\n",
    "        circ.measure(qreg[4], creg[0])\n",
    "        circ.measure(qreg[5], creg[1])\n",
    "    if init_state is not None: \n",
    "        circ = init_vqe(init_state) + circ\n",
    "    return circ\n",
    "\n",
    "# linear entangler (as in scales linearly with trash qubits)\n",
    "def get_entangler_map(L, num_trash, i_permut=1):\n",
    "    result = []\n",
    "    nums = list(range(L)) # here was the problem, it doesnt like when list elements are taken from numpy\n",
    "    nums_compressed = nums.copy()[:L-num_trash]\n",
    "    nums_trash = nums.copy()[-num_trash:]\n",
    "    #print(nums, nums_compressed, nums_trash)\n",
    "    # combine all trash qubits with themselves\n",
    "    for trash_q in nums_trash[:-1]:\n",
    "        result.append((trash_q+1,trash_q))\n",
    "    # combine each of the trash qubits with every n-th\n",
    "    repeated = list(nums_trash) * (L-num_trash) # repeat the list of trash indices cyclicly\n",
    "    for i in range(L-num_trash):\n",
    "        result.append((repeated[i_permut + i], nums_compressed[i]))\n",
    "    return result\n",
    "\n",
    "def QAE_Ansatz(thetas, L, num_trash, insert_barriers=False, parametrized_gate = \"ry\", entangling_gate = \"cz\"):\n",
    "    entanglement = [get_entangler_map(L,num_trash,i_permut) for i_permut in range(num_trash)]\n",
    "    circ = qiskit.circuit.library.TwoLocal(L, \n",
    "                                           parametrized_gate,\n",
    "                                           entangling_gate,\n",
    "                                           entanglement,\n",
    "                                           reps=num_trash,\n",
    "                                           insert_barriers=insert_barriers,\n",
    "                                           skip_final_rotation_layer=True\n",
    "                                          ).assign_parameters(thetas[:-num_trash])\n",
    "    if insert_barriers: circ.barrier()\n",
    "    for i in range(num_trash):\n",
    "        circ.ry(thetas[L-i-1], L-i-1)\n",
    "        #circ.ry(circuit.Parameter(f'θ{i}'), L-i-1)\n",
    "    return circ\n",
    "\n",
    "def prepare_circuit3(thetas, L=6, num_trash=2, init_state=None, measurement=True, vqe=True):\n",
    "    qreg = QuantumRegister(L, 'q')\n",
    "    creg = ClassicalRegister(num_trash, 'c')\n",
    "    circ = QuantumCircuit(qreg, creg)\n",
    "    circ += QAE_Ansatz(thetas, L, num_trash, insert_barriers=True)#.assign_parameters(thetas) # difference to bind?\n",
    "    if measurement:\n",
    "        for i in range(num_trash):\n",
    "            circ.measure(qreg[L-i-1], creg[i])\n",
    "    if init_state is not None:\n",
    "        if vqe:\n",
    "            circ = init_vqe(init_state) + circ\n",
    "        else:\n",
    "            circ.initialize(init_state, qreg)\n",
    "    return circ"
   ]
  },
  {
   "cell_type": "code",
   "execution_count": 26,
   "id": "c7a3f24f",
   "metadata": {},
   "outputs": [
    {
     "name": "stderr",
     "output_type": "stream",
     "text": [
      "<ipython-input-25-15b4632032cc>:82: DeprecationWarning: The QuantumCircuit.__iadd__() method is being deprecated. Use the compose() (potentially with the inplace=True argument) and tensor() methods which are more flexible w.r.t circuit register compatibility.\n",
      "  circ += QAE_Ansatz(thetas, L, num_trash, insert_barriers=True)#.assign_parameters(thetas) # difference to bind?\n",
      "/home/kkottmann/anaconda3/envs/qiskit_env/lib/python3.9/site-packages/qiskit/circuit/quantumcircuit.py:876: DeprecationWarning: The QuantumCircuit.extend() method is being deprecated. Use the compose() (potentially with the inplace=True argument) and tensor() methods which are more flexible w.r.t circuit register compatibility.\n",
      "  return self.extend(rhs)\n"
     ]
    },
    {
     "data": {
      "image/png": "[encoded data removed]",
      "text/plain": [
       "<Figure size 1411x445.48 with 1 Axes>"
      ]
     },
     "execution_count": 26,
     "metadata": {},
     "output_type": "execute_result"
    }
   ],
   "source": [
    "circ = prepare_circuit3(thetas,L,num_trash)\n",
    "circ.draw('mpl')"
   ]
  },
  {
   "cell_type": "code",
   "execution_count": 27,
   "id": "5ec95b7a",
   "metadata": {},
   "outputs": [],
   "source": [
    "def feature_encoding(thetas, x):\n",
    "    \"\"\" thetas: parameters to be optimized, x: Ising model parameter (eg. field) \"\"\"\n",
    "    new_thetas = []\n",
    "    thetas = thetas.reshape((-1,2))\n",
    "    for theta in thetas:\n",
    "        new_thetas.append(theta[0] * x + theta[1])\n",
    "    return new_thetas"
   ]
  },
  {
   "cell_type": "markdown",
   "id": "83039206",
   "metadata": {},
   "source": [
    "### Execute circuit\n",
    "Circuit is executed on simulator and measurement outcomes on the trash qubits are stored"
   ]
  },
  {
   "cell_type": "code",
   "execution_count": 28,
   "id": "aacc06af",
   "metadata": {},
   "outputs": [
    {
     "name": "stderr",
     "output_type": "stream",
     "text": [
      "<ipython-input-25-15b4632032cc>:88: DeprecationWarning: The QuantumCircuit.__add__() method is being deprecated.Use the compose() method which is more flexible w.r.t circuit register compatibility.\n",
      "  circ = init_vqe(init_state) + circ\n",
      "/home/kkottmann/anaconda3/envs/qiskit_env/lib/python3.9/site-packages/qiskit/circuit/quantumcircuit.py:869: DeprecationWarning: The QuantumCircuit.combine() method is being deprecated. Use the compose() method which is more flexible w.r.t circuit register compatibility.\n",
      "  return self.combine(rhs)\n"
     ]
    },
    {
     "data": {
      "text/plain": [
       "24"
      ]
     },
     "execution_count": 28,
     "metadata": {},
     "output_type": "execute_result"
    }
   ],
   "source": [
    "idx = 30\n",
    "J, gx, gz = -1., gxs[idx], gzs[idx] # Ising parameters for which ground state should be compressed\n",
    "phi = phis[idx] # train on smallest lambda ;; this may grammatically be confusing, init_state = dictionary with unsorted parameters\n",
    "\n",
    "def run_circuit(thetas, L, num_trash, init_state, vqe=True, shots=100):\n",
    "    circ = prepare_circuit3(thetas, L, num_trash, init_state, vqe=vqe)\n",
    "\n",
    "    # Execute the circuit on the qasm simulator.\n",
    "    job_sim = execute(circ, backend_sim, shots=shots)#, memory=True)\n",
    "\n",
    "    # Grab the results from the job.\n",
    "    result_sim = job_sim.result()\n",
    "\n",
    "    counts = result_sim.get_counts(circ)\n",
    "#     print(counts)\n",
    "    \n",
    "#     mems = result_sim.get_memory(circ)\n",
    "#     print(mems)\n",
    "    return counts\n",
    "run_circuit(thetas, L, num_trash, phi)['11']"
   ]
  },
  {
   "cell_type": "markdown",
   "id": "8a9bd59e",
   "metadata": {},
   "source": [
    "### Optimize circuit\n",
    "Define cost function (averaged hamming distance of measurement outcomes) and minimze it using either scipy or qiskit optimizer modules (the latter is also based on scipy though)."
   ]
  },
  {
   "cell_type": "code",
   "execution_count": 29,
   "id": "c11ee99a",
   "metadata": {},
   "outputs": [],
   "source": [
    "#reset random seed\n",
    "np.random.seed(123)"
   ]
  },
  {
   "cell_type": "code",
   "execution_count": 30,
   "id": "b6a51714",
   "metadata": {},
   "outputs": [],
   "source": [
    "def cost_function_single(thetas, L, num_trash, p, shots=1000, vqe=True, param_encoding=False, x=0):\n",
    "    \"\"\" Optimizes circuit \"\"\"\n",
    "    if vqe:\n",
    "        init_state = phis[p]\n",
    "    else:\n",
    "        J, gx, gz = p\n",
    "        init_state, _ = ising_groundstate(L, J, gx, gz)\n",
    "    if param_encoding: thetas = feature_encoding(thetas, x) \n",
    "    out = run_circuit(thetas, L, num_trash, init_state, vqe=vqe, shots=shots)\n",
    "    cost = out.get('11', 0)*2 + out.get('01', 0) + out.get('10', 0)\n",
    "    return cost/shots\n",
    "\n",
    "def cost_function(thetas, L, num_trash, ising_params, shots=1000, vqe=True, param_encoding=False, x=0):\n",
    "    \"\"\" Optimizes circuit \"\"\"\n",
    "    cost = 0.\n",
    "    n_samples = len(ising_params)\n",
    "    for i, p in enumerate(ising_params):\n",
    "        if param_encoding: \n",
    "            cost += cost_function_single(thetas, L, num_trash, p, shots, vqe, param_encoding, x[i])\n",
    "        else:\n",
    "            cost += cost_function_single(thetas, L, num_trash, p, shots, vqe, param_encoding)\n",
    "    return cost/n_samples\n",
    "\n",
    "def optimize(ising_params, L=6, num_trash=2, thetas=None, shots=1000, max_iter=400, vqe=True, param_encoding=False, x=0):\n",
    "    if thetas is None:\n",
    "        n_params = (2*L+2)*2 if param_encoding else (2*L+2)\n",
    "        thetas = np.random.uniform(0, 2*np.pi, n_params) # initial parameters without feature encoding\n",
    "        \n",
    "    print(\"Initial cost: {:.3f}\".format(cost_function(thetas, L, num_trash, ising_params, shots, vqe, param_encoding, x)))\n",
    "    \n",
    "    counts, values, accepted = [], [], []\n",
    "    def store_intermediate_result(eval_count, parameters, mean, std, ac):\n",
    "        # counts.append(eval_count)\n",
    "        values.append(mean)\n",
    "        accepted.append(ac)\n",
    "\n",
    "    # Initialize optimizer\n",
    "    # optimizer = COBYLA(maxiter=max_iter, tol=0.0001)\n",
    "    # optimizer = L_BFGS_B(maxfun=300, maxiter=max_iter)#, factr=10, iprint=- 1, epsilon=1e-08)\n",
    "    optimizer = SPSA(maxiter=max_iter,\n",
    "                     #blocking=True,\n",
    "                     callback=store_intermediate_result,\n",
    "                     #learning_rate=1e-1,\n",
    "                     #perturbation=0.4\n",
    "                     ) # recommended from qiskit (first iteraction takes quite long)\n",
    "                       # to reduce time figure out optimal learning rate and perturbation in advance\n",
    "\n",
    "    start_time = time.time()\n",
    "    ret = optimizer.optimize(\n",
    "                            num_vars=len(thetas),\n",
    "                            objective_function=(lambda thetas: cost_function(thetas, L, num_trash, ising_params, shots, vqe, param_encoding, x)),\n",
    "                            initial_point=thetas\n",
    "                            )\n",
    "    print(\"Time: {:.5f} sec\".format(time.time()-start_time))\n",
    "    print(ret)\n",
    "    return ret[0], values, accepted"
   ]
  },
  {
   "cell_type": "code",
   "execution_count": 31,
   "id": "34bc9950",
   "metadata": {},
   "outputs": [
    {
     "name": "stdout",
     "output_type": "stream",
     "text": [
      "Initial cost: 1.179\n",
      "Time: 13.86242 sec\n",
      "(array([4.77104761, 2.46300238, 0.1187999 , 2.38557096, 5.51207843,\n",
      "       2.93428764, 6.5624903 , 3.48661296, 3.14091419, 0.42215373,\n",
      "       0.79044298, 5.56185561, 2.77040319, 0.15516493]), 0.031, 120)\n"
     ]
    }
   ],
   "source": [
    "# Testing\n",
    "params = [66]\n",
    "thetas_test, loss, accepted = optimize(params, max_iter=40)"
   ]
  },
  {
   "cell_type": "code",
   "execution_count": 32,
   "id": "661f50ff",
   "metadata": {},
   "outputs": [
    {
     "name": "stdout",
     "output_type": "stream",
     "text": [
      "Initial cost: 1.130\n",
      "Time: 7.68067 sec\n",
      "(array([ 1.67389763,  3.11166484, -0.65128957, -0.03030325,  3.4447542 ,\n",
      "        4.2329179 ,  2.79325154,  4.3800383 ,  6.18825797,  0.53395974,\n",
      "        6.58318878,  3.44827587]), 0.009, 120)\n"
     ]
    }
   ],
   "source": [
    "params = [(-1.0, 0.1, 0.1)]\n",
    "thetas_test, loss, accepted = optimize(params, 5, 2, max_iter=40, vqe=False)"
   ]
  },
  {
   "cell_type": "markdown",
   "id": "57f1ea0c",
   "metadata": {},
   "source": [
    "## Trying stuff out\n",
    "\n",
    "### Train with two different states from each normal \"fake phase\""
   ]
  },
  {
   "cell_type": "code",
   "execution_count": 33,
   "id": "52dc296f",
   "metadata": {},
   "outputs": [
    {
     "name": "stdout",
     "output_type": "stream",
     "text": [
      "0.21544346900318834 12.915496650148826\n",
      "Initial cost: 0.752\n",
      "Time: 196.53010 sec\n",
      "(array([ 1.47795715, -0.05296719,  1.66714833,  2.99464007,  2.66032816,\n",
      "        2.33916283,  4.56342778,  4.67125241,  4.89553552,  1.29758815,\n",
      "        0.20175742,  6.26887938,  7.20398287,  6.17779762]), 0.22, 1200)\n"
     ]
    }
   ],
   "source": [
    "params = [37, 73]\n",
    "print(gxs[params[0]], gzs[params[0]])\n",
    "thetas, loss, accepted = optimize(params)\n",
    "thetas_normal_phase = thetas"
   ]
  },
  {
   "cell_type": "code",
   "execution_count": 34,
   "id": "3439fb12",
   "metadata": {},
   "outputs": [
    {
     "data": {
      "image/png": "[encoded data removed]",
      "text/plain": [
       "<Figure size 864x288 with 1 Axes>"
      ]
     },
     "metadata": {
      "needs_background": "light"
     },
     "output_type": "display_data"
    }
   ],
   "source": [
    "fig = plt.figure(figsize=(12,4))\n",
    "plt.subplot(1, 2, 1)\n",
    "plt.plot(loss, \"x--\")\n",
    "plt.yscale(\"log\")\n",
    "plt.xlabel(\"step\")\n",
    "plt.ylabel(\"Loss\");"
   ]
  },
  {
   "cell_type": "code",
   "execution_count": 40,
   "id": "68919f12",
   "metadata": {},
   "outputs": [
    {
     "ename": "TypeError",
     "evalue": "cost_function_single() missing 2 required positional arguments: 'num_trash' and 'p'",
     "output_type": "error",
     "traceback": [
      "\u001b[0;31m---------------------------------------------------------------------------\u001b[0m",
      "\u001b[0;31mTypeError\u001b[0m                                 Traceback (most recent call last)",
      "\u001b[0;32m<ipython-input-40-8b8dde11296a>\u001b[0m in \u001b[0;36m<module>\u001b[0;34m\u001b[0m\n\u001b[1;32m      7\u001b[0m \u001b[0mshots\u001b[0m \u001b[0;34m=\u001b[0m \u001b[0;36m1000\u001b[0m\u001b[0;34m\u001b[0m\u001b[0;34m\u001b[0m\u001b[0m\n\u001b[1;32m      8\u001b[0m \u001b[0;32mfor\u001b[0m \u001b[0mi\u001b[0m\u001b[0;34m,\u001b[0m\u001b[0mp\u001b[0m \u001b[0;32min\u001b[0m \u001b[0menumerate\u001b[0m\u001b[0;34m(\u001b[0m\u001b[0mlist\u001b[0m\u001b[0;34m(\u001b[0m\u001b[0mzip\u001b[0m\u001b[0;34m(\u001b[0m\u001b[0mgxs\u001b[0m\u001b[0;34m,\u001b[0m \u001b[0mgzs\u001b[0m\u001b[0;34m)\u001b[0m\u001b[0;34m)\u001b[0m\u001b[0;34m)\u001b[0m\u001b[0;34m:\u001b[0m\u001b[0;34m\u001b[0m\u001b[0;34m\u001b[0m\u001b[0m\n\u001b[0;32m----> 9\u001b[0;31m         \u001b[0mcost\u001b[0m\u001b[0;34m[\u001b[0m\u001b[0mi\u001b[0m\u001b[0;34m]\u001b[0m \u001b[0;34m=\u001b[0m \u001b[0mcost_function_single\u001b[0m\u001b[0;34m(\u001b[0m\u001b[0mthetas\u001b[0m\u001b[0;34m,\u001b[0m \u001b[0mi\u001b[0m\u001b[0;34m,\u001b[0m \u001b[0mshots\u001b[0m\u001b[0;34m=\u001b[0m\u001b[0mshots\u001b[0m\u001b[0;34m)\u001b[0m\u001b[0;34m\u001b[0m\u001b[0;34m\u001b[0m\u001b[0m\n\u001b[0m\u001b[1;32m     10\u001b[0m         \u001b[0minit_state\u001b[0m\u001b[0;34m,\u001b[0m \u001b[0m_\u001b[0m \u001b[0;34m=\u001b[0m \u001b[0mising_groundstate\u001b[0m\u001b[0;34m(\u001b[0m\u001b[0;36m5\u001b[0m\u001b[0;34m,\u001b[0m \u001b[0mJ\u001b[0m\u001b[0;34m,\u001b[0m \u001b[0mp\u001b[0m\u001b[0;34m[\u001b[0m\u001b[0;36m0\u001b[0m\u001b[0;34m]\u001b[0m\u001b[0;34m,\u001b[0m \u001b[0mp\u001b[0m\u001b[0;34m[\u001b[0m\u001b[0;36m1\u001b[0m\u001b[0;34m]\u001b[0m\u001b[0;34m)\u001b[0m\u001b[0;34m\u001b[0m\u001b[0;34m\u001b[0m\u001b[0m\n\u001b[1;32m     11\u001b[0m         \u001b[0mSmags\u001b[0m\u001b[0;34m[\u001b[0m\u001b[0mi\u001b[0m\u001b[0;34m]\u001b[0m \u001b[0;34m=\u001b[0m \u001b[0mnp\u001b[0m\u001b[0;34m.\u001b[0m\u001b[0mreal\u001b[0m\u001b[0;34m(\u001b[0m\u001b[0minit_state\u001b[0m\u001b[0;34m.\u001b[0m\u001b[0mT\u001b[0m\u001b[0;34m.\u001b[0m\u001b[0mconj\u001b[0m\u001b[0;34m(\u001b[0m\u001b[0;34m)\u001b[0m\u001b[0;34m@\u001b[0m\u001b[0mMag\u001b[0m\u001b[0;34m(\u001b[0m\u001b[0;36m5\u001b[0m\u001b[0;34m,\u001b[0m\u001b[0;34m-\u001b[0m\u001b[0;36m1\u001b[0m\u001b[0;34m)\u001b[0m\u001b[0;34m@\u001b[0m\u001b[0minit_state\u001b[0m\u001b[0;34m)\u001b[0m\u001b[0;34m\u001b[0m\u001b[0;34m\u001b[0m\u001b[0m\n",
      "\u001b[0;31mTypeError\u001b[0m: cost_function_single() missing 2 required positional arguments: 'num_trash' and 'p'"
     ]
    }
   ],
   "source": [
    "points = 10\n",
    "J = -1.0\n",
    "x,y = gxs[::points], gzs[:points]\n",
    "x,y = np.meshgrid(x,y)\n",
    "cost = np.zeros((points*points))\n",
    "Smags = np.zeros((points*points))\n",
    "shots = 1000\n",
    "for i,p in enumerate(list(zip(gxs, gzs))):\n",
    "        cost[i] = cost_function_single(thetas, i, shots=shots)\n",
    "        init_state, _ = ising_groundstate(5, J, p[0], p[1])\n",
    "        Smags[i] = np.real(init_state.T.conj()@Mag(5,-1)@init_state)\n",
    "cost = cost.reshape((points,points))\n",
    "Smags = Smags.reshape((points,points))"
   ]
  },
  {
   "cell_type": "code",
   "execution_count": 127,
   "id": "6b6f92e5",
   "metadata": {},
   "outputs": [
    {
     "name": "stderr",
     "output_type": "stream",
     "text": [
      "<ipython-input-127-2a3c55111b87>:6: MatplotlibDeprecationWarning: shading='flat' when X and Y have the same dimensions as C is deprecated since 3.3.  Either specify the corners of the quadrilaterals with X and Y, or pass shading='auto', 'nearest' or 'gouraud', or set rcParams['pcolor.shading'].  This will become an error two minor releases later.\n",
      "  im = ax.pcolormesh(x, y, cost, cmap=cmap, norm=norm)\n",
      "<ipython-input-127-2a3c55111b87>:21: MatplotlibDeprecationWarning: shading='flat' when X and Y have the same dimensions as C is deprecated since 3.3.  Either specify the corners of the quadrilaterals with X and Y, or pass shading='auto', 'nearest' or 'gouraud', or set rcParams['pcolor.shading'].  This will become an error two minor releases later.\n",
      "  im = ax.pcolormesh(x, y, Smags, cmap=cmap, norm=norm)\n"
     ]
    },
    {
     "data": {
      "image/png": "[encoded data removed]",
      "text/plain": [
       "<Figure size 576x360 with 2 Axes>"
      ]
     },
     "metadata": {
      "needs_background": "light"
     },
     "output_type": "display_data"
    },
    {
     "data": {
      "image/png": "[encoded data removed]",
      "text/plain": [
       "<Figure size 576x360 with 2 Axes>"
      ]
     },
     "metadata": {
      "needs_background": "light"
     },
     "output_type": "display_data"
    }
   ],
   "source": [
    "fig,axs = plt.subplots(figsize=(8,5),squeeze=False)\n",
    "nbins=100\n",
    "ax = axs[0,0]\n",
    "levels = MaxNLocator(nbins=nbins).tick_values(cost.min(),cost.max())\n",
    "norm = BoundaryNorm(levels, ncolors=cmap.N, clip=True)\n",
    "im = ax.pcolormesh(x, y, cost, cmap=cmap, norm=norm)\n",
    "cbar = fig.colorbar(im, ax=ax)\n",
    "cbar.ax.tick_params(labelsize=20)\n",
    "plt.xscale(\"log\")\n",
    "plt.yscale(\"log\")\n",
    "ax.set_title(\"Loss\",fontsize=20)\n",
    "ax.set_xlabel(r\"$g_z$\",fontsize=24)\n",
    "ax.set_ylabel(r\"$g_x$\",fontsize=24)\n",
    "ax.tick_params(labelsize=20)\n",
    "\n",
    "fig,axs = plt.subplots(figsize=(8,5),squeeze=False)\n",
    "nbins=100\n",
    "ax = axs[0,0]\n",
    "levels = MaxNLocator(nbins=nbins).tick_values(Smags.min(),Smags.max())\n",
    "norm = BoundaryNorm(levels, ncolors=cmap.N, clip=True)\n",
    "im = ax.pcolormesh(x, y, Smags, cmap=cmap, norm=norm)\n",
    "cbar = fig.colorbar(im, ax=ax)\n",
    "cbar.ax.tick_params(labelsize=20)\n",
    "plt.xscale(\"log\")\n",
    "plt.yscale(\"log\")\n",
    "ax.set_title(\"Staggered magnetization\",fontsize=20)\n",
    "ax.set_xlabel(r\"$g_z$\",fontsize=24)\n",
    "ax.set_ylabel(r\"$g_x$\",fontsize=24)\n",
    "ax.tick_params(labelsize=20)"
   ]
  },
  {
   "cell_type": "code",
   "execution_count": null,
   "id": "02eacaac",
   "metadata": {},
   "outputs": [],
   "source": [
    "J = -1\n",
    "gxss = gxs[::points]\n",
    "gz = gzs[0]\n",
    "cost1, Smags1, Smags12 = [], [], []\n",
    "shots = 10000\n",
    "Ll = 5\n",
    "for i,gx in enumerate(gxss):\n",
    "    cost1.append(cost_function_single(thetas, J, gx, gz, shots=shots))\n",
    "    init_state, _ = ising_groundstate(Ll, J, gx, gz)\n",
    "    Smags1.append(np.real(init_state.T.conj()@Mag(Ll,-1)@init_state))\n",
    "    init_state, _ = ising_groundstate(Ll+2, J, gx, gz)\n",
    "    Smags12.append(np.real(init_state.T.conj()@Mag(Ll+2,-1)@init_state))\n",
    "    \n",
    "gzs = np.logspace(-2, 2, 50)\n",
    "gx = .01\n",
    "cost2, Smags2, Smags22 = [], [], []\n",
    "for gz in gzs:\n",
    "    cost2.append(cost_function_single(thetas, J, gx, gz, shots=shots))\n",
    "    init_state, _ = ising_groundstate(Ll, J, gx, gz)\n",
    "    Smags2.append(np.real(init_state.T.conj()@Mag(Ll,-1)@init_state))\n",
    "    init_state, _ = ising_groundstate(Ll+2, J, gx, gz)\n",
    "    Smags22.append(np.real(init_state.T.conj()@Mag(Ll+2,-1)@init_state))"
   ]
  },
  {
   "cell_type": "code",
   "execution_count": null,
   "id": "1e527882",
   "metadata": {},
   "outputs": [],
   "source": []
  }
 ],
 "metadata": {
  "kernelspec": {
   "display_name": "Python 3",
   "language": "python",
   "name": "python3"
  },
  "language_info": {
   "codemirror_mode": {
    "name": "ipython",
    "version": 3
   },
   "file_extension": ".py",
   "mimetype": "text/x-python",
   "name": "python",
   "nbconvert_exporter": "python",
   "pygments_lexer": "ipython3",
   "version": "3.9.4"
  }
 },
 "nbformat": 4,
 "nbformat_minor": 5
}
