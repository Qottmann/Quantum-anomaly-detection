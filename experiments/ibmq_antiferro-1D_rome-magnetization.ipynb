{
 "cells": [
  {
   "cell_type": "markdown",
   "id": "8e73a00d",
   "metadata": {},
   "source": [
    "## Log\n",
    "computed VQE values in noisy simulation for ibmq_rome and executed those on it in fair share queue on cluster over night  \n",
    "no major improvements  \n",
    "will also try the full VQE optimization but it takes too long for dedicated mode, will have to try if we can get something in reasonable time in the fair share queue."
   ]
  },
  {
   "cell_type": "code",
   "execution_count": 1,
   "id": "296ebc1e",
   "metadata": {},
   "outputs": [],
   "source": [
    "import sys\n",
    "sys.path.insert(1, '..') # sets the path to the parent folder, where the notebook was originally executed\n",
    "\n",
    "\n",
    "import time\n",
    "import datetime\n",
    "import numpy as np\n",
    "from matplotlib import pyplot as plt\n",
    "\n",
    "import qiskit\n",
    "from qiskit import *\n",
    "from qiskit.opflow import X,Z,I\n",
    "from qiskit.opflow.state_fns import StateFn, CircuitStateFn\n",
    "from qiskit.providers.aer import StatevectorSimulator, AerSimulator\n",
    "from qiskit.algorithms import VQE\n",
    "from qiskit.algorithms.optimizers import COBYLA, SLSQP, SPSA\n",
    "from qiskit.opflow import CircuitSampler\n",
    "\n",
    "\n",
    "from qiskit.ignis.mitigation.measurement import CompleteMeasFitter # you will need to pip install qiskit-ignis\n",
    "from qiskit.ignis.mitigation.measurement import complete_meas_cal\n",
    "\n",
    "from scipy import sparse\n",
    "import scipy.sparse.linalg.eigen.arpack as arp\n",
    "from modules.utils import *"
   ]
  },
  {
   "cell_type": "code",
   "execution_count": 2,
   "id": "eea2ffa6",
   "metadata": {},
   "outputs": [
    {
     "name": "stdout",
     "output_type": "stream",
     "text": [
      "filename:  data/noisy_VQE_maxiter-500_Ising_L5_anti_-1_20 notebook name:  ibmq_antiferro-1D-load_bogota-optimize\n"
     ]
    }
   ],
   "source": [
    "anti = -1\n",
    "L = 5\n",
    "num_trash = 2\n",
    "\n",
    "name = \"ibmq_antiferro-1D-load_bogota-optimize\" # remove test at the end when running on a real device\n",
    "filename = \"data/noisy_VQE_maxiter-500_Ising_L5_anti_-1_20\" #\"data/noisy_VQE_maxiter-100_Ising_L5_anti_-1_20_recycle\"\n",
    "print(\"filename: \", filename, \"notebook name: \", name)\n",
    "\n",
    "# where to get the simulated thetas values from? needs to contain a thetas_mitigated array\n",
    "filename_simulated_thetas = 'data/ibmq_antiferro-1D-load_simu_thetas-loss-cost_run2.npz' "
   ]
  },
  {
   "cell_type": "code",
   "execution_count": 3,
   "id": "5fb3fddb",
   "metadata": {},
   "outputs": [],
   "source": [
    "load = False\n",
    "recompute = True # whether or not to recompute Magnetization, makes sense on device"
   ]
  },
  {
   "cell_type": "code",
   "execution_count": 4,
   "id": "ac9e0637",
   "metadata": {},
   "outputs": [],
   "source": [
    "IBMQ.load_account() # this then automatically loads your saved account\n",
    "provider = IBMQ.get_provider(hub='ibm-q-research')"
   ]
  },
  {
   "cell_type": "code",
   "execution_count": 5,
   "id": "f9a05fb7",
   "metadata": {},
   "outputs": [
    {
     "name": "stdout",
     "output_type": "stream",
     "text": [
      "ibmq_rome\n"
     ]
    }
   ],
   "source": [
    "device = provider.backend.ibmq_rome\n",
    "print(device)"
   ]
  },
  {
   "cell_type": "code",
   "execution_count": 6,
   "id": "b0bf5673",
   "metadata": {},
   "outputs": [],
   "source": [
    "backend = device\n",
    "#backend = qiskit.providers.aer.AerSimulator.from_backend(device)"
   ]
  },
  {
   "cell_type": "code",
   "execution_count": 7,
   "id": "17c01731",
   "metadata": {},
   "outputs": [],
   "source": [
    "coupling_map = device.configuration().coupling_map\n",
    "noise_model = qiskit.providers.aer.noise.NoiseModel.from_backend(device)\n",
    "basis_gates = noise_model.basis_gates"
   ]
  },
  {
   "cell_type": "code",
   "execution_count": 8,
   "id": "3c7e3f9d",
   "metadata": {},
   "outputs": [],
   "source": [
    "#aqua_globals.random_seed = seed\n",
    "qi = qiskit.utils.QuantumInstance(backend=backend, # , seed_simulator=seed, seed_transpiler=seed\n",
    "                         coupling_map=coupling_map, #, noise_model=noise_model,\n",
    "                         measurement_error_mitigation_cls= CompleteMeasFitter, \n",
    "                         cals_matrix_refresh_period=30  #How often to refresh the calibration matrix in measurement mitigation. in minutes\n",
    "                                 )"
   ]
  },
  {
   "cell_type": "code",
   "execution_count": 9,
   "id": "9702bfa5",
   "metadata": {},
   "outputs": [],
   "source": [
    "# Very important, at the moment poorly coded so it needs to come back to this instance all the time\n",
    "ansatz = qiskit.circuit.library.TwoLocal(L,rotation_blocks=\"ry\", entanglement_blocks='cz', entanglement=\"sca\", reps=1)\n",
    "#ansatz.draw(\"mpl\")\n"
   ]
  },
  {
   "cell_type": "code",
   "execution_count": 10,
   "id": "0b60900b",
   "metadata": {},
   "outputs": [],
   "source": [
    "ansatz = qiskit.transpile(ansatz, backend)\n",
    "#ansatz.draw(\"mpl\")"
   ]
  },
  {
   "cell_type": "markdown",
   "id": "91b787fe",
   "metadata": {},
   "source": [
    "## VQE"
   ]
  },
  {
   "cell_type": "markdown",
   "id": "ebf94437",
   "metadata": {},
   "source": [
    "## Magnetization"
   ]
  },
  {
   "cell_type": "code",
   "execution_count": 11,
   "id": "77629a62",
   "metadata": {},
   "outputs": [],
   "source": [
    "L = 5\n",
    "num_trash = 2\n",
    "anti = -1\n",
    "\n",
    "VQE_params = np.load(filename + \".npz\", allow_pickle=True)\n",
    "pick = np.arange(0,len(VQE_params['gx_list']),3)\n",
    "gx_list = VQE_params['gx_list'][pick]\n",
    "gz_list = VQE_params['gz_list'][pick]\n",
    "opt_params = VQE_params['opt_params'][pick]\n",
    "Qmags = VQE_params[\"Qmag\"][pick]\n",
    "Qen = VQE_params[\"Qen\"][pick]\n",
    "Sen = VQE_params[\"Sen\"][pick]\n",
    "Smags = VQE_params[\"Smag\"][pick]\n",
    "\n",
    "gx_vals = np.unique(gx_list)\n",
    "gz_vals = np.unique(gz_list)"
   ]
  },
  {
   "cell_type": "code",
   "execution_count": null,
   "id": "97867164",
   "metadata": {},
   "outputs": [],
   "source": []
  },
  {
   "cell_type": "code",
   "execution_count": 12,
   "id": "2ea6a35b",
   "metadata": {},
   "outputs": [],
   "source": [
    "if load:\n",
    "    temp = np.load(\"data/\" + name + \"executed_mags-Es.npz\",allow_pickle=True)\n",
    "    Qmags = temp[\"Qmags\"]\n",
    "    Qen = temp[\"Qen\"]\n",
    "    Sen = temp[\"Sen\"]\n",
    "    Smags = temp[\"Smags\"]"
   ]
  },
  {
   "cell_type": "code",
   "execution_count": 14,
   "id": "c9d9ef1e",
   "metadata": {},
   "outputs": [
    {
     "name": "stderr",
     "output_type": "stream",
     "text": [
      "/home/kkottmann/anaconda3/envs/qiskit_env/lib/python3.9/site-packages/qiskit/utils/run_circuits.py:382: DeprecationWarning: Passing a Qobj to Backend.run is deprecated and will be removed in a future release. Please pass in circuits or pulse schedules instead.\n",
      "  job = backend.run(qobj, **backend_options, **noise_config)\n"
     ]
    },
    {
     "name": "stdout",
     "output_type": "stream",
     "text": [
      "1 / 7, gx = 0.01, gz = 0.00, time : 0:11:33.858661\n",
      "2 / 7, gx = 0.04, gz = 0.00, time : 0:12:45.922142\n",
      "3 / 7, gx = 0.18, gz = 0.00, time : 0:25:00.566525\n",
      "4 / 7, gx = 0.78, gz = 0.00, time : 0:00:48.637380\n",
      "5 / 7, gx = 3.36, gz = 0.00, time : 0:01:08.997483\n",
      "6 / 7, gx = 14.38, gz = 0.00, time : 0:01:21.406575\n",
      "7 / 7, gx = 61.58, gz = 0.00, time : 0:01:14.933926\n"
     ]
    }
   ],
   "source": [
    "verbose=1\n",
    "if recompute:\n",
    "    mag = QMag(L,anti) #magnetization operator (Qiskit)\n",
    "    Smag = Mag(L,anti) #magnetization operator (numpy)\n",
    "\n",
    "    Qen_executed=np.zeros(len(opt_params), dtype=\"complex\")\n",
    "    Qmags_executed=np.zeros(len(opt_params), dtype=\"complex\")\n",
    "    for j in range(len(opt_params)):\n",
    "        t0 = datetime.datetime.now()\n",
    "        gx = gx_list[j]\n",
    "        gz = gz_list[j]\n",
    "        H = QHIsing(L, anti, np.float32(gx), np.float32(gz)) # build Hamiltonian Op\n",
    "        state = ansatz.assign_parameters(opt_params[j])\n",
    "        meas_outcome = ~StateFn(mag) @ StateFn(state)\n",
    "\n",
    "        Qmags_executed[j] = CircuitSampler(qi).convert(meas_outcome).eval() #https://quantumcomputing.stackexchange.com/questions/12080/evaluating-expectation-values-of-operators-in-qiskit\n",
    "        #e_outcome = ~StateFn(H) @ StateFn(state)\n",
    "        #Qen_executed[j] = CircuitSampler(qi).convert(e_outcome).eval()\n",
    "        \n",
    "        \n",
    "        init_state, E, ham = ising_groundstate(L, anti, np.float64(gx), np.float64(gz))\n",
    "        Sen[j] = E\n",
    "        Smags[j] = init_state.T.conj()@Smag@init_state #Magnetization with Numpy results\n",
    "        print(f\"{j+1} / {len(opt_params)}, gx = {gx:.2f}, gz = {gz:.2f}, time : {(datetime.datetime.now() - t0)}\")\n",
    "    np.savez(\"data/\" + name + \"executed_mags-Es.npz\",Qmags=Qmags_executed, Qen=Qen_executed, Sen=Sen, Smags=Smags) # for large parameter space takes quite a while because of the exact diagonalization"
   ]
  },
  {
   "cell_type": "code",
   "execution_count": 16,
   "id": "eb26d9ec",
   "metadata": {},
   "outputs": [],
   "source": [
    "temp = np.load(\"data/ibmq_antiferro-1D-load_bogota-optimize-20pointsexecuted_mags-Es.npz\",allow_pickle=True)\n",
    "Qmags_executed_bogota = temp[\"Qmags\"]"
   ]
  },
  {
   "cell_type": "code",
   "execution_count": 23,
   "id": "47f187d5",
   "metadata": {},
   "outputs": [
    {
     "name": "stderr",
     "output_type": "stream",
     "text": [
      "/home/kkottmann/anaconda3/envs/qiskit_env/lib/python3.9/site-packages/numpy/core/_asarray.py:102: ComplexWarning: Casting complex values to real discards the imaginary part\n",
      "  return array(a, dtype, copy=False, order=order)\n",
      "/home/kkottmann/anaconda3/envs/qiskit_env/lib/python3.9/site-packages/numpy/core/_asarray.py:102: ComplexWarning: Casting complex values to real discards the imaginary part\n",
      "  return array(a, dtype, copy=False, order=order)\n",
      "/home/kkottmann/anaconda3/envs/qiskit_env/lib/python3.9/site-packages/numpy/core/_asarray.py:102: ComplexWarning: Casting complex values to real discards the imaginary part\n",
      "  return array(a, dtype, copy=False, order=order)\n"
     ]
    },
    {
     "data": {
      "image/png": "[encoded data removed]",
      "text/plain": [
       "<Figure size 432x360 with 1 Axes>"
      ]
     },
     "metadata": {
      "needs_background": "light"
     },
     "output_type": "display_data"
    }
   ],
   "source": [
    "fig, ax = plt.subplots(ncols=1, figsize=(6,5))\n",
    "ax.plot(gx_list, Qmags,\"x--\", label=\"noisy rome simu\")\n",
    "ax.plot(gx_list, Smags,\"x--\", label=\"ED\")\n",
    "ax.plot(gx_list, Qmags_executed_bogota[::3],\"x--\", label=\"ibmq_bogota\")\n",
    "\n",
    "if recompute:\n",
    "    ax.plot(gx_list, Qmags_executed,\"x--\", label=\"ibmq_rome\")\n",
    "ax.legend()\n",
    "ax.set_xscale(\"log\")\n",
    "plt.tight_layout()\n",
    "plt.savefig(\"plots/temp_compare-bogota-rome_vqe-vals-from-noisy-rome-simulation.png\")"
   ]
  },
  {
   "cell_type": "code",
   "execution_count": 33,
   "id": "ace83771",
   "metadata": {},
   "outputs": [],
   "source": [
    "##############################################################################\n",
    "### II - Training  ###########################################################\n",
    "##############################################################################"
   ]
  },
  {
   "cell_type": "code",
   "execution_count": 34,
   "id": "ac1d0534",
   "metadata": {},
   "outputs": [],
   "source": [
    "# linear entangler (as in scales linearly with trash qubits)\n",
    "def get_entangler_map(L, num_trash, i_permut=1, nums_trash=[1,2]):\n",
    "    result = []\n",
    "\n",
    "    nums_compressed = list(range(L))\n",
    "    for trashqubit in nums_trash:\n",
    "        nums_compressed.remove(trashqubit)\n",
    "    if nums_trash == None: #old way  \n",
    "        nums_compressed = list(range(L))[:L-num_trash]\n",
    "        nums_trash = list(range(L))[-num_trash:]\n",
    "    #print(nums, nums_compressed, nums_trash)\n",
    "    # combine all trash qubits with themselves\n",
    "    for trash_q in nums_trash[:-1]:\n",
    "        result.append((trash_q+1,trash_q))\n",
    "    # combine each of the trash qubits with every n-th\n",
    "    repeated = list(nums_trash) * (L-num_trash) # repeat the list of trash indices cyclicly\n",
    "    for i in range(L-num_trash):\n",
    "        result.append((repeated[i_permut + i], nums_compressed[i]))\n",
    "    return result\n",
    "\n",
    "def QAE_Ansatz(thetas, L, num_trash, insert_barriers=False, parametrized_gate = \"ry\", entangling_gate = \"cz\", nums_trash = [1,2]):\n",
    "    entanglement = [get_entangler_map(L,num_trash,i_permut) for i_permut in range(num_trash)]\n",
    "    if nums_trash == None:\n",
    "        nums_trash = list(range(L))[-num_trash:]\n",
    "    circ = qiskit.circuit.library.TwoLocal(L, \n",
    "                                           parametrized_gate,\n",
    "                                           entangling_gate,\n",
    "                                           entanglement,\n",
    "                                           reps=num_trash,\n",
    "                                           insert_barriers=insert_barriers,\n",
    "                                           skip_final_rotation_layer=True\n",
    "                                          ).assign_parameters(thetas[:-num_trash])\n",
    "    if insert_barriers: circ.barrier()\n",
    "\n",
    "    for i in nums_trash:\n",
    "        circ.ry(thetas[i], i)\n",
    "        #circ.ry(circuit.Parameter(f'θ{i}'), L-i-1)\n",
    "    return circ\n",
    "\n",
    "def prepare_circuit(thetas, L=6, num_trash=2, init_state=None, measurement=True, vqe=True):\n",
    "    qreg = QuantumRegister(L, 'q')\n",
    "    creg = ClassicalRegister(num_trash, 'c')\n",
    "    circ = QuantumCircuit(qreg, creg)\n",
    "    circ += QAE_Ansatz(thetas, L, num_trash, insert_barriers=False)#.assign_parameters(thetas) # difference to bind?\n",
    "    if measurement:\n",
    "        for i in range(num_trash):\n",
    "            circ.measure(qreg[L-i-1], creg[i])\n",
    "    if init_state is not None:\n",
    "        if vqe:\n",
    "            circ = ansatz.assign_parameters(init_state) + circ # needs to have ansatz defined somewhere in the script\n",
    "        else:\n",
    "            circ.initialize(init_state, qreg)\n",
    "    return circ"
   ]
  },
  {
   "cell_type": "code",
   "execution_count": 35,
   "id": "81ce29a4",
   "metadata": {},
   "outputs": [],
   "source": [
    "def feature_encoding(thetas, x):\n",
    "    \"\"\" thetas: parameters to be optimized, x: Ising model parameter (eg. field) \"\"\"\n",
    "    new_thetas = []\n",
    "    thetas = thetas.reshape((-1,2))\n",
    "    for theta in thetas:\n",
    "        new_thetas.append(theta[0] * x + theta[1])\n",
    "    return new_thetas"
   ]
  },
  {
   "cell_type": "markdown",
   "id": "4e896484",
   "metadata": {},
   "source": [
    "### Execute circuit\n",
    "Circuit is executed on simulator and measurement outcomes on the trash qubits are stored"
   ]
  },
  {
   "cell_type": "code",
   "execution_count": 36,
   "id": "bce613ce",
   "metadata": {},
   "outputs": [],
   "source": [
    "def calibrate_circuit(L, num_trash,shots=1000):\n",
    "    qreg = QuantumRegister(L, 'q')\n",
    "    # obtain calibration matrix\n",
    "    qubit_list = [L-i-1 for i in range(num_trash)] # only need to calibrate the trash qubits\n",
    "    circlabel = f'mcal_{datetime.datetime.now()}'\n",
    "    meas_calibs, state_labels = complete_meas_cal(qubit_list=qubit_list, qr=qreg, circlabel=circlabel)\n",
    "    cal_job = backend.run(meas_calibs, shots=shots) #, noise_model=noise_model)\n",
    "    cal_results = cal_job.result()\n",
    "    meas_fitter = CompleteMeasFitter(cal_results, state_labels, circlabel=circlabel)\n",
    "    print(circlabel, meas_fitter.cal_matrix)\n",
    "    return meas_fitter"
   ]
  },
  {
   "cell_type": "code",
   "execution_count": 37,
   "id": "740b128a",
   "metadata": {},
   "outputs": [],
   "source": [
    "def run_circuit(thetas, L, num_trash, init_state, vqe=True, shots=100, meas_fitter = None):\n",
    "    circ = prepare_circuit(thetas, L, num_trash, init_state, vqe=vqe)\n",
    "    tcirc = qiskit.transpile(circ, backend)\n",
    "    # Execute the circuit \n",
    "    job_sim = backend.run(tcirc, shots=shots) # , seed_simulator=123, seed_transpiler=234 fix seed to make it reproducible\n",
    "    result = job_sim.result()\n",
    "    # Results without mitigation\n",
    "    counts = result.get_counts()\n",
    "    if meas_fitter != None:\n",
    "        # Get the filter object\n",
    "        meas_filter = meas_fitter.filter\n",
    "\n",
    "        # Results with mitigation\n",
    "        mitigated_results = meas_filter.apply(result)\n",
    "        counts = mitigated_results.get_counts(0)\n",
    "    return counts"
   ]
  },
  {
   "cell_type": "code",
   "execution_count": 38,
   "id": "b47ab306",
   "metadata": {},
   "outputs": [
    {
     "name": "stdout",
     "output_type": "stream",
     "text": [
      "mcal_2021-06-01 21:16:53.664090 [[0.98  0.025 0.033 0.001]\n",
      " [0.015 0.969 0.    0.028]\n",
      " [0.005 0.    0.95  0.032]\n",
      " [0.    0.006 0.017 0.939]]\n"
     ]
    }
   ],
   "source": [
    "meas_fitter = calibrate_circuit(L, num_trash)"
   ]
  },
  {
   "cell_type": "markdown",
   "id": "8093ecd7",
   "metadata": {},
   "source": [
    "### Optimize circuit\n",
    "Define cost function (averaged hamming distance of measurement outcomes) and minimze it using either scipy or qiskit optimizer modules (the latter is also based on scipy though)."
   ]
  },
  {
   "cell_type": "code",
   "execution_count": 39,
   "id": "b252bf4d",
   "metadata": {},
   "outputs": [],
   "source": [
    "phis = opt_params"
   ]
  },
  {
   "cell_type": "code",
   "execution_count": 40,
   "id": "3fb87e17",
   "metadata": {},
   "outputs": [],
   "source": [
    "# translate to Rikes naming\n",
    "\n",
    "gxs = gx_list\n",
    "gzs = gz_list"
   ]
  },
  {
   "cell_type": "code",
   "execution_count": 41,
   "id": "9c29dc05",
   "metadata": {},
   "outputs": [],
   "source": [
    "\n",
    "\n",
    "def cost_function_single(thetas, L, num_trash, p, shots=1000, vqe=True, param_encoding=False, x=0, meas_fitter=None):\n",
    "    \"\"\" Optimizes circuit \"\"\"\n",
    "    if vqe:\n",
    "        init_state = phis[p]\n",
    "    else:\n",
    "        J, gx, gz = p\n",
    "        init_state, _ = ising_groundstate(L, J, gx, gz)\n",
    "    if param_encoding: thetas = feature_encoding(thetas, x) \n",
    "    out = run_circuit(thetas, L, num_trash, init_state, vqe=vqe, shots=shots, meas_fitter=meas_fitter)\n",
    "    cost = out.get('11', 0)*2 + out.get('01', 0) + out.get('10', 0)\n",
    "    return cost/shots\n",
    "\n",
    "def cost_function(thetas, L, num_trash, ising_params, shots=1000, vqe=True, param_encoding=False, x=0, meas_fitter=None):\n",
    "    \"\"\" Optimizes circuit \"\"\"\n",
    "    cost = 0.\n",
    "    n_samples = len(ising_params)\n",
    "    for i, p in enumerate(ising_params):\n",
    "        if param_encoding: \n",
    "            cost += cost_function_single(thetas, L, num_trash, p, shots, vqe, param_encoding, x[i], meas_fitter=meas_fitter)\n",
    "        else:\n",
    "            cost += cost_function_single(thetas, L, num_trash, p, shots, vqe, param_encoding, meas_fitter=meas_fitter)\n",
    "    return cost/n_samples\n",
    "\n",
    "def optimize(ising_params, L=6, num_trash=2, thetas=None, shots=1000, max_iter=400, vqe=True, param_encoding=False, x=0, pick_optimizer = None,\n",
    "            meas_fitter=None):\n",
    "    if thetas is None:\n",
    "        n_params = (2*L+2)*2 if param_encoding else (2*L+2)\n",
    "        thetas = np.random.uniform(0, 2*np.pi, n_params) # initial parameters without feature encoding\n",
    "        \n",
    "    print(\"Initial cost: {:.3f}\".format(cost_function(thetas, L, num_trash, ising_params, shots, vqe, param_encoding, x)))\n",
    "    \n",
    "    counts, values, accepted = [], [], []\n",
    "    def store_intermediate_result(eval_count, parameters, mean, std, ac):\n",
    "        # counts.append(eval_count)\n",
    "        values.append(mean)\n",
    "        accepted.append(ac)\n",
    "\n",
    "    # Initialize optimizer\n",
    "    if pick_optimizer == \"cobyla\":\n",
    "        optimizer = COBYLA(maxiter=max_iter, tol=0.0001)\n",
    "    if pick_optimizer == \"adam\" or pick_optimizer == \"ADAM\":\n",
    "        optimizer = qiskit.algorithms.optimizers.ADAM(maxiter=max_iter)\n",
    "    # optimizer = L_BFGS_B(maxfun=300, maxiter=max_iter)#, factr=10, iprint=- 1, epsilon=1e-08)\n",
    "    if pick_optimizer == \"spsa\" or pick_optimizer == None:\n",
    "        optimizer = SPSA(maxiter=max_iter,\n",
    "                         #blocking=True,\n",
    "                         callback=store_intermediate_result,\n",
    "                         learning_rate=0.3,\n",
    "                         perturbation=0.1\n",
    "                         ) # recommended from qiskit (first iteraction takes quite long)\n",
    "                           # to reduce time figure out optimal learning rate and perturbation in advance\n",
    "\n",
    "    start_time = time.time()\n",
    "    ret = optimizer.optimize(\n",
    "                            num_vars=len(thetas),\n",
    "                            objective_function=(lambda thetas: cost_function(thetas, L, num_trash, ising_params, shots, vqe, param_encoding, x, meas_fitter=meas_fitter)),\n",
    "                            initial_point=thetas\n",
    "                            )\n",
    "    print(\"Time: {:.5f} sec\".format(time.time()-start_time))\n",
    "    print(ret)\n",
    "    return ret[0], values, accepted\n",
    "\n"
   ]
  },
  {
   "cell_type": "code",
   "execution_count": 42,
   "id": "2161080a",
   "metadata": {},
   "outputs": [],
   "source": [
    "def run_inference(thetas, shots=1000, L=5, meas_fitter=None):\n",
    "    points = 50\n",
    "    J = -1.0\n",
    "    x,y = np.meshgrid(gx_vals, gz_vals)\n",
    "    cost = np.zeros((len(gx_vals) * len(gz_vals)))\n",
    "    Smags = np.zeros((len(gx_vals) * len(gz_vals)))\n",
    "    shots = 1000\n",
    "    for i,p in enumerate(list(zip(gxs, gzs))):\n",
    "        t0 = datetime.datetime.now()\n",
    "        cost[i] = cost_function_single(thetas, L, num_trash, i, shots=shots, meas_fitter=meas_fitter)\n",
    "        if not i%verbose:\n",
    "            print(f\"{i+1} / {len(opt_params)}, gx = {gx:.2f}, gz = {gz:.2f}, time : {verbose*(datetime.datetime.now() - t0)}\")\n",
    "\n",
    "    cost = cost.reshape((len(gx_vals), len(gz_vals)))\n",
    "    return cost"
   ]
  },
  {
   "cell_type": "markdown",
   "id": "70556953",
   "metadata": {},
   "source": [
    "## Run 2"
   ]
  },
  {
   "cell_type": "code",
   "execution_count": 43,
   "id": "9e87679c",
   "metadata": {},
   "outputs": [],
   "source": [
    "phys_params = [-1]"
   ]
  },
  {
   "cell_type": "code",
   "execution_count": 44,
   "id": "98d7e8c3",
   "metadata": {},
   "outputs": [],
   "source": [
    "thetas_guess = np.load(filename_simulated_thetas, allow_pickle=True)[\"thetas_mitigated\"]"
   ]
  },
  {
   "cell_type": "code",
   "execution_count": 45,
   "id": "24bae40b",
   "metadata": {},
   "outputs": [
    {
     "name": "stderr",
     "output_type": "stream",
     "text": [
      "<ipython-input-34-4e5192582d56>:44: DeprecationWarning: The QuantumCircuit.__iadd__() method is being deprecated. Use the compose() (potentially with the inplace=True argument) and tensor() methods which are more flexible w.r.t circuit register compatibility.\n",
      "  circ += QAE_Ansatz(thetas, L, num_trash, insert_barriers=False)#.assign_parameters(thetas) # difference to bind?\n",
      "/home/kkottmann/anaconda3/envs/qiskit_env/lib/python3.9/site-packages/qiskit/circuit/quantumcircuit.py:876: DeprecationWarning: The QuantumCircuit.extend() method is being deprecated. Use the compose() (potentially with the inplace=True argument) and tensor() methods which are more flexible w.r.t circuit register compatibility.\n",
      "  return self.extend(rhs)\n",
      "<ipython-input-34-4e5192582d56>:50: DeprecationWarning: The QuantumCircuit.__add__() method is being deprecated.Use the compose() method which is more flexible w.r.t circuit register compatibility.\n",
      "  circ = ansatz.assign_parameters(init_state) + circ # needs to have ansatz defined somewhere in the script\n",
      "/home/kkottmann/anaconda3/envs/qiskit_env/lib/python3.9/site-packages/qiskit/circuit/quantumcircuit.py:869: DeprecationWarning: The QuantumCircuit.combine() method is being deprecated. Use the compose() method which is more flexible w.r.t circuit register compatibility.\n",
      "  return self.combine(rhs)\n"
     ]
    },
    {
     "name": "stdout",
     "output_type": "stream",
     "text": [
      "Initial cost: 0.404\n",
      "Time: 2646.79649 sec\n",
      "(array([4.4285152 , 3.70969888, 4.62265823, 5.51401254, 1.60898278,\n",
      "       2.17436194, 5.37122905, 5.57481532, 5.41627707, 3.01714864,\n",
      "       3.07156721, 3.04390158]), 0.2631601590369182, 90)\n"
     ]
    },
    {
     "data": {
      "text/plain": [
       "[<matplotlib.lines.Line2D at 0x7f4900c9dc70>]"
      ]
     },
     "execution_count": 45,
     "metadata": {},
     "output_type": "execute_result"
    },
    {
     "data": {
      "image/png": "[encoded data removed]",
      "text/plain": [
       "<Figure size 432x288 with 1 Axes>"
      ]
     },
     "metadata": {
      "needs_background": "light"
     },
     "output_type": "display_data"
    }
   ],
   "source": [
    "# Training\n",
    "thetas_opt_mitigated, loss, accepted = optimize(phys_params, thetas = thetas_guess, max_iter=30, L=5,meas_fitter=meas_fitter) #, pick_optimizer=\"adam\")\n",
    "plt.plot(loss)"
   ]
  },
  {
   "cell_type": "code",
   "execution_count": 46,
   "id": "6777f2d9",
   "metadata": {},
   "outputs": [
    {
     "name": "stdout",
     "output_type": "stream",
     "text": [
      "1 / 7, gx = 0.01, gz = 0.00, time : 0:00:24.907091\n",
      "2 / 7, gx = 0.04, gz = 0.00, time : 0:00:25.047941\n",
      "3 / 7, gx = 0.18, gz = 0.00, time : 0:00:24.780153\n",
      "4 / 7, gx = 0.78, gz = 0.00, time : 0:00:25.497984\n",
      "5 / 7, gx = 3.36, gz = 0.00, time : 0:00:35.107116\n",
      "6 / 7, gx = 14.38, gz = 0.00, time : 0:00:25.408261\n",
      "7 / 7, gx = 61.58, gz = 0.00, time : 0:00:25.399309\n"
     ]
    }
   ],
   "source": [
    "# Inference\n",
    "cost_mitigated = np.zeros((len(gx_vals)))\n",
    "shots = 1000\n",
    "for i,p in enumerate(list(zip(gxs, gzs))):\n",
    "    t0 = datetime.datetime.now()\n",
    "    cost_mitigated[i] = cost_function_single(thetas_opt_mitigated, L, num_trash, i, shots=shots, meas_fitter=meas_fitter) # np.random.uniform(0, 2*np.pi, 2*L+2) random parameters to check if training \"does\" something - result was: with random paremters just get noise, so yes, it \"does\" something\n",
    "    if not i%verbose:\n",
    "        print(f\"{i+1} / {len(opt_params)}, gx = {p[0]:.2f}, gz = {p[1]:.2f}, time : {verbose*(datetime.datetime.now() - t0)}\")"
   ]
  },
  {
   "cell_type": "code",
   "execution_count": 49,
   "id": "687f5d28",
   "metadata": {},
   "outputs": [
    {
     "data": {
      "text/plain": [
       "'data/ibmq_antiferro-1D-load_bogota-optimize_thetas-loss-cost_run2'"
      ]
     },
     "execution_count": 49,
     "metadata": {},
     "output_type": "execute_result"
    }
   ],
   "source": [
    "\"data/\" + name + \"_thetas-loss-cost_run2\""
   ]
  },
  {
   "cell_type": "code",
   "execution_count": 47,
   "id": "63607e97",
   "metadata": {},
   "outputs": [],
   "source": [
    "np.savez(\"data/\" + name + \"_thetas-loss-cost_run2\",\n",
    "         cost_mitigated=cost_mitigated, thetas_mitigated=thetas_opt_mitigated,\n",
    "        )"
   ]
  },
  {
   "cell_type": "code",
   "execution_count": 48,
   "id": "4e526e74",
   "metadata": {},
   "outputs": [
    {
     "data": {
      "image/png": "[encoded data removed]",
      "text/plain": [
       "<Figure size 432x360 with 1 Axes>"
      ]
     },
     "metadata": {
      "needs_background": "light"
     },
     "output_type": "display_data"
    }
   ],
   "source": [
    "fig, ax = plt.subplots(ncols=1,figsize=(6,5))\n",
    "ax.set_title(\"Mitigated results\")\n",
    "cost = np.load(\"data/\" + name + \"_thetas-loss-cost_run2.npz\", allow_pickle=True)[\"cost_mitigated\"]\n",
    "ax.plot(gx_list, cost,\".:\", label=\"raw output\")\n",
    "ax.plot(gx_list, abs(Qmags),\"x--\", color=\"tab:orange\", label=\"Qmag\")\n",
    "ax.set_xscale(\"log\")\n",
    "for p in phys_params:\n",
    "    ax.plot(gx_list[p],cost[p],\"o\",alpha=0.3,color=\"magenta\")"
   ]
  },
  {
   "cell_type": "code",
   "execution_count": null,
   "id": "3b8bfe81",
   "metadata": {},
   "outputs": [],
   "source": []
  }
 ],
 "metadata": {
  "kernelspec": {
   "display_name": "Python 3",
   "language": "python",
   "name": "python3"
  },
  "language_info": {
   "codemirror_mode": {
    "name": "ipython",
    "version": 3
   },
   "file_extension": ".py",
   "mimetype": "text/x-python",
   "name": "python",
   "nbconvert_exporter": "python",
   "pygments_lexer": "ipython3",
   "version": "3.9.4"
  }
 },
 "nbformat": 4,
 "nbformat_minor": 5
}
