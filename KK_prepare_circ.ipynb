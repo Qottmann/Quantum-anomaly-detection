{
 "cells": [
  {
   "cell_type": "markdown",
   "id": "5666b144-ec7f-441e-abf6-8e22bf35fb28",
   "metadata": {},
   "source": [
    "# Build a varitaional quantum circuit in Qiskit\n",
    "as opposed to the pre-built algorithms like VQE"
   ]
  },
  {
   "cell_type": "code",
   "execution_count": 1,
   "id": "e5c81751",
   "metadata": {},
   "outputs": [],
   "source": [
    "import numpy as np\n",
    "from scipy.optimize import minimize\n",
    "import qiskit\n",
    "from qiskit import Aer, QuantumCircuit\n",
    "from qiskit.utils import QuantumInstance\n",
    "from matplotlib import pyplot as plt"
   ]
  },
  {
   "cell_type": "code",
   "execution_count": 2,
   "id": "1bb52d6c",
   "metadata": {},
   "outputs": [],
   "source": [
    "from qiskit_machine_learning.neural_networks import CircuitQNN"
   ]
  },
  {
   "cell_type": "code",
   "execution_count": 3,
   "id": "db420f03",
   "metadata": {},
   "outputs": [],
   "source": [
    "L = 6\n",
    "thetas = np.random.uniform(0, 2*np.pi, 2*L+2) # initial parameters"
   ]
  },
  {
   "cell_type": "code",
   "execution_count": 4,
   "id": "907909a6",
   "metadata": {},
   "outputs": [],
   "source": [
    "def prepare_circuit(thetas):\n",
    "    qreg = qiskit.QuantumRegister(L, 'q')\n",
    "    creg = qiskit.ClassicalRegister(2, 'c')\n",
    "    circ = qiskit.QuantumCircuit(qreg, creg)\n",
    "    for i,t in enumerate(thetas[:L]):\n",
    "        circ.ry(t, i)\n",
    "    circ.cz(5,4)\n",
    "    circ.cz(5,3)\n",
    "    circ.cz(5,1)\n",
    "    circ.cz(4,2)\n",
    "    circ.cz(4,0)\n",
    "    for i,t in enumerate(thetas[L:2*L]):\n",
    "        circ.ry(t, i)\n",
    "    circ.cz(5,4)\n",
    "    circ.cz(5,2)\n",
    "    circ.cz(4,3)\n",
    "    circ.cz(5,0)\n",
    "    circ.cz(4,1)\n",
    "    circ.ry(thetas[2*L], 4)\n",
    "    circ.ry(thetas[2*L+1], 5)\n",
    "    circ.measure(qreg[4], creg[0])\n",
    "    circ.measure(qreg[5], creg[1])\n",
    "    return circ"
   ]
  },
  {
   "cell_type": "code",
   "execution_count": 5,
   "id": "3eb3ae3c",
   "metadata": {},
   "outputs": [
    {
     "data": {
      "image/png": "[encoded data removed]",
      "text/plain": [
       "<Figure size 929.397x445.48 with 1 Axes>"
      ]
     },
     "execution_count": 5,
     "metadata": {},
     "output_type": "execute_result"
    }
   ],
   "source": [
    "circ = prepare_circuit(thetas)\n",
    "circ.draw('mpl') # trash qubits are at the bottom"
   ]
  },
  {
   "cell_type": "code",
   "execution_count": 6,
   "id": "43a72136-b021-4c56-bdc8-f65dcac5a605",
   "metadata": {},
   "outputs": [],
   "source": [
    "num_trash = 2\n",
    "entangler_map2 = [(5,4),(5,2),(4,3),(5,0),(4,1)]\n",
    "entangler_map1 = [(5,4),(5,3),(5,1),(4,2),(4,0)]"
   ]
  },
  {
   "cell_type": "code",
   "execution_count": 63,
   "id": "64604cb6-1201-465a-bcfc-7cfadcb5cae8",
   "metadata": {},
   "outputs": [
    {
     "data": {
      "text/plain": [
       "array([0, 1, 2])"
      ]
     },
     "execution_count": 63,
     "metadata": {},
     "output_type": "execute_result"
    }
   ],
   "source": [
    "asd = np.arange(3)\n",
    "asd"
   ]
  },
  {
   "cell_type": "code",
   "execution_count": 64,
   "id": "50926098-f602-497e-a904-4fcdbd9d8a04",
   "metadata": {},
   "outputs": [],
   "source": [
    "from sympy.utilities.iterables import multiset_permutations"
   ]
  },
  {
   "cell_type": "code",
   "execution_count": 66,
   "id": "2c8ce69a-f007-4484-b794-d869a21535dd",
   "metadata": {},
   "outputs": [
    {
     "data": {
      "text/plain": [
       "[[0, 1, 2], [0, 2, 1], [1, 0, 2], [1, 2, 0], [2, 0, 1], [2, 1, 0]]"
      ]
     },
     "execution_count": 66,
     "metadata": {},
     "output_type": "execute_result"
    }
   ],
   "source": [
    "list(multiset_permutations(asd))"
   ]
  },
  {
   "cell_type": "code",
   "execution_count": 75,
   "id": "945d32aa-8d73-4bef-8dde-fdbe76ceab8c",
   "metadata": {},
   "outputs": [
    {
     "data": {
      "text/plain": [
       "[(0, 1), (1, 0)]"
      ]
     },
     "execution_count": 75,
     "metadata": {},
     "output_type": "execute_result"
    }
   ],
   "source": [
    "import itertools\n",
    "list(itertools.permutations([0,1]))"
   ]
  },
  {
   "cell_type": "code",
   "execution_count": 96,
   "id": "95f4a6d3-91c0-4545-b305-800d563a62ce",
   "metadata": {},
   "outputs": [],
   "source": [
    "def get_entangler_map(L, num_trash, i_permut=0):\n",
    "    result = []\n",
    "    nums = np.arange(L)\n",
    "    nums_compressed = nums.copy()[:L-num_trash]\n",
    "    nums_trash = nums.copy()[-num_trash:]\n",
    "    #print(nums, nums_compressed, nums_trash)\n",
    "    # combine all trash qubits with themselves\n",
    "    for trash_q in nums_trash[:-1]:\n",
    "        result.append((trash_q+1,trash_q))\n",
    "    # combine each of the trash qubits with every n-th\n",
    "    permutations = list(itertools.permutations(nums_trash))\n",
    "    for _,trash_q in enumerate(permutations[i_permut]):\n",
    "        for comp_q in nums_compressed[_%num_trash::num_trash]: # combine each trash_q with even or odd site\n",
    "            result.append((trash_q, comp_q))\n",
    "    return result"
   ]
  },
  {
   "cell_type": "code",
   "execution_count": 97,
   "id": "17e05ef0-081e-4590-b3ac-311eb3fa0e79",
   "metadata": {},
   "outputs": [
    {
     "data": {
      "text/plain": [
       "[(3, 2), (4, 3), (5, 4), (2, 0), (3, 1)]"
      ]
     },
     "execution_count": 97,
     "metadata": {},
     "output_type": "execute_result"
    }
   ],
   "source": [
    "get_entangler_map(6,4)"
   ]
  },
  {
   "cell_type": "code",
   "execution_count": 126,
   "id": "65a196b0-ea5f-4836-b1ed-61fc4fe59ee7",
   "metadata": {},
   "outputs": [],
   "source": [
    "entanglement = list([get_entangler_map(L,num_trash,i_permut) for i_permut in range(num_trash)])"
   ]
  },
  {
   "cell_type": "code",
   "execution_count": 127,
   "id": "5aa23137-41c1-4811-95c3-ab5bf1a175c3",
   "metadata": {},
   "outputs": [],
   "source": [
    "num_trash = 2\n",
    "entangler_map2 = [(5,4),(5,0),(5,2),(4,1),(4,3)]\n",
    "entangler_map1 = [(5,4),(4,0),(4,2),(5,1),(5,3)]"
   ]
  },
  {
   "cell_type": "code",
   "execution_count": 128,
   "id": "d9d84b11-7d18-4c46-87a1-a4ca48b4b16c",
   "metadata": {},
   "outputs": [
    {
     "data": {
      "text/plain": [
       "[[(5, 4), (4, 0), (4, 2), (5, 1), (5, 3)],\n",
       " [(5, 4), (5, 0), (5, 2), (4, 1), (4, 3)]]"
      ]
     },
     "execution_count": 128,
     "metadata": {},
     "output_type": "execute_result"
    }
   ],
   "source": [
    "[entangler_map1,entangler_map2]"
   ]
  },
  {
   "cell_type": "code",
   "execution_count": 129,
   "id": "a820b91e-4d9d-49e8-bb20-c98ad85f966f",
   "metadata": {},
   "outputs": [
    {
     "data": {
      "text/plain": [
       "[[(5, 4), (4, 0), (4, 2), (5, 1), (5, 3)],\n",
       " [(5, 4), (5, 0), (5, 2), (4, 1), (4, 3)]]"
      ]
     },
     "execution_count": 129,
     "metadata": {},
     "output_type": "execute_result"
    }
   ],
   "source": [
    "entanglement"
   ]
  },
  {
   "cell_type": "code",
   "execution_count": 130,
   "id": "55f8cf8a-2ad0-4086-8385-3ef0dadcadd3",
   "metadata": {},
   "outputs": [
    {
     "data": {
      "text/plain": [
       "True"
      ]
     },
     "execution_count": 130,
     "metadata": {},
     "output_type": "execute_result"
    }
   ],
   "source": [
    "[entangler_map1,entangler_map2] == entanglement"
   ]
  },
  {
   "cell_type": "code",
   "execution_count": 131,
   "id": "448172e1-2e74-42e2-a1eb-d86e18dfe840",
   "metadata": {},
   "outputs": [
    {
     "data": {
      "image/png": "[encoded data removed]",
      "text/plain": [
       "<Figure size 1110x385.28 with 1 Axes>"
      ]
     },
     "execution_count": 131,
     "metadata": {},
     "output_type": "execute_result"
    }
   ],
   "source": [
    "ansatz = qiskit.circuit.library.TwoLocal(L,\"ry\",\"cz\",[entangler_map1,entangler_map2],reps=2, insert_barriers=True)\n",
    "ansatz.draw(\"mpl\")"
   ]
  },
  {
   "cell_type": "code",
   "execution_count": 132,
   "id": "42f343c8-57f0-4eb3-898b-3bcae1ca14a3",
   "metadata": {},
   "outputs": [
    {
     "data": {
      "text/plain": [
       "False"
      ]
     },
     "execution_count": 132,
     "metadata": {},
     "output_type": "execute_result"
    }
   ],
   "source": [
    "all(isinstance(e3, (tuple, list)) for e in entanglement for e2 in e for e3 in e2)"
   ]
  },
  {
   "cell_type": "code",
   "execution_count": 133,
   "id": "fd10a95e-ba6b-47c7-9b68-597d4270696b",
   "metadata": {},
   "outputs": [],
   "source": [
    "entanglement2 = [entangler_map1,entangler_map2]"
   ]
  },
  {
   "cell_type": "code",
   "execution_count": 134,
   "id": "29cfcdcb-90e7-44cf-adcd-d0251bbf8dd3",
   "metadata": {},
   "outputs": [
    {
     "data": {
      "text/plain": [
       "False"
      ]
     },
     "execution_count": 134,
     "metadata": {},
     "output_type": "execute_result"
    }
   ],
   "source": [
    "all(isinstance(e3, (tuple, list)) for e in entanglement2 for e2 in e for e3 in e2)"
   ]
  },
  {
   "cell_type": "code",
   "execution_count": 135,
   "id": "18e5c097-0014-4d14-92b2-a0523feed847",
   "metadata": {},
   "outputs": [
    {
     "ename": "ValueError",
     "evalue": "Invalid value of entanglement: [[(5, 4), (4, 0), (4, 2), (5, 1), (5, 3)], [(5, 4), (5, 0), (5, 2), (4, 1), (4, 3)]]",
     "output_type": "error",
     "traceback": [
      "\u001b[0;31m---------------------------------------------------------------------------\u001b[0m",
      "\u001b[0;31mValueError\u001b[0m                                Traceback (most recent call last)",
      "\u001b[0;32m<ipython-input-135-cf763280f725>\u001b[0m in \u001b[0;36m<module>\u001b[0;34m\u001b[0m\n\u001b[1;32m      1\u001b[0m \u001b[0mansatz\u001b[0m \u001b[0;34m=\u001b[0m \u001b[0mqiskit\u001b[0m\u001b[0;34m.\u001b[0m\u001b[0mcircuit\u001b[0m\u001b[0;34m.\u001b[0m\u001b[0mlibrary\u001b[0m\u001b[0;34m.\u001b[0m\u001b[0mTwoLocal\u001b[0m\u001b[0;34m(\u001b[0m\u001b[0mL\u001b[0m\u001b[0;34m,\u001b[0m\u001b[0;34m\"ry\"\u001b[0m\u001b[0;34m,\u001b[0m\u001b[0;34m\"cz\"\u001b[0m\u001b[0;34m,\u001b[0m\u001b[0mentanglement\u001b[0m\u001b[0;34m,\u001b[0m\u001b[0mreps\u001b[0m\u001b[0;34m=\u001b[0m\u001b[0;36m2\u001b[0m\u001b[0;34m,\u001b[0m \u001b[0minsert_barriers\u001b[0m\u001b[0;34m=\u001b[0m\u001b[0;32mTrue\u001b[0m\u001b[0;34m)\u001b[0m\u001b[0;34m\u001b[0m\u001b[0;34m\u001b[0m\u001b[0m\n\u001b[0;32m----> 2\u001b[0;31m \u001b[0mansatz\u001b[0m\u001b[0;34m.\u001b[0m\u001b[0mdraw\u001b[0m\u001b[0;34m(\u001b[0m\u001b[0;34m\"mpl\"\u001b[0m\u001b[0;34m)\u001b[0m\u001b[0;34m\u001b[0m\u001b[0;34m\u001b[0m\u001b[0m\n\u001b[0m",
      "\u001b[0;32m~/anaconda3/envs/qiskit_env/lib/python3.9/site-packages/qiskit/circuit/quantumcircuit.py\u001b[0m in \u001b[0;36mdraw\u001b[0;34m(self, output, scale, filename, style, interactive, plot_barriers, reverse_bits, justify, vertical_compression, idle_wires, with_layout, fold, ax, initial_state, cregbundle)\u001b[0m\n\u001b[1;32m   1496\u001b[0m         \u001b[0;32mfrom\u001b[0m \u001b[0mqiskit\u001b[0m\u001b[0;34m.\u001b[0m\u001b[0mvisualization\u001b[0m \u001b[0;32mimport\u001b[0m \u001b[0mcircuit_drawer\u001b[0m\u001b[0;34m\u001b[0m\u001b[0;34m\u001b[0m\u001b[0m\n\u001b[1;32m   1497\u001b[0m \u001b[0;34m\u001b[0m\u001b[0m\n\u001b[0;32m-> 1498\u001b[0;31m         return circuit_drawer(self, scale=scale,\n\u001b[0m\u001b[1;32m   1499\u001b[0m                               \u001b[0mfilename\u001b[0m\u001b[0;34m=\u001b[0m\u001b[0mfilename\u001b[0m\u001b[0;34m,\u001b[0m \u001b[0mstyle\u001b[0m\u001b[0;34m=\u001b[0m\u001b[0mstyle\u001b[0m\u001b[0;34m,\u001b[0m\u001b[0;34m\u001b[0m\u001b[0;34m\u001b[0m\u001b[0m\n\u001b[1;32m   1500\u001b[0m                               \u001b[0moutput\u001b[0m\u001b[0;34m=\u001b[0m\u001b[0moutput\u001b[0m\u001b[0;34m,\u001b[0m\u001b[0;34m\u001b[0m\u001b[0;34m\u001b[0m\u001b[0m\n",
      "\u001b[0;32m~/anaconda3/envs/qiskit_env/lib/python3.9/site-packages/qiskit/visualization/circuit_visualization.py\u001b[0m in \u001b[0;36mcircuit_drawer\u001b[0;34m(circuit, scale, filename, style, output, interactive, plot_barriers, reverse_bits, justify, vertical_compression, idle_wires, with_layout, fold, ax, initial_state, cregbundle)\u001b[0m\n\u001b[1;32m    221\u001b[0m                                       cregbundle=cregbundle)\n\u001b[1;32m    222\u001b[0m     \u001b[0;32melif\u001b[0m \u001b[0moutput\u001b[0m \u001b[0;34m==\u001b[0m \u001b[0;34m'mpl'\u001b[0m\u001b[0;34m:\u001b[0m\u001b[0;34m\u001b[0m\u001b[0;34m\u001b[0m\u001b[0m\n\u001b[0;32m--> 223\u001b[0;31m         image = _matplotlib_circuit_drawer(circuit, scale=scale,\n\u001b[0m\u001b[1;32m    224\u001b[0m                                            \u001b[0mfilename\u001b[0m\u001b[0;34m=\u001b[0m\u001b[0mfilename\u001b[0m\u001b[0;34m,\u001b[0m \u001b[0mstyle\u001b[0m\u001b[0;34m=\u001b[0m\u001b[0mstyle\u001b[0m\u001b[0;34m,\u001b[0m\u001b[0;34m\u001b[0m\u001b[0;34m\u001b[0m\u001b[0m\n\u001b[1;32m    225\u001b[0m                                            \u001b[0mplot_barriers\u001b[0m\u001b[0;34m=\u001b[0m\u001b[0mplot_barriers\u001b[0m\u001b[0;34m,\u001b[0m\u001b[0;34m\u001b[0m\u001b[0;34m\u001b[0m\u001b[0m\n",
      "\u001b[0;32m~/anaconda3/envs/qiskit_env/lib/python3.9/site-packages/qiskit/visualization/circuit_visualization.py\u001b[0m in \u001b[0;36m_matplotlib_circuit_drawer\u001b[0;34m(circuit, scale, filename, style, plot_barriers, reverse_bits, justify, idle_wires, with_layout, fold, ax, initial_state, cregbundle)\u001b[0m\n\u001b[1;32m    502\u001b[0m     \"\"\"\n\u001b[1;32m    503\u001b[0m \u001b[0;34m\u001b[0m\u001b[0m\n\u001b[0;32m--> 504\u001b[0;31m     qubits, clbits, ops = utils._get_layered_instructions(circuit,\n\u001b[0m\u001b[1;32m    505\u001b[0m                                                           \u001b[0mreverse_bits\u001b[0m\u001b[0;34m=\u001b[0m\u001b[0mreverse_bits\u001b[0m\u001b[0;34m,\u001b[0m\u001b[0;34m\u001b[0m\u001b[0;34m\u001b[0m\u001b[0m\n\u001b[1;32m    506\u001b[0m                                                           \u001b[0mjustify\u001b[0m\u001b[0;34m=\u001b[0m\u001b[0mjustify\u001b[0m\u001b[0;34m,\u001b[0m\u001b[0;34m\u001b[0m\u001b[0;34m\u001b[0m\u001b[0m\n",
      "\u001b[0;32m~/anaconda3/envs/qiskit_env/lib/python3.9/site-packages/qiskit/visualization/utils.py\u001b[0m in \u001b[0;36m_get_layered_instructions\u001b[0;34m(circuit, reverse_bits, justify, idle_wires)\u001b[0m\n\u001b[1;32m    100\u001b[0m     \u001b[0mjustify\u001b[0m \u001b[0;34m=\u001b[0m \u001b[0mjustify\u001b[0m \u001b[0;32mif\u001b[0m \u001b[0mjustify\u001b[0m \u001b[0;32min\u001b[0m \u001b[0;34m(\u001b[0m\u001b[0;34m'right'\u001b[0m\u001b[0;34m,\u001b[0m \u001b[0;34m'none'\u001b[0m\u001b[0;34m)\u001b[0m \u001b[0;32melse\u001b[0m \u001b[0;34m'left'\u001b[0m\u001b[0;34m\u001b[0m\u001b[0;34m\u001b[0m\u001b[0m\n\u001b[1;32m    101\u001b[0m \u001b[0;34m\u001b[0m\u001b[0m\n\u001b[0;32m--> 102\u001b[0;31m     \u001b[0mdag\u001b[0m \u001b[0;34m=\u001b[0m \u001b[0mcircuit_to_dag\u001b[0m\u001b[0;34m(\u001b[0m\u001b[0mcircuit\u001b[0m\u001b[0;34m)\u001b[0m\u001b[0;34m\u001b[0m\u001b[0;34m\u001b[0m\u001b[0m\n\u001b[0m\u001b[1;32m    103\u001b[0m \u001b[0;34m\u001b[0m\u001b[0m\n\u001b[1;32m    104\u001b[0m     \u001b[0mops\u001b[0m \u001b[0;34m=\u001b[0m \u001b[0;34m[\u001b[0m\u001b[0;34m]\u001b[0m\u001b[0;34m\u001b[0m\u001b[0;34m\u001b[0m\u001b[0m\n",
      "\u001b[0;32m~/anaconda3/envs/qiskit_env/lib/python3.9/site-packages/qiskit/converters/circuit_to_dag.py\u001b[0m in \u001b[0;36mcircuit_to_dag\u001b[0;34m(circuit)\u001b[0m\n\u001b[1;32m     59\u001b[0m         \u001b[0mdagcircuit\u001b[0m\u001b[0;34m.\u001b[0m\u001b[0madd_creg\u001b[0m\u001b[0;34m(\u001b[0m\u001b[0mregister\u001b[0m\u001b[0;34m)\u001b[0m\u001b[0;34m\u001b[0m\u001b[0;34m\u001b[0m\u001b[0m\n\u001b[1;32m     60\u001b[0m \u001b[0;34m\u001b[0m\u001b[0m\n\u001b[0;32m---> 61\u001b[0;31m     \u001b[0;32mfor\u001b[0m \u001b[0minstruction\u001b[0m\u001b[0;34m,\u001b[0m \u001b[0mqargs\u001b[0m\u001b[0;34m,\u001b[0m \u001b[0mcargs\u001b[0m \u001b[0;32min\u001b[0m \u001b[0mcircuit\u001b[0m\u001b[0;34m.\u001b[0m\u001b[0mdata\u001b[0m\u001b[0;34m:\u001b[0m\u001b[0;34m\u001b[0m\u001b[0;34m\u001b[0m\u001b[0m\n\u001b[0m\u001b[1;32m     62\u001b[0m         \u001b[0mdagcircuit\u001b[0m\u001b[0;34m.\u001b[0m\u001b[0mapply_operation_back\u001b[0m\u001b[0;34m(\u001b[0m\u001b[0minstruction\u001b[0m\u001b[0;34m.\u001b[0m\u001b[0mcopy\u001b[0m\u001b[0;34m(\u001b[0m\u001b[0;34m)\u001b[0m\u001b[0;34m,\u001b[0m \u001b[0mqargs\u001b[0m\u001b[0;34m,\u001b[0m \u001b[0mcargs\u001b[0m\u001b[0;34m)\u001b[0m\u001b[0;34m\u001b[0m\u001b[0;34m\u001b[0m\u001b[0m\n\u001b[1;32m     63\u001b[0m \u001b[0;34m\u001b[0m\u001b[0m\n",
      "\u001b[0;32m~/anaconda3/envs/qiskit_env/lib/python3.9/site-packages/qiskit/circuit/library/blueprintcircuit.py\u001b[0m in \u001b[0;36mdata\u001b[0;34m(self)\u001b[0m\n\u001b[1;32m     91\u001b[0m     \u001b[0;32mdef\u001b[0m \u001b[0mdata\u001b[0m\u001b[0;34m(\u001b[0m\u001b[0mself\u001b[0m\u001b[0;34m)\u001b[0m\u001b[0;34m:\u001b[0m\u001b[0;34m\u001b[0m\u001b[0;34m\u001b[0m\u001b[0m\n\u001b[1;32m     92\u001b[0m         \u001b[0;32mif\u001b[0m \u001b[0mself\u001b[0m\u001b[0;34m.\u001b[0m\u001b[0m_data\u001b[0m \u001b[0;32mis\u001b[0m \u001b[0;32mNone\u001b[0m\u001b[0;34m:\u001b[0m\u001b[0;34m\u001b[0m\u001b[0;34m\u001b[0m\u001b[0m\n\u001b[0;32m---> 93\u001b[0;31m             \u001b[0mself\u001b[0m\u001b[0;34m.\u001b[0m\u001b[0m_build\u001b[0m\u001b[0;34m(\u001b[0m\u001b[0;34m)\u001b[0m\u001b[0;34m\u001b[0m\u001b[0;34m\u001b[0m\u001b[0m\n\u001b[0m\u001b[1;32m     94\u001b[0m         \u001b[0;32mreturn\u001b[0m \u001b[0msuper\u001b[0m\u001b[0;34m(\u001b[0m\u001b[0;34m)\u001b[0m\u001b[0;34m.\u001b[0m\u001b[0mdata\u001b[0m\u001b[0;34m\u001b[0m\u001b[0;34m\u001b[0m\u001b[0m\n\u001b[1;32m     95\u001b[0m \u001b[0;34m\u001b[0m\u001b[0m\n",
      "\u001b[0;32m~/anaconda3/envs/qiskit_env/lib/python3.9/site-packages/qiskit/circuit/library/n_local/n_local.py\u001b[0m in \u001b[0;36m_build\u001b[0;34m(self)\u001b[0m\n\u001b[1;32m    863\u001b[0m             \u001b[0mself\u001b[0m\u001b[0;34m.\u001b[0m\u001b[0mcompose\u001b[0m\u001b[0;34m(\u001b[0m\u001b[0mcircuit\u001b[0m\u001b[0;34m,\u001b[0m \u001b[0minplace\u001b[0m\u001b[0;34m=\u001b[0m\u001b[0;32mTrue\u001b[0m\u001b[0;34m)\u001b[0m\u001b[0;34m\u001b[0m\u001b[0;34m\u001b[0m\u001b[0m\n\u001b[1;32m    864\u001b[0m \u001b[0;34m\u001b[0m\u001b[0m\n\u001b[0;32m--> 865\u001b[0;31m         \u001b[0mparam_iter\u001b[0m \u001b[0;34m=\u001b[0m \u001b[0miter\u001b[0m\u001b[0;34m(\u001b[0m\u001b[0mself\u001b[0m\u001b[0;34m.\u001b[0m\u001b[0mordered_parameters\u001b[0m\u001b[0;34m)\u001b[0m\u001b[0;34m\u001b[0m\u001b[0;34m\u001b[0m\u001b[0m\n\u001b[0m\u001b[1;32m    866\u001b[0m \u001b[0;34m\u001b[0m\u001b[0m\n\u001b[1;32m    867\u001b[0m         \u001b[0;31m# build the prepended layers\u001b[0m\u001b[0;34m\u001b[0m\u001b[0;34m\u001b[0m\u001b[0;34m\u001b[0m\u001b[0m\n",
      "\u001b[0;32m~/anaconda3/envs/qiskit_env/lib/python3.9/site-packages/qiskit/circuit/library/n_local/n_local.py\u001b[0m in \u001b[0;36mordered_parameters\u001b[0;34m(self)\u001b[0m\n\u001b[1;32m    341\u001b[0m         \"\"\"\n\u001b[1;32m    342\u001b[0m         \u001b[0;32mif\u001b[0m \u001b[0misinstance\u001b[0m\u001b[0;34m(\u001b[0m\u001b[0mself\u001b[0m\u001b[0;34m.\u001b[0m\u001b[0m_ordered_parameters\u001b[0m\u001b[0;34m,\u001b[0m \u001b[0mParameterVector\u001b[0m\u001b[0;34m)\u001b[0m\u001b[0;34m:\u001b[0m\u001b[0;34m\u001b[0m\u001b[0;34m\u001b[0m\u001b[0m\n\u001b[0;32m--> 343\u001b[0;31m             \u001b[0mself\u001b[0m\u001b[0;34m.\u001b[0m\u001b[0m_ordered_parameters\u001b[0m\u001b[0;34m.\u001b[0m\u001b[0mresize\u001b[0m\u001b[0;34m(\u001b[0m\u001b[0mself\u001b[0m\u001b[0;34m.\u001b[0m\u001b[0mnum_parameters_settable\u001b[0m\u001b[0;34m)\u001b[0m\u001b[0;34m\u001b[0m\u001b[0;34m\u001b[0m\u001b[0m\n\u001b[0m\u001b[1;32m    344\u001b[0m             \u001b[0;32mreturn\u001b[0m \u001b[0mlist\u001b[0m\u001b[0;34m(\u001b[0m\u001b[0mself\u001b[0m\u001b[0;34m.\u001b[0m\u001b[0m_ordered_parameters\u001b[0m\u001b[0;34m)\u001b[0m\u001b[0;34m\u001b[0m\u001b[0;34m\u001b[0m\u001b[0m\n\u001b[1;32m    345\u001b[0m \u001b[0;34m\u001b[0m\u001b[0m\n",
      "\u001b[0;32m~/anaconda3/envs/qiskit_env/lib/python3.9/site-packages/qiskit/circuit/library/n_local/n_local.py\u001b[0m in \u001b[0;36mnum_parameters_settable\u001b[0;34m(self)\u001b[0m\n\u001b[1;32m    422\u001b[0m         \u001b[0;32mfor\u001b[0m \u001b[0mi\u001b[0m \u001b[0;32min\u001b[0m \u001b[0mrange\u001b[0m\u001b[0;34m(\u001b[0m\u001b[0mself\u001b[0m\u001b[0;34m.\u001b[0m\u001b[0m_reps\u001b[0m\u001b[0;34m)\u001b[0m\u001b[0;34m:\u001b[0m\u001b[0;34m\u001b[0m\u001b[0;34m\u001b[0m\u001b[0m\n\u001b[1;32m    423\u001b[0m             \u001b[0;32mfor\u001b[0m \u001b[0mj\u001b[0m\u001b[0;34m,\u001b[0m \u001b[0mblock\u001b[0m \u001b[0;32min\u001b[0m \u001b[0menumerate\u001b[0m\u001b[0;34m(\u001b[0m\u001b[0mself\u001b[0m\u001b[0;34m.\u001b[0m\u001b[0mentanglement_blocks\u001b[0m\u001b[0;34m)\u001b[0m\u001b[0;34m:\u001b[0m\u001b[0;34m\u001b[0m\u001b[0;34m\u001b[0m\u001b[0m\n\u001b[0;32m--> 424\u001b[0;31m                 \u001b[0mentangler_map\u001b[0m \u001b[0;34m=\u001b[0m \u001b[0mself\u001b[0m\u001b[0;34m.\u001b[0m\u001b[0mget_entangler_map\u001b[0m\u001b[0;34m(\u001b[0m\u001b[0mi\u001b[0m\u001b[0;34m,\u001b[0m \u001b[0mj\u001b[0m\u001b[0;34m,\u001b[0m \u001b[0mblock\u001b[0m\u001b[0;34m.\u001b[0m\u001b[0mnum_qubits\u001b[0m\u001b[0;34m)\u001b[0m\u001b[0;34m\u001b[0m\u001b[0;34m\u001b[0m\u001b[0m\n\u001b[0m\u001b[1;32m    425\u001b[0m                 \u001b[0mnum\u001b[0m \u001b[0;34m+=\u001b[0m \u001b[0mlen\u001b[0m\u001b[0;34m(\u001b[0m\u001b[0mentangler_map\u001b[0m\u001b[0;34m)\u001b[0m \u001b[0;34m*\u001b[0m \u001b[0mlen\u001b[0m\u001b[0;34m(\u001b[0m\u001b[0mget_parameters\u001b[0m\u001b[0;34m(\u001b[0m\u001b[0mblock\u001b[0m\u001b[0;34m)\u001b[0m\u001b[0;34m)\u001b[0m\u001b[0;34m\u001b[0m\u001b[0;34m\u001b[0m\u001b[0m\n\u001b[1;32m    426\u001b[0m \u001b[0;34m\u001b[0m\u001b[0m\n",
      "\u001b[0;32m~/anaconda3/envs/qiskit_env/lib/python3.9/site-packages/qiskit/circuit/library/n_local/two_local.py\u001b[0m in \u001b[0;36mget_entangler_map\u001b[0;34m(self, rep_num, block_num, num_block_qubits)\u001b[0m\n\u001b[1;32m    272\u001b[0m         \u001b[0;32mif\u001b[0m \u001b[0mself\u001b[0m\u001b[0;34m.\u001b[0m\u001b[0mnum_qubits\u001b[0m \u001b[0;34m<=\u001b[0m \u001b[0;36m1\u001b[0m\u001b[0;34m:\u001b[0m\u001b[0;34m\u001b[0m\u001b[0;34m\u001b[0m\u001b[0m\n\u001b[1;32m    273\u001b[0m             \u001b[0;32mreturn\u001b[0m \u001b[0;34m[\u001b[0m\u001b[0;34m]\u001b[0m\u001b[0;34m\u001b[0m\u001b[0;34m\u001b[0m\u001b[0m\n\u001b[0;32m--> 274\u001b[0;31m         \u001b[0;32mreturn\u001b[0m \u001b[0msuper\u001b[0m\u001b[0;34m(\u001b[0m\u001b[0;34m)\u001b[0m\u001b[0;34m.\u001b[0m\u001b[0mget_entangler_map\u001b[0m\u001b[0;34m(\u001b[0m\u001b[0mrep_num\u001b[0m\u001b[0;34m,\u001b[0m \u001b[0mblock_num\u001b[0m\u001b[0;34m,\u001b[0m \u001b[0mnum_block_qubits\u001b[0m\u001b[0;34m)\u001b[0m\u001b[0;34m\u001b[0m\u001b[0;34m\u001b[0m\u001b[0m\n\u001b[0m",
      "\u001b[0;32m~/anaconda3/envs/qiskit_env/lib/python3.9/site-packages/qiskit/circuit/library/n_local/n_local.py\u001b[0m in \u001b[0;36mget_entangler_map\u001b[0;34m(self, rep_num, block_num, num_block_qubits)\u001b[0m\n\u001b[1;32m    581\u001b[0m         \u001b[0;31m# check if entanglement is List[List[List[List]]]\u001b[0m\u001b[0;34m\u001b[0m\u001b[0;34m\u001b[0m\u001b[0;34m\u001b[0m\u001b[0m\n\u001b[1;32m    582\u001b[0m         \u001b[0;32mif\u001b[0m \u001b[0;32mnot\u001b[0m \u001b[0mall\u001b[0m\u001b[0;34m(\u001b[0m\u001b[0misinstance\u001b[0m\u001b[0;34m(\u001b[0m\u001b[0me3\u001b[0m\u001b[0;34m,\u001b[0m \u001b[0;34m(\u001b[0m\u001b[0mtuple\u001b[0m\u001b[0;34m,\u001b[0m \u001b[0mlist\u001b[0m\u001b[0;34m)\u001b[0m\u001b[0;34m)\u001b[0m \u001b[0;32mfor\u001b[0m \u001b[0me\u001b[0m \u001b[0;32min\u001b[0m \u001b[0mentanglement\u001b[0m \u001b[0;32mfor\u001b[0m \u001b[0me2\u001b[0m \u001b[0;32min\u001b[0m \u001b[0me\u001b[0m \u001b[0;32mfor\u001b[0m \u001b[0me3\u001b[0m \u001b[0;32min\u001b[0m \u001b[0me2\u001b[0m\u001b[0;34m)\u001b[0m\u001b[0;34m:\u001b[0m\u001b[0;34m\u001b[0m\u001b[0;34m\u001b[0m\u001b[0m\n\u001b[0;32m--> 583\u001b[0;31m             \u001b[0;32mraise\u001b[0m \u001b[0mValueError\u001b[0m\u001b[0;34m(\u001b[0m\u001b[0;34m'Invalid value of entanglement: {}'\u001b[0m\u001b[0;34m.\u001b[0m\u001b[0mformat\u001b[0m\u001b[0;34m(\u001b[0m\u001b[0mentanglement\u001b[0m\u001b[0;34m)\u001b[0m\u001b[0;34m)\u001b[0m\u001b[0;34m\u001b[0m\u001b[0;34m\u001b[0m\u001b[0m\n\u001b[0m\u001b[1;32m    584\u001b[0m \u001b[0;34m\u001b[0m\u001b[0m\n\u001b[1;32m    585\u001b[0m         \u001b[0;31m# entanglement is List[List[List[List[int]]]]\u001b[0m\u001b[0;34m\u001b[0m\u001b[0;34m\u001b[0m\u001b[0;34m\u001b[0m\u001b[0m\n",
      "\u001b[0;31mValueError\u001b[0m: Invalid value of entanglement: [[(5, 4), (4, 0), (4, 2), (5, 1), (5, 3)], [(5, 4), (5, 0), (5, 2), (4, 1), (4, 3)]]"
     ]
    }
   ],
   "source": [
    "ansatz = qiskit.circuit.library.TwoLocal(L,\"ry\",\"cz\",entanglement,reps=2, insert_barriers=True)\n",
    "ansatz.draw(\"mpl\")"
   ]
  },
  {
   "cell_type": "code",
   "execution_count": 120,
   "id": "b444a395-b713-4a2f-b9d8-43707b632fa7",
   "metadata": {},
   "outputs": [
    {
     "data": {
      "text/plain": [
       "True"
      ]
     },
     "execution_count": 120,
     "metadata": {},
     "output_type": "execute_result"
    }
   ],
   "source": [
    "entanglement == [entangler_map1,entangler_map2]"
   ]
  },
  {
   "cell_type": "code",
   "execution_count": 121,
   "id": "65f5c195-a282-4b4c-9329-466b8aaff0e8",
   "metadata": {},
   "outputs": [],
   "source": [
    "# pretty sure this is a bug! Im gonna post it on github"
   ]
  },
  {
   "cell_type": "code",
   "execution_count": 88,
   "id": "128f61db-5d1a-4eb1-b5c8-c15902bf0134",
   "metadata": {},
   "outputs": [],
   "source": [
    "def QAE_Ansatz(L,num_trash, insert_barriers=False, parametrized_gate = \"ry\", entangling_gate = \"cz\"):\n",
    "    entanglement = [get_entangler_map(L,num_trash,i_permut) for i_permut in range(num_trash)]\n",
    "    print(entanglement)\n",
    "    return qiskit.circuit.library.TwoLocal(L, \n",
    "                                           parametrized_gate,\n",
    "                                           entangling_gate,\n",
    "                                           entanglement,\n",
    "                                           reps=num_trash,\n",
    "                                           insert_barriers=insert_barriers,\n",
    "                                          )"
   ]
  },
  {
   "cell_type": "markdown",
   "id": "4a655d10-ed36-4c4b-bc16-712035b922e5",
   "metadata": {},
   "source": [
    "[qiskit.circuit.library.TwoLocal(..) documentation](https://qiskit.org/documentation/stubs/qiskit.circuit.library.TwoLocal.html?highlight=twolocal#qiskit.circuit.library.TwoLocal)"
   ]
  },
  {
   "cell_type": "code",
   "execution_count": 7,
   "id": "9d59e0e6-1a19-4246-a49a-297e8bde4a19",
   "metadata": {},
   "outputs": [
    {
     "name": "stderr",
     "output_type": "stream",
     "text": [
      "<ipython-input-7-f84f215768ff>:13: DeprecationWarning: The QuantumCircuit.__add__() method is being deprecated.Use the compose() method which is more flexible w.r.t circuit register compatibility.\n",
      "  circ2 = ansatz + measurement_circ\n",
      "/home/kkottmann/anaconda3/envs/qiskit_env/lib/python3.9/site-packages/qiskit/circuit/quantumcircuit.py:869: DeprecationWarning: The QuantumCircuit.combine() method is being deprecated. Use the compose() method which is more flexible w.r.t circuit register compatibility.\n",
      "  return self.combine(rhs)\n"
     ]
    },
    {
     "data": {
      "image/png": "[encoded data removed]",
      "text/plain": [
       "<Figure size 929.397x445.48 with 1 Axes>"
      ]
     },
     "execution_count": 7,
     "metadata": {},
     "output_type": "execute_result"
    }
   ],
   "source": [
    "# Use Qiskit layer generator thingy because now it has everything it needs to get a gradient!\n",
    "# Note that it has redundant Ry rotations at the end on the compression qubits, didnt find a clever way how to get rid of them, but this shouldnt change too much\n",
    "\n",
    "# variational ansatz sub-circuit\n",
    "ansatz = qiskit.circuit.library.TwoLocal(L,\"ry\",\"cz\",[entangler_map1,entangler_map2],reps=2, insert_barriers=False)\n",
    "\n",
    "# measurement circuit\n",
    "qreg = qiskit.QuantumRegister(L, 'q')\n",
    "creg = qiskit.ClassicalRegister(2, 'c')\n",
    "measurement_circ = qiskit.QuantumCircuit(qreg, creg)\n",
    "measurement_circ.measure(qreg[4], creg[0])\n",
    "measurement_circ.measure(qreg[5], creg[1])\n",
    "circ2 = ansatz + measurement_circ\n",
    "circ2.decompose()\n",
    "#print(circ2)\n",
    "#measurement_circ.draw(\"mpl\")\n",
    "circ2.draw(\"mpl\")"
   ]
  },
  {
   "cell_type": "code",
   "execution_count": 8,
   "id": "f621c38b-ec8f-4749-b46a-84e6aaa3ad6e",
   "metadata": {},
   "outputs": [
    {
     "data": {
      "text/plain": [
       "ParameterView([])"
      ]
     },
     "execution_count": 8,
     "metadata": {},
     "output_type": "execute_result"
    }
   ],
   "source": [
    "circ.parameters"
   ]
  },
  {
   "cell_type": "code",
   "execution_count": 9,
   "id": "ea0e3cb9-12cb-4964-8f2b-8005f2cc43e2",
   "metadata": {},
   "outputs": [
    {
     "data": {
      "text/plain": [
       "ParameterView([ParameterVectorElement(θ[0]), ParameterVectorElement(θ[1]), ParameterVectorElement(θ[2]), ParameterVectorElement(θ[3]), ParameterVectorElement(θ[4]), ParameterVectorElement(θ[5]), ParameterVectorElement(θ[6]), ParameterVectorElement(θ[7]), ParameterVectorElement(θ[8]), ParameterVectorElement(θ[9]), ParameterVectorElement(θ[10]), ParameterVectorElement(θ[11]), ParameterVectorElement(θ[12]), ParameterVectorElement(θ[13]), ParameterVectorElement(θ[14]), ParameterVectorElement(θ[15]), ParameterVectorElement(θ[16]), ParameterVectorElement(θ[17])])"
      ]
     },
     "execution_count": 9,
     "metadata": {},
     "output_type": "execute_result"
    }
   ],
   "source": [
    "circ2.parameters"
   ]
  },
  {
   "cell_type": "markdown",
   "id": "65eb4072-ee4f-4cc4-980b-1d6e93a1abf5",
   "metadata": {},
   "source": [
    "following [this tutorial on quantum neural networks](https://qiskit.org/documentation/machine-learning/tutorials/01_neural_networks.html)"
   ]
  },
  {
   "cell_type": "code",
   "execution_count": 10,
   "id": "052cb6f0-ef22-4646-b9a8-9411d7ae8652",
   "metadata": {},
   "outputs": [],
   "source": [
    "qi_qasm = QuantumInstance(Aer.get_backend('qasm_simulator'), shots=10)\n",
    "qi_sv = QuantumInstance(Aer.get_backend('statevector_simulator'))"
   ]
  },
  {
   "cell_type": "code",
   "execution_count": 11,
   "id": "33e3322b-3250-4374-a526-2ec38c91ce02",
   "metadata": {},
   "outputs": [],
   "source": [
    "qnn4 = CircuitQNN(circ2, [], circ2.parameters, sparse=False, quantum_instance=qi_qasm)"
   ]
  },
  {
   "cell_type": "code",
   "execution_count": 12,
   "id": "8e1ae7ae-ef77-4a75-ae28-77a4a83fefd0",
   "metadata": {},
   "outputs": [],
   "source": [
    "input4 = np.random.rand(qnn4.num_inputs)\n",
    "weights4 = np.random.rand(qnn4.num_weights)"
   ]
  },
  {
   "cell_type": "code",
   "execution_count": 13,
   "id": "c0828f44-9e13-441e-94ff-eeb0cd331f49",
   "metadata": {},
   "outputs": [
    {
     "data": {
      "text/plain": [
       "array([[0.3, 0.2, 0.3, 0.2, 0. , 0. , 0. , 0. , 0. , 0. , 0. , 0. , 0. ,\n",
       "        0. , 0. , 0. , 0. , 0. , 0. , 0. , 0. , 0. , 0. , 0. , 0. , 0. ,\n",
       "        0. , 0. , 0. , 0. , 0. , 0. , 0. , 0. , 0. , 0. , 0. , 0. , 0. ,\n",
       "        0. , 0. , 0. , 0. , 0. , 0. , 0. , 0. , 0. , 0. , 0. , 0. , 0. ,\n",
       "        0. , 0. , 0. , 0. , 0. , 0. , 0. , 0. , 0. , 0. , 0. , 0. ]])"
      ]
     },
     "execution_count": 13,
     "metadata": {},
     "output_type": "execute_result"
    }
   ],
   "source": [
    "qnn4.forward(input4, weights4)"
   ]
  },
  {
   "cell_type": "code",
   "execution_count": 14,
   "id": "41ac1c85-8a65-46d6-925a-c29fe3847313",
   "metadata": {},
   "outputs": [
    {
     "data": {
      "text/plain": [
       "(array([], shape=(1, 64, 0), dtype=float64),\n",
       " array([[[0.  , 0.05, 0.1 , ..., 0.  , 0.05, 0.05],\n",
       "         [0.1 , 0.  , 0.  , ..., 0.  , 0.  , 0.  ],\n",
       "         [0.  , 0.05, 0.  , ..., 0.  , 0.  , 0.05],\n",
       "         ...,\n",
       "         [0.  , 0.  , 0.  , ..., 0.  , 0.05, 0.  ],\n",
       "         [0.  , 0.  , 0.  , ..., 0.  , 0.  , 0.  ],\n",
       "         [0.  , 0.  , 0.  , ..., 0.  , 0.  , 0.05]]]))"
      ]
     },
     "execution_count": 14,
     "metadata": {},
     "output_type": "execute_result"
    }
   ],
   "source": [
    "qnn4.backward(input4, weights4)"
   ]
  },
  {
   "cell_type": "markdown",
   "id": "27384a3a-8a67-4a74-aeb4-a897bc15a984",
   "metadata": {},
   "source": [
    "## further insight\n",
    "\"As the qasm_simulator has shot noise we choose to use SPSA which is designed to perform under noisy conditions.\" in this [variational quantum classifier tutorial](https://qiskit.org/documentation/tutorials/machine_learning/03_vqc.html)  \n",
    "has a cost function optimization \"by hand\" at the end [link](https://qiskit.org/textbook/ch-paper-implementations/vqls.html)"
   ]
  },
  {
   "cell_type": "markdown",
   "id": "1f2e696e-26f4-4539-b0e9-5be302cf6f89",
   "metadata": {},
   "source": [
    "# Build Variational algorithm from this"
   ]
  },
  {
   "cell_type": "code",
   "execution_count": 16,
   "id": "947ff514-f2b6-4a9b-b79f-6a61c466c6e1",
   "metadata": {},
   "outputs": [],
   "source": [
    "from qiskit.algorithms.variational_algorithm import VariationalAlgorithm"
   ]
  },
  {
   "cell_type": "code",
   "execution_count": 23,
   "id": "e4afd36d-490b-4810-b825-fa69234a1858",
   "metadata": {},
   "outputs": [
    {
     "data": {
      "text/plain": [
       "<qiskit.algorithms.variational_algorithm.VariationalAlgorithm at 0x7f26885213a0>"
      ]
     },
     "execution_count": 23,
     "metadata": {},
     "output_type": "execute_result"
    }
   ],
   "source": [
    "VariationalAlgorithm(ansatz = circ2, optimizer = None)"
   ]
  },
  {
   "cell_type": "code",
   "execution_count": null,
   "id": "6a875854-7742-4638-a18d-3a5a82c07d2b",
   "metadata": {},
   "outputs": [],
   "source": []
  }
 ],
 "metadata": {
  "kernelspec": {
   "display_name": "Python 3",
   "language": "python",
   "name": "python3"
  },
  "language_info": {
   "codemirror_mode": {
    "name": "ipython",
    "version": 3
   },
   "file_extension": ".py",
   "mimetype": "text/x-python",
   "name": "python",
   "nbconvert_exporter": "python",
   "pygments_lexer": "ipython3",
   "version": "3.9.4"
  }
 },
 "nbformat": 4,
 "nbformat_minor": 5
}
