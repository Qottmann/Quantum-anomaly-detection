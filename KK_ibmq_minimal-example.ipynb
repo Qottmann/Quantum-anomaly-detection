{
 "cells": [
  {
   "cell_type": "code",
   "execution_count": 1,
   "id": "f6615124",
   "metadata": {},
   "outputs": [],
   "source": [
    "import time\n",
    "import datetime\n",
    "import numpy as np\n",
    "from matplotlib import pyplot as plt\n",
    "\n",
    "import qiskit\n",
    "from qiskit import *\n",
    "from qiskit.opflow import X,Z,I\n",
    "from qiskit.opflow.state_fns import StateFn, CircuitStateFn\n",
    "from qiskit.providers.aer import StatevectorSimulator, AerSimulator\n",
    "from qiskit.algorithms import VQE\n",
    "from qiskit.algorithms.optimizers import COBYLA, SLSQP, SPSA\n",
    "from scipy import sparse\n",
    "import scipy.sparse.linalg.eigen.arpack as arp\n",
    "from modules.utils import *"
   ]
  },
  {
   "cell_type": "code",
   "execution_count": 36,
   "id": "e0e66ef6-528b-4847-8741-e350f618912c",
   "metadata": {},
   "outputs": [
    {
     "name": "stdout",
     "output_type": "stream",
     "text": [
      "data/qsim_params_VQE_Ising_L5_anti_1_6\n"
     ]
    }
   ],
   "source": [
    "gz = 0\n",
    "anti = 1\n",
    "\n",
    "L = 5\n",
    "num_trash = 2\n",
    "logspace_size = 6\n",
    "name = f\"qsim_params_VQE_Ising_L{L:.0f}_anti_{anti:.0f}_{logspace_size}\"\n",
    "filename = 'data/' + name\n",
    "print(filename)\n",
    "gx_vals = np.logspace(-2,2,logspace_size)"
   ]
  },
  {
   "cell_type": "code",
   "execution_count": 23,
   "id": "e1537e23-7127-40de-81bf-b3c965011ed7",
   "metadata": {},
   "outputs": [],
   "source": [
    "IBMQ.load_account() # this then automatically loads your saved account\n",
    "provider = IBMQ.get_provider(hub='ibm-q-research')\n",
    "\n",
    "real_backend = provider.backends(simulator=False, operational=True)[6]\n",
    "backend = qiskit.providers.aer.AerSimulator.from_backend(real_backend)"
   ]
  },
  {
   "cell_type": "code",
   "execution_count": 28,
   "id": "446d33e8-eae1-4131-9bf4-a9a6e8cd7702",
   "metadata": {},
   "outputs": [],
   "source": [
    "# more in-depth noise models https://qiskit.org/documentation/tutorials/simulators/2_device_noise_simulation.html\n",
    "#backend = qiskit.Aer.get_backend('qasm_simulator') # apparently outdated (legacy)\n",
    "backend = qiskit.providers.aer.AerSimulator.from_backend(real_backend)\n",
    "backend_sim = backend"
   ]
  },
  {
   "cell_type": "code",
   "execution_count": 29,
   "id": "d6353c88-d157-402e-9aa6-82afd0dc9304",
   "metadata": {},
   "outputs": [],
   "source": [
    "ansatz = qiskit.circuit.library.EfficientSU2(L, reps=3)\n",
    "\n",
    "#optimizer = SLSQP(maxiter=1000)\n",
    "optimizer = COBYLA(maxiter=1000)\n",
    "#optimizer = SPSA(maxiter=1000)\n",
    "\n",
    "vqe = VQE(ansatz, optimizer, quantum_instance=backend) "
   ]
  },
  {
   "cell_type": "code",
   "execution_count": 30,
   "id": "b3e6230f-92a9-4618-a177-0862748eb677",
   "metadata": {},
   "outputs": [
    {
     "name": "stderr",
     "output_type": "stream",
     "text": [
      "Measured Observable is not composed of only Paulis, converting to Pauli representation, which can be expensive.\n"
     ]
    },
    {
     "name": "stdout",
     "output_type": "stream",
     "text": [
      "elapsed time 0:00:41.567444\n"
     ]
    }
   ],
   "source": [
    "gx = 1e-1\n",
    "t0 = datetime.datetime.now()\n",
    "H = QHIsing(L,anti,np.float32(gx),np.float32(gz))\n",
    "result = vqe.compute_minimum_eigenvalue(H, aux_operators=[QMag(L,anti)]) #ED with Qiskit VQE\n",
    "print(f\"elapsed time {datetime.datetime.now()-t0}\")"
   ]
  },
  {
   "cell_type": "markdown",
   "id": "e84942fd-e997-49ee-91f0-36e7c74dd3b5",
   "metadata": {},
   "source": [
    "### Checks to get magnetization most efficiently"
   ]
  },
  {
   "cell_type": "code",
   "execution_count": 31,
   "id": "bbbf7403-f840-4ac0-bb31-0daf6c1480fd",
   "metadata": {},
   "outputs": [],
   "source": [
    "def simple_mag(L,i):\n",
    "    return (I^i)^Z^(I^(L-i-1))"
   ]
  },
  {
   "cell_type": "code",
   "execution_count": 32,
   "id": "94c01baa-043f-4287-9437-87f38f940d52",
   "metadata": {},
   "outputs": [
    {
     "data": {
      "text/plain": [
       "[PauliOp(Pauli('ZIIII'), coeff=1.0),\n",
       " PauliOp(Pauli('IZIII'), coeff=1.0),\n",
       " PauliOp(Pauli('IIZII'), coeff=1.0),\n",
       " PauliOp(Pauli('IIIZI'), coeff=1.0),\n",
       " PauliOp(Pauli('IIIIZ'), coeff=1.0)]"
      ]
     },
     "execution_count": 32,
     "metadata": {},
     "output_type": "execute_result"
    }
   ],
   "source": [
    "[simple_mag(L,i) for i in range(L)]"
   ]
  },
  {
   "cell_type": "code",
   "execution_count": 33,
   "id": "30f5ea90-f3e8-4487-abd8-9533c57aa434",
   "metadata": {},
   "outputs": [
    {
     "name": "stdout",
     "output_type": "stream",
     "text": [
      "mag: 0.552734375\n",
      "elapsed time 0:00:44.229702\n"
     ]
    }
   ],
   "source": [
    "gx = 1e-1\n",
    "t0 = datetime.datetime.now()\n",
    "H = QHIsing(L,anti,np.float32(gx),np.float32(gz))\n",
    "result = vqe.compute_minimum_eigenvalue(H, aux_operators=[simple_mag(L,i) for i in range(L)]) #ED with Qiskit VQE\n",
    "print(f\"mag: {np.sum(result.aux_operator_eigenvalues)}\")\n",
    "print(f\"elapsed time {datetime.datetime.now()-t0}\")"
   ]
  },
  {
   "cell_type": "code",
   "execution_count": 34,
   "id": "93b9be02-e2ee-42cd-b2c9-0c5759d716da",
   "metadata": {},
   "outputs": [
    {
     "name": "stdout",
     "output_type": "stream",
     "text": [
      "elapsed time 0:00:40.303106\n"
     ]
    }
   ],
   "source": [
    "gx = 1e-1\n",
    "t0 = datetime.datetime.now()\n",
    "H = QHIsing(L,anti,np.float32(gx),np.float32(gz))\n",
    "result = vqe.compute_minimum_eigenvalue(H) #ED with Qiskit VQE\n",
    "print(f\"elapsed time {datetime.datetime.now()-t0}\")"
   ]
  },
  {
   "cell_type": "code",
   "execution_count": 35,
   "id": "9dac863a-c7ef-4413-b3c2-69c2901e6a68",
   "metadata": {},
   "outputs": [
    {
     "name": "stderr",
     "output_type": "stream",
     "text": [
      "Measured Observable is not composed of only Paulis, converting to Pauli representation, which can be expensive.\n"
     ]
    },
    {
     "name": "stdout",
     "output_type": "stream",
     "text": [
      "mag: [[0.04570312500000001]]\n",
      "elapsed time 0:00:41.699083\n"
     ]
    }
   ],
   "source": [
    "gx = 1e-1\n",
    "t0 = datetime.datetime.now()\n",
    "H = QHIsing(L,anti,np.float32(gx),np.float32(gz))\n",
    "result = vqe.compute_minimum_eigenvalue(H, aux_operators=[QMag(L,anti)]) #ED with Qiskit VQE\n",
    "print(f\"mag: {result.aux_operator_eigenvalues}\")\n",
    "print(f\"elapsed time {datetime.datetime.now()-t0}\")"
   ]
  },
  {
   "cell_type": "markdown",
   "id": "4c4cf73f-4780-4e4c-91dd-9948f4a4e525",
   "metadata": {},
   "source": [
    "# VQE calculation"
   ]
  },
  {
   "cell_type": "code",
   "execution_count": 37,
   "id": "960c19e7",
   "metadata": {},
   "outputs": [
    {
     "name": "stdout",
     "output_type": "stream",
     "text": [
      "1 / 6, gx: 0.01, gz: 0.00\n"
     ]
    },
    {
     "name": "stderr",
     "output_type": "stream",
     "text": [
      "Measured Observable is not composed of only Paulis, converting to Pauli representation, which can be expensive.\n"
     ]
    },
    {
     "name": "stdout",
     "output_type": "stream",
     "text": [
      "-0.062890625\n",
      "elapsed time 0:00:41.410656\n",
      "2 / 6, gx: 0.06, gz: 0.00\n"
     ]
    },
    {
     "name": "stderr",
     "output_type": "stream",
     "text": [
      "Measured Observable is not composed of only Paulis, converting to Pauli representation, which can be expensive.\n"
     ]
    },
    {
     "name": "stdout",
     "output_type": "stream",
     "text": [
      "0.037499999999999985\n",
      "elapsed time 0:00:51.691065\n",
      "3 / 6, gx: 0.40, gz: 0.00\n"
     ]
    },
    {
     "name": "stderr",
     "output_type": "stream",
     "text": [
      "Measured Observable is not composed of only Paulis, converting to Pauli representation, which can be expensive.\n"
     ]
    },
    {
     "name": "stdout",
     "output_type": "stream",
     "text": [
      "0.05937500000000001\n",
      "elapsed time 0:00:46.137304\n",
      "4 / 6, gx: 2.51, gz: 0.00\n"
     ]
    },
    {
     "name": "stderr",
     "output_type": "stream",
     "text": [
      "Measured Observable is not composed of only Paulis, converting to Pauli representation, which can be expensive.\n"
     ]
    },
    {
     "name": "stdout",
     "output_type": "stream",
     "text": [
      "-0.017578124999999997\n",
      "elapsed time 0:00:37.192313\n",
      "5 / 6, gx: 15.85, gz: 0.00\n"
     ]
    },
    {
     "name": "stderr",
     "output_type": "stream",
     "text": [
      "Measured Observable is not composed of only Paulis, converting to Pauli representation, which can be expensive.\n"
     ]
    },
    {
     "name": "stdout",
     "output_type": "stream",
     "text": [
      "0.096875\n",
      "elapsed time 0:00:41.381915\n",
      "6 / 6, gx: 100.00, gz: 0.00\n"
     ]
    },
    {
     "name": "stderr",
     "output_type": "stream",
     "text": [
      "Measured Observable is not composed of only Paulis, converting to Pauli representation, which can be expensive.\n"
     ]
    },
    {
     "name": "stdout",
     "output_type": "stream",
     "text": [
      "0.00585937500000001\n",
      "elapsed time 0:00:42.108019\n"
     ]
    }
   ],
   "source": [
    "opt_params = []\n",
    "gx_list = []\n",
    "Qmags = []\n",
    "mag = QMag(L,anti) #magnetization operator (Qiskit)\n",
    "Qen = []\n",
    "\n",
    "for i,gx in enumerate(gx_vals):\n",
    "    t0 = datetime.datetime.now()\n",
    "    print('{} / {}, gx: {:.2f}, gz: {:.2f}'.format(i+1, len(gx_vals),gx,gz))\n",
    "\n",
    "    H = QHIsing(L,anti,np.float32(gx),np.float32(gz))\n",
    "    result = vqe.compute_minimum_eigenvalue(H, aux_operators=[mag])\n",
    "    print(result.aux_operator_eigenvalues[0][0])\n",
    "    Qmags.append(result.aux_operator_eigenvalues[0][0])\n",
    "    Qen.append(result.eigenvalue)\n",
    "    gx_list.append(gx)\n",
    "    opt_params.append(sort_params(result.optimal_parameters))\n",
    "    print(f\"elapsed time {datetime.datetime.now()-t0}\")\n",
    "\n",
    "np.savez(filename, gx_list=gx_list, gz_list=[0]*len(gx_list), opt_params=opt_params, Qmags = Qmags, Qen = Qen)\n"
   ]
  },
  {
   "cell_type": "markdown",
   "id": "a4a6f1ff-8ca2-46d5-9d35-6e35532449e1",
   "metadata": {},
   "source": [
    "### Exact Diagonalization"
   ]
  },
  {
   "cell_type": "code",
   "execution_count": 38,
   "id": "be3a0a7c-7da7-4031-9576-909894103e96",
   "metadata": {},
   "outputs": [],
   "source": [
    "VQE_params = np.load(filename + \".npz\", allow_pickle=True)\n",
    "gx_list = VQE_params['gx_list']\n",
    "gz_list = VQE_params['gz_list']\n",
    "opt_params = VQE_params['opt_params']\n",
    "\n",
    "gx_vals = np.unique(gx_list) # Rike and Joana convention\n",
    "gz_vals = np.unique(gz_list)\n",
    "\n",
    "phis = opt_params\n",
    "gxs = gx_list\n",
    "gzs = gz_list\n",
    "\n",
    "mag = QMag(L,anti) #magnetization operator (Qiskit)\n",
    "Smag = Mag(L,anti) #magnetization operator (numpy)\n",
    "\n",
    "Sen=np.zeros(len(opt_params), dtype=np.complex128) #energies\n",
    "Smags=np.zeros(len(opt_params), dtype=np.complex128) #magnetizations"
   ]
  },
  {
   "cell_type": "code",
   "execution_count": 39,
   "id": "44492475-f8b0-4c8a-b63d-b713cbd00dd9",
   "metadata": {},
   "outputs": [],
   "source": [
    "for j in range(len(opt_params)):\n",
    "\n",
    "    gx = gx_list[j]\n",
    "    gz = gz_list[j]\n",
    "\n",
    "    init_state, E, ham = ising_groundstate(L, anti, np.float32(gx), np.float32(gz))\n",
    "    Sen[j] = E\n",
    "    Smags[j] = init_state.T.conj()@Smag@init_state #Magnetization with Numpy results\n",
    "#np.savez(filename + \"_ED_results\",Qmags=Qmags, Qen=Qen, Sen=Sen, Smags=Smags) # for large parameter space takes quite a while because of the exact diagonalization"
   ]
  },
  {
   "cell_type": "code",
   "execution_count": 43,
   "id": "b240236a-ccc6-46d2-a4d3-9319839ce0be",
   "metadata": {},
   "outputs": [
    {
     "data": {
      "image/png": "[encoded data removed]",
      "text/plain": [
       "<Figure size 720x360 with 2 Axes>"
      ]
     },
     "metadata": {
      "needs_background": "light"
     },
     "output_type": "display_data"
    }
   ],
   "source": [
    "fig, axs = plt.subplots(ncols=2, figsize=(10,5))\n",
    "ax = axs[0]\n",
    "ax.plot(gxs, Qmags,\"x--\", label=\"VQE\")\n",
    "ax.plot(gxs, Smags.real,\"x--\", label=\"ED\")\n",
    "ax.set_title(f\"Magnetization L = {L}, $n_{{trash}}$ = {num_trash}, anti = {anti}, gz = {gz}\")\n",
    "ax.set_xscale(\"log\")\n",
    "ax.legend()\n",
    "\n",
    "ax = axs[1]\n",
    "ax.plot(gxs, Qen-Sen.real,\"x--\", label=\"diff\")\n",
    "ax.set_title(f\"Energy L = {L}, $n_{{trash}}$ = {num_trash}, anti = {anti}, gz = {gz}\")\n",
    "ax.set_xscale(\"log\")\n",
    "ax.legend()\n",
    "plt.savefig(\"plots/\" + name + \"magnetization.png\")"
   ]
  },
  {
   "cell_type": "code",
   "execution_count": 38,
   "id": "46d5cf76-22b0-473b-86ea-376b25440945",
   "metadata": {},
   "outputs": [],
   "source": [
    "##############################################################################\n",
    "### II - Training  ###########################################################\n",
    "##############################################################################\n",
    "\n",
    "thetas = np.random.uniform(0, 2*np.pi, 2*L+2) # initial parameters without feature encoding\n",
    "# thetas = np.random.uniform(0, 2*np.pi, (2*L+2, 2)) # initial parameters with feature encoding"
   ]
  },
  {
   "cell_type": "code",
   "execution_count": 45,
   "id": "f6c7f662-8c4e-4998-893a-f4529e4efd21",
   "metadata": {},
   "outputs": [],
   "source": [
    "# linear entangler (as in scales linearly with trash qubits)\n",
    "def get_entangler_map(L, num_trash, i_permut=1):\n",
    "    result = []\n",
    "    nums = list(range(L)) # here was the problem, it doesnt like when list elements are taken from numpy\n",
    "    nums_compressed = nums.copy()[:L-num_trash]\n",
    "    nums_trash = nums.copy()[-num_trash:]\n",
    "    #print(nums, nums_compressed, nums_trash)\n",
    "    # combine all trash qubits with themselves\n",
    "    for trash_q in nums_trash[:-1]:\n",
    "        result.append((trash_q+1,trash_q))\n",
    "    # combine each of the trash qubits with every n-th\n",
    "    repeated = list(nums_trash) * (L-num_trash) # repeat the list of trash indices cyclicly\n",
    "    for i in range(L-num_trash):\n",
    "        result.append((repeated[i_permut + i], nums_compressed[i]))\n",
    "    return result\n",
    "\n",
    "def QAE_Ansatz(thetas, L, num_trash, insert_barriers=False, parametrized_gate = \"ry\", entangling_gate = \"cz\"):\n",
    "    entanglement = [get_entangler_map(L,num_trash,i_permut) for i_permut in range(num_trash)]\n",
    "    circ = qiskit.circuit.library.TwoLocal(L, \n",
    "                                           parametrized_gate,\n",
    "                                           entangling_gate,\n",
    "                                           entanglement,\n",
    "                                           reps=num_trash,\n",
    "                                           insert_barriers=insert_barriers,\n",
    "                                           skip_final_rotation_layer=True\n",
    "                                          ).assign_parameters(thetas[:-num_trash])\n",
    "    if insert_barriers: circ.barrier()\n",
    "    for i in range(num_trash):\n",
    "        circ.ry(thetas[L-i-1], L-i-1)\n",
    "        #circ.ry(circuit.Parameter(f'θ{i}'), L-i-1)\n",
    "    return circ\n",
    "\n",
    "def prepare_circuit(thetas, L=6, num_trash=2, init_state=None, measurement=True, vqe=True):\n",
    "    qreg = QuantumRegister(L, 'q')\n",
    "    creg = ClassicalRegister(num_trash, 'c')\n",
    "    circ = QuantumCircuit(qreg, creg)\n",
    "    circ += QAE_Ansatz(thetas, L, num_trash, insert_barriers=True)#.assign_parameters(thetas) # difference to bind?\n",
    "    if measurement:\n",
    "        for i in range(num_trash):\n",
    "            circ.measure(qreg[L-i-1], creg[i])\n",
    "    if init_state is not None:\n",
    "        if vqe:\n",
    "            circ = init_vqe(init_state,L=L) + circ\n",
    "        else:\n",
    "            circ.initialize(init_state, qreg)\n",
    "    return circ"
   ]
  },
  {
   "cell_type": "code",
   "execution_count": 46,
   "id": "b8138e45-bc87-4a6a-bf21-81ad48dddb2d",
   "metadata": {},
   "outputs": [],
   "source": [
    "def feature_encoding(thetas, x):\n",
    "    \"\"\" thetas: parameters to be optimized, x: Ising model parameter (eg. field) \"\"\"\n",
    "    new_thetas = []\n",
    "    thetas = thetas.reshape((-1,2))\n",
    "    for theta in thetas:\n",
    "        new_thetas.append(theta[0] * x + theta[1])\n",
    "    return new_thetas"
   ]
  },
  {
   "cell_type": "markdown",
   "id": "9457dedc-fb0d-4df5-a17b-274feae512f2",
   "metadata": {},
   "source": [
    "### Execute circuit\n",
    "Circuit is executed on simulator and measurement outcomes on the trash qubits are stored"
   ]
  },
  {
   "cell_type": "code",
   "execution_count": 47,
   "id": "d326ec5b-2a86-47a4-b0ba-96704781a82a",
   "metadata": {},
   "outputs": [
    {
     "name": "stderr",
     "output_type": "stream",
     "text": [
      "<ipython-input-45-a05c1f5c1b9e>:37: DeprecationWarning: The QuantumCircuit.__iadd__() method is being deprecated. Use the compose() (potentially with the inplace=True argument) and tensor() methods which are more flexible w.r.t circuit register compatibility.\n",
      "  circ += QAE_Ansatz(thetas, L, num_trash, insert_barriers=True)#.assign_parameters(thetas) # difference to bind?\n",
      "/home/kkottmann/anaconda3/envs/qiskit_env/lib/python3.9/site-packages/qiskit/circuit/quantumcircuit.py:876: DeprecationWarning: The QuantumCircuit.extend() method is being deprecated. Use the compose() (potentially with the inplace=True argument) and tensor() methods which are more flexible w.r.t circuit register compatibility.\n",
      "  return self.extend(rhs)\n",
      "<ipython-input-45-a05c1f5c1b9e>:43: DeprecationWarning: The QuantumCircuit.__add__() method is being deprecated.Use the compose() method which is more flexible w.r.t circuit register compatibility.\n",
      "  circ = init_vqe(init_state,L=L) + circ\n",
      "/home/kkottmann/anaconda3/envs/qiskit_env/lib/python3.9/site-packages/qiskit/circuit/quantumcircuit.py:869: DeprecationWarning: The QuantumCircuit.combine() method is being deprecated. Use the compose() method which is more flexible w.r.t circuit register compatibility.\n",
      "  return self.combine(rhs)\n"
     ]
    },
    {
     "data": {
      "text/plain": [
       "23"
      ]
     },
     "execution_count": 47,
     "metadata": {},
     "output_type": "execute_result"
    }
   ],
   "source": [
    "def run_circuit(thetas, L, num_trash, init_state, vqe=True, shots=100):\n",
    "    circ = prepare_circuit(thetas, L, num_trash, init_state, vqe=vqe)\n",
    "\n",
    "    # Execute the circuit on the qasm simulator.\n",
    "    job_sim = execute(circ, backend_sim, shots=shots, seed_simulator=123, seed_transpiler=234) # fix seed to make it reproducible\n",
    "\n",
    "    # Grab the results from the job.\n",
    "    result_sim = job_sim.result()\n",
    "\n",
    "    counts = result_sim.get_counts(circ)\n",
    "#     print(counts)\n",
    "    \n",
    "#     mems = result_sim.get_memory(circ)\n",
    "#     print(mems)\n",
    "    return counts\n",
    "phi = opt_params[0]\n",
    "run_circuit(thetas, L, num_trash, phi)['11']"
   ]
  },
  {
   "cell_type": "markdown",
   "id": "3de4a2cc-b4ef-4b08-b181-17ef3e0e87cd",
   "metadata": {},
   "source": [
    "### Optimize circuit\n",
    "Define cost function (averaged hamming distance of measurement outcomes) and minimze it using either scipy or qiskit optimizer modules (the latter is also based on scipy though)."
   ]
  },
  {
   "cell_type": "code",
   "execution_count": 49,
   "id": "2edbcff7-2eb5-4ee3-b38b-6f2a7572f25b",
   "metadata": {},
   "outputs": [],
   "source": [
    "\n",
    "\n",
    "def cost_function_single(thetas, L, num_trash, p, shots=1000, vqe=True, param_encoding=False, x=0):\n",
    "    \"\"\" Optimizes circuit \"\"\"\n",
    "    if vqe:\n",
    "        init_state = phis[p]\n",
    "    else:\n",
    "        J, gx, gz = p\n",
    "        init_state, _ = ising_groundstate(L, J, gx, gz)\n",
    "    if param_encoding: thetas = feature_encoding(thetas, x) \n",
    "    out = run_circuit(thetas, L, num_trash, init_state, vqe=vqe, shots=shots)\n",
    "    cost = out.get('11', 0)*2 + out.get('01', 0) + out.get('10', 0)\n",
    "    return cost/shots\n",
    "\n",
    "def cost_function(thetas, L, num_trash, ising_params, shots=1000, vqe=True, param_encoding=False, x=0):\n",
    "    \"\"\" Optimizes circuit \"\"\"\n",
    "    cost = 0.\n",
    "    n_samples = len(ising_params)\n",
    "    for i, p in enumerate(ising_params):\n",
    "        if param_encoding: \n",
    "            cost += cost_function_single(thetas, L, num_trash, p, shots, vqe, param_encoding, x[i])\n",
    "        else:\n",
    "            cost += cost_function_single(thetas, L, num_trash, p, shots, vqe, param_encoding)\n",
    "    return cost/n_samples\n",
    "\n",
    "def optimize(ising_params, L=6, num_trash=2, thetas=None, shots=1000, max_iter=400, vqe=True, param_encoding=False, x=0, pick_optimizer = None):\n",
    "    if thetas is None:\n",
    "        n_params = (2*L+2)*2 if param_encoding else (2*L+2)\n",
    "        thetas = np.random.uniform(0, 2*np.pi, n_params) # initial parameters without feature encoding\n",
    "        \n",
    "    print(\"Initial cost: {:.3f}\".format(cost_function(thetas, L, num_trash, ising_params, shots, vqe, param_encoding, x)))\n",
    "    \n",
    "    counts, values, accepted = [], [], []\n",
    "    def store_intermediate_result(eval_count, parameters, mean, std, ac):\n",
    "        # counts.append(eval_count)\n",
    "        values.append(mean)\n",
    "        accepted.append(ac)\n",
    "\n",
    "    # Initialize optimizer\n",
    "    if pick_optimizer == \"cobyla\":\n",
    "        optimizer = COBYLA(maxiter=max_iter, tol=0.0001)\n",
    "    if pick_optimizer == \"adam\" or pick_optimizer == \"ADAM\":\n",
    "        optimizer = qiskit.algorithms.optimizers.ADAM(maxiter=max_iter)\n",
    "    # optimizer = L_BFGS_B(maxfun=300, maxiter=max_iter)#, factr=10, iprint=- 1, epsilon=1e-08)\n",
    "    if pick_optimizer == \"spsa\" or pick_optimizer == None:\n",
    "        optimizer = SPSA(maxiter=max_iter,\n",
    "                         #blocking=True,\n",
    "                         callback=store_intermediate_result,\n",
    "                         #learning_rate=1e-1,\n",
    "                         #perturbation=0.4\n",
    "                         ) # recommended from qiskit (first iteraction takes quite long)\n",
    "                           # to reduce time figure out optimal learning rate and perturbation in advance\n",
    "\n",
    "    start_time = time.time()\n",
    "    ret = optimizer.optimize(\n",
    "                            num_vars=len(thetas),\n",
    "                            objective_function=(lambda thetas: cost_function(thetas, L, num_trash, ising_params, shots, vqe, param_encoding, x)),\n",
    "                            initial_point=thetas\n",
    "                            )\n",
    "    print(\"Time: {:.5f} sec\".format(time.time()-start_time))\n",
    "    print(ret)\n",
    "    return ret[0], values, accepted\n",
    "\n"
   ]
  },
  {
   "cell_type": "code",
   "execution_count": 50,
   "id": "d873cbe5-63bd-43ee-8b4f-ae05c643bf59",
   "metadata": {},
   "outputs": [],
   "source": [
    "def run_inference(thetas, shots=1000, L=5):\n",
    "    cost = np.zeros((len(gx_vals)))\n",
    "    shots = 1000\n",
    "    for i,p in enumerate(list(zip(gxs, gzs))):\n",
    "            cost[i] = cost_function_single(thetas, L, num_trash, i, shots=shots)\n",
    "    return cost"
   ]
  },
  {
   "cell_type": "markdown",
   "id": "9203c04b-3838-4b63-ab9f-27f0d6735d80",
   "metadata": {},
   "source": [
    "## Training on bottom-left"
   ]
  },
  {
   "cell_type": "code",
   "execution_count": 52,
   "id": "5d5a6ced-55a3-45bb-a529-2c588c65adb0",
   "metadata": {},
   "outputs": [],
   "source": [
    "paramss =[\n",
    "    [0], # train on bottom left point\n",
    "]"
   ]
  },
  {
   "cell_type": "code",
   "execution_count": 54,
   "id": "71a5342b-8ade-49a7-b44a-94b6c981d686",
   "metadata": {},
   "outputs": [
    {
     "name": "stdout",
     "output_type": "stream",
     "text": [
      "1 / 1 - params (gz, gx) in [(0, 0.01)]\n"
     ]
    }
   ],
   "source": [
    "for i,params in enumerate(paramss):\n",
    "    print(f\"{i+1} / {len(paramss)} - params (gz, gx) in {[(gzs[p], gxs[p]) for p in params]}\")"
   ]
  },
  {
   "cell_type": "code",
   "execution_count": 55,
   "id": "163c2c9a-f0ce-45cd-8230-16a4c4e5336e",
   "metadata": {},
   "outputs": [],
   "source": [
    "thetass = [None] * len(paramss)\n",
    "losss = [None] * len(paramss)\n",
    "costs = [None] * len(paramss)"
   ]
  },
  {
   "cell_type": "markdown",
   "id": "034ed59d-6cf5-48a6-8c94-998d24e66bf3",
   "metadata": {},
   "source": [
    "## Run 1"
   ]
  },
  {
   "cell_type": "code",
   "execution_count": 56,
   "id": "b198ff9c-8dad-47ff-94cb-63b2a745f1f1",
   "metadata": {},
   "outputs": [
    {
     "name": "stdout",
     "output_type": "stream",
     "text": [
      "1 / 1 - params (gz, gx) in [(0, 0.01)]\n",
      "Initial cost: 1.069\n",
      "Time: 26.65872 sec\n",
      "(array([ 5.32756975, -1.45493624,  3.7899829 ,  6.76658342,  5.1009913 ,\n",
      "        1.08606106, -0.97363079,  2.74248751,  4.27880354, -2.74954995,\n",
      "        4.31288663, -1.43048015]), 0.793, 300)\n"
     ]
    },
    {
     "data": {
      "image/png": "[encoded data removed]",
      "text/plain": [
       "<Figure size 432x288 with 1 Axes>"
      ]
     },
     "metadata": {
      "needs_background": "light"
     },
     "output_type": "display_data"
    }
   ],
   "source": [
    "for i,params in enumerate(paramss):\n",
    "    print(f\"{i+1} / {len(paramss)} - params (gz, gx) in {[(gzs[p], gxs[p]) for p in params]}\")\n",
    "    thetas, loss, accepted = optimize(params, max_iter=100, L=5) #, pick_optimizer=\"adam\")\n",
    "    thetass[i], losss[i] = thetas, loss\n",
    "    plt.plot(loss)\n",
    "    cost = run_inference(thetas)\n",
    "    costs[i] = cost"
   ]
  },
  {
   "cell_type": "code",
   "execution_count": 65,
   "id": "007bb7a3-2eae-4480-abc7-f67e468e3956",
   "metadata": {},
   "outputs": [
    {
     "name": "stderr",
     "output_type": "stream",
     "text": [
      "/home/kkottmann/anaconda3/envs/qiskit_env/lib/python3.9/site-packages/numpy/core/_asarray.py:102: ComplexWarning: Casting complex values to real discards the imaginary part\n",
      "  return array(a, dtype, copy=False, order=order)\n"
     ]
    },
    {
     "data": {
      "text/plain": [
       "Text(0.5, 0, '$g_x$')"
      ]
     },
     "execution_count": 65,
     "metadata": {},
     "output_type": "execute_result"
    },
    {
     "data": {
      "image/png": "[encoded data removed]",
      "text/plain": [
       "<Figure size 432x360 with 1 Axes>"
      ]
     },
     "metadata": {
      "needs_background": "light"
     },
     "output_type": "display_data"
    }
   ],
   "source": [
    "fig, ax = plt.subplots(ncols=1, figsize=(6,5))\n",
    "ax.plot(gxs,cost,\"x--\", label = \"loss\")\n",
    "ax.plot(gxs,Qmags,\"x--\", label=\"$\\\\langle s_z \\\\rangle$\")\n",
    "ax.set_xscale(\"log\")\n",
    "ax.legend()\n",
    "ax.set_xlabel(\"$g_x$\", fontsize= 14)"
   ]
  },
  {
   "cell_type": "code",
   "execution_count": null,
   "id": "af9fc1ac-e22c-4fd2-be1d-97ffa651c2dc",
   "metadata": {},
   "outputs": [],
   "source": []
  }
 ],
 "metadata": {
  "kernelspec": {
   "display_name": "Python 3",
   "language": "python",
   "name": "python3"
  },
  "language_info": {
   "codemirror_mode": {
    "name": "ipython",
    "version": 3
   },
   "file_extension": ".py",
   "mimetype": "text/x-python",
   "name": "python",
   "nbconvert_exporter": "python",
   "pygments_lexer": "ipython3",
   "version": "3.9.4"
  }
 },
 "nbformat": 4,
 "nbformat_minor": 5
}
