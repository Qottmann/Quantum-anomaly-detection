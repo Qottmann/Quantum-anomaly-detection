{
 "cells": [
  {
   "cell_type": "markdown",
   "id": "0fa01bc6-233a-4e40-b9d3-b918828101fb",
   "metadata": {},
   "source": [
    "Two important resources for this:\n",
    "  * [In-depth walkthrough setting up IBMQ account in qiskit, obtaining providers/backends and running jobs](https://quantum-computing.ibm.com/lab/docs/iql/manage/account/ibmq)\n",
    "  * [IBMQ backend class, has certain features / commands that differ from simulator backends](https://qiskit.org/documentation/stubs/qiskit.providers.ibmq.IBMQBackend.html#qiskit.providers.ibmq.IBMQBackend)"
   ]
  },
  {
   "cell_type": "code",
   "execution_count": 1,
   "id": "acaa8272-4235-444b-867a-81e173408606",
   "metadata": {},
   "outputs": [],
   "source": [
    "from qiskit import IBMQ"
   ]
  },
  {
   "cell_type": "code",
   "execution_count": 14,
   "id": "6be1eff6-8121-4798-b995-40b3551cc18e",
   "metadata": {},
   "outputs": [],
   "source": [
    "# token is obtained from IBMQ expierence website, just set up an account at https://quantum-computing.ibm.com/ and once run\n",
    "# IBMQ.enable_account(token)\n",
    "# IBMQ.save_account(token)"
   ]
  },
  {
   "cell_type": "code",
   "execution_count": 6,
   "id": "8906dbc6-6b3d-4a91-ad84-a45c22ba8521",
   "metadata": {},
   "outputs": [
    {
     "name": "stderr",
     "output_type": "stream",
     "text": [
      "ibmqfactory.load_account:WARNING:2021-05-19 15:41:19,745: Credentials are already in use. The existing account in the session will be replaced.\n"
     ]
    },
    {
     "data": {
      "text/plain": [
       "<AccountProvider for IBMQ(hub='ibm-q', group='open', project='main')>"
      ]
     },
     "execution_count": 6,
     "metadata": {},
     "output_type": "execute_result"
    }
   ],
   "source": [
    "IBMQ.load_account() # this then automatically loads your saved account"
   ]
  },
  {
   "cell_type": "code",
   "execution_count": 7,
   "id": "e9a7f49f-1aa9-42ff-a78c-1cb35ca22bb3",
   "metadata": {},
   "outputs": [
    {
     "data": {
      "text/plain": [
       "[<AccountProvider for IBMQ(hub='ibm-q', group='open', project='main')>]"
      ]
     },
     "execution_count": 7,
     "metadata": {},
     "output_type": "execute_result"
    }
   ],
   "source": [
    "IBMQ.providers() # list of providers, in our case just the standard open one since we dont have any special access (yet!)"
   ]
  },
  {
   "cell_type": "code",
   "execution_count": 9,
   "id": "6ceefa85-7ec0-4d6a-ae22-9a9e18dc953f",
   "metadata": {},
   "outputs": [],
   "source": [
    "provider = IBMQ.get_provider(hub=\"ibm-q\")"
   ]
  },
  {
   "cell_type": "markdown",
   "id": "36f24752-7999-4d8f-ac64-1694613ac2d2",
   "metadata": {},
   "source": [
    "### Backends\n",
    "list and choose a suitable backend"
   ]
  },
  {
   "cell_type": "code",
   "execution_count": 11,
   "id": "5d519e3a-0446-4cd1-96e9-fb527cdf09c1",
   "metadata": {},
   "outputs": [
    {
     "data": {
      "text/plain": [
       "[<IBMQBackend('ibmqx2') from IBMQ(hub='ibm-q', group='open', project='main')>,\n",
       " <IBMQBackend('ibmq_16_melbourne') from IBMQ(hub='ibm-q', group='open', project='main')>,\n",
       " <IBMQBackend('ibmq_armonk') from IBMQ(hub='ibm-q', group='open', project='main')>,\n",
       " <IBMQBackend('ibmq_athens') from IBMQ(hub='ibm-q', group='open', project='main')>,\n",
       " <IBMQBackend('ibmq_santiago') from IBMQ(hub='ibm-q', group='open', project='main')>,\n",
       " <IBMQBackend('ibmq_lima') from IBMQ(hub='ibm-q', group='open', project='main')>,\n",
       " <IBMQBackend('ibmq_belem') from IBMQ(hub='ibm-q', group='open', project='main')>,\n",
       " <IBMQBackend('ibmq_quito') from IBMQ(hub='ibm-q', group='open', project='main')>]"
      ]
     },
     "execution_count": 11,
     "metadata": {},
     "output_type": "execute_result"
    }
   ],
   "source": [
    "provider.backends(simulator=False, operational=True)"
   ]
  },
  {
   "cell_type": "markdown",
   "id": "8222eb7a-440d-4d99-a00d-5db293396163",
   "metadata": {},
   "source": [
    "show the one that has more than 10 qubits and is operational"
   ]
  },
  {
   "cell_type": "code",
   "execution_count": 12,
   "id": "04dce5e0-953a-47db-97cd-2c2570c0c342",
   "metadata": {},
   "outputs": [
    {
     "data": {
      "text/plain": [
       "[<IBMQBackend('ibmq_16_melbourne') from IBMQ(hub='ibm-q', group='open', project='main')>]"
      ]
     },
     "execution_count": 12,
     "metadata": {},
     "output_type": "execute_result"
    }
   ],
   "source": [
    "provider.backends(filters=lambda x: x.configuration().n_qubits >= 10\n",
    "                                    and not x.configuration().simulator\n",
    "                                    and x.status().operational==True)"
   ]
  },
  {
   "cell_type": "markdown",
   "id": "255e1ec9-6212-47c0-ae14-714a6e6685c6",
   "metadata": {},
   "source": [
    "show least busy device (in terms of jobs in the queue with 5 qubits"
   ]
  },
  {
   "cell_type": "code",
   "execution_count": 13,
   "id": "97a5c0c7-e9c8-4d20-b585-2ed0315327f8",
   "metadata": {},
   "outputs": [
    {
     "data": {
      "text/plain": [
       "<IBMQBackend('ibmq_santiago') from IBMQ(hub='ibm-q', group='open', project='main')>"
      ]
     },
     "execution_count": 13,
     "metadata": {},
     "output_type": "execute_result"
    }
   ],
   "source": [
    "from qiskit.providers.ibmq import least_busy\n",
    "\n",
    "small_devices = provider.backends(filters=lambda x: x.configuration().n_qubits == 5\n",
    "                                   and not x.configuration().simulator)\n",
    "least_busy(small_devices)"
   ]
  },
  {
   "cell_type": "code",
   "execution_count": 15,
   "id": "0d403353-6ab4-499c-a1d6-9a4af9901bc6",
   "metadata": {},
   "outputs": [],
   "source": [
    "backend = least_busy(small_devices)"
   ]
  },
  {
   "cell_type": "code",
   "execution_count": 31,
   "id": "326593fc-994e-4e8f-9fc3-139d439c06e4",
   "metadata": {},
   "outputs": [
    {
     "name": "stdout",
     "output_type": "stream",
     "text": [
      "pending jobs:  25\n",
      "maximum jobs to submit:  5\n",
      "operational:  True\n"
     ]
    }
   ],
   "source": [
    "status = backend.status()\n",
    "print(\"pending jobs: \", status.pending_jobs)\n",
    "print(\"maximum jobs to submit: \", backend.job_limit().maximum_jobs)\n",
    "print(\"operational: \", status.operational)"
   ]
  },
  {
   "cell_type": "markdown",
   "id": "ab10b603-eb75-4517-ae40-10b94b7aa711",
   "metadata": {},
   "source": [
    "last 5 jobs ran on this backend"
   ]
  },
  {
   "cell_type": "code",
   "execution_count": 36,
   "id": "cf6b307e-1525-4243-8d7b-3e63da236654",
   "metadata": {},
   "outputs": [],
   "source": [
    "ran_job = None\n",
    "for ran_job in backend.jobs(limit=5):\n",
    "    print(str(ran_job.job_id()) + \" \" + str(ran_job.status()))"
   ]
  },
  {
   "cell_type": "markdown",
   "id": "2cfc9ece-5d4c-43f3-8616-5b9d6eaa50d4",
   "metadata": {},
   "source": [
    "### Jobs"
   ]
  },
  {
   "cell_type": "code",
   "execution_count": 38,
   "id": "a76cbc58-11e7-475d-9b3e-50a2fdcc9b07",
   "metadata": {},
   "outputs": [],
   "source": [
    "import qiskit"
   ]
  },
  {
   "cell_type": "code",
   "execution_count": 40,
   "id": "9c3757e1-e327-4914-867b-a9bfb6fb6dd6",
   "metadata": {},
   "outputs": [
    {
     "data": {
      "text/plain": [
       "<qiskit.circuit.instructionset.InstructionSet at 0x7f6ee0a69d90>"
      ]
     },
     "execution_count": 40,
     "metadata": {},
     "output_type": "execute_result"
    }
   ],
   "source": [
    "qr = qiskit.QuantumRegister(3)\n",
    "cr = qiskit.ClassicalRegister(3)\n",
    "circuit = qiskit.QuantumCircuit(qr, cr)\n",
    "circuit.x(qr[0])\n",
    "circuit.x(qr[1])\n",
    "circuit.ccx(qr[0], qr[1], qr[2])\n",
    "circuit.cx(qr[0], qr[1])\n",
    "circuit.measure(qr, cr)"
   ]
  },
  {
   "cell_type": "code",
   "execution_count": 42,
   "id": "ade01d11-ade3-445b-afe3-b64cb3ad3ce1",
   "metadata": {},
   "outputs": [],
   "source": [
    "mapped_circuit = qiskit.compiler.transpile(circuit, backend=backend)\n",
    "#qobj = qiskit.compiler.assemble(mapped_circuit, backend=backend, shots=1024) # apparently deprecated and or unnecessary\n",
    "job = backend.run(mapped_circuit)"
   ]
  },
  {
   "cell_type": "code",
   "execution_count": 50,
   "id": "6c37c104-21ad-41cf-8c72-6f9b1df7f25b",
   "metadata": {},
   "outputs": [
    {
     "name": "stdout",
     "output_type": "stream",
     "text": [
      "26\n"
     ]
    },
    {
     "data": {
      "text/plain": [
       "<JobStatus.QUEUED: 'job is queued'>"
      ]
     },
     "execution_count": 50,
     "metadata": {},
     "output_type": "execute_result"
    }
   ],
   "source": [
    "print(status.pending_jobs)\n",
    "job.status()"
   ]
  },
  {
   "cell_type": "code",
   "execution_count": 51,
   "id": "ecced16e-f5d3-48fa-bd08-67447ae4209e",
   "metadata": {},
   "outputs": [
    {
     "data": {
      "text/plain": [
       "'60a522f3f9b1c6b392c5038f'"
      ]
     },
     "execution_count": 51,
     "metadata": {},
     "output_type": "execute_result"
    }
   ],
   "source": [
    "job.job_id()"
   ]
  },
  {
   "cell_type": "code",
   "execution_count": 43,
   "id": "aa22d405-91c4-4ec6-8f55-cfb769ed86ca",
   "metadata": {},
   "outputs": [],
   "source": [
    "retrieved_job = backend.retrieve_job(job.job_id())"
   ]
  },
  {
   "cell_type": "code",
   "execution_count": 52,
   "id": "ecf4199c-deb3-49bf-94c5-b1c3c11309ee",
   "metadata": {},
   "outputs": [],
   "source": [
    "# once job is done this should yield result\n",
    "#result = retrieved_job.result()\n",
    "#counts = result.get_counts()\n",
    "#print(counts)"
   ]
  },
  {
   "cell_type": "markdown",
   "id": "d6685c89-3c84-47b1-afe9-28c957825cad",
   "metadata": {},
   "source": [
    "### Job Manager"
   ]
  },
  {
   "cell_type": "code",
   "execution_count": 54,
   "id": "424631d3-9a7d-4d88-a955-296be2419e3f",
   "metadata": {},
   "outputs": [],
   "source": [
    "from qiskit.providers.ibmq.managed import IBMQJobManager\n",
    "\n",
    "sim_backend = provider.get_backend('ibmq_qasm_simulator')\n",
    "circs = qiskit.compiler.transpile([circuit]*20, backend=sim_backend)\n",
    "\n",
    "# Submit them all to the backend\n",
    "job_manager = IBMQJobManager()\n",
    "job_set = job_manager.run(circs, backend=sim_backend, name='foo')"
   ]
  },
  {
   "cell_type": "code",
   "execution_count": 55,
   "id": "a06f348d-a974-4512-8f1a-a439d2bc7c9b",
   "metadata": {},
   "outputs": [
    {
     "name": "stdout",
     "output_type": "stream",
     "text": [
      "Job set name: foo\n",
      "          ID: 2c9eb6b6c2c54dd2adbb543d17efdaef-16214354877853491\n",
      "        tags: []\n",
      "Summary report:\n",
      "       Total jobs: 1\n",
      "  Successful jobs: 1\n",
      "      Failed jobs: 0\n",
      "   Cancelled jobs: 0\n",
      "     Running jobs: 0\n",
      "     Pending jobs: 0\n",
      "\n",
      "Detail report:\n",
      "  experiments: 0-19\n",
      "    job index: 0\n",
      "    job ID: 60a524601a71edc100ff8cbd\n",
      "    name: foo_0_\n",
      "    status: job has successfully run\n"
     ]
    }
   ],
   "source": [
    "print(job_set.report())"
   ]
  },
  {
   "cell_type": "code",
   "execution_count": null,
   "id": "f5c51ef4-3913-4bcc-8852-a1591eb3a015",
   "metadata": {},
   "outputs": [],
   "source": []
  }
 ],
 "metadata": {
  "kernelspec": {
   "display_name": "Python 3",
   "language": "python",
   "name": "python3"
  },
  "language_info": {
   "codemirror_mode": {
    "name": "ipython",
    "version": 3
   },
   "file_extension": ".py",
   "mimetype": "text/x-python",
   "name": "python",
   "nbconvert_exporter": "python",
   "pygments_lexer": "ipython3",
   "version": "3.9.4"
  }
 },
 "nbformat": 4,
 "nbformat_minor": 5
}
