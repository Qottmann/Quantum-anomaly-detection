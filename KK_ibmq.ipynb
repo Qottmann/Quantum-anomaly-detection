{
 "cells": [
  {
   "cell_type": "markdown",
   "id": "2b0f2e21",
   "metadata": {},
   "source": [
    "Two important resources for this:\n",
    "  * [In-depth walkthrough setting up IBMQ account in qiskit, obtaining providers/backends and running jobs](https://quantum-computing.ibm.com/lab/docs/iql/manage/account/ibmq)\n",
    "  * [IBMQ backend class, has certain features / commands that differ from simulator backends](https://qiskit.org/documentation/stubs/qiskit.providers.ibmq.IBMQBackend.html#qiskit.providers.ibmq.IBMQBackend)"
   ]
  },
  {
   "cell_type": "code",
   "execution_count": 1,
   "id": "db102b1a",
   "metadata": {},
   "outputs": [],
   "source": [
    "from qiskit import IBMQ"
   ]
  },
  {
   "cell_type": "code",
   "execution_count": 2,
   "id": "03465093",
   "metadata": {},
   "outputs": [],
   "source": [
    "# token is obtained from IBMQ expierence website, just set up an account at https://quantum-computing.ibm.com/ and once run\n",
    "# IBMQ.enable_account(token)\n",
    "# IBMQ.save_account(token)"
   ]
  },
  {
   "cell_type": "code",
   "execution_count": 3,
   "id": "e945d34b",
   "metadata": {},
   "outputs": [
    {
     "data": {
      "text/plain": [
       "<AccountProvider for IBMQ(hub='ibm-q', group='open', project='main')>"
      ]
     },
     "execution_count": 3,
     "metadata": {},
     "output_type": "execute_result"
    }
   ],
   "source": [
    "IBMQ.load_account() # this then automatically loads your saved account"
   ]
  },
  {
   "cell_type": "code",
   "execution_count": 4,
   "id": "656a9043",
   "metadata": {},
   "outputs": [
    {
     "data": {
      "text/plain": [
       "[<AccountProvider for IBMQ(hub='ibm-q', group='open', project='main')>,\n",
       " <AccountProvider for IBMQ(hub='ibm-q-research', group='icfo-barcelona-1', project='main')>]"
      ]
     },
     "execution_count": 4,
     "metadata": {},
     "output_type": "execute_result"
    }
   ],
   "source": [
    "IBMQ.providers() # list of providers, in our case just the standard open one since we dont have any special access (yet!)"
   ]
  },
  {
   "cell_type": "code",
   "execution_count": 5,
   "id": "8204c6ab",
   "metadata": {},
   "outputs": [],
   "source": [
    "provider = IBMQ.get_provider(hub='ibm-q-research')"
   ]
  },
  {
   "cell_type": "markdown",
   "id": "b82df75e",
   "metadata": {},
   "source": [
    "### Backends\n",
    "list and choose a suitable backend"
   ]
  },
  {
   "cell_type": "code",
   "execution_count": 6,
   "id": "3cede141",
   "metadata": {},
   "outputs": [
    {
     "data": {
      "text/plain": [
       "[<IBMQBackend('ibmqx2') from IBMQ(hub='ibm-q-research', group='icfo-barcelona-1', project='main')>,\n",
       " <IBMQBackend('ibmq_16_melbourne') from IBMQ(hub='ibm-q-research', group='icfo-barcelona-1', project='main')>,\n",
       " <IBMQBackend('ibmq_armonk') from IBMQ(hub='ibm-q-research', group='icfo-barcelona-1', project='main')>,\n",
       " <IBMQBackend('ibmq_athens') from IBMQ(hub='ibm-q-research', group='icfo-barcelona-1', project='main')>,\n",
       " <IBMQBackend('ibmq_rome') from IBMQ(hub='ibm-q-research', group='icfo-barcelona-1', project='main')>,\n",
       " <IBMQBackend('ibmq_santiago') from IBMQ(hub='ibm-q-research', group='icfo-barcelona-1', project='main')>,\n",
       " <IBMQBackend('ibmq_bogota') from IBMQ(hub='ibm-q-research', group='icfo-barcelona-1', project='main')>,\n",
       " <IBMQBackend('ibmq_casablanca') from IBMQ(hub='ibm-q-research', group='icfo-barcelona-1', project='main')>,\n",
       " <IBMQBackend('ibmq_lima') from IBMQ(hub='ibm-q-research', group='icfo-barcelona-1', project='main')>,\n",
       " <IBMQBackend('ibmq_belem') from IBMQ(hub='ibm-q-research', group='icfo-barcelona-1', project='main')>,\n",
       " <IBMQBackend('ibmq_quito') from IBMQ(hub='ibm-q-research', group='icfo-barcelona-1', project='main')>,\n",
       " <IBMQBackend('ibmq_jakarta') from IBMQ(hub='ibm-q-research', group='icfo-barcelona-1', project='main')>,\n",
       " <IBMQBackend('ibmq_manila') from IBMQ(hub='ibm-q-research', group='icfo-barcelona-1', project='main')>]"
      ]
     },
     "execution_count": 6,
     "metadata": {},
     "output_type": "execute_result"
    }
   ],
   "source": [
    "provider.backends(simulator=False, operational=True)"
   ]
  },
  {
   "cell_type": "markdown",
   "id": "515ef1f1",
   "metadata": {},
   "source": [
    "show the one that has more than 10 qubits and is operational"
   ]
  },
  {
   "cell_type": "code",
   "execution_count": 7,
   "id": "a5c6c736",
   "metadata": {},
   "outputs": [
    {
     "data": {
      "text/plain": [
       "[<IBMQBackend('ibmq_16_melbourne') from IBMQ(hub='ibm-q-research', group='icfo-barcelona-1', project='main')>]"
      ]
     },
     "execution_count": 7,
     "metadata": {},
     "output_type": "execute_result"
    }
   ],
   "source": [
    "provider.backends(filters=lambda x: x.configuration().n_qubits >= 10\n",
    "                                    and not x.configuration().simulator\n",
    "                                    and x.status().operational==True)"
   ]
  },
  {
   "cell_type": "markdown",
   "id": "d9844926",
   "metadata": {},
   "source": [
    "show least busy device (in terms of jobs in the queue with 5 qubits"
   ]
  },
  {
   "cell_type": "code",
   "execution_count": 8,
   "id": "e2b5d153",
   "metadata": {},
   "outputs": [
    {
     "data": {
      "text/plain": [
       "<IBMQBackend('ibmqx2') from IBMQ(hub='ibm-q-research', group='icfo-barcelona-1', project='main')>"
      ]
     },
     "execution_count": 8,
     "metadata": {},
     "output_type": "execute_result"
    }
   ],
   "source": [
    "from qiskit.providers.ibmq import least_busy\n",
    "\n",
    "small_devices = provider.backends(filters=lambda x: x.configuration().n_qubits == 5\n",
    "                                   and not x.configuration().simulator)\n",
    "least_busy(small_devices)"
   ]
  },
  {
   "cell_type": "code",
   "execution_count": 18,
   "id": "8a2d88e8",
   "metadata": {},
   "outputs": [],
   "source": [
    "backend = least_busy(small_devices)"
   ]
  },
  {
   "cell_type": "code",
   "execution_count": 19,
   "id": "b1dd4fc4",
   "metadata": {},
   "outputs": [],
   "source": [
    "#backend = provider.backends(simulator=False, operational=True)[7]"
   ]
  },
  {
   "cell_type": "code",
   "execution_count": 20,
   "id": "dbff82b3",
   "metadata": {},
   "outputs": [
    {
     "data": {
      "text/plain": [
       "<IBMQBackend('ibmqx2') from IBMQ(hub='ibm-q-research', group='icfo-barcelona-1', project='main')>"
      ]
     },
     "execution_count": 20,
     "metadata": {},
     "output_type": "execute_result"
    }
   ],
   "source": [
    "backend"
   ]
  },
  {
   "cell_type": "code",
   "execution_count": 21,
   "id": "fcdace40",
   "metadata": {},
   "outputs": [
    {
     "name": "stdout",
     "output_type": "stream",
     "text": [
      "pending jobs:  10\n",
      "maximum jobs to submit:  20\n",
      "operational:  True\n"
     ]
    }
   ],
   "source": [
    "status = backend.status()\n",
    "print(\"pending jobs: \", status.pending_jobs)\n",
    "print(\"maximum jobs to submit: \", backend.job_limit().maximum_jobs)\n",
    "print(\"operational: \", status.operational)"
   ]
  },
  {
   "cell_type": "markdown",
   "id": "87865bdb",
   "metadata": {},
   "source": [
    "last 5 jobs ran on this backend"
   ]
  },
  {
   "cell_type": "code",
   "execution_count": 22,
   "id": "636cabfb",
   "metadata": {},
   "outputs": [],
   "source": [
    "ran_job = None\n",
    "for ran_job in backend.jobs(limit=5):\n",
    "    print(str(ran_job.job_id()) + \" \" + str(ran_job.status()))"
   ]
  },
  {
   "cell_type": "markdown",
   "id": "8a1830d0",
   "metadata": {},
   "source": [
    "### Jobs"
   ]
  },
  {
   "cell_type": "code",
   "execution_count": 38,
   "id": "33bf7252",
   "metadata": {},
   "outputs": [],
   "source": [
    "import qiskit"
   ]
  },
  {
   "cell_type": "code",
   "execution_count": 40,
   "id": "fb10da77",
   "metadata": {},
   "outputs": [
    {
     "data": {
      "text/plain": [
       "<qiskit.circuit.instructionset.InstructionSet at 0x7f6ee0a69d90>"
      ]
     },
     "execution_count": 40,
     "metadata": {},
     "output_type": "execute_result"
    }
   ],
   "source": [
    "qr = qiskit.QuantumRegister(3)\n",
    "cr = qiskit.ClassicalRegister(3)\n",
    "circuit = qiskit.QuantumCircuit(qr, cr)\n",
    "circuit.x(qr[0])\n",
    "circuit.x(qr[1])\n",
    "circuit.ccx(qr[0], qr[1], qr[2])\n",
    "circuit.cx(qr[0], qr[1])\n",
    "circuit.measure(qr, cr)"
   ]
  },
  {
   "cell_type": "code",
   "execution_count": 42,
   "id": "78e9e366",
   "metadata": {},
   "outputs": [],
   "source": [
    "mapped_circuit = qiskit.compiler.transpile(circuit, backend=backend)\n",
    "#qobj = qiskit.compiler.assemble(mapped_circuit, backend=backend, shots=1024) # apparently deprecated and or unnecessary\n",
    "job = backend.run(mapped_circuit)"
   ]
  },
  {
   "cell_type": "code",
   "execution_count": 50,
   "id": "27e72fad",
   "metadata": {},
   "outputs": [
    {
     "name": "stdout",
     "output_type": "stream",
     "text": [
      "26\n"
     ]
    },
    {
     "data": {
      "text/plain": [
       "<JobStatus.QUEUED: 'job is queued'>"
      ]
     },
     "execution_count": 50,
     "metadata": {},
     "output_type": "execute_result"
    }
   ],
   "source": [
    "print(status.pending_jobs)\n",
    "job.status()"
   ]
  },
  {
   "cell_type": "code",
   "execution_count": 51,
   "id": "8fa0a1b7",
   "metadata": {},
   "outputs": [
    {
     "data": {
      "text/plain": [
       "'60a522f3f9b1c6b392c5038f'"
      ]
     },
     "execution_count": 51,
     "metadata": {},
     "output_type": "execute_result"
    }
   ],
   "source": [
    "job.job_id()"
   ]
  },
  {
   "cell_type": "code",
   "execution_count": 43,
   "id": "56979d1e",
   "metadata": {},
   "outputs": [],
   "source": [
    "retrieved_job = backend.retrieve_job(job.job_id())"
   ]
  },
  {
   "cell_type": "code",
   "execution_count": 52,
   "id": "368e38f5",
   "metadata": {},
   "outputs": [],
   "source": [
    "# once job is done this should yield result\n",
    "#result = retrieved_job.result()\n",
    "#counts = result.get_counts()\n",
    "#print(counts)"
   ]
  },
  {
   "cell_type": "markdown",
   "id": "7ad74f41",
   "metadata": {},
   "source": [
    "### Job Manager"
   ]
  },
  {
   "cell_type": "code",
   "execution_count": 54,
   "id": "41976a4c",
   "metadata": {},
   "outputs": [],
   "source": [
    "from qiskit.providers.ibmq.managed import IBMQJobManager\n",
    "\n",
    "sim_backend = provider.get_backend('ibmq_qasm_simulator')\n",
    "circs = qiskit.compiler.transpile([circuit]*20, backend=sim_backend)\n",
    "\n",
    "# Submit them all to the backend\n",
    "job_manager = IBMQJobManager()\n",
    "job_set = job_manager.run(circs, backend=sim_backend, name='foo')"
   ]
  },
  {
   "cell_type": "code",
   "execution_count": 55,
   "id": "739ed84a",
   "metadata": {},
   "outputs": [
    {
     "name": "stdout",
     "output_type": "stream",
     "text": [
      "Job set name: foo\n",
      "          ID: 2c9eb6b6c2c54dd2adbb543d17efdaef-16214354877853491\n",
      "        tags: []\n",
      "Summary report:\n",
      "       Total jobs: 1\n",
      "  Successful jobs: 1\n",
      "      Failed jobs: 0\n",
      "   Cancelled jobs: 0\n",
      "     Running jobs: 0\n",
      "     Pending jobs: 0\n",
      "\n",
      "Detail report:\n",
      "  experiments: 0-19\n",
      "    job index: 0\n",
      "    job ID: 60a524601a71edc100ff8cbd\n",
      "    name: foo_0_\n",
      "    status: job has successfully run\n"
     ]
    }
   ],
   "source": [
    "print(job_set.report())"
   ]
  },
  {
   "cell_type": "code",
   "execution_count": null,
   "id": "0fd1514f",
   "metadata": {},
   "outputs": [],
   "source": []
  }
 ],
 "metadata": {
  "kernelspec": {
   "display_name": "Python 3",
   "language": "python",
   "name": "python3"
  },
  "language_info": {
   "codemirror_mode": {
    "name": "ipython",
    "version": 3
   },
   "file_extension": ".py",
   "mimetype": "text/x-python",
   "name": "python",
   "nbconvert_exporter": "python",
   "pygments_lexer": "ipython3",
   "version": "3.9.4"
  }
 },
 "nbformat": 4,
 "nbformat_minor": 5
}
