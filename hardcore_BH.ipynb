{
 "cells": [
  {
   "cell_type": "code",
   "execution_count": 3,
   "metadata": {},
   "outputs": [],
   "source": [
    "import time\n",
    "import numpy as np\n",
    "import qiskit\n",
    "from qiskit.opflow import X,Z,I\n",
    "from qiskit.opflow.state_fns import StateFn, CircuitStateFn\n",
    "from qiskit.providers.aer import StatevectorSimulator, AerSimulator\n",
    "from qiskit.algorithms import VQE\n",
    "from qiskit.algorithms.optimizers import COBYLA, SLSQP, SPSA\n",
    "import matplotlib.pyplot as plt\n",
    "from scipy import sparse\n",
    "import scipy.sparse.linalg.eigen.arpack as arp\n",
    "from modules.utils import *\n",
    "\n",
    "from tenpy.networks.mps import MPS\n",
    "from tenpy.models.hubbard import BoseHubbardChain\n",
    "from tenpy.algorithms import dmrg\n",
    "from tenpy.linalg import np_conserved\n",
    "\n",
    "%matplotlib inline"
   ]
  },
  {
   "cell_type": "markdown",
   "metadata": {},
   "source": [
    "# TENPY"
   ]
  },
  {
   "cell_type": "code",
   "execution_count": 24,
   "metadata": {},
   "outputs": [],
   "source": [
    "def DMRG_EBH(L, V, t_list, chi_max=30, bc_MPS='infinite'):\n",
    "\n",
    "    model_params = dict(n_max=1, filling=0.5, bc_MPS=bc_MPS, t=t_list,\n",
    "                        L=L, V=V, mu=0, conserve='N', verbose=0)\n",
    "    M = BoseHubbardChain(model_params)\n",
    "        \n",
    "    vector=[]\n",
    "    for i in range(M.lat.N_sites):\n",
    "        if i%2:\n",
    "            vector.append(1)\n",
    "        else:\n",
    "            vector.append(0)\n",
    "\n",
    "    psi = MPS.from_product_state(M.lat.mps_sites(), vector, bc=M.lat.bc_MPS)    \n",
    "        \n",
    "    dmrg_params = {                                                                                             \n",
    "        'mixer': True,                                                                                          \n",
    "        'trunc_params': {                                                                                       \n",
    "        'chi_max': chi_max,                                                                                                                                                                    \n",
    "        },                                                                                                      \n",
    "        'max_E_err': 1.e-16,                                                                                    \n",
    "        'verbose': 0\n",
    "    }\n",
    "    \n",
    "    info = dmrg.run(psi, M, dmrg_params)\n",
    "    \n",
    "    return info['E'], psi"
   ]
  },
  {
   "cell_type": "markdown",
   "metadata": {},
   "source": [
    "## INFINITE"
   ]
  },
  {
   "cell_type": "code",
   "execution_count": null,
   "metadata": {},
   "outputs": [],
   "source": [
    "chi = 50\n",
    "V_list = np.linspace(2,8,10)\n",
    "deltat_list = np.linspace(-1,1,10)\n",
    "L = 4\n",
    "mu = 0\n",
    "deltat = 0.5\n",
    "site = 0\n",
    "\n",
    "psi_array = []\n",
    "\n",
    "for deltat in deltat_list:\n",
    "    \n",
    "    print('deltat', deltat)\n",
    "    t_list = np.ones(L)\n",
    "    for i in range(len(t_list)):\n",
    "        t_list[i] -= deltat*(-1)**i\n",
    "    \n",
    "    psi_0 = []\n",
    "    for V in V_list:\n",
    "\n",
    "        print('V', V)\n",
    "        E0, psi0 = DMRG_EBH(L, V, t_list, chi_max=chi)\n",
    "        psi_0 = np.append(psi_0, psi0)\n",
    "\n",
    "    psi_array.append(psi_0)\n",
    "    \n",
    "    np.save('data/BH_MPS.npy',  psi_array)"
   ]
  },
  {
   "cell_type": "code",
   "execution_count": 6,
   "metadata": {},
   "outputs": [],
   "source": [
    "psi_array = np.load('data/BH_MPS.npy', allow_pickle=True)\n",
    "r = 200\n",
    "\n",
    "ES_array = []\n",
    "parity_array = []\n",
    "dd_array = []\n",
    "\n",
    "V_list = np.linspace(2,8,10)\n",
    "deltat_list = np.linspace(-1,1,10)\n",
    "\n",
    "for j,deltat in enumerate(deltat_list):\n",
    "    \n",
    "    ES_list = []\n",
    "    parity_list = []\n",
    "    dd_list = []\n",
    "\n",
    "    psi_list = psi_array[j]\n",
    "    \n",
    "    for i,V in enumerate(V_list):\n",
    "        \n",
    "        psi = psi_list[i]\n",
    "    \n",
    "        ES = np.exp(-np.array(psi.entanglement_spectrum()[2]))\n",
    "        dES = -np.sum(ES[::2])+np.sum(ES[1::2])\n",
    "        ES_list.append(dES)\n",
    "        \n",
    "        dd = psi.expectation_value('dN')[2]\n",
    "        dd_list.append(dd)\n",
    "        \n",
    "        dN_op = psi.sites[0].get_op('dN')\n",
    "        exp_op = np_conserved.expm(1.j * np.pi * dN_op)\n",
    "        psi.sites[0].add_op('exp_op', exp_op, hc = False)\n",
    "        op_array1 = np.repeat('exp_op',r)\n",
    "        op_array2 = np.repeat('exp_op',r+1)\n",
    "        parity = (psi.expectation_value_multi_sites(op_array1, i0=0) + psi.expectation_value_multi_sites(op_array2, i0=0))/2\n",
    "        parity_list.append(parity)\n",
    "        \n",
    "    parity_array.append(parity_list)\n",
    "    dd_array.append(dd_list)\n",
    "    ES_array.append(ES_list)"
   ]
  },
  {
   "cell_type": "code",
   "execution_count": 7,
   "metadata": {},
   "outputs": [
    {
     "data": {
      "image/png": "[encoded data removed]",
      "text/plain": [
       "<Figure size 576x360 with 2 Axes>"
      ]
     },
     "metadata": {
      "needs_background": "light"
     },
     "output_type": "display_data"
    },
    {
     "data": {
      "image/png": "[encoded data removed]",
      "text/plain": [
       "<Figure size 576x360 with 2 Axes>"
      ]
     },
     "metadata": {
      "needs_background": "light"
     },
     "output_type": "display_data"
    }
   ],
   "source": [
    "V_list = np.linspace(2,8,10)\n",
    "deltat_list = np.linspace(-1,1,10)\n",
    "\n",
    "fig,ax = plt.subplots(figsize=(8,5))\n",
    "cmap = plt.get_cmap(\"plasma\") #'viridis'\n",
    "im = ax.pcolormesh(V_list, deltat_list, np.abs(dd_array), cmap=cmap)\n",
    "cbar = fig.colorbar(im, ax=ax)\n",
    "cbar.ax.tick_params(labelsize=20)\n",
    "ax.set_title(\"density-density correlation\",fontsize=20)\n",
    "ax.set_xlabel(r\"$V$\",fontsize=24)\n",
    "ax.set_ylabel(r\"$\\delta t$\",fontsize=24)\n",
    "ax.tick_params(labelsize=20)\n",
    "\n",
    "fig,ax = plt.subplots(figsize=(8,5))\n",
    "cmap = plt.get_cmap(\"plasma\") #'viridis'\n",
    "im = ax.pcolormesh(V_list, deltat_list, np.abs(ES_array), cmap=cmap)\n",
    "cbar = fig.colorbar(im, ax=ax)\n",
    "cbar.ax.tick_params(labelsize=20)\n",
    "ax.set_title(\"Degeneracy entanglement spectrum\",fontsize=20)\n",
    "ax.set_xlabel(r\"$V$\",fontsize=24)\n",
    "ax.set_ylabel(r\"$\\delta t$\",fontsize=24)\n",
    "ax.tick_params(labelsize=20)"
   ]
  },
  {
   "cell_type": "markdown",
   "metadata": {},
   "source": [
    "# FINITE"
   ]
  },
  {
   "cell_type": "code",
   "execution_count": null,
   "metadata": {},
   "outputs": [],
   "source": [
    "chi = 50\n",
    "V_list = np.linspace(2,8,10)\n",
    "deltat_list = np.linspace(-1,1,10)\n",
    "L = 5\n",
    "mu = 0\n",
    "deltat = 0.5\n",
    "site = 0\n",
    "\n",
    "psi_array = []\n",
    "\n",
    "for deltat in deltat_list:\n",
    "    \n",
    "    print('deltat', deltat)\n",
    "    t_list = np.ones(L-1)\n",
    "    for i in range(len(t_list)):\n",
    "        t_list[i] -= deltat*(-1)**i\n",
    "    \n",
    "    psi_0 = []\n",
    "    for V in V_list:\n",
    "\n",
    "        print('V', V)\n",
    "        E0, psi0 = DMRG_EBH(L, V, t_list, chi_max=chi, bc_MPS='finite')\n",
    "        psi_0 = np.append(psi_0, psi0)\n",
    "\n",
    "    psi_array.append(psi_0)\n",
    "    \n",
    "    np.save('data/BH_MPS_L%.0f.npy' %L, psi_array)"
   ]
  },
  {
   "cell_type": "markdown",
   "metadata": {},
   "source": [
    "# L = 20"
   ]
  },
  {
   "cell_type": "code",
   "execution_count": 12,
   "metadata": {},
   "outputs": [],
   "source": [
    "L = 20\n",
    "psi_array = np.load('data/BH_MPS_L%.0f.npy' %L, allow_pickle=True)\n",
    "r = L-1\n",
    "\n",
    "ES_array = []\n",
    "parity_array = []\n",
    "dd_array = []\n",
    "\n",
    "V_list = np.linspace(2,8,10)\n",
    "deltat_list = np.linspace(-1,1,10)\n",
    "\n",
    "for j,deltat in enumerate(deltat_list):\n",
    "    \n",
    "    ES_list = []\n",
    "    parity_list = []\n",
    "    dd_list = []\n",
    "\n",
    "    psi_list = psi_array[j]\n",
    "    \n",
    "    for i,V in enumerate(V_list):\n",
    "        \n",
    "        psi = psi_list[i]\n",
    "    \n",
    "        ES = np.exp(-np.array(psi.entanglement_spectrum()[2]))\n",
    "        dES = -np.sum(ES[::2])+np.sum(ES[1::2])\n",
    "        ES_list.append(dES)\n",
    "        \n",
    "        dd = psi.expectation_value('dN')[int(L/2)]\n",
    "        dd_list.append(dd)\n",
    "        \n",
    "        dN_op = psi.sites[0].get_op('dN')\n",
    "        exp_op = np_conserved.expm(1.j * np.pi * dN_op)\n",
    "        psi.sites[0].add_op('exp_op', exp_op, hc = False)\n",
    "        op_array1 = np.repeat('exp_op',r)\n",
    "        op_array2 = np.repeat('exp_op',r+1)\n",
    "        parity = (psi.expectation_value_multi_sites(op_array1, i0=0) + psi.expectation_value_multi_sites(op_array2, i0=0))/2\n",
    "        parity_list.append(parity)\n",
    "        \n",
    "    parity_array.append(parity_list)\n",
    "    dd_array.append(dd_list)\n",
    "    ES_array.append(ES_list)"
   ]
  },
  {
   "cell_type": "code",
   "execution_count": 13,
   "metadata": {},
   "outputs": [
    {
     "data": {
      "image/png": "[encoded data removed]",
      "text/plain": [
       "<Figure size 576x360 with 2 Axes>"
      ]
     },
     "metadata": {
      "needs_background": "light"
     },
     "output_type": "display_data"
    },
    {
     "data": {
      "image/png": "[encoded data removed]",
      "text/plain": [
       "<Figure size 576x360 with 2 Axes>"
      ]
     },
     "metadata": {
      "needs_background": "light"
     },
     "output_type": "display_data"
    }
   ],
   "source": [
    "V_list = np.linspace(2,8,10)\n",
    "deltat_list = np.linspace(-1,1,10)\n",
    "\n",
    "fig,ax = plt.subplots(figsize=(8,5))\n",
    "cmap = plt.get_cmap(\"plasma\") #'viridis'\n",
    "im = ax.pcolormesh(V_list, deltat_list, np.abs(dd_array), cmap=cmap)\n",
    "cbar = fig.colorbar(im, ax=ax)\n",
    "cbar.ax.tick_params(labelsize=20)\n",
    "ax.set_title(\"density-density correlation\",fontsize=20)\n",
    "ax.set_xlabel(r\"$V$\",fontsize=24)\n",
    "ax.set_ylabel(r\"$\\delta t$\",fontsize=24)\n",
    "ax.tick_params(labelsize=20)\n",
    "\n",
    "fig,ax = plt.subplots(figsize=(8,5))\n",
    "cmap = plt.get_cmap(\"plasma\") #'viridis'\n",
    "im = ax.pcolormesh(V_list, deltat_list, np.abs(ES_array), cmap=cmap)\n",
    "cbar = fig.colorbar(im, ax=ax)\n",
    "cbar.ax.tick_params(labelsize=20)\n",
    "ax.set_title(\"Degeneracy entanglement spectrum\",fontsize=20)\n",
    "ax.set_xlabel(r\"$V$\",fontsize=24)\n",
    "ax.set_ylabel(r\"$\\delta t$\",fontsize=24)\n",
    "ax.tick_params(labelsize=20)"
   ]
  },
  {
   "cell_type": "code",
   "execution_count": 21,
   "metadata": {},
   "outputs": [],
   "source": [
    "L = 20\n",
    "psi_array = np.load('data/BH_MPS_L%.0f.npy' %L, allow_pickle=True)\n",
    "wf_array = []\n",
    "V_array = []\n",
    "deltat_array = []\n",
    "\n",
    "V_list = np.linspace(2,8,10)\n",
    "deltat_list = np.linspace(-1,1,10)\n",
    "\n",
    "for i, deltat in enumerate(deltat_list):\n",
    "    for j, V in enumerate(V_list):\n",
    "        \n",
    "        psi = psi_array[i][j]\n",
    "        wf = psi.get_theta(0,L).to_ndarray().reshape(-1)\n",
    "        wf_array.append(wf)\n",
    "        V_array.append(V)\n",
    "        deltat_array.append(deltat)\n",
    "\n",
    "np.savez(f'data/wf_BH_L%.0f.npz' %(L), deltat_array=deltat_array, V_array=V_array, wf_array = wf_array)"
   ]
  },
  {
   "cell_type": "markdown",
   "metadata": {},
   "source": [
    "## L = 5"
   ]
  },
  {
   "cell_type": "code",
   "execution_count": 26,
   "metadata": {},
   "outputs": [],
   "source": [
    "L = 5\n",
    "psi_array = np.load('data/BH_MPS_L%.0f.npy' %L, allow_pickle=True)\n",
    "r = L-1\n",
    "\n",
    "ES_array = []\n",
    "parity_array = []\n",
    "dd_array = []\n",
    "\n",
    "V_list = np.linspace(2,8,10)\n",
    "deltat_list = np.linspace(-1,1,10)\n",
    "\n",
    "for j,deltat in enumerate(deltat_list):\n",
    "    \n",
    "    ES_list = []\n",
    "    parity_list = []\n",
    "    dd_list = []\n",
    "\n",
    "    psi_list = psi_array[j]\n",
    "    \n",
    "    for i,V in enumerate(V_list):\n",
    "        \n",
    "        psi = psi_list[i]\n",
    "    \n",
    "        ES = np.exp(-np.array(psi.entanglement_spectrum()[2]))\n",
    "        dES = -np.sum(ES[::2])+np.sum(ES[1::2])\n",
    "        ES_list.append(dES)\n",
    "        \n",
    "        dd = psi.expectation_value('dN')[int(L/2)]\n",
    "        dd_list.append(dd)\n",
    "        \n",
    "        dN_op = psi.sites[0].get_op('dN')\n",
    "        exp_op = np_conserved.expm(1.j * np.pi * dN_op)\n",
    "        psi.sites[0].add_op('exp_op', exp_op, hc = False)\n",
    "        op_array1 = np.repeat('exp_op',r)\n",
    "        op_array2 = np.repeat('exp_op',r+1)\n",
    "        parity = (psi.expectation_value_multi_sites(op_array1, i0=0) + psi.expectation_value_multi_sites(op_array2, i0=0))/2\n",
    "        parity_list.append(parity)\n",
    "        \n",
    "    parity_array.append(parity_list)\n",
    "    dd_array.append(dd_list)\n",
    "    ES_array.append(ES_list)"
   ]
  },
  {
   "cell_type": "code",
   "execution_count": 27,
   "metadata": {},
   "outputs": [
    {
     "data": {
      "image/png": "[encoded data removed]",
      "text/plain": [
       "<Figure size 576x360 with 2 Axes>"
      ]
     },
     "metadata": {
      "needs_background": "light"
     },
     "output_type": "display_data"
    },
    {
     "data": {
      "image/png": "[encoded data removed]",
      "text/plain": [
       "<Figure size 576x360 with 2 Axes>"
      ]
     },
     "metadata": {
      "needs_background": "light"
     },
     "output_type": "display_data"
    }
   ],
   "source": [
    "V_list = np.linspace(2,8,10)\n",
    "deltat_list = np.linspace(-1,1,10)\n",
    "\n",
    "fig,ax = plt.subplots(figsize=(8,5))\n",
    "cmap = plt.get_cmap(\"plasma\") #'viridis'\n",
    "im = ax.pcolormesh(V_list, deltat_list, np.abs(dd_array), cmap=cmap)\n",
    "cbar = fig.colorbar(im, ax=ax)\n",
    "cbar.ax.tick_params(labelsize=20)\n",
    "ax.set_title(\"density-density correlation\",fontsize=20)\n",
    "ax.set_xlabel(r\"$V$\",fontsize=24)\n",
    "ax.set_ylabel(r\"$\\delta t$\",fontsize=24)\n",
    "ax.tick_params(labelsize=20)\n",
    "\n",
    "fig,ax = plt.subplots(figsize=(8,5))\n",
    "cmap = plt.get_cmap(\"plasma\") #'viridis'\n",
    "im = ax.pcolormesh(V_list, deltat_list, np.abs(ES_array), cmap=cmap)\n",
    "cbar = fig.colorbar(im, ax=ax)\n",
    "cbar.ax.tick_params(labelsize=20)\n",
    "ax.set_title(\"Degeneracy entanglement spectrum\",fontsize=20)\n",
    "ax.set_xlabel(r\"$V$\",fontsize=24)\n",
    "ax.set_ylabel(r\"$\\delta t$\",fontsize=24)\n",
    "ax.tick_params(labelsize=20)"
   ]
  },
  {
   "cell_type": "code",
   "execution_count": 28,
   "metadata": {},
   "outputs": [],
   "source": [
    "L = 5\n",
    "psi_array = np.load('data/BH_MPS_L%.0f.npy' %L, allow_pickle=True)\n",
    "wf_array = []\n",
    "V_array = []\n",
    "deltat_array = []\n",
    "\n",
    "V_list = np.linspace(2,8,10)\n",
    "deltat_list = np.linspace(-1,1,10)\n",
    "\n",
    "for i, deltat in enumerate(deltat_list):\n",
    "    for j, V in enumerate(V_list):\n",
    "        \n",
    "        psi = psi_array[i][j]\n",
    "        wf = psi.get_theta(0,L).to_ndarray().reshape(-1)\n",
    "        wf_array.append(wf)\n",
    "        V_array.append(V)\n",
    "        deltat_array.append(deltat)\n",
    "\n",
    "np.savez(f'data/wf_BH_L%.0f.npz' %(L), deltat_array=deltat_array, V_array=V_array, wf_array = wf_array)"
   ]
  },
  {
   "cell_type": "markdown",
   "metadata": {},
   "source": [
    "# EXACT DIAGONALIZATION"
   ]
  },
  {
   "cell_type": "code",
   "execution_count": 79,
   "metadata": {},
   "outputs": [],
   "source": [
    "def DEBHM_groundstate(L, V, deltat):\n",
    "    \"\"\"For comparison: obtain ground state energy from exact diagonalization.\n",
    "    Exponentially expensive in L, only works for small enough `L` <~ 20.\n",
    "    \n",
    "    L:number of sites \n",
    "    V: density-density interactions\n",
    "    t1: hopping 1\n",
    "    t2: hopping 2\n",
    "    mu: chemical potential\n",
    "    \"\"\"\n",
    "    if L >= 20:\n",
    "        warnings.warn(\"Large L: Exact diagonalization might take a long time!\")\n",
    "        \n",
    "    # get single site operaors\n",
    "    sp = sparse.csr_matrix(np.array([[0., 1.], [0., 0.]]))\n",
    "    sm = sparse.csr_matrix(np.array([[0., 0.], [1., 0.]]))\n",
    "    sx = sparse.csr_matrix(np.array([[0., 1.], [1., 0.]]))\n",
    "    sz = sparse.csr_matrix(np.array([[1., 0.], [0., -1.]]))\n",
    "    id = sparse.csr_matrix(np.eye(2))\n",
    "    \n",
    "    sz_list = []  # sx_list[i] = kron([id, id, ..., id, sx, id, .... id])\n",
    "    sp_list = []\n",
    "    sm_list = []    \n",
    "    for i_site in range(L):\n",
    "        z_ops = [id] * L\n",
    "        p_ops = [id] * L\n",
    "        m_ops = [id] * L\n",
    "        z_ops[i_site] = sz\n",
    "        p_ops[i_site] = sp\n",
    "        m_ops[i_site] = sm\n",
    "        Z = z_ops[0]\n",
    "        P = p_ops[0]\n",
    "        M = m_ops[0]\n",
    "        for j in range(1, L):\n",
    "            Z = sparse.kron(Z, z_ops[j], 'csr')\n",
    "            P = sparse.kron(P, p_ops[j], 'csr')\n",
    "            M = sparse.kron(M, m_ops[j], 'csr')\n",
    "        sz_list.append(Z)\n",
    "        sp_list.append(P)\n",
    "        sm_list.append(M)\n",
    "    H_hop = sparse.csr_matrix((2**L, 2**L))\n",
    "    H_mu = sparse.csr_matrix((2**L, 2**L))\n",
    "    H_V = sparse.csr_matrix((2**L, 2**L))\n",
    "    for i in range(L - 1):\n",
    "        H_hop = H_hop + ((-1)**L*deltat)*(sp_list[i] * sm_list[(i + 1) % L] + sm_list[i] * sp_list[(i + 1) % L])\n",
    "    for i in range(L - 1):\n",
    "        H_V = H_V + V*sz_list[i] * sz_list[(i + 1) % L]\n",
    "    for i in range(L):\n",
    "        H_mu = H_mu + mu*sz_list[i]\n",
    "    H = -H_mu - H_hop + H_V\n",
    "    E, V = arp.eigsh(H, k=1, which='SA', return_eigenvectors=True, ncv=20)\n",
    "    \n",
    "    return V[:,0], E[0], H\n",
    "\n",
    "def CDW_op(L, evec): \n",
    "\n",
    "    sz = sparse.csr_matrix(np.array([[1., 0.], [0., -1.]]))\n",
    "    id = sparse.csr_matrix(np.eye(2))\n",
    "    \n",
    "    sz_list = []  # sx_list[i] = kron([id, id, ..., id, sx, id, .... id])\n",
    "    for i_site in range(L):\n",
    "        z_ops = [id] * L\n",
    "        z_ops[i_site] = sz\n",
    "        Z = z_ops[0]\n",
    "        for j in range(1, L):\n",
    "            Z = sparse.kron(Z, z_ops[j], 'csr')\n",
    "        sz_list.append(Z)\n",
    "    dd = sparse.csr_matrix((2**L, 2**L))\n",
    "    dd = dd + (sz_list[1] * sz_list[int(L/2)])\n",
    "    \n",
    "    return np.conjugate(init_state).T@dd@init_state  \n",
    "\n",
    "def N_op(L, evec): \n",
    "\n",
    "    sz = sparse.csr_matrix(np.array([[1., 0.], [0., -1.]]))\n",
    "    id = sparse.csr_matrix(np.eye(2))\n",
    "    \n",
    "    sz_list = []  # sx_list[i] = kron([id, id, ..., id, sx, id, .... id])\n",
    "    for i_site in range(L):\n",
    "        z_ops = [id] * L\n",
    "        z_ops[i_site] = sz\n",
    "        Z = z_ops[0]\n",
    "        for j in range(1, L):\n",
    "            Z = sparse.kron(Z, z_ops[j], 'csr')\n",
    "        sz_list.append(Z)\n",
    "    Nexp = sparse.csr_matrix((2**L, 2**L))\n",
    "    for i in range(L):\n",
    "        Nexp = Nexp + sz_list[i]\n",
    "    \n",
    "    return np.conjugate(init_state).T@Nexp@init_state  "
   ]
  },
  {
   "cell_type": "code",
   "execution_count": null,
   "metadata": {},
   "outputs": [],
   "source": [
    "V_list = np.linspace(2,8,10)\n",
    "deltat_list = np.linspace(-1,1,10)\n",
    "L = 6\n",
    "mu = 1\n",
    "\n",
    "energies = np.zeros((10,10))\n",
    "CDW = np.zeros((10,10))\n",
    "Nexp = np.zeros((10,10))\n",
    "for i,deltat in enumerate(deltat_list):\n",
    "    for j,V in enumerate(V_list):\n",
    "        init_state, E, ham = DEBHM_groundstate(L, V, deltat)\n",
    "        energies[i][j] = E\n",
    "        CDW[i][j] = CDW_op(L, np.array(init_state))\n",
    "        Nexp[i][j] = N_op(L, np.array(init_state))"
   ]
  },
  {
   "cell_type": "code",
   "execution_count": null,
   "metadata": {},
   "outputs": [],
   "source": [
    "plt.imshow(CDW)\n",
    "plt.colorbar()"
   ]
  },
  {
   "cell_type": "code",
   "execution_count": null,
   "metadata": {},
   "outputs": [],
   "source": [
    "plt.imshow(Nexp)\n",
    "plt.colorbar()"
   ]
  },
  {
   "cell_type": "code",
   "execution_count": null,
   "metadata": {},
   "outputs": [],
   "source": []
  }
 ],
 "metadata": {
  "kernelspec": {
   "display_name": "Python 3",
   "language": "python",
   "name": "python3"
  },
  "language_info": {
   "codemirror_mode": {
    "name": "ipython",
    "version": 3
   },
   "file_extension": ".py",
   "mimetype": "text/x-python",
   "name": "python",
   "nbconvert_exporter": "python",
   "pygments_lexer": "ipython3",
   "version": "3.7.3"
  }
 },
 "nbformat": 4,
 "nbformat_minor": 2
}
