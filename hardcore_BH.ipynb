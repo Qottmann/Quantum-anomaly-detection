{
 "cells": [
  {
   "cell_type": "code",
   "execution_count": 1,
   "metadata": {},
   "outputs": [],
   "source": [
    "import time\n",
    "import numpy as np\n",
    "import qiskit\n",
    "from qiskit.opflow import X,Z,I\n",
    "from qiskit.opflow.state_fns import StateFn, CircuitStateFn\n",
    "from qiskit.providers.aer import StatevectorSimulator, AerSimulator\n",
    "from qiskit.algorithms import VQE\n",
    "from qiskit.algorithms.optimizers import COBYLA, SLSQP, SPSA\n",
    "import matplotlib.pyplot as plt\n",
    "from scipy import sparse\n",
    "import scipy.sparse.linalg.eigen.arpack as arp\n",
    "from modules.utils import *\n",
    "\n",
    "from tenpy.networks.mps import MPS\n",
    "from tenpy.models.hubbard import BoseHubbardChain\n",
    "from tenpy.algorithms import dmrg\n",
    "from tenpy.linalg import np_conserved\n",
    "\n",
    "%matplotlib inline"
   ]
  },
  {
   "cell_type": "markdown",
   "metadata": {},
   "source": [
    "# TENPY"
   ]
  },
  {
   "cell_type": "code",
   "execution_count": 7,
   "metadata": {},
   "outputs": [],
   "source": [
    "def DMRG_EBH(L, V, t_list, chi_max=30, bc_MPS='infinite'):\n",
    "\n",
    "    model_params = dict(n_max=1, filling=0.5, bc_MPS=bc_MPS, t=t_list,\n",
    "                        L=L, V=V, mu=0, conserve='N', verbose=0)\n",
    "    M = BoseHubbardChain(model_params)\n",
    "        \n",
    "    vector=[]\n",
    "    for i in range(M.lat.N_sites):\n",
    "        if i%2:\n",
    "            vector.append(1)\n",
    "        else:\n",
    "            vector.append(0)\n",
    "\n",
    "    psi = MPS.from_product_state(M.lat.mps_sites(), vector, bc=M.lat.bc_MPS)    \n",
    "        \n",
    "    dmrg_params = {                                                                                             \n",
    "        'mixer': True,                                                                                          \n",
    "        'trunc_params': {                                                                                       \n",
    "        'chi_max': chi_max,                                                                                                                                                                    \n",
    "        },                                                                                                      \n",
    "        'max_E_err': 1.e-16,                                                                                    \n",
    "        'verbose': 0\n",
    "    }\n",
    "    \n",
    "    info = dmrg.run(psi, M, dmrg_params)\n",
    "    \n",
    "    return info['E'], psi"
   ]
  },
  {
   "cell_type": "markdown",
   "metadata": {},
   "source": [
    "## INFINITE"
   ]
  },
  {
   "cell_type": "code",
   "execution_count": null,
   "metadata": {},
   "outputs": [],
   "source": [
    "chi = 50\n",
    "V_list = np.linspace(2,8,10)\n",
    "deltat_list = np.linspace(-1,1,10)\n",
    "L = 4\n",
    "mu = 0\n",
    "deltat = 0.5\n",
    "site = 0\n",
    "\n",
    "psi_array = []\n",
    "\n",
    "for deltat in deltat_list:\n",
    "    \n",
    "    print('deltat', deltat)\n",
    "    t_list = np.ones(L)\n",
    "    for i in range(len(t_list)):\n",
    "        t_list[i] -= deltat*(-1)**i\n",
    "    \n",
    "    psi_0 = []\n",
    "    for V in V_list:\n",
    "\n",
    "        print('V', V)\n",
    "        E0, psi0 = DMRG_EBH(L, V, t_list, chi_max=chi)\n",
    "        psi_0 = np.append(psi_0, psi0)\n",
    "\n",
    "    psi_array.append(psi_0)\n",
    "    \n",
    "    np.save('data/BH_MPS.npy',  psi_array)"
   ]
  },
  {
   "cell_type": "code",
   "execution_count": 36,
   "metadata": {},
   "outputs": [],
   "source": [
    "psi_array = np.load('data/BH_MPS.npy', allow_pickle=True)\n",
    "\n",
    "ES_array = []\n",
    "parity_array = []\n",
    "dd_array = []\n",
    "\n",
    "V_list = np.linspace(2,8,10)\n",
    "deltat_list = np.linspace(-1,1,10)\n",
    "\n",
    "for j,deltat in enumerate(deltat_list):\n",
    "    \n",
    "    ES_list = []\n",
    "    parity_list = []\n",
    "    dd_list = []\n",
    "\n",
    "    psi_list = psi_array[j]\n",
    "    \n",
    "    for i,V in enumerate(V_list):\n",
    "        \n",
    "        psi = psi_list[i]\n",
    "    \n",
    "        ES = np.exp(-np.array(psi.entanglement_spectrum()[2]))\n",
    "        dES = -np.sum(ES[::2])+np.sum(ES[1::2])\n",
    "        ES_list.append(dES)\n",
    "        \n",
    "        dd = psi.expectation_value('dN')[2]\n",
    "        dd_list.append(dd)\n",
    "        \n",
    "    dd_array.append(dd_list)\n",
    "    ES_array.append(ES_list)"
   ]
  },
  {
   "cell_type": "code",
   "execution_count": 39,
   "metadata": {},
   "outputs": [
    {
     "data": {
      "image/png": "[encoded data removed]",
      "text/plain": [
       "<Figure size 576x360 with 2 Axes>"
      ]
     },
     "metadata": {
      "needs_background": "light"
     },
     "output_type": "display_data"
    },
    {
     "data": {
      "image/png": "[encoded data removed]",
      "text/plain": [
       "<Figure size 576x360 with 2 Axes>"
      ]
     },
     "metadata": {
      "needs_background": "light"
     },
     "output_type": "display_data"
    }
   ],
   "source": [
    "V_list = np.linspace(2,8,10)\n",
    "deltat_list = np.linspace(-1,1,10)\n",
    "\n",
    "fig,ax = plt.subplots(figsize=(8,5))\n",
    "cmap = plt.get_cmap(\"plasma\") #'viridis'\n",
    "im = ax.pcolormesh(V_list, deltat_list, np.abs(dd_array), cmap=cmap)\n",
    "cbar = fig.colorbar(im, ax=ax)\n",
    "cbar.ax.tick_params(labelsize=20)\n",
    "ax.set_title(\"density-density correlation\",fontsize=20)\n",
    "ax.set_xlabel(r\"$V$\",fontsize=24)\n",
    "ax.set_ylabel(r\"$\\delta t$\",fontsize=24)\n",
    "ax.tick_params(labelsize=20)\n",
    "\n",
    "fig,ax = plt.subplots(figsize=(8,5))\n",
    "cmap = plt.get_cmap(\"plasma\") #'viridis'\n",
    "im = ax.pcolormesh(V_list, deltat_list, np.abs(ES_array), cmap=cmap)\n",
    "cbar = fig.colorbar(im, ax=ax)\n",
    "cbar.ax.tick_params(labelsize=20)\n",
    "ax.set_title(\"Degeneracy entanglement spectrum\",fontsize=20)\n",
    "ax.set_xlabel(r\"$V$\",fontsize=24)\n",
    "ax.set_ylabel(r\"$\\delta t$\",fontsize=24)\n",
    "ax.tick_params(labelsize=20)"
   ]
  },
  {
   "cell_type": "markdown",
   "metadata": {},
   "source": [
    "# FINITE"
   ]
  },
  {
   "cell_type": "code",
   "execution_count": 46,
   "metadata": {},
   "outputs": [
    {
     "name": "stdout",
     "output_type": "stream",
     "text": [
      "deltat -0.95\n",
      "V 0.01\n"
     ]
    },
    {
     "name": "stderr",
     "output_type": "stream",
     "text": [
      "/home/joana/anaconda3/lib/python3.7/site-packages/tenpy/linalg/lanczos.py:250: UserWarning: Poorly conditioned Lanczos!\n",
      "  warnings.warn(\"Poorly conditioned Lanczos!\")\n"
     ]
    },
    {
     "name": "stdout",
     "output_type": "stream",
     "text": [
      "V 0.027825594022071243\n"
     ]
    },
    {
     "name": "stderr",
     "output_type": "stream",
     "text": [
      "/home/joana/anaconda3/lib/python3.7/site-packages/tenpy/linalg/lanczos.py:250: UserWarning: Poorly conditioned Lanczos!\n",
      "  warnings.warn(\"Poorly conditioned Lanczos!\")\n"
     ]
    },
    {
     "name": "stdout",
     "output_type": "stream",
     "text": [
      "V 0.0774263682681127\n"
     ]
    },
    {
     "name": "stderr",
     "output_type": "stream",
     "text": [
      "/home/joana/anaconda3/lib/python3.7/site-packages/tenpy/linalg/lanczos.py:250: UserWarning: Poorly conditioned Lanczos!\n",
      "  warnings.warn(\"Poorly conditioned Lanczos!\")\n"
     ]
    },
    {
     "name": "stdout",
     "output_type": "stream",
     "text": [
      "V 0.21544346900318834\n"
     ]
    },
    {
     "name": "stderr",
     "output_type": "stream",
     "text": [
      "/home/joana/anaconda3/lib/python3.7/site-packages/tenpy/linalg/lanczos.py:250: UserWarning: Poorly conditioned Lanczos!\n",
      "  warnings.warn(\"Poorly conditioned Lanczos!\")\n"
     ]
    },
    {
     "name": "stdout",
     "output_type": "stream",
     "text": [
      "V 0.5994842503189409\n"
     ]
    },
    {
     "name": "stderr",
     "output_type": "stream",
     "text": [
      "/home/joana/anaconda3/lib/python3.7/site-packages/tenpy/linalg/lanczos.py:250: UserWarning: Poorly conditioned Lanczos!\n",
      "  warnings.warn(\"Poorly conditioned Lanczos!\")\n"
     ]
    },
    {
     "name": "stdout",
     "output_type": "stream",
     "text": [
      "V 1.6681005372000592\n"
     ]
    },
    {
     "name": "stderr",
     "output_type": "stream",
     "text": [
      "/home/joana/anaconda3/lib/python3.7/site-packages/tenpy/linalg/lanczos.py:250: UserWarning: Poorly conditioned Lanczos!\n",
      "  warnings.warn(\"Poorly conditioned Lanczos!\")\n"
     ]
    },
    {
     "name": "stdout",
     "output_type": "stream",
     "text": [
      "V 4.6415888336127775\n"
     ]
    },
    {
     "name": "stderr",
     "output_type": "stream",
     "text": [
      "/home/joana/anaconda3/lib/python3.7/site-packages/tenpy/linalg/lanczos.py:250: UserWarning: Poorly conditioned Lanczos!\n",
      "  warnings.warn(\"Poorly conditioned Lanczos!\")\n"
     ]
    },
    {
     "name": "stdout",
     "output_type": "stream",
     "text": [
      "V 12.915496650148826\n",
      "V 35.93813663804626\n",
      "V 100.0\n",
      "deltat -0.7388888888888888\n",
      "V 0.01\n"
     ]
    },
    {
     "name": "stderr",
     "output_type": "stream",
     "text": [
      "/home/joana/anaconda3/lib/python3.7/site-packages/tenpy/linalg/lanczos.py:250: UserWarning: Poorly conditioned Lanczos!\n",
      "  warnings.warn(\"Poorly conditioned Lanczos!\")\n"
     ]
    },
    {
     "name": "stdout",
     "output_type": "stream",
     "text": [
      "V 0.027825594022071243\n"
     ]
    },
    {
     "name": "stderr",
     "output_type": "stream",
     "text": [
      "/home/joana/anaconda3/lib/python3.7/site-packages/tenpy/linalg/lanczos.py:250: UserWarning: Poorly conditioned Lanczos!\n",
      "  warnings.warn(\"Poorly conditioned Lanczos!\")\n"
     ]
    },
    {
     "name": "stdout",
     "output_type": "stream",
     "text": [
      "V 0.0774263682681127\n"
     ]
    },
    {
     "name": "stderr",
     "output_type": "stream",
     "text": [
      "/home/joana/anaconda3/lib/python3.7/site-packages/tenpy/linalg/lanczos.py:250: UserWarning: Poorly conditioned Lanczos!\n",
      "  warnings.warn(\"Poorly conditioned Lanczos!\")\n"
     ]
    },
    {
     "name": "stdout",
     "output_type": "stream",
     "text": [
      "V 0.21544346900318834\n"
     ]
    },
    {
     "name": "stderr",
     "output_type": "stream",
     "text": [
      "/home/joana/anaconda3/lib/python3.7/site-packages/tenpy/linalg/lanczos.py:250: UserWarning: Poorly conditioned Lanczos!\n",
      "  warnings.warn(\"Poorly conditioned Lanczos!\")\n"
     ]
    },
    {
     "name": "stdout",
     "output_type": "stream",
     "text": [
      "V 0.5994842503189409\n"
     ]
    },
    {
     "name": "stderr",
     "output_type": "stream",
     "text": [
      "/home/joana/anaconda3/lib/python3.7/site-packages/tenpy/linalg/lanczos.py:250: UserWarning: Poorly conditioned Lanczos!\n",
      "  warnings.warn(\"Poorly conditioned Lanczos!\")\n"
     ]
    },
    {
     "name": "stdout",
     "output_type": "stream",
     "text": [
      "V 1.6681005372000592\n"
     ]
    },
    {
     "name": "stderr",
     "output_type": "stream",
     "text": [
      "/home/joana/anaconda3/lib/python3.7/site-packages/tenpy/linalg/lanczos.py:250: UserWarning: Poorly conditioned Lanczos!\n",
      "  warnings.warn(\"Poorly conditioned Lanczos!\")\n"
     ]
    },
    {
     "name": "stdout",
     "output_type": "stream",
     "text": [
      "V 4.6415888336127775\n",
      "V 12.915496650148826\n",
      "V 35.93813663804626\n",
      "V 100.0\n",
      "deltat -0.5277777777777777\n",
      "V 0.01\n"
     ]
    },
    {
     "name": "stderr",
     "output_type": "stream",
     "text": [
      "/home/joana/anaconda3/lib/python3.7/site-packages/tenpy/linalg/lanczos.py:250: UserWarning: Poorly conditioned Lanczos!\n",
      "  warnings.warn(\"Poorly conditioned Lanczos!\")\n"
     ]
    },
    {
     "name": "stdout",
     "output_type": "stream",
     "text": [
      "V 0.027825594022071243\n"
     ]
    },
    {
     "name": "stderr",
     "output_type": "stream",
     "text": [
      "/home/joana/anaconda3/lib/python3.7/site-packages/tenpy/linalg/lanczos.py:250: UserWarning: Poorly conditioned Lanczos!\n",
      "  warnings.warn(\"Poorly conditioned Lanczos!\")\n"
     ]
    },
    {
     "name": "stdout",
     "output_type": "stream",
     "text": [
      "V 0.0774263682681127\n"
     ]
    },
    {
     "name": "stderr",
     "output_type": "stream",
     "text": [
      "/home/joana/anaconda3/lib/python3.7/site-packages/tenpy/linalg/lanczos.py:250: UserWarning: Poorly conditioned Lanczos!\n",
      "  warnings.warn(\"Poorly conditioned Lanczos!\")\n"
     ]
    },
    {
     "name": "stdout",
     "output_type": "stream",
     "text": [
      "V 0.21544346900318834\n"
     ]
    },
    {
     "name": "stderr",
     "output_type": "stream",
     "text": [
      "/home/joana/anaconda3/lib/python3.7/site-packages/tenpy/linalg/lanczos.py:250: UserWarning: Poorly conditioned Lanczos!\n",
      "  warnings.warn(\"Poorly conditioned Lanczos!\")\n"
     ]
    },
    {
     "name": "stdout",
     "output_type": "stream",
     "text": [
      "V 0.5994842503189409\n"
     ]
    },
    {
     "name": "stderr",
     "output_type": "stream",
     "text": [
      "/home/joana/anaconda3/lib/python3.7/site-packages/tenpy/linalg/lanczos.py:250: UserWarning: Poorly conditioned Lanczos!\n",
      "  warnings.warn(\"Poorly conditioned Lanczos!\")\n"
     ]
    },
    {
     "name": "stdout",
     "output_type": "stream",
     "text": [
      "V 1.6681005372000592\n"
     ]
    },
    {
     "name": "stderr",
     "output_type": "stream",
     "text": [
      "/home/joana/anaconda3/lib/python3.7/site-packages/tenpy/linalg/lanczos.py:250: UserWarning: Poorly conditioned Lanczos!\n",
      "  warnings.warn(\"Poorly conditioned Lanczos!\")\n"
     ]
    },
    {
     "name": "stdout",
     "output_type": "stream",
     "text": [
      "V 4.6415888336127775\n",
      "V 12.915496650148826\n",
      "V 35.93813663804626\n",
      "V 100.0\n",
      "deltat -0.31666666666666665\n",
      "V 0.01\n"
     ]
    },
    {
     "name": "stderr",
     "output_type": "stream",
     "text": [
      "/home/joana/anaconda3/lib/python3.7/site-packages/tenpy/linalg/lanczos.py:250: UserWarning: Poorly conditioned Lanczos!\n",
      "  warnings.warn(\"Poorly conditioned Lanczos!\")\n"
     ]
    },
    {
     "name": "stdout",
     "output_type": "stream",
     "text": [
      "V 0.027825594022071243\n"
     ]
    },
    {
     "name": "stderr",
     "output_type": "stream",
     "text": [
      "/home/joana/anaconda3/lib/python3.7/site-packages/tenpy/linalg/lanczos.py:250: UserWarning: Poorly conditioned Lanczos!\n",
      "  warnings.warn(\"Poorly conditioned Lanczos!\")\n"
     ]
    },
    {
     "name": "stdout",
     "output_type": "stream",
     "text": [
      "V 0.0774263682681127\n"
     ]
    },
    {
     "name": "stderr",
     "output_type": "stream",
     "text": [
      "/home/joana/anaconda3/lib/python3.7/site-packages/tenpy/linalg/lanczos.py:250: UserWarning: Poorly conditioned Lanczos!\n",
      "  warnings.warn(\"Poorly conditioned Lanczos!\")\n"
     ]
    },
    {
     "name": "stdout",
     "output_type": "stream",
     "text": [
      "V 0.21544346900318834\n"
     ]
    },
    {
     "name": "stderr",
     "output_type": "stream",
     "text": [
      "/home/joana/anaconda3/lib/python3.7/site-packages/tenpy/linalg/lanczos.py:250: UserWarning: Poorly conditioned Lanczos!\n",
      "  warnings.warn(\"Poorly conditioned Lanczos!\")\n"
     ]
    },
    {
     "name": "stdout",
     "output_type": "stream",
     "text": [
      "V 0.5994842503189409\n",
      "V 1.6681005372000592\n"
     ]
    },
    {
     "name": "stderr",
     "output_type": "stream",
     "text": [
      "/home/joana/anaconda3/lib/python3.7/site-packages/tenpy/linalg/lanczos.py:250: UserWarning: Poorly conditioned Lanczos!\n",
      "  warnings.warn(\"Poorly conditioned Lanczos!\")\n"
     ]
    },
    {
     "name": "stdout",
     "output_type": "stream",
     "text": [
      "V 4.6415888336127775\n",
      "V 12.915496650148826\n",
      "V 35.93813663804626\n",
      "V 100.0\n",
      "deltat -0.10555555555555551\n",
      "V 0.01\n",
      "V 0.027825594022071243\n",
      "V 0.0774263682681127\n",
      "V 0.21544346900318834\n",
      "V 0.5994842503189409\n",
      "V 1.6681005372000592\n"
     ]
    },
    {
     "name": "stderr",
     "output_type": "stream",
     "text": [
      "/home/joana/anaconda3/lib/python3.7/site-packages/tenpy/linalg/lanczos.py:250: UserWarning: Poorly conditioned Lanczos!\n",
      "  warnings.warn(\"Poorly conditioned Lanczos!\")\n"
     ]
    },
    {
     "name": "stdout",
     "output_type": "stream",
     "text": [
      "V 4.6415888336127775\n",
      "V 12.915496650148826\n",
      "V 35.93813663804626\n",
      "V 100.0\n",
      "deltat 0.10555555555555562\n",
      "V 0.01\n",
      "V 0.027825594022071243\n",
      "V 0.0774263682681127\n",
      "V 0.21544346900318834\n",
      "V 0.5994842503189409\n",
      "V 1.6681005372000592\n",
      "V 4.6415888336127775\n",
      "V 12.915496650148826\n",
      "V 35.93813663804626\n",
      "V 100.0\n",
      "deltat 0.31666666666666665\n",
      "V 0.01\n",
      "V 0.027825594022071243\n",
      "V 0.0774263682681127\n",
      "V 0.21544346900318834\n",
      "V 0.5994842503189409\n",
      "V 1.6681005372000592\n",
      "V 4.6415888336127775\n",
      "V 12.915496650148826\n",
      "V 35.93813663804626\n",
      "V 100.0\n",
      "deltat 0.5277777777777779\n",
      "V 0.01\n",
      "V 0.027825594022071243\n",
      "V 0.0774263682681127\n",
      "V 0.21544346900318834\n",
      "V 0.5994842503189409\n",
      "V 1.6681005372000592\n",
      "V 4.6415888336127775\n",
      "V 12.915496650148826\n",
      "V 35.93813663804626\n",
      "V 100.0\n",
      "deltat 0.7388888888888889\n",
      "V 0.01\n",
      "V 0.027825594022071243\n",
      "V 0.0774263682681127\n",
      "V 0.21544346900318834\n",
      "V 0.5994842503189409\n",
      "V 1.6681005372000592\n",
      "V 4.6415888336127775\n",
      "V 12.915496650148826\n",
      "V 35.93813663804626\n",
      "V 100.0\n",
      "deltat 0.95\n",
      "V 0.01\n",
      "V 0.027825594022071243\n"
     ]
    },
    {
     "name": "stderr",
     "output_type": "stream",
     "text": [
      "/home/joana/anaconda3/lib/python3.7/site-packages/tenpy/linalg/lanczos.py:250: UserWarning: Poorly conditioned Lanczos!\n",
      "  warnings.warn(\"Poorly conditioned Lanczos!\")\n"
     ]
    },
    {
     "name": "stdout",
     "output_type": "stream",
     "text": [
      "V 0.0774263682681127\n",
      "V 0.21544346900318834\n",
      "V 0.5994842503189409\n",
      "V 1.6681005372000592\n",
      "V 4.6415888336127775\n",
      "V 12.915496650148826\n",
      "V 35.93813663804626\n",
      "V 100.0\n"
     ]
    }
   ],
   "source": [
    "chi = 50\n",
    "V_list = np.logspace(-2,2,10)\n",
    "deltat_list = np.linspace(-0.95,0.95,10)\n",
    "L = 10\n",
    "mu = 0\n",
    "site = 0\n",
    "\n",
    "psi_array = []\n",
    "\n",
    "for deltat in deltat_list:\n",
    "    \n",
    "    print('deltat', deltat)\n",
    "    t_list = np.ones(L-1)\n",
    "    for i in range(len(t_list)):\n",
    "        t_list[i] -= deltat*(-1)**i\n",
    "    \n",
    "    psi_0 = []\n",
    "    for V in V_list:\n",
    "\n",
    "        print('V', V)\n",
    "        E0, psi0 = DMRG_EBH(L, V, t_list, chi_max=chi, bc_MPS='finite')\n",
    "        psi_0 = np.append(psi_0, psi0)\n",
    "\n",
    "    psi_array.append(psi_0)\n",
    "    \n",
    "    np.save('data/BH_MPS_L%.0f_logV.npy' %L, psi_array)\n",
    "    \n",
    "wf_array = []\n",
    "V_array = []\n",
    "deltat_array = []\n",
    "\n",
    "for i, deltat in enumerate(deltat_list):\n",
    "    for j, V in enumerate(V_list):\n",
    "        \n",
    "        psi = psi_array[i][j]\n",
    "        wf = psi.get_theta(0,L).to_ndarray().reshape(-1)\n",
    "        wf_array.append(wf)\n",
    "        V_array.append(V)\n",
    "        deltat_array.append(deltat)\n",
    "\n",
    "np.savez(f'data/wf_BH_L%.0f_logV.npz' %(L), deltat_array=deltat_array, V_array=V_array, wf_array = wf_array)"
   ]
  },
  {
   "cell_type": "markdown",
   "metadata": {},
   "source": [
    "# L = 10"
   ]
  },
  {
   "cell_type": "code",
   "execution_count": 47,
   "metadata": {},
   "outputs": [
    {
     "data": {
      "image/png": "[encoded data removed]",
      "text/plain": [
       "<Figure size 576x360 with 2 Axes>"
      ]
     },
     "metadata": {
      "needs_background": "light"
     },
     "output_type": "display_data"
    },
    {
     "data": {
      "image/png": "[encoded data removed]",
      "text/plain": [
       "<Figure size 576x360 with 2 Axes>"
      ]
     },
     "metadata": {
      "needs_background": "light"
     },
     "output_type": "display_data"
    }
   ],
   "source": [
    "L = 10\n",
    "psi_array = np.load('data/BH_MPS_L%.0f_logV.npy' %L, allow_pickle=True)\n",
    "\n",
    "V_list = np.logspace(-2,2,10)\n",
    "deltat_list = np.linspace(-0.95,0.95,10)\n",
    "\n",
    "ES_array = []\n",
    "parity_array = []\n",
    "dd_array = []\n",
    "\n",
    "for j,deltat in enumerate(deltat_list):\n",
    "    \n",
    "    ES_list = []\n",
    "    parity_list = []\n",
    "    dd_list = []\n",
    "\n",
    "    psi_list = psi_array[j]\n",
    "    \n",
    "    for i,V in enumerate(V_list):\n",
    "        \n",
    "        psi = psi_list[i]\n",
    "    \n",
    "        ES = psi.entanglement_spectrum()[int(L/2)]\n",
    "        dES = -np.sum(ES[::2])+np.sum(ES[1::2])\n",
    "        ES_list.append(dES)\n",
    "        \n",
    "        dd = np.sum(abs(psi.expectation_value('dN')[3:L-3]))\n",
    "        dd_list.append(dd)\n",
    "        \n",
    "    dd_array.append(dd_list)\n",
    "    ES_array.append(ES_list)\n",
    "    \n",
    "fig,ax = plt.subplots(figsize=(8,5))\n",
    "cmap = plt.get_cmap(\"plasma\") #'viridis'\n",
    "im = ax.pcolormesh(V_list, deltat_list, np.abs(dd_array), cmap=cmap)\n",
    "cbar = fig.colorbar(im, ax=ax)\n",
    "cbar.ax.tick_params(labelsize=20)\n",
    "ax.set_title(\"density-density correlation\",fontsize=20)\n",
    "ax.set_xlabel(r\"$V$\",fontsize=24)\n",
    "ax.set_ylabel(r\"$\\delta t$\",fontsize=24)\n",
    "ax.tick_params(labelsize=20)\n",
    "plt.xscale(\"log\")\n",
    "\n",
    "fig,ax = plt.subplots(figsize=(8,5))\n",
    "cmap = plt.get_cmap(\"plasma\") #'viridis'\n",
    "im = ax.pcolormesh(V_list, deltat_list, np.abs(ES_array), cmap=cmap)\n",
    "cbar = fig.colorbar(im, ax=ax)\n",
    "cbar.ax.tick_params(labelsize=20)\n",
    "ax.set_title(\"Degeneracy entanglement spectrum\",fontsize=20)\n",
    "ax.set_xlabel(r\"$V$\",fontsize=24)\n",
    "ax.set_ylabel(r\"$\\delta t$\",fontsize=24)\n",
    "ax.tick_params(labelsize=20)\n",
    "plt.xscale(\"log\")"
   ]
  },
  {
   "cell_type": "code",
   "execution_count": 58,
   "metadata": {},
   "outputs": [
    {
     "data": {
      "text/plain": [
       "Text(0.5, 1.0, 'V = 100.00, deltat= 0.11')"
      ]
     },
     "execution_count": 58,
     "metadata": {},
     "output_type": "execute_result"
    },
    {
     "data": {
      "image/png": "[encoded data removed]",
      "text/plain": [
       "<Figure size 432x288 with 1 Axes>"
      ]
     },
     "metadata": {
      "needs_background": "light"
     },
     "output_type": "display_data"
    },
    {
     "data": {
      "image/png": "[encoded data removed]",
      "text/plain": [
       "<Figure size 432x288 with 1 Axes>"
      ]
     },
     "metadata": {
      "needs_background": "light"
     },
     "output_type": "display_data"
    },
    {
     "data": {
      "image/png": "[encoded data removed]",
      "text/plain": [
       "<Figure size 432x288 with 1 Axes>"
      ]
     },
     "metadata": {
      "needs_background": "light"
     },
     "output_type": "display_data"
    }
   ],
   "source": [
    "L = 10\n",
    "psi_array = np.load('data/BH_MPS_L%.0f_logV.npy' %L, allow_pickle=True)\n",
    "\n",
    "V_list = np.logspace(-2,2,10)\n",
    "deltat_list = np.linspace(-0.95,0.95,10)\n",
    "\n",
    "psi = psi_array[0][0]\n",
    "plt.figure()\n",
    "plt.ylim(-1,1)\n",
    "plt.plot(psi.expectation_value('dN'), 'o-')\n",
    "plt.title('V = %.2f, deltat= %.2f' %(V_list[0], deltat_list[0]))\n",
    "\n",
    "psi = psi_array[9][0]\n",
    "plt.figure()\n",
    "plt.ylim(-1,1)\n",
    "plt.plot(psi.expectation_value('dN'), 'o-')\n",
    "plt.title('V = %.2f, deltat= %.2f' %(V_list[0], deltat_list[9]))\n",
    "\n",
    "psi = psi_array[5][9]\n",
    "plt.figure()\n",
    "plt.ylim(-1,1)\n",
    "plt.plot(psi.expectation_value('dN'), 'o-')\n",
    "plt.title('V = %.2f, deltat= %.2f' %(V_list[9], deltat_list[5]))"
   ]
  },
  {
   "cell_type": "code",
   "execution_count": 61,
   "metadata": {},
   "outputs": [
    {
     "name": "stdout",
     "output_type": "stream",
     "text": [
      "deltat 1\n",
      "V 0\n"
     ]
    },
    {
     "name": "stderr",
     "output_type": "stream",
     "text": [
      "/home/joana/anaconda3/lib/python3.7/site-packages/tenpy/algorithms/dmrg.py:2038: UserWarning: H is zero in the given block, nothing to diagonalize.We just return the initial state again.\n",
      "  warnings.warn(\"H is zero in the given block, nothing to diagonalize.\"\n"
     ]
    },
    {
     "name": "stdout",
     "output_type": "stream",
     "text": [
      "V 0.1\n"
     ]
    },
    {
     "name": "stderr",
     "output_type": "stream",
     "text": [
      "/home/joana/anaconda3/lib/python3.7/site-packages/tenpy/algorithms/dmrg.py:2038: UserWarning: H is zero in the given block, nothing to diagonalize.We just return the initial state again.\n",
      "  warnings.warn(\"H is zero in the given block, nothing to diagonalize.\"\n"
     ]
    },
    {
     "name": "stdout",
     "output_type": "stream",
     "text": [
      "V 0.5\n"
     ]
    },
    {
     "name": "stderr",
     "output_type": "stream",
     "text": [
      "/home/joana/anaconda3/lib/python3.7/site-packages/tenpy/algorithms/dmrg.py:2038: UserWarning: H is zero in the given block, nothing to diagonalize.We just return the initial state again.\n",
      "  warnings.warn(\"H is zero in the given block, nothing to diagonalize.\"\n"
     ]
    },
    {
     "name": "stdout",
     "output_type": "stream",
     "text": [
      "V 3\n"
     ]
    },
    {
     "name": "stderr",
     "output_type": "stream",
     "text": [
      "/home/joana/anaconda3/lib/python3.7/site-packages/tenpy/algorithms/dmrg.py:2038: UserWarning: H is zero in the given block, nothing to diagonalize.We just return the initial state again.\n",
      "  warnings.warn(\"H is zero in the given block, nothing to diagonalize.\"\n"
     ]
    },
    {
     "data": {
      "image/png": "[encoded data removed]",
      "text/plain": [
       "<Figure size 432x288 with 1 Axes>"
      ]
     },
     "metadata": {
      "needs_background": "light"
     },
     "output_type": "display_data"
    },
    {
     "data": {
      "image/png": "[encoded data removed]",
      "text/plain": [
       "<Figure size 432x288 with 1 Axes>"
      ]
     },
     "metadata": {
      "needs_background": "light"
     },
     "output_type": "display_data"
    },
    {
     "data": {
      "image/png": "[encoded data removed]",
      "text/plain": [
       "<Figure size 432x288 with 1 Axes>"
      ]
     },
     "metadata": {
      "needs_background": "light"
     },
     "output_type": "display_data"
    },
    {
     "data": {
      "image/png": "[encoded data removed]",
      "text/plain": [
       "<Figure size 432x288 with 1 Axes>"
      ]
     },
     "metadata": {
      "needs_background": "light"
     },
     "output_type": "display_data"
    }
   ],
   "source": [
    "chi = 50\n",
    "deltat = 1\n",
    "V_list = [0, 0.1, 0.5, 3]\n",
    "L = 10\n",
    "mu = 0\n",
    "site = 0\n",
    "\n",
    "psi_0 = []\n",
    "    \n",
    "print('deltat', deltat)\n",
    "t_list = np.ones(L-1)\n",
    "for i in range(len(t_list)):\n",
    "    t_list[i] -= deltat*(-1)**i\n",
    "\n",
    "for V in V_list:\n",
    "    print('V', V)\n",
    "    E0, psi0 = DMRG_EBH(L, V, t_list, chi_max=chi, bc_MPS='finite')\n",
    "    psi_0 = np.append(psi_0, psi0)\n",
    "    \n",
    "for i, psi in enumerate(psi_0):\n",
    "    plt.figure()\n",
    "    plt.ylim(-1,1)\n",
    "    plt.plot(psi.expectation_value('dN'), 'o-')\n",
    "    plt.title('V = %.2f, deltat= %.2f' %(V_list[i], 1))"
   ]
  },
  {
   "cell_type": "code",
   "execution_count": null,
   "metadata": {},
   "outputs": [],
   "source": []
  }
 ],
 "metadata": {
  "kernelspec": {
   "display_name": "Python 3",
   "language": "python",
   "name": "python3"
  },
  "language_info": {
   "codemirror_mode": {
    "name": "ipython",
    "version": 3
   },
   "file_extension": ".py",
   "mimetype": "text/x-python",
   "name": "python",
   "nbconvert_exporter": "python",
   "pygments_lexer": "ipython3",
   "version": "3.7.3"
  }
 },
 "nbformat": 4,
 "nbformat_minor": 2
}
