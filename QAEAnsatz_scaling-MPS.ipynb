{
 "cells": [
  {
   "cell_type": "code",
   "execution_count": 3,
   "id": "f8edb210-a4ec-4baf-8982-673fcb4ccafc",
   "metadata": {},
   "outputs": [],
   "source": [
    "import time\n",
    "import itertools\n",
    "import numpy as np\n",
    "\n",
    "import qiskit\n",
    "from qiskit import *\n",
    "from qiskit.quantum_info import Statevector\n",
    "from qiskit.algorithms.optimizers import COBYLA, L_BFGS_B, SPSA\n",
    "from qiskit.opflow.state_fns import StateFn, CircuitStateFn\n",
    "from qiskit.providers.aer import StatevectorSimulator, AerSimulator\n",
    "\n",
    "from qiskit.opflow import CircuitSampler\n",
    "\n",
    "from qiskit.ignis.mitigation.measurement import CompleteMeasFitter # you will need to pip install qiskit-ignis\n",
    "from qiskit.ignis.mitigation.measurement import complete_meas_cal\n",
    "\n",
    "import matplotlib.pyplot as plt\n",
    "from matplotlib.ticker import MaxNLocator\n",
    "from matplotlib.colors import BoundaryNorm\n",
    "cmap = plt.get_cmap(\"plasma\") #'viridis'\n",
    "\n",
    "from modules.utils import *\n",
    "\n",
    "from qae import *\n",
    "\n",
    "import datetime"
   ]
  },
  {
   "cell_type": "code",
   "execution_count": 4,
   "id": "ea78f1aa-cb88-4687-9cf5-5da799b69bc6",
   "metadata": {},
   "outputs": [],
   "source": [
    "import tenpy\n",
    "from tenpy.networks.mps import MPS\n",
    "from tenpy.models.hubbard import BoseHubbardChain\n",
    "from tenpy.algorithms import dmrg\n",
    "from tenpy.linalg import np_conserved\n",
    "\n",
    "def DMRG_EBH(L, V, t_list, chi_max=30, bc_MPS='infinite'):\n",
    "\n",
    "    model_params = dict(n_max=1, filling=0.5, bc_MPS=bc_MPS, t=t_list,\n",
    "                        L=L, V=V, mu=0, conserve='N')\n",
    "    M = BoseHubbardChain(model_params)\n",
    "        \n",
    "    vector=[]\n",
    "    for i in range(M.lat.N_sites):\n",
    "        if i%2:\n",
    "            vector.append(1)\n",
    "        else:\n",
    "            vector.append(0)\n",
    "\n",
    "    psi = MPS.from_product_state(M.lat.mps_sites(), vector, bc=M.lat.bc_MPS)    \n",
    "        \n",
    "    dmrg_params = {                                                                                             \n",
    "        'mixer': True,                                                                                          \n",
    "        'trunc_params': {                                                                                       \n",
    "        'chi_max': chi_max,                                                                                                                                                                    \n",
    "        },                                                                                                      \n",
    "        'max_E_err': 1.e-16,                                                                                    \n",
    "        #'verbose': 0\n",
    "    }\n",
    "    \n",
    "    info = dmrg.run(psi, M, dmrg_params)\n",
    "    \n",
    "    return info['E'], psi"
   ]
  },
  {
   "cell_type": "code",
   "execution_count": 5,
   "id": "2455116c-ec9b-4864-a55d-4608e29bf020",
   "metadata": {},
   "outputs": [
    {
     "name": "stdout",
     "output_type": "stream",
     "text": [
      "0.17.4 1.20.1 0.8.4\n"
     ]
    }
   ],
   "source": [
    "print(qiskit.__version__, np.__version__, tenpy.__version__)"
   ]
  },
  {
   "cell_type": "code",
   "execution_count": 6,
   "id": "e6790455-5f05-4fb1-b2d7-14318b2434d2",
   "metadata": {},
   "outputs": [],
   "source": [
    "#IBMQ.load_account() # this then automatically loads your saved account\n",
    "#provider = IBMQ.get_provider(hub='ibm-q-research')"
   ]
  },
  {
   "cell_type": "code",
   "execution_count": 7,
   "id": "8ed32c34-5bef-4829-9159-b9631cee1ca4",
   "metadata": {},
   "outputs": [],
   "source": [
    "#device = provider.backend.ibmq_rome # 6 bogota ; 4 rome"
   ]
  },
  {
   "cell_type": "code",
   "execution_count": 8,
   "id": "bd703227-20e9-499d-9794-eb65b433c138",
   "metadata": {},
   "outputs": [],
   "source": [
    "### Real device execution:\n",
    "#backend = device \n",
    "\n",
    "### Simulation with noise profile from real device\n",
    "#backend = qiskit.providers.aer.AerSimulator.from_backend(device)\n",
    "\n",
    "### Simulation without noise\n",
    "qiskit_chi = 100\n",
    "\n",
    "backend = qiskit.providers.aer.AerSimulator(method=\"matrix_product_state\",\n",
    "                                            precision=\"single\",\n",
    "                                            matrix_product_state_max_bond_dimension = qiskit_chi,\n",
    "                                            matrix_product_state_truncation_threshold = 1e-10,\n",
    "                                            mps_sample_measure_algorithm = \"mps_apply_measure\", #alt: \"mps_probabilities\" \n",
    "                                           )\n",
    "\n",
    "backend = qiskit.providers.aer.QasmSimulator(method=\"matrix_product_state\",\n",
    "                                            precision=\"single\",\n",
    "                                            matrix_product_state_max_bond_dimension = qiskit_chi,\n",
    "                                            matrix_product_state_truncation_threshold = 1e-10,\n",
    "                                            mps_sample_measure_algorithm = \"mps_apply_measure\", #alt: \"mps_probabilities\" \n",
    "                                           )\n",
    "#backend = StatevectorSimulator()"
   ]
  },
  {
   "cell_type": "code",
   "execution_count": 9,
   "id": "8b6bddb0-76c8-49c9-9ede-86a9f6ff3a40",
   "metadata": {},
   "outputs": [],
   "source": [
    "### Preliminaries\n",
    "L = 16\n",
    "num_trash = int(np.log(L)/np.log(2))\n",
    "anti = 1 # 1 for ferromagnetic Ising model, -1 for antiferromagnet\n",
    "\n",
    "filename = \"data/QAEAnsatz_scaling_MPS\""
   ]
  },
  {
   "cell_type": "code",
   "execution_count": 10,
   "id": "a408b047-6237-45ca-9c82-eec6317f4994",
   "metadata": {},
   "outputs": [
    {
     "name": "stdout",
     "output_type": "stream",
     "text": [
      "bond dimension :  100\n"
     ]
    }
   ],
   "source": [
    "V = 1\n",
    "deltat=1\n",
    "chi = 100\n",
    "print(\"bond dimension : \", chi)"
   ]
  },
  {
   "cell_type": "code",
   "execution_count": 11,
   "id": "46d1db67-b187-4188-99a7-caf220c51d57",
   "metadata": {},
   "outputs": [
    {
     "name": "stderr",
     "output_type": "stream",
     "text": [
      "/home/kkottmann/TeNPy/tenpy/algorithms/dmrg.py:1916: UserWarning: H is zero in the given block, nothing to diagonalize.We just return the initial state again.\n",
      "  warnings.warn(\"H is zero in the given block, nothing to diagonalize.\"\n",
      "/home/kkottmann/TeNPy/tenpy/tools/params.py:223: UserWarning: unused option ['P_tol'] for config lanczos_params\n",
      "\n",
      "  warnings.warn(msg.format(keys=sorted(unused), name=self.name))\n"
     ]
    }
   ],
   "source": [
    "t_list = np.ones(L-1)\n",
    "for i in range(len(t_list)):\n",
    "    t_list[i] -= deltat*(-1)**i\n",
    "E0, psi0 = DMRG_EBH(L, V, t_list, chi_max=chi, bc_MPS='finite')"
   ]
  },
  {
   "cell_type": "code",
   "execution_count": 12,
   "id": "e526dd81-fa09-4762-ac7f-52dae1ec207f",
   "metadata": {},
   "outputs": [],
   "source": [
    "def qiskit_state(psi0):\n",
    "    # G is only the local tensor (not multiplied by any singular values) - see https://tenpy.readthedocs.io/en/latest/reference/tenpy.networks.mps.html\n",
    "    A_list = [psi0.get_B(i, form=\"G\").to_ndarray().transpose([1,0,2]) for i in range(L)]\n",
    "    for i,A in enumerate(A_list):\n",
    "        A_list[i] = (A[0], A[1])\n",
    "    S_list = [psi0.get_SR(i) for i in range(L-1)] # skip trivial last bond; hast to be of size L-1\n",
    "    return (A_list, S_list)"
   ]
  },
  {
   "cell_type": "markdown",
   "id": "97400670-110d-41dd-a4a3-f10fab914ad4",
   "metadata": {},
   "source": [
    "Test state preparation"
   ]
  },
  {
   "cell_type": "code",
   "execution_count": 13,
   "id": "a13610ae-2111-4d8f-a706-09dbf0054e8a",
   "metadata": {},
   "outputs": [],
   "source": [
    "initcirc = QuantumCircuit(QuantumRegister(L,\"q\")) #,ClassicalRegister(num_trash, 'c'))\n",
    "initcirc.set_matrix_product_state(qiskit_state(psi0))\n",
    "\n",
    "qi = qiskit.utils.QuantumInstance(backend=backend, # , seed_simulator=seed, seed_transpiler=seed\n",
    "                                  shots = 1000)"
   ]
  },
  {
   "cell_type": "code",
   "execution_count": 14,
   "id": "a7b1f0ce-aba7-46a0-97c3-f039ffaf487b",
   "metadata": {},
   "outputs": [],
   "source": [
    "QZ = np.zeros(L)"
   ]
  },
  {
   "cell_type": "code",
   "execution_count": 80,
   "id": "7552c126-959f-4c5f-93af-a4c5cbc17282",
   "metadata": {},
   "outputs": [
    {
     "name": "stderr",
     "output_type": "stream",
     "text": [
      "<ipython-input-80-50c7739f7155>:3: ComplexWarning: Casting complex values to real discards the imaginary part\n",
      "  QZ[i] = CircuitSampler(qi).convert(meas_outcome).eval()\n"
     ]
    },
    {
     "ename": "KeyboardInterrupt",
     "evalue": "",
     "output_type": "error",
     "traceback": [
      "\u001b[0;31m---------------------------------------------------------------------------\u001b[0m",
      "\u001b[0;31mKeyboardInterrupt\u001b[0m                         Traceback (most recent call last)",
      "\u001b[0;32m<ipython-input-80-50c7739f7155>\u001b[0m in \u001b[0;36m<module>\u001b[0;34m\u001b[0m\n\u001b[1;32m      1\u001b[0m \u001b[0;32mfor\u001b[0m \u001b[0mi\u001b[0m \u001b[0;32min\u001b[0m \u001b[0mrange\u001b[0m\u001b[0;34m(\u001b[0m\u001b[0mL\u001b[0m\u001b[0;34m)\u001b[0m\u001b[0;34m:\u001b[0m\u001b[0;34m\u001b[0m\u001b[0;34m\u001b[0m\u001b[0m\n\u001b[1;32m      2\u001b[0m     \u001b[0mmeas_outcome\u001b[0m \u001b[0;34m=\u001b[0m \u001b[0;34m~\u001b[0m\u001b[0mStateFn\u001b[0m\u001b[0;34m(\u001b[0m\u001b[0mQNKron\u001b[0m\u001b[0;34m(\u001b[0m\u001b[0mL\u001b[0m\u001b[0;34m,\u001b[0m\u001b[0mZ\u001b[0m\u001b[0;34m,\u001b[0m\u001b[0mI\u001b[0m\u001b[0;34m,\u001b[0m\u001b[0mi\u001b[0m\u001b[0;34m)\u001b[0m\u001b[0;34m)\u001b[0m \u001b[0;34m@\u001b[0m \u001b[0mStateFn\u001b[0m\u001b[0;34m(\u001b[0m\u001b[0minitcirc\u001b[0m\u001b[0;34m)\u001b[0m\u001b[0;34m\u001b[0m\u001b[0;34m\u001b[0m\u001b[0m\n\u001b[0;32m----> 3\u001b[0;31m     \u001b[0mQZ\u001b[0m\u001b[0;34m[\u001b[0m\u001b[0mi\u001b[0m\u001b[0;34m]\u001b[0m \u001b[0;34m=\u001b[0m \u001b[0mCircuitSampler\u001b[0m\u001b[0;34m(\u001b[0m\u001b[0mqi\u001b[0m\u001b[0;34m)\u001b[0m\u001b[0;34m.\u001b[0m\u001b[0mconvert\u001b[0m\u001b[0;34m(\u001b[0m\u001b[0mmeas_outcome\u001b[0m\u001b[0;34m)\u001b[0m\u001b[0;34m.\u001b[0m\u001b[0meval\u001b[0m\u001b[0;34m(\u001b[0m\u001b[0;34m)\u001b[0m\u001b[0;34m\u001b[0m\u001b[0;34m\u001b[0m\u001b[0m\n\u001b[0m",
      "\u001b[0;32m~/anaconda3/envs/qiskit_env/lib/python3.9/site-packages/qiskit/opflow/converters/circuit_sampler.py\u001b[0m in \u001b[0;36mconvert\u001b[0;34m(self, operator, params)\u001b[0m\n\u001b[1;32m    205\u001b[0m         \u001b[0mcircs\u001b[0m \u001b[0;34m=\u001b[0m \u001b[0mlist\u001b[0m\u001b[0;34m(\u001b[0m\u001b[0mself\u001b[0m\u001b[0;34m.\u001b[0m\u001b[0m_circuit_ops_cache\u001b[0m\u001b[0;34m.\u001b[0m\u001b[0mvalues\u001b[0m\u001b[0;34m(\u001b[0m\u001b[0;34m)\u001b[0m\u001b[0;34m)\u001b[0m \u001b[0;32mif\u001b[0m \u001b[0;32mnot\u001b[0m \u001b[0mself\u001b[0m\u001b[0;34m.\u001b[0m\u001b[0m_transpiled_circ_cache\u001b[0m \u001b[0;32melse\u001b[0m \u001b[0;32mNone\u001b[0m\u001b[0;34m\u001b[0m\u001b[0;34m\u001b[0m\u001b[0m\n\u001b[1;32m    206\u001b[0m         \u001b[0mp_b\u001b[0m \u001b[0;34m=\u001b[0m \u001b[0mcast\u001b[0m\u001b[0;34m(\u001b[0m\u001b[0mList\u001b[0m\u001b[0;34m[\u001b[0m\u001b[0mDict\u001b[0m\u001b[0;34m[\u001b[0m\u001b[0mParameter\u001b[0m\u001b[0;34m,\u001b[0m \u001b[0mfloat\u001b[0m\u001b[0;34m]\u001b[0m\u001b[0;34m]\u001b[0m\u001b[0;34m,\u001b[0m \u001b[0mparam_bindings\u001b[0m\u001b[0;34m)\u001b[0m\u001b[0;34m\u001b[0m\u001b[0;34m\u001b[0m\u001b[0m\n\u001b[0;32m--> 207\u001b[0;31m         sampled_statefn_dicts = self.sample_circuits(circuit_sfns=circs,\n\u001b[0m\u001b[1;32m    208\u001b[0m                                                      param_bindings=p_b)\n\u001b[1;32m    209\u001b[0m \u001b[0;34m\u001b[0m\u001b[0m\n",
      "\u001b[0;32m~/anaconda3/envs/qiskit_env/lib/python3.9/site-packages/qiskit/opflow/converters/circuit_sampler.py\u001b[0m in \u001b[0;36msample_circuits\u001b[0;34m(self, circuit_sfns, param_bindings)\u001b[0m\n\u001b[1;32m    307\u001b[0m             \u001b[0mready_circs\u001b[0m \u001b[0;34m=\u001b[0m \u001b[0mself\u001b[0m\u001b[0;34m.\u001b[0m\u001b[0m_transpiled_circ_cache\u001b[0m\u001b[0;34m\u001b[0m\u001b[0;34m\u001b[0m\u001b[0m\n\u001b[1;32m    308\u001b[0m \u001b[0;34m\u001b[0m\u001b[0m\n\u001b[0;32m--> 309\u001b[0;31m         results = self.quantum_instance.execute(ready_circs,\n\u001b[0m\u001b[1;32m    310\u001b[0m                                                 had_transpiled=self._transpile_before_bind)\n\u001b[1;32m    311\u001b[0m \u001b[0;34m\u001b[0m\u001b[0m\n",
      "\u001b[0;32m~/anaconda3/envs/qiskit_env/lib/python3.9/site-packages/qiskit/utils/quantum_instance.py\u001b[0m in \u001b[0;36mexecute\u001b[0;34m(self, circuits, had_transpiled)\u001b[0m\n\u001b[1;32m    478\u001b[0m                                   \u001b[0mrun_config\u001b[0m\u001b[0;34m=\u001b[0m\u001b[0mself\u001b[0m\u001b[0;34m.\u001b[0m\u001b[0m_run_config\u001b[0m\u001b[0;34m.\u001b[0m\u001b[0mto_dict\u001b[0m\u001b[0;34m(\u001b[0m\u001b[0;34m)\u001b[0m\u001b[0;34m,\u001b[0m\u001b[0;34m\u001b[0m\u001b[0;34m\u001b[0m\u001b[0m\n\u001b[1;32m    479\u001b[0m                                   job_callback=self._job_callback) if circuit_job else \\\n\u001b[0;32m--> 480\u001b[0;31m                      run_qobj(qobj, self._backend, self._qjob_config,\n\u001b[0m\u001b[1;32m    481\u001b[0m                               \u001b[0mself\u001b[0m\u001b[0;34m.\u001b[0m\u001b[0m_backend_options\u001b[0m\u001b[0;34m,\u001b[0m \u001b[0mself\u001b[0m\u001b[0;34m.\u001b[0m\u001b[0m_noise_config\u001b[0m\u001b[0;34m,\u001b[0m\u001b[0;34m\u001b[0m\u001b[0;34m\u001b[0m\u001b[0m\n\u001b[1;32m    482\u001b[0m                               self._skip_qobj_validation, self._job_callback)\n",
      "\u001b[0;32m~/anaconda3/envs/qiskit_env/lib/python3.9/site-packages/qiskit/utils/run_circuits.py\u001b[0m in \u001b[0;36mrun_qobj\u001b[0;34m(qobj, backend, qjob_config, backend_options, noise_config, skip_qobj_validation, job_callback)\u001b[0m\n\u001b[1;32m    327\u001b[0m         \u001b[0mresults\u001b[0m \u001b[0;34m=\u001b[0m \u001b[0;34m[\u001b[0m\u001b[0;34m]\u001b[0m\u001b[0;34m\u001b[0m\u001b[0;34m\u001b[0m\u001b[0m\n\u001b[1;32m    328\u001b[0m         \u001b[0;32mfor\u001b[0m \u001b[0mjob\u001b[0m \u001b[0;32min\u001b[0m \u001b[0mjobs\u001b[0m\u001b[0;34m:\u001b[0m\u001b[0;34m\u001b[0m\u001b[0;34m\u001b[0m\u001b[0m\n\u001b[0;32m--> 329\u001b[0;31m             \u001b[0mresults\u001b[0m\u001b[0;34m.\u001b[0m\u001b[0mappend\u001b[0m\u001b[0;34m(\u001b[0m\u001b[0mjob\u001b[0m\u001b[0;34m.\u001b[0m\u001b[0mresult\u001b[0m\u001b[0;34m(\u001b[0m\u001b[0;34m**\u001b[0m\u001b[0mqjob_config\u001b[0m\u001b[0;34m)\u001b[0m\u001b[0;34m)\u001b[0m\u001b[0;34m\u001b[0m\u001b[0;34m\u001b[0m\u001b[0m\n\u001b[0m\u001b[1;32m    330\u001b[0m \u001b[0;34m\u001b[0m\u001b[0m\n\u001b[1;32m    331\u001b[0m     \u001b[0mresult\u001b[0m \u001b[0;34m=\u001b[0m \u001b[0m_combine_result_objects\u001b[0m\u001b[0;34m(\u001b[0m\u001b[0mresults\u001b[0m\u001b[0;34m)\u001b[0m \u001b[0;32mif\u001b[0m \u001b[0mresults\u001b[0m \u001b[0;32melse\u001b[0m \u001b[0;32mNone\u001b[0m\u001b[0;34m\u001b[0m\u001b[0;34m\u001b[0m\u001b[0m\n",
      "\u001b[0;32m~/anaconda3/envs/qiskit_env/lib/python3.9/site-packages/qiskit/providers/aer/aerjob.py\u001b[0m in \u001b[0;36m_wrapper\u001b[0;34m(self, *args, **kwargs)\u001b[0m\n\u001b[1;32m     41\u001b[0m         \u001b[0;32mif\u001b[0m \u001b[0mself\u001b[0m\u001b[0;34m.\u001b[0m\u001b[0m_future\u001b[0m \u001b[0;32mis\u001b[0m \u001b[0;32mNone\u001b[0m\u001b[0;34m:\u001b[0m\u001b[0;34m\u001b[0m\u001b[0;34m\u001b[0m\u001b[0m\n\u001b[1;32m     42\u001b[0m             \u001b[0;32mraise\u001b[0m \u001b[0mJobError\u001b[0m\u001b[0;34m(\u001b[0m\u001b[0;34m\"Job not submitted yet!. You have to .submit() first!\"\u001b[0m\u001b[0;34m)\u001b[0m\u001b[0;34m\u001b[0m\u001b[0;34m\u001b[0m\u001b[0m\n\u001b[0;32m---> 43\u001b[0;31m         \u001b[0;32mreturn\u001b[0m \u001b[0mfunc\u001b[0m\u001b[0;34m(\u001b[0m\u001b[0mself\u001b[0m\u001b[0;34m,\u001b[0m \u001b[0;34m*\u001b[0m\u001b[0margs\u001b[0m\u001b[0;34m,\u001b[0m \u001b[0;34m**\u001b[0m\u001b[0mkwargs\u001b[0m\u001b[0;34m)\u001b[0m\u001b[0;34m\u001b[0m\u001b[0;34m\u001b[0m\u001b[0m\n\u001b[0m\u001b[1;32m     44\u001b[0m     \u001b[0;32mreturn\u001b[0m \u001b[0m_wrapper\u001b[0m\u001b[0;34m\u001b[0m\u001b[0;34m\u001b[0m\u001b[0m\n\u001b[1;32m     45\u001b[0m \u001b[0;34m\u001b[0m\u001b[0m\n",
      "\u001b[0;32m~/anaconda3/envs/qiskit_env/lib/python3.9/site-packages/qiskit/providers/aer/aerjob.py\u001b[0m in \u001b[0;36mresult\u001b[0;34m(self, timeout)\u001b[0m\n\u001b[1;32m    100\u001b[0m             \u001b[0mconcurrent\u001b[0m\u001b[0;34m.\u001b[0m\u001b[0mfutures\u001b[0m\u001b[0;34m.\u001b[0m\u001b[0mCancelledError\u001b[0m\u001b[0;34m:\u001b[0m \u001b[0;32mif\u001b[0m \u001b[0mjob\u001b[0m \u001b[0mcancelled\u001b[0m \u001b[0mbefore\u001b[0m \u001b[0mcompleted\u001b[0m\u001b[0;34m.\u001b[0m\u001b[0;34m\u001b[0m\u001b[0;34m\u001b[0m\u001b[0m\n\u001b[1;32m    101\u001b[0m         \"\"\"\n\u001b[0;32m--> 102\u001b[0;31m         \u001b[0;32mreturn\u001b[0m \u001b[0mself\u001b[0m\u001b[0;34m.\u001b[0m\u001b[0m_future\u001b[0m\u001b[0;34m.\u001b[0m\u001b[0mresult\u001b[0m\u001b[0;34m(\u001b[0m\u001b[0mtimeout\u001b[0m\u001b[0;34m=\u001b[0m\u001b[0mtimeout\u001b[0m\u001b[0;34m)\u001b[0m\u001b[0;34m\u001b[0m\u001b[0;34m\u001b[0m\u001b[0m\n\u001b[0m\u001b[1;32m    103\u001b[0m \u001b[0;34m\u001b[0m\u001b[0m\n\u001b[1;32m    104\u001b[0m     \u001b[0;34m@\u001b[0m\u001b[0mrequires_submit\u001b[0m\u001b[0;34m\u001b[0m\u001b[0;34m\u001b[0m\u001b[0m\n",
      "\u001b[0;32m~/anaconda3/envs/qiskit_env/lib/python3.9/concurrent/futures/_base.py\u001b[0m in \u001b[0;36mresult\u001b[0;34m(self, timeout)\u001b[0m\n\u001b[1;32m    438\u001b[0m                     \u001b[0;32mreturn\u001b[0m \u001b[0mself\u001b[0m\u001b[0;34m.\u001b[0m\u001b[0m__get_result\u001b[0m\u001b[0;34m(\u001b[0m\u001b[0;34m)\u001b[0m\u001b[0;34m\u001b[0m\u001b[0;34m\u001b[0m\u001b[0m\n\u001b[1;32m    439\u001b[0m \u001b[0;34m\u001b[0m\u001b[0m\n\u001b[0;32m--> 440\u001b[0;31m                 \u001b[0mself\u001b[0m\u001b[0;34m.\u001b[0m\u001b[0m_condition\u001b[0m\u001b[0;34m.\u001b[0m\u001b[0mwait\u001b[0m\u001b[0;34m(\u001b[0m\u001b[0mtimeout\u001b[0m\u001b[0;34m)\u001b[0m\u001b[0;34m\u001b[0m\u001b[0;34m\u001b[0m\u001b[0m\n\u001b[0m\u001b[1;32m    441\u001b[0m \u001b[0;34m\u001b[0m\u001b[0m\n\u001b[1;32m    442\u001b[0m                 \u001b[0;32mif\u001b[0m \u001b[0mself\u001b[0m\u001b[0;34m.\u001b[0m\u001b[0m_state\u001b[0m \u001b[0;32min\u001b[0m \u001b[0;34m[\u001b[0m\u001b[0mCANCELLED\u001b[0m\u001b[0;34m,\u001b[0m \u001b[0mCANCELLED_AND_NOTIFIED\u001b[0m\u001b[0;34m]\u001b[0m\u001b[0;34m:\u001b[0m\u001b[0;34m\u001b[0m\u001b[0;34m\u001b[0m\u001b[0m\n",
      "\u001b[0;32m~/anaconda3/envs/qiskit_env/lib/python3.9/threading.py\u001b[0m in \u001b[0;36mwait\u001b[0;34m(self, timeout)\u001b[0m\n\u001b[1;32m    310\u001b[0m         \u001b[0;32mtry\u001b[0m\u001b[0;34m:\u001b[0m    \u001b[0;31m# restore state no matter what (e.g., KeyboardInterrupt)\u001b[0m\u001b[0;34m\u001b[0m\u001b[0;34m\u001b[0m\u001b[0m\n\u001b[1;32m    311\u001b[0m             \u001b[0;32mif\u001b[0m \u001b[0mtimeout\u001b[0m \u001b[0;32mis\u001b[0m \u001b[0;32mNone\u001b[0m\u001b[0;34m:\u001b[0m\u001b[0;34m\u001b[0m\u001b[0;34m\u001b[0m\u001b[0m\n\u001b[0;32m--> 312\u001b[0;31m                 \u001b[0mwaiter\u001b[0m\u001b[0;34m.\u001b[0m\u001b[0macquire\u001b[0m\u001b[0;34m(\u001b[0m\u001b[0;34m)\u001b[0m\u001b[0;34m\u001b[0m\u001b[0;34m\u001b[0m\u001b[0m\n\u001b[0m\u001b[1;32m    313\u001b[0m                 \u001b[0mgotit\u001b[0m \u001b[0;34m=\u001b[0m \u001b[0;32mTrue\u001b[0m\u001b[0;34m\u001b[0m\u001b[0;34m\u001b[0m\u001b[0m\n\u001b[1;32m    314\u001b[0m             \u001b[0;32melse\u001b[0m\u001b[0;34m:\u001b[0m\u001b[0;34m\u001b[0m\u001b[0;34m\u001b[0m\u001b[0m\n",
      "\u001b[0;31mKeyboardInterrupt\u001b[0m: "
     ]
    }
   ],
   "source": [
    "for i in range(L):\n",
    "    meas_outcome = ~StateFn(QNKron(L,Z,I,i)) @ StateFn(initcirc)\n",
    "    QZ[i] = CircuitSampler(qi).convert(meas_outcome).eval()"
   ]
  },
  {
   "cell_type": "code",
   "execution_count": 54,
   "id": "9c203abf-708e-47d7-b81e-41295b462663",
   "metadata": {},
   "outputs": [
    {
     "data": {
      "text/plain": [
       "[<matplotlib.lines.Line2D at 0x7f1aa7e7c2e0>]"
      ]
     },
     "execution_count": 54,
     "metadata": {},
     "output_type": "execute_result"
    },
    {
     "data": {
      "image/png": "[encoded data removed]",
      "text/plain": [
       "<Figure size 432x288 with 1 Axes>"
      ]
     },
     "metadata": {
      "needs_background": "light"
     },
     "output_type": "display_data"
    }
   ],
   "source": [
    "plt.plot(QZ)"
   ]
  },
  {
   "cell_type": "markdown",
   "id": "7216e126-aee0-42c1-86cb-1674dc336faa",
   "metadata": {},
   "source": [
    "should display the edge states for $V=1$ and $\\delta t=1$"
   ]
  },
  {
   "cell_type": "code",
   "execution_count": 15,
   "id": "91dc043e-05db-4282-bca4-1bd911b46c4d",
   "metadata": {},
   "outputs": [],
   "source": [
    "def prepare_circuit(thetas, L=6, num_trash=2, init_state=None, measurement=True,vqe=False):\n",
    "    # QAE ansatz\n",
    "    QAE_circ = QAEAnsatz(num_qubits = L, num_trash_qubits= num_trash, trash_qubits_idxs = list(range(num_trash)), measure_trash=measurement).assign_parameters(thetas)\n",
    "    # initialize state vector\n",
    "    initcirc = QuantumCircuit(QuantumRegister(L,\"q\"),ClassicalRegister(num_trash, 'c'))\n",
    "    initcirc.set_matrix_product_state(qiskit_state(init_state))\n",
    "    # compose circuits\n",
    "    fullcirc = initcirc.compose(QAE_circ)\n",
    "    return fullcirc"
   ]
  },
  {
   "cell_type": "code",
   "execution_count": 16,
   "id": "3e922ca1-6180-4686-b32d-d02fdf080a04",
   "metadata": {},
   "outputs": [],
   "source": [
    "circ = prepare_circuit(thetas = np.random.rand(2*L+2), L = L, init_state = psi0)\n",
    "#circ.draw(\"mpl\")"
   ]
  },
  {
   "cell_type": "code",
   "execution_count": 17,
   "id": "7ab2afbf-5666-4f86-8d7c-33abc0692c92",
   "metadata": {},
   "outputs": [],
   "source": [
    "### Execute circuit\n",
    "count = 0\n",
    "def run_circuit(thetas, L, num_trash, init_state, vqe=False, shots=100, meas_fitter = None):\n",
    "    #global count\n",
    "    #count += 1\n",
    "    #print(count, \"thetas: \", thetas)\n",
    "    circ = prepare_circuit(thetas, L, num_trash, init_state, vqe=vqe)\n",
    "    tcirc = qiskit.transpile(circ, backend)\n",
    "    # Execute the circuit \n",
    "    job_sim = backend.run(tcirc, shots=shots) # , seed_simulator=123, seed_transpiler=234 fix seed to make it reproducible\n",
    "    result = job_sim.result()\n",
    "    # Results without mitigation\n",
    "    counts = result.get_counts()\n",
    "    if meas_fitter != None:\n",
    "        # Get the filter object\n",
    "        meas_filter = meas_fitter.filter\n",
    "\n",
    "        # Results with mitigation\n",
    "        mitigated_results = meas_filter.apply(result)\n",
    "        counts = mitigated_results.get_counts(0)\n",
    "    return counts"
   ]
  },
  {
   "cell_type": "code",
   "execution_count": null,
   "id": "18e16258-d809-4d41-80a5-42e25675da3f",
   "metadata": {},
   "outputs": [],
   "source": [
    "t0 = time.time()\n",
    "res = run_circuit(thetas = np.random.rand(num_trash*L+num_trash), L = L, num_trash = num_trash, init_state = psi0, shots=1000)\n",
    "print(\"execution time: \", time.time()-t0)"
   ]
  },
  {
   "cell_type": "code",
   "execution_count": 61,
   "id": "73163a7f-042d-4d30-8c1a-4695f93e5200",
   "metadata": {},
   "outputs": [
    {
     "data": {
      "text/plain": [
       "{'010': 243,\n",
       " '111': 81,\n",
       " '000': 116,\n",
       " '011': 101,\n",
       " '101': 64,\n",
       " '001': 76,\n",
       " '110': 104,\n",
       " '100': 215}"
      ]
     },
     "execution_count": 61,
     "metadata": {},
     "output_type": "execute_result"
    }
   ],
   "source": [
    "res"
   ]
  },
  {
   "cell_type": "code",
   "execution_count": 62,
   "id": "fc5d1f4d-ea9f-4502-bda6-125243dc9d78",
   "metadata": {},
   "outputs": [],
   "source": [
    "def count_ones(string):\n",
    "    return np.sum([int(_) for _ in string])"
   ]
  },
  {
   "cell_type": "code",
   "execution_count": 63,
   "id": "7fa02c17-f157-4a85-b514-0ba876562eeb",
   "metadata": {},
   "outputs": [
    {
     "data": {
      "text/plain": [
       "5"
      ]
     },
     "execution_count": 63,
     "metadata": {},
     "output_type": "execute_result"
    }
   ],
   "source": [
    "count_ones(\"01010111\")"
   ]
  },
  {
   "cell_type": "code",
   "execution_count": 64,
   "id": "2de7d88a-d6e6-46c7-8fb8-0545527c31a0",
   "metadata": {},
   "outputs": [
    {
     "data": {
      "text/plain": [
       "['010', '111', '000', '011', '101', '001', '110', '100']"
      ]
     },
     "execution_count": 64,
     "metadata": {},
     "output_type": "execute_result"
    }
   ],
   "source": [
    "[_ for _ in res]"
   ]
  },
  {
   "cell_type": "code",
   "execution_count": 65,
   "id": "62406d8e-6e0c-4c61-9add-90ea066d067a",
   "metadata": {},
   "outputs": [
    {
     "data": {
      "text/plain": [
       "['010', '111', '011', '101', '001', '110', '100']"
      ]
     },
     "execution_count": 65,
     "metadata": {},
     "output_type": "execute_result"
    }
   ],
   "source": [
    "[_ for _ in res if _ != \"0\" * num_trash]"
   ]
  },
  {
   "cell_type": "code",
   "execution_count": 66,
   "id": "07f318d5-0971-4dcb-a51a-dc09ece289d8",
   "metadata": {},
   "outputs": [
    {
     "data": {
      "text/plain": [
       "1315"
      ]
     },
     "execution_count": 66,
     "metadata": {},
     "output_type": "execute_result"
    }
   ],
   "source": [
    "np.sum([res[_]*count_ones(_) for _ in res if _ != \"0\" * num_trash]) # all measurement results except \"000\""
   ]
  },
  {
   "cell_type": "code",
   "execution_count": 67,
   "id": "747ac9cf-d7bb-4b5d-bc66-f7abaab20204",
   "metadata": {},
   "outputs": [],
   "source": [
    "### Optimize circuit\n",
    "def cost_function_single(thetas, L, num_trash, init_state, shots=1000, vqe=True, param_encoding=False, x=0, meas_fitter=None):\n",
    "    \"\"\" Optimizes circuit \"\"\"\n",
    "    if param_encoding: thetas = feature_encoding(thetas, x) \n",
    "    out = run_circuit(thetas, L, num_trash, init_state, vqe=vqe, shots=shots, meas_fitter=meas_fitter)\n",
    "    cost = np.sum([out[_]*count_ones(_) for _ in out if _ != \"0\" * num_trash]) # all measurement results except \"000\"\n",
    "    return cost/shots\n",
    "\n",
    "def cost_function(thetas, L, num_trash, init_states, shots=1000, vqe=True, param_encoding=False, x=0, meas_fitter=None):\n",
    "    \"\"\" Optimizes circuit \"\"\"\n",
    "    cost = 0.\n",
    "    for init_state in init_states:\n",
    "        cost += cost_function_single(thetas, L, num_trash, init_state, shots, vqe, param_encoding, meas_fitter=meas_fitter)\n",
    "    return cost/len(init_states)\n",
    "\n",
    "def optimize(init_states, L=6, num_trash=2, thetas=None, shots=1000, max_iter=400, vqe=True, param_encoding=False, x=0, pick_optimizer = None,\n",
    "            meas_fitter=None):\n",
    "    if thetas is None:\n",
    "        n_params = (num_trash*L+num_trasg)*2 if param_encoding else (num_trash*L+num_trash)\n",
    "        thetas = np.random.uniform(0, 2*np.pi, n_params) # initial parameters without feature encoding\n",
    "        \n",
    "    #print(\"Initial cost: {:.3f}\".format(cost_function(thetas, L, num_trash, init_states, shots, vqe, param_encoding, x)))\n",
    "    \n",
    "    counts, values, accepted = [], [], []\n",
    "    def store_intermediate_result(eval_count, parameters, mean, std, ac):\n",
    "        # counts.append(eval_count)\n",
    "        values.append(mean)\n",
    "        accepted.append(ac)\n",
    "\n",
    "    # Initialize optimizer\n",
    "    if pick_optimizer == \"cobyla\":\n",
    "        optimizer = COBYLA(maxiter=max_iter, tol=0.0001)\n",
    "    if pick_optimizer == \"adam\" or pick_optimizer == \"ADAM\":\n",
    "        optimizer = qiskit.algorithms.optimizers.ADAM(maxiter=max_iter)\n",
    "    # optimizer = L_BFGS_B(maxfun=300, maxiter=max_iter)#, factr=10, iprint=- 1, epsilon=1e-08)\n",
    "    if pick_optimizer == \"spsa\" or pick_optimizer == None:\n",
    "        optimizer = SPSA(maxiter=max_iter,\n",
    "                         #blocking=True,\n",
    "                         callback=store_intermediate_result,\n",
    "                         #learning_rate=0.3,\n",
    "                         #perturbation=0.1\n",
    "                         ) # recommended from qiskit (first iteraction takes quite long)\n",
    "                           # to reduce time figure out optimal learning rate and perturbation in advance\n",
    "    start_time = time.time()\n",
    "    ret = optimizer.optimize(\n",
    "                            num_vars=len(thetas),\n",
    "                            objective_function=(lambda thetas: cost_function(thetas, L, num_trash, init_states, shots, vqe, param_encoding, x, meas_fitter=meas_fitter)),\n",
    "                            initial_point=thetas\n",
    "                            )\n",
    "    print(\"Time: {:.5f} sec\".format(time.time()-start_time))\n",
    "    print(ret)\n",
    "    return ret[0], values, accepted\n",
    "\n"
   ]
  },
  {
   "cell_type": "code",
   "execution_count": 69,
   "id": "f878287d-8847-4574-b9e0-47d79ca728fd",
   "metadata": {},
   "outputs": [
    {
     "name": "stdout",
     "output_type": "stream",
     "text": [
      "Time: 55.33473 sec\n",
      "(array([-0.11245148,  2.65757708,  1.24616617,  3.78211954,  5.29188688,\n",
      "        1.37247104,  2.7129818 ,  7.80086283,  4.41320758,  6.92793833,\n",
      "        5.66019167, -0.05908621,  0.09433427,  6.18455598,  3.81631703,\n",
      "        4.37281042,  3.73378769, -2.09198213,  5.18541378,  3.99034717,\n",
      "        0.30440508,  4.67170836,  3.25416314,  2.7151162 , -0.13577781,\n",
      "        4.88093476]), 0.041, 360)\n"
     ]
    }
   ],
   "source": [
    "thetas_opt_mitigated, losses, accepted = optimize([psi0], max_iter=120, L=L, meas_fitter=None) #, pick_optimizer=\"adam\")"
   ]
  },
  {
   "cell_type": "code",
   "execution_count": 70,
   "id": "06ebea56-be42-4976-ba58-d86861851d48",
   "metadata": {},
   "outputs": [
    {
     "data": {
      "text/plain": [
       "[<matplotlib.lines.Line2D at 0x7f1aa891d2e0>]"
      ]
     },
     "execution_count": 70,
     "metadata": {},
     "output_type": "execute_result"
    },
    {
     "data": {
      "image/png": "[encoded data removed]",
      "text/plain": [
       "<Figure size 432x288 with 1 Axes>"
      ]
     },
     "metadata": {
      "needs_background": "light"
     },
     "output_type": "display_data"
    }
   ],
   "source": [
    "plt.plot(losses)"
   ]
  },
  {
   "cell_type": "markdown",
   "id": "8b5555cc-6946-44df-b6ef-3318a6b010b0",
   "metadata": {},
   "source": [
    "# Scaling"
   ]
  },
  {
   "cell_type": "code",
   "execution_count": 39,
   "id": "66d7418b-ff67-48e3-841b-10743bd0c07f",
   "metadata": {},
   "outputs": [],
   "source": [
    "Ls = [3,4,8,16]\n",
    "max_iter = [200,200,400,400]\n",
    "num_trashs = np.log(Ls)/np.log(2)\n",
    "num_trashs = np.array(num_trashs, dtype=\"int\")\n",
    "gz = 0\n",
    "gx = 0.1"
   ]
  },
  {
   "cell_type": "code",
   "execution_count": 40,
   "id": "5a316c88-7aaf-40f8-9c22-19e4a89e1e9d",
   "metadata": {},
   "outputs": [
    {
     "data": {
      "text/plain": [
       "array([1, 2, 3, 4])"
      ]
     },
     "execution_count": 40,
     "metadata": {},
     "output_type": "execute_result"
    }
   ],
   "source": [
    "num_trashs"
   ]
  },
  {
   "cell_type": "code",
   "execution_count": 41,
   "id": "6052936c-9221-4b40-bd53-ea7bb4c3bb55",
   "metadata": {},
   "outputs": [],
   "source": [
    "losses = [None] * len(Ls); accepted = [None] * len(Ls); thetas_opt= [None] * len(Ls)"
   ]
  },
  {
   "cell_type": "code",
   "execution_count": 42,
   "id": "920344f9-f47b-4fc2-8d86-18eeaa57e4e1",
   "metadata": {},
   "outputs": [
    {
     "name": "stdout",
     "output_type": "stream",
     "text": [
      "3 1\n",
      "Time: 8.67433 sec\n",
      "(array([3.07648272, 1.56361937, 7.84589415, 2.361194  ]), 0.0, 600)\n"
     ]
    },
    {
     "data": {
      "image/png": "[encoded data removed]",
      "text/plain": [
       "<Figure size 432x288 with 1 Axes>"
      ]
     },
     "metadata": {
      "needs_background": "light"
     },
     "output_type": "display_data"
    },
    {
     "name": "stdout",
     "output_type": "stream",
     "text": [
      "4 2\n",
      "Time: 12.73539 sec\n",
      "(array([ 2.3442365 , -0.04345353, -0.03793713,  4.61294707,  3.67121246,\n",
      "        6.28585541,  4.02443093,  1.57918527,  0.15229448,  6.27960353]), 0.01, 600)\n"
     ]
    },
    {
     "data": {
      "image/png": "[encoded data removed]",
      "text/plain": [
       "<Figure size 432x288 with 1 Axes>"
      ]
     },
     "metadata": {
      "needs_background": "light"
     },
     "output_type": "display_data"
    },
    {
     "name": "stdout",
     "output_type": "stream",
     "text": [
      "8 3\n",
      "Time: 63.14955 sec\n",
      "(array([-8.73995471e-02,  4.28642430e-01,  3.08963456e+00,  1.72460008e+00,\n",
      "        3.09108557e+00,  4.55632362e+00,  2.71032603e+00,  2.98738136e+00,\n",
      "        7.58566955e-01,  3.63867360e+00, -2.19903033e-03,  3.63819965e+00,\n",
      "        3.31882223e+00,  4.62217747e+00,  3.11968164e+00,  4.48007029e+00,\n",
      "        2.96187934e+00,  3.15432752e+00, -2.37261785e-03,  4.01989928e+00,\n",
      "        3.32198260e+00,  4.25318712e+00,  4.40105377e+00,  4.42019076e+00,\n",
      "        4.07115180e+00,  6.27286432e+00,  3.13756966e+00]), 0.0, 1200)\n"
     ]
    },
    {
     "data": {
      "image/png": "[encoded data removed]",
      "text/plain": [
       "<Figure size 432x288 with 1 Axes>"
      ]
     },
     "metadata": {
      "needs_background": "light"
     },
     "output_type": "display_data"
    },
    {
     "name": "stdout",
     "output_type": "stream",
     "text": [
      "16 4\n",
      "Time: 10225.27581 sec\n",
      "(array([-1.28547780e-01, -4.67807808e-02, -2.61400062e+00,  3.09731224e+00,\n",
      "        7.75768011e+00,  6.74988509e+00, -9.15197723e-02,  1.18656251e+00,\n",
      "        5.91844255e+00,  3.28957200e+00,  6.22673195e+00,  4.67682022e+00,\n",
      "        5.79295819e+00,  1.96932634e+00, -1.12183317e-02,  2.10824871e+00,\n",
      "        5.13568517e+00,  5.31303712e-03,  5.93549409e-01,  6.26613758e+00,\n",
      "        3.93897738e+00, -1.48762993e+00,  3.77539749e+00,  1.25623613e+00,\n",
      "        5.98641915e-01,  1.85917876e+00,  5.17446139e+00,  4.72114956e+00,\n",
      "       -1.19191781e-01, -1.08734214e+00,  4.45637388e+00,  2.21372673e+00,\n",
      "        4.30854331e+00,  3.14114816e+00,  3.12761451e+00,  6.25810343e+00,\n",
      "        2.13842256e+00,  6.37150739e+00,  4.41517194e+00,  8.00515968e-01,\n",
      "        4.33496945e+00,  4.02361248e+00,  3.22237477e+00,  4.48781332e+00,\n",
      "        3.25769028e+00,  1.94746671e+00,  1.31998000e+00,  4.72331553e+00,\n",
      "        3.13469238e+00,  3.16279981e+00,  3.16650220e+00,  3.16020864e+00,\n",
      "        3.72834017e+00,  2.46824176e+00,  7.22837807e+00,  2.25101989e+00,\n",
      "        6.70488593e+00,  6.95266411e+00,  1.75247711e+00, -3.19006678e+00,\n",
      "        3.98967318e+00,  5.06065900e+00,  7.54870610e+00,  5.43522299e+00,\n",
      "       -2.71068204e-03,  6.30451045e+00,  3.12647601e+00, -1.04609193e-02]), 0.0, 1200)\n"
     ]
    },
    {
     "data": {
      "image/png": "[encoded data removed]",
      "text/plain": [
       "<Figure size 432x288 with 1 Axes>"
      ]
     },
     "metadata": {
      "needs_background": "light"
     },
     "output_type": "display_data"
    }
   ],
   "source": [
    "for j,(L,num_trash) in enumerate(zip(Ls,num_trashs)):\n",
    "    print(L,num_trash)\n",
    "    ED_state, ED_E, ham = ising_groundstate(L, anti, np.float32(gx), np.float32(gz))\n",
    "    thetas_opt[j], losses[j], accepted[j] = optimize([ED_state], max_iter=max_iter[j], L=L, num_trash=num_trash, meas_fitter=None) #, pick_optimizer=\"adam\")\n",
    "    plt.plot(losses[j])\n",
    "    plt.show()"
   ]
  },
  {
   "cell_type": "code",
   "execution_count": 43,
   "id": "b323352a-c014-40ac-8606-d4f2ff4be8b1",
   "metadata": {},
   "outputs": [
    {
     "name": "stderr",
     "output_type": "stream",
     "text": [
      "/home/kkottmann/anaconda3/envs/qiskit_env/lib/python3.9/site-packages/numpy/core/_asarray.py:171: VisibleDeprecationWarning: Creating an ndarray from ragged nested sequences (which is a list-or-tuple of lists-or-tuples-or ndarrays with different lengths or shapes) is deprecated. If you meant to do this, you must specify 'dtype=object' when creating the ndarray.\n",
      "  return array(a, dtype, copy=False, order=order, subok=True)\n"
     ]
    }
   ],
   "source": [
    "np.savez(filename + \"_losses\", losses=losses, thetas_opt = thetas_opt, Ls=Ls, max_iter=max_iter, num_trashs=num_trashs)"
   ]
  },
  {
   "cell_type": "code",
   "execution_count": 48,
   "id": "547b0cf0-c92c-4cf0-ab26-5460917c41e6",
   "metadata": {},
   "outputs": [],
   "source": [
    "temp = np.load(filename + \"_losses.npz\", allow_pickle=True)\n",
    "losses0 = temp[\"losses\"]"
   ]
  },
  {
   "cell_type": "code",
   "execution_count": 49,
   "id": "bb17c5ac-279f-4298-82b3-87951bb1c08c",
   "metadata": {},
   "outputs": [],
   "source": [
    "min_losses = [np.min(l) for l in losses0]"
   ]
  },
  {
   "cell_type": "code",
   "execution_count": 50,
   "id": "d9e814ed-027f-42e9-9a76-2715fbec3ac5",
   "metadata": {},
   "outputs": [
    {
     "data": {
      "text/plain": [
       "[0.0, 0.0, 0.0, 0.0]"
      ]
     },
     "execution_count": 50,
     "metadata": {},
     "output_type": "execute_result"
    }
   ],
   "source": [
    "min_losses"
   ]
  },
  {
   "cell_type": "code",
   "execution_count": 51,
   "id": "e20c70e2-32e5-444b-a6e2-d01de74fb4ae",
   "metadata": {},
   "outputs": [
    {
     "data": {
      "text/plain": [
       "[<matplotlib.lines.Line2D at 0x7fb75d013490>]"
      ]
     },
     "execution_count": 51,
     "metadata": {},
     "output_type": "execute_result"
    },
    {
     "data": {
      "image/png": "[encoded data removed]",
      "text/plain": [
       "<Figure size 432x360 with 1 Axes>"
      ]
     },
     "metadata": {
      "needs_background": "light"
     },
     "output_type": "display_data"
    }
   ],
   "source": [
    "fig, ax = plt.subplots(figsize=(6,5))\n",
    "ax.plot(Ls, min_losses,\"x--\")\n",
    "#ax.set_yscale(\"log\")\n",
    "#ax.set_xscale(\"log\")"
   ]
  },
  {
   "cell_type": "code",
   "execution_count": 142,
   "id": "daf5354f-6ede-4d9d-bedf-9022836996ea",
   "metadata": {},
   "outputs": [],
   "source": [
    "gxs = np.linspace(0,2,10)\n",
    "L = 10\n",
    "Smag = []\n",
    "for gx in gxs:\n",
    "    ED_state, ED_E, ham = ising_groundstate(L, anti, np.float32(gx), np.float32(gz))\n",
    "    Sen = ED_E\n",
    "    Smag.append(ED_state.T.conj()@Mag(L,anti)@ED_state)\n",
    "    "
   ]
  },
  {
   "cell_type": "code",
   "execution_count": 143,
   "id": "4fbb1b46-29c8-4482-a8d2-dc64a8d2cae1",
   "metadata": {},
   "outputs": [
    {
     "name": "stderr",
     "output_type": "stream",
     "text": [
      "/home/kkottmann/anaconda3/envs/qiskit_env/lib/python3.9/site-packages/numpy/core/_asarray.py:102: ComplexWarning: Casting complex values to real discards the imaginary part\n",
      "  return array(a, dtype, copy=False, order=order)\n"
     ]
    },
    {
     "data": {
      "text/plain": [
       "[<matplotlib.lines.Line2D at 0x7f794e4a55b0>]"
      ]
     },
     "execution_count": 143,
     "metadata": {},
     "output_type": "execute_result"
    },
    {
     "data": {
      "image/png": "[encoded data removed]",
      "text/plain": [
       "<Figure size 432x288 with 1 Axes>"
      ]
     },
     "metadata": {
      "needs_background": "light"
     },
     "output_type": "display_data"
    }
   ],
   "source": [
    "plt.plot(gxs, Smag)"
   ]
  },
  {
   "cell_type": "code",
   "execution_count": null,
   "id": "35677513-09f2-4902-936f-7372f00e91c0",
   "metadata": {},
   "outputs": [],
   "source": []
  }
 ],
 "metadata": {
  "kernelspec": {
   "display_name": "Python 3",
   "language": "python",
   "name": "python3"
  },
  "language_info": {
   "codemirror_mode": {
    "name": "ipython",
    "version": 3
   },
   "file_extension": ".py",
   "mimetype": "text/x-python",
   "name": "python",
   "nbconvert_exporter": "python",
   "pygments_lexer": "ipython3",
   "version": "3.9.4"
  }
 },
 "nbformat": 4,
 "nbformat_minor": 5
}
