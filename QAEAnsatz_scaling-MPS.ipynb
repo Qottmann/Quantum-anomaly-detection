{
 "cells": [
  {
   "cell_type": "code",
   "execution_count": 4,
   "id": "f8edb210-a4ec-4baf-8982-673fcb4ccafc",
   "metadata": {},
   "outputs": [],
   "source": [
    "import time\n",
    "import itertools\n",
    "import numpy as np\n",
    "\n",
    "import qiskit\n",
    "from qiskit import *\n",
    "from qiskit.quantum_info import Statevector\n",
    "from qiskit.algorithms.optimizers import COBYLA, L_BFGS_B, SPSA\n",
    "from qiskit.opflow.state_fns import StateFn, CircuitStateFn\n",
    "from qiskit.providers.aer import StatevectorSimulator, AerSimulator\n",
    "\n",
    "from qiskit.opflow import CircuitSampler\n",
    "\n",
    "from qiskit.ignis.mitigation.measurement import CompleteMeasFitter # you will need to pip install qiskit-ignis\n",
    "from qiskit.ignis.mitigation.measurement import complete_meas_cal\n",
    "\n",
    "import matplotlib.pyplot as plt\n",
    "from matplotlib.ticker import MaxNLocator\n",
    "from matplotlib.colors import BoundaryNorm\n",
    "cmap = plt.get_cmap(\"plasma\") #'viridis'\n",
    "\n",
    "from modules.utils import *\n",
    "\n",
    "from qae import *\n",
    "\n",
    "import datetime"
   ]
  },
  {
   "cell_type": "code",
   "execution_count": 5,
   "id": "ea78f1aa-cb88-4687-9cf5-5da799b69bc6",
   "metadata": {},
   "outputs": [],
   "source": [
    "import tenpy\n",
    "from tenpy.networks.mps import MPS\n",
    "from tenpy.models.hubbard import BoseHubbardChain\n",
    "from tenpy.algorithms import dmrg\n",
    "from tenpy.linalg import np_conserved\n",
    "\n",
    "def DMRG_EBH(L, V, t_list, chi_max=30, bc_MPS='infinite'):\n",
    "\n",
    "    model_params = dict(n_max=1, filling=0.5, bc_MPS=bc_MPS, t=t_list,\n",
    "                        L=L, V=V, mu=0, conserve='N')\n",
    "    M = BoseHubbardChain(model_params)\n",
    "        \n",
    "    vector=[]\n",
    "    for i in range(M.lat.N_sites):\n",
    "        if i%2:\n",
    "            vector.append(1)\n",
    "        else:\n",
    "            vector.append(0)\n",
    "\n",
    "    psi = MPS.from_product_state(M.lat.mps_sites(), vector, bc=M.lat.bc_MPS)    \n",
    "        \n",
    "    dmrg_params = {                                                                                             \n",
    "        'mixer': True,                                                                                          \n",
    "        'trunc_params': {                                                                                       \n",
    "        'chi_max': chi_max,                                                                                                                                                                    \n",
    "        },                                                                                                      \n",
    "        'max_E_err': 1.e-16,                                                                                    \n",
    "        #'verbose': 0\n",
    "    }\n",
    "    \n",
    "    info = dmrg.run(psi, M, dmrg_params)\n",
    "    \n",
    "    return info['E'], psi"
   ]
  },
  {
   "cell_type": "code",
   "execution_count": 6,
   "id": "2455116c-ec9b-4864-a55d-4608e29bf020",
   "metadata": {},
   "outputs": [
    {
     "name": "stdout",
     "output_type": "stream",
     "text": [
      "0.17.4 1.20.1 0.8.4\n"
     ]
    }
   ],
   "source": [
    "print(qiskit.__version__, np.__version__, tenpy.__version__)"
   ]
  },
  {
   "cell_type": "code",
   "execution_count": 7,
   "id": "e6790455-5f05-4fb1-b2d7-14318b2434d2",
   "metadata": {},
   "outputs": [],
   "source": [
    "#IBMQ.load_account() # this then automatically loads your saved account\n",
    "#provider = IBMQ.get_provider(hub='ibm-q-research')"
   ]
  },
  {
   "cell_type": "code",
   "execution_count": 8,
   "id": "8ed32c34-5bef-4829-9159-b9631cee1ca4",
   "metadata": {},
   "outputs": [],
   "source": [
    "#device = provider.backend.ibmq_rome # 6 bogota ; 4 rome"
   ]
  },
  {
   "cell_type": "code",
   "execution_count": 135,
   "id": "bd703227-20e9-499d-9794-eb65b433c138",
   "metadata": {},
   "outputs": [],
   "source": [
    "### Real device execution:\n",
    "#backend = device \n",
    "\n",
    "### Simulation with noise profile from real device\n",
    "#backend = qiskit.providers.aer.AerSimulator.from_backend(device)\n",
    "\n",
    "### Simulation without noise\n",
    "qiskit_chi = 100\n",
    "\n",
    "backend = qiskit.providers.aer.AerSimulator(method=\"matrix_product_state\",\n",
    "                                            precision=\"single\",\n",
    "                                            matrix_product_state_max_bond_dimension = qiskit_chi,\n",
    "                                            matrix_product_state_truncation_threshold = 1e-10,\n",
    "                                            #mps_sample_measure_algorithm = \"mps_apply_measure\", #alt: \"mps_probabilities\" \n",
    "                                           )\n",
    "\n",
    "#backend = qiskit.providers.aer.QasmSimulator(method=\"matrix_product_state\",\n",
    "#                                            precision=\"single\",\n",
    "#                                            matrix_product_state_max_bond_dimension = qiskit_chi,\n",
    "#                                            matrix_product_state_truncation_threshold = 1e-10,\n",
    "#                                            #mps_sample_measure_algorithm = \"mps_apply_measure\", #alt: \"mps_probabilities\" \n",
    "#                                           )\n",
    "#backend = StatevectorSimulator()"
   ]
  },
  {
   "cell_type": "code",
   "execution_count": 134,
   "id": "d0834b19-8069-48a5-ac71-41b1a65e0944",
   "metadata": {},
   "outputs": [],
   "source": [
    "from qiskit.utils import algorithm_globals\n",
    "algorithm_globals.random_seed = 12345"
   ]
  },
  {
   "cell_type": "code",
   "execution_count": 97,
   "id": "8b6bddb0-76c8-49c9-9ede-86a9f6ff3a40",
   "metadata": {},
   "outputs": [],
   "source": [
    "### Preliminaries\n",
    "L = 8\n",
    "num_trash = int(np.log(L)/np.log(2))\n",
    "anti = 1 # 1 for ferromagnetic Ising model, -1 for antiferromagnet\n",
    "\n",
    "filename = \"data/QAEAnsatz_scaling_MPS\""
   ]
  },
  {
   "cell_type": "code",
   "execution_count": 99,
   "id": "a408b047-6237-45ca-9c82-eec6317f4994",
   "metadata": {},
   "outputs": [
    {
     "name": "stdout",
     "output_type": "stream",
     "text": [
      "bond dimension :  100\n"
     ]
    }
   ],
   "source": [
    "V = 1\n",
    "deltat=1\n",
    "chi = 100\n",
    "print(\"bond dimension : \", chi)"
   ]
  },
  {
   "cell_type": "code",
   "execution_count": 100,
   "id": "46d1db67-b187-4188-99a7-caf220c51d57",
   "metadata": {},
   "outputs": [
    {
     "name": "stderr",
     "output_type": "stream",
     "text": [
      "/home/kkottmann/TeNPy/tenpy/algorithms/dmrg.py:1916: UserWarning: H is zero in the given block, nothing to diagonalize.We just return the initial state again.\n",
      "  warnings.warn(\"H is zero in the given block, nothing to diagonalize.\"\n"
     ]
    }
   ],
   "source": [
    "t_list = np.ones(L-1)\n",
    "for i in range(len(t_list)):\n",
    "    t_list[i] -= deltat*(-1)**i\n",
    "E0, psi0 = DMRG_EBH(L, V, t_list, chi_max=chi, bc_MPS='finite')"
   ]
  },
  {
   "cell_type": "code",
   "execution_count": 101,
   "id": "e526dd81-fa09-4762-ac7f-52dae1ec207f",
   "metadata": {},
   "outputs": [],
   "source": [
    "def qiskit_state(psi0):\n",
    "    # G is only the local tensor (not multiplied by any singular values) - see https://tenpy.readthedocs.io/en/latest/reference/tenpy.networks.mps.html\n",
    "    A_list = [psi0.get_B(i, form=\"G\").to_ndarray().transpose([1,0,2]) for i in range(L)]\n",
    "    for i,A in enumerate(A_list):\n",
    "        A_list[i] = (A[0], A[1])\n",
    "    S_list = [psi0.get_SR(i) for i in range(L-1)] # skip trivial last bond; hast to be of size L-1\n",
    "    return (A_list, S_list)"
   ]
  },
  {
   "cell_type": "markdown",
   "id": "97400670-110d-41dd-a4a3-f10fab914ad4",
   "metadata": {},
   "source": [
    "Test state preparation"
   ]
  },
  {
   "cell_type": "code",
   "execution_count": 69,
   "id": "a13610ae-2111-4d8f-a706-09dbf0054e8a",
   "metadata": {},
   "outputs": [],
   "source": [
    "initcirc = QuantumCircuit(QuantumRegister(L,\"q\")) #,ClassicalRegister(num_trash, 'c'))\n",
    "initcirc.set_matrix_product_state(qiskit_state(psi0))\n",
    "\n",
    "qi = qiskit.utils.QuantumInstance(backend=backend, # , seed_simulator=seed, seed_transpiler=seed\n",
    "                                  shots = 1000)"
   ]
  },
  {
   "cell_type": "code",
   "execution_count": 70,
   "id": "a7b1f0ce-aba7-46a0-97c3-f039ffaf487b",
   "metadata": {},
   "outputs": [],
   "source": [
    "QZ = np.zeros(L)"
   ]
  },
  {
   "cell_type": "code",
   "execution_count": 71,
   "id": "7552c126-959f-4c5f-93af-a4c5cbc17282",
   "metadata": {},
   "outputs": [
    {
     "name": "stderr",
     "output_type": "stream",
     "text": [
      "<ipython-input-71-50c7739f7155>:3: ComplexWarning: Casting complex values to real discards the imaginary part\n",
      "  QZ[i] = CircuitSampler(qi).convert(meas_outcome).eval()\n"
     ]
    }
   ],
   "source": [
    "for i in range(L):\n",
    "    meas_outcome = ~StateFn(QNKron(L,Z,I,i)) @ StateFn(initcirc)\n",
    "    QZ[i] = CircuitSampler(qi).convert(meas_outcome).eval()"
   ]
  },
  {
   "cell_type": "code",
   "execution_count": 72,
   "id": "9c203abf-708e-47d7-b81e-41295b462663",
   "metadata": {},
   "outputs": [
    {
     "data": {
      "text/plain": [
       "[<matplotlib.lines.Line2D at 0x7f61553a11c0>]"
      ]
     },
     "execution_count": 72,
     "metadata": {},
     "output_type": "execute_result"
    },
    {
     "data": {
      "image/png": "[encoded data removed]",
      "text/plain": [
       "<Figure size 432x288 with 1 Axes>"
      ]
     },
     "metadata": {
      "needs_background": "light"
     },
     "output_type": "display_data"
    }
   ],
   "source": [
    "plt.plot(QZ)"
   ]
  },
  {
   "cell_type": "markdown",
   "id": "7216e126-aee0-42c1-86cb-1674dc336faa",
   "metadata": {},
   "source": [
    "should display the edge states for $V=1$ and $\\delta t=1$"
   ]
  },
  {
   "cell_type": "code",
   "execution_count": 102,
   "id": "91dc043e-05db-4282-bca4-1bd911b46c4d",
   "metadata": {},
   "outputs": [],
   "source": [
    "def prepare_circuit(thetas, L=6, num_trash=2, init_state=None, measurement=True,vqe=False):\n",
    "    # QAE ansatz\n",
    "    QAE_circ = QAEAnsatz(num_qubits = L, num_trash_qubits= num_trash, trash_qubits_idxs = list(range(num_trash)), measure_trash=measurement).assign_parameters(thetas)\n",
    "    # initialize state vector\n",
    "    initcirc = QuantumCircuit(QuantumRegister(L,\"q\"),ClassicalRegister(num_trash, 'c'))\n",
    "    initcirc.set_matrix_product_state(qiskit_state(init_state))\n",
    "    # compose circuits\n",
    "    fullcirc = initcirc.compose(QAE_circ)\n",
    "    return fullcirc"
   ]
  },
  {
   "cell_type": "code",
   "execution_count": 103,
   "id": "3e922ca1-6180-4686-b32d-d02fdf080a04",
   "metadata": {},
   "outputs": [],
   "source": [
    "circ = prepare_circuit(thetas = np.random.rand(2*L+2), L = L, init_state = psi0)\n",
    "#circ.draw(\"mpl\")"
   ]
  },
  {
   "cell_type": "code",
   "execution_count": 104,
   "id": "7ab2afbf-5666-4f86-8d7c-33abc0692c92",
   "metadata": {},
   "outputs": [],
   "source": [
    "### Execute circuit\n",
    "count = 0\n",
    "def run_circuit(thetas, L, num_trash, init_state, vqe=False, shots=100, meas_fitter = None):\n",
    "    #global count\n",
    "    #count += 1\n",
    "    #print(count, \"thetas: \", thetas)\n",
    "    circ = prepare_circuit(thetas, L, num_trash, init_state, vqe=vqe)\n",
    "    tcirc = qiskit.transpile(circ, backend)\n",
    "    # Execute the circuit \n",
    "    job_sim = backend.run(tcirc, shots=shots) # , seed_simulator=123, seed_transpiler=234 fix seed to make it reproducible\n",
    "    result = job_sim.result()\n",
    "    # Results without mitigation\n",
    "    counts = result.get_counts()\n",
    "    if meas_fitter != None:\n",
    "        # Get the filter object\n",
    "        meas_filter = meas_fitter.filter\n",
    "\n",
    "        # Results with mitigation\n",
    "        mitigated_results = meas_filter.apply(result)\n",
    "        counts = mitigated_results.get_counts(0)\n",
    "    return counts"
   ]
  },
  {
   "cell_type": "code",
   "execution_count": 105,
   "id": "18e16258-d809-4d41-80a5-42e25675da3f",
   "metadata": {},
   "outputs": [
    {
     "name": "stdout",
     "output_type": "stream",
     "text": [
      "execution time:  0.03638792037963867\n"
     ]
    }
   ],
   "source": [
    "t0 = time.time()\n",
    "res = run_circuit(thetas = np.random.rand(num_trash*L+num_trash), L = L, num_trash = num_trash, init_state = psi0, shots=1000)\n",
    "print(\"execution time: \", time.time()-t0)"
   ]
  },
  {
   "cell_type": "code",
   "execution_count": 106,
   "id": "73163a7f-042d-4d30-8c1a-4695f93e5200",
   "metadata": {},
   "outputs": [
    {
     "data": {
      "text/plain": [
       "{'101': 49,\n",
       " '111': 59,\n",
       " '011': 62,\n",
       " '000': 134,\n",
       " '100': 246,\n",
       " '110': 164,\n",
       " '010': 222,\n",
       " '001': 64}"
      ]
     },
     "execution_count": 106,
     "metadata": {},
     "output_type": "execute_result"
    }
   ],
   "source": [
    "res"
   ]
  },
  {
   "cell_type": "code",
   "execution_count": 107,
   "id": "fc5d1f4d-ea9f-4502-bda6-125243dc9d78",
   "metadata": {},
   "outputs": [],
   "source": [
    "def count_ones(string):\n",
    "    return np.sum([int(_) for _ in string])"
   ]
  },
  {
   "cell_type": "code",
   "execution_count": 108,
   "id": "7fa02c17-f157-4a85-b514-0ba876562eeb",
   "metadata": {},
   "outputs": [
    {
     "data": {
      "text/plain": [
       "5"
      ]
     },
     "execution_count": 108,
     "metadata": {},
     "output_type": "execute_result"
    }
   ],
   "source": [
    "count_ones(\"01010111\")"
   ]
  },
  {
   "cell_type": "code",
   "execution_count": 109,
   "id": "2de7d88a-d6e6-46c7-8fb8-0545527c31a0",
   "metadata": {},
   "outputs": [
    {
     "data": {
      "text/plain": [
       "['101', '111', '011', '000', '100', '110', '010', '001']"
      ]
     },
     "execution_count": 109,
     "metadata": {},
     "output_type": "execute_result"
    }
   ],
   "source": [
    "[_ for _ in res]"
   ]
  },
  {
   "cell_type": "code",
   "execution_count": 110,
   "id": "62406d8e-6e0c-4c61-9add-90ea066d067a",
   "metadata": {},
   "outputs": [
    {
     "data": {
      "text/plain": [
       "['101', '111', '011', '100', '110', '010', '001']"
      ]
     },
     "execution_count": 110,
     "metadata": {},
     "output_type": "execute_result"
    }
   ],
   "source": [
    "[_ for _ in res if _ != \"0\" * num_trash]"
   ]
  },
  {
   "cell_type": "code",
   "execution_count": 111,
   "id": "07f318d5-0971-4dcb-a51a-dc09ece289d8",
   "metadata": {},
   "outputs": [
    {
     "data": {
      "text/plain": [
       "1259"
      ]
     },
     "execution_count": 111,
     "metadata": {},
     "output_type": "execute_result"
    }
   ],
   "source": [
    "np.sum([res[_]*count_ones(_) for _ in res if _ != \"0\" * num_trash]) # all measurement results except \"000\""
   ]
  },
  {
   "cell_type": "code",
   "execution_count": 112,
   "id": "747ac9cf-d7bb-4b5d-bc66-f7abaab20204",
   "metadata": {},
   "outputs": [],
   "source": [
    "### Optimize circuit\n",
    "def cost_function_single(thetas, L, num_trash, init_state, shots=1000, vqe=True, param_encoding=False, x=0, meas_fitter=None):\n",
    "    \"\"\" Optimizes circuit \"\"\"\n",
    "    if param_encoding: thetas = feature_encoding(thetas, x) \n",
    "    out = run_circuit(thetas, L, num_trash, init_state, vqe=vqe, shots=shots, meas_fitter=meas_fitter)\n",
    "    cost = np.sum([out[_]*count_ones(_) for _ in out if _ != \"0\" * num_trash]) # all measurement results except \"000\"\n",
    "    return cost/shots\n",
    "\n",
    "def cost_function(thetas, L, num_trash, init_states, shots=1000, vqe=True, param_encoding=False, x=0, meas_fitter=None):\n",
    "    \"\"\" Optimizes circuit \"\"\"\n",
    "    cost = 0.\n",
    "    for init_state in init_states:\n",
    "        cost += cost_function_single(thetas, L, num_trash, init_state, shots, vqe, param_encoding, meas_fitter=meas_fitter)\n",
    "    return cost/len(init_states)\n",
    "\n",
    "def optimize(init_states, L=6, num_trash=2, thetas=None, shots=1000, max_iter=400, vqe=True, param_encoding=False, x=0, pick_optimizer = None,\n",
    "            meas_fitter=None):\n",
    "    if thetas is None:\n",
    "        n_params = (num_trash*L+num_trasg)*2 if param_encoding else (num_trash*L+num_trash)\n",
    "        thetas = np.random.uniform(0, 2*np.pi, n_params) # initial parameters without feature encoding\n",
    "        \n",
    "    #print(\"Initial cost: {:.3f}\".format(cost_function(thetas, L, num_trash, init_states, shots, vqe, param_encoding, x)))\n",
    "    \n",
    "    counts, values, accepted = [], [], []\n",
    "    def store_intermediate_result(eval_count, parameters, mean, std, ac):\n",
    "        # counts.append(eval_count)\n",
    "        values.append(mean)\n",
    "        accepted.append(ac)\n",
    "\n",
    "    # Initialize optimizer\n",
    "    if pick_optimizer == \"cobyla\":\n",
    "        optimizer = COBYLA(maxiter=max_iter, tol=0.0001)\n",
    "    if pick_optimizer == \"adam\" or pick_optimizer == \"ADAM\":\n",
    "        optimizer = qiskit.algorithms.optimizers.ADAM(maxiter=max_iter)\n",
    "    # optimizer = L_BFGS_B(maxfun=300, maxiter=max_iter)#, factr=10, iprint=- 1, epsilon=1e-08)\n",
    "    if pick_optimizer == \"spsa\" or pick_optimizer == None:\n",
    "        optimizer = SPSA(maxiter=max_iter,\n",
    "                         #blocking=True,\n",
    "                         callback=store_intermediate_result,\n",
    "                         #learning_rate=0.3,\n",
    "                         #perturbation=0.1\n",
    "                         ) # recommended from qiskit (first iteraction takes quite long)\n",
    "                           # to reduce time figure out optimal learning rate and perturbation in advance\n",
    "    start_time = time.time()\n",
    "    ret = optimizer.optimize(\n",
    "                            num_vars=len(thetas),\n",
    "                            objective_function=(lambda thetas: cost_function(thetas, L, num_trash, init_states, shots, vqe, param_encoding, x, meas_fitter=meas_fitter)),\n",
    "                            initial_point=thetas\n",
    "                            )\n",
    "    print(\"Time: {:.5f} sec\".format(time.time()-start_time))\n",
    "    print(ret)\n",
    "    return ret[0], values, accepted\n",
    "\n"
   ]
  },
  {
   "cell_type": "code",
   "execution_count": 113,
   "id": "f878287d-8847-4574-b9e0-47d79ca728fd",
   "metadata": {},
   "outputs": [
    {
     "name": "stdout",
     "output_type": "stream",
     "text": [
      "Time: 10.74302 sec\n",
      "(array([ 3.07632914,  2.30718613,  0.87170037,  3.69723067, -2.6571439 ,\n",
      "       10.28759224,  1.75217589,  6.15061212,  6.32569571,  3.40554364,\n",
      "        4.66978687,  5.28880287,  1.09823067,  2.83735368,  5.79602388,\n",
      "        3.54326178,  3.17749819,  4.46821927]), 0.035, 360)\n"
     ]
    }
   ],
   "source": [
    "thetas_opt_mitigated, losses, accepted = optimize([psi0], max_iter=120, L=L, meas_fitter=None) #, pick_optimizer=\"adam\")"
   ]
  },
  {
   "cell_type": "code",
   "execution_count": 114,
   "id": "06ebea56-be42-4976-ba58-d86861851d48",
   "metadata": {},
   "outputs": [
    {
     "data": {
      "text/plain": [
       "[<matplotlib.lines.Line2D at 0x7f61552408b0>]"
      ]
     },
     "execution_count": 114,
     "metadata": {},
     "output_type": "execute_result"
    },
    {
     "data": {
      "image/png": "[encoded data removed]",
      "text/plain": [
       "<Figure size 432x288 with 1 Axes>"
      ]
     },
     "metadata": {
      "needs_background": "light"
     },
     "output_type": "display_data"
    }
   ],
   "source": [
    "plt.plot(losses)"
   ]
  },
  {
   "cell_type": "markdown",
   "id": "8b5555cc-6946-44df-b6ef-3318a6b010b0",
   "metadata": {},
   "source": [
    "# Scaling"
   ]
  },
  {
   "cell_type": "code",
   "execution_count": 138,
   "id": "66d7418b-ff67-48e3-841b-10743bd0c07f",
   "metadata": {},
   "outputs": [],
   "source": [
    "Ls = [3,4,12,16,32]\n",
    "max_iter = [200,200,200,300,300]\n",
    "num_trashs = np.log(Ls)/np.log(2)\n",
    "num_trashs = np.array(num_trashs, dtype=\"int\")"
   ]
  },
  {
   "cell_type": "code",
   "execution_count": 139,
   "id": "5a316c88-7aaf-40f8-9c22-19e4a89e1e9d",
   "metadata": {},
   "outputs": [
    {
     "data": {
      "text/plain": [
       "array([1, 2, 3, 4, 5])"
      ]
     },
     "execution_count": 139,
     "metadata": {},
     "output_type": "execute_result"
    }
   ],
   "source": [
    "num_trashs"
   ]
  },
  {
   "cell_type": "code",
   "execution_count": 117,
   "id": "6052936c-9221-4b40-bd53-ea7bb4c3bb55",
   "metadata": {},
   "outputs": [],
   "source": [
    "losses = [None] * len(Ls); accepted = [None] * len(Ls); thetas_opt= [None] * len(Ls)"
   ]
  },
  {
   "cell_type": "code",
   "execution_count": 121,
   "id": "d67f286c-1868-415e-8bd2-c8c832716744",
   "metadata": {},
   "outputs": [
    {
     "name": "stdout",
     "output_type": "stream",
     "text": [
      "3 1\n"
     ]
    },
    {
     "name": "stderr",
     "output_type": "stream",
     "text": [
      "/home/kkottmann/TeNPy/tenpy/algorithms/dmrg.py:1916: UserWarning: H is zero in the given block, nothing to diagonalize.We just return the initial state again.\n",
      "  warnings.warn(\"H is zero in the given block, nothing to diagonalize.\"\n"
     ]
    },
    {
     "name": "stdout",
     "output_type": "stream",
     "text": [
      "Time: 8.27206 sec\n",
      "(array([6.28651645, 3.00643019, 2.27897375, 6.28533248]), 0.0, 600)\n"
     ]
    },
    {
     "data": {
      "image/png": "[encoded data removed]",
      "text/plain": [
       "<Figure size 432x288 with 1 Axes>"
      ]
     },
     "metadata": {
      "needs_background": "light"
     },
     "output_type": "display_data"
    }
   ],
   "source": [
    "j=0\n",
    "L, num_trash = Ls[j], num_trashs[j]\n",
    "print(L,num_trash)\n",
    "t_list = np.ones(L-1)\n",
    "for i in range(len(t_list)):\n",
    "    t_list[i] -= deltat*(-1)**i\n",
    "E0, psi0 = DMRG_EBH(L, V, t_list, chi_max=chi, bc_MPS='finite')\n",
    "thetas_opt[j], losses[j], accepted[j] = optimize([psi0], max_iter=max_iter[j], L=L, num_trash=num_trash, meas_fitter=None) #, pick_optimizer=\"adam\")\n",
    "plt.plot(losses[j])\n",
    "plt.title(f\"min loss = {np.min(losses[j])}\")\n",
    "plt.show()"
   ]
  },
  {
   "cell_type": "code",
   "execution_count": 122,
   "id": "b89d36eb-f11e-4efa-a25a-6155da7364a2",
   "metadata": {},
   "outputs": [
    {
     "name": "stdout",
     "output_type": "stream",
     "text": [
      "4 2\n"
     ]
    },
    {
     "name": "stderr",
     "output_type": "stream",
     "text": [
      "/home/kkottmann/TeNPy/tenpy/algorithms/dmrg.py:1916: UserWarning: H is zero in the given block, nothing to diagonalize.We just return the initial state again.\n",
      "  warnings.warn(\"H is zero in the given block, nothing to diagonalize.\"\n"
     ]
    },
    {
     "name": "stdout",
     "output_type": "stream",
     "text": [
      "Time: 12.39246 sec\n",
      "(array([ 0.78015555,  4.95464755,  4.46083066,  3.05600151,  5.51438032,\n",
      "        5.004491  ,  5.98475244,  3.70687481, -0.13860963,  1.43963763]), 0.002, 600)\n"
     ]
    },
    {
     "data": {
      "image/png": "[encoded data removed]",
      "text/plain": [
       "<Figure size 432x288 with 1 Axes>"
      ]
     },
     "metadata": {
      "needs_background": "light"
     },
     "output_type": "display_data"
    }
   ],
   "source": [
    "j=1\n",
    "L, num_trash = Ls[j], num_trashs[j]\n",
    "print(L,num_trash)\n",
    "t_list = np.ones(L-1)\n",
    "for i in range(len(t_list)):\n",
    "    t_list[i] -= deltat*(-1)**i\n",
    "E0, psi0 = DMRG_EBH(L, V, t_list, chi_max=chi, bc_MPS='finite')\n",
    "thetas_opt[j], losses[j], accepted[j] = optimize([psi0], max_iter=max_iter[j], L=L, num_trash=num_trash, meas_fitter=None) #, pick_optimizer=\"adam\")\n",
    "plt.plot(losses[j])\n",
    "plt.title(f\"min loss = {np.min(losses[j])}\")\n",
    "plt.show()"
   ]
  },
  {
   "cell_type": "code",
   "execution_count": 140,
   "id": "5dcd366b-4b30-4f3c-8200-08915b0c1da4",
   "metadata": {},
   "outputs": [
    {
     "name": "stdout",
     "output_type": "stream",
     "text": [
      "12 3\n"
     ]
    },
    {
     "name": "stderr",
     "output_type": "stream",
     "text": [
      "/home/kkottmann/TeNPy/tenpy/algorithms/dmrg.py:1916: UserWarning: H is zero in the given block, nothing to diagonalize.We just return the initial state again.\n",
      "  warnings.warn(\"H is zero in the given block, nothing to diagonalize.\"\n",
      "/home/kkottmann/TeNPy/tenpy/tools/params.py:223: UserWarning: unused option ['P_tol'] for config lanczos_params\n",
      "\n",
      "  warnings.warn(msg.format(keys=sorted(unused), name=self.name))\n"
     ]
    }
   ],
   "source": [
    "j=2\n",
    "L, num_trash = Ls[j], num_trashs[j]\n",
    "print(L,num_trash)\n",
    "t_list = np.ones(L-1)\n",
    "for i in range(len(t_list)):\n",
    "    t_list[i] -= deltat*(-1)**i\n",
    "E0, psi0 = DMRG_EBH(L, V, t_list, chi_max=chi, bc_MPS='finite')"
   ]
  },
  {
   "cell_type": "code",
   "execution_count": 141,
   "id": "8493cd0d-edb1-48b9-b690-d43ed6954088",
   "metadata": {},
   "outputs": [
    {
     "name": "stdout",
     "output_type": "stream",
     "text": [
      "Time: 157.11983 sec\n",
      "(array([ 3.19499203, -2.28571305,  6.99286236,  5.10148785,  0.18020187,\n",
      "        7.64728968,  4.96477003,  1.1226144 ,  6.67314408,  4.52950715,\n",
      "        3.03768063,  4.82817083,  3.22015824,  6.30817567,  3.08601871,\n",
      "        5.2972768 ,  3.75987471,  3.34705618,  6.12894939,  1.82421347,\n",
      "        0.66710274,  4.38344646,  2.39623431, -3.84000158,  3.20282187,\n",
      "        0.07649583,  3.27101394,  5.25789388,  0.43937262,  2.87406566,\n",
      "        0.75791495,  3.53690728,  4.04650364,  4.42538092,  1.93401827,\n",
      "        5.44067072,  3.06872342,  1.43111399,  0.46975912]), 0.487, 600)\n"
     ]
    },
    {
     "data": {
      "image/png": "[encoded data removed]",
      "text/plain": [
       "<Figure size 432x288 with 1 Axes>"
      ]
     },
     "metadata": {
      "needs_background": "light"
     },
     "output_type": "display_data"
    }
   ],
   "source": [
    "thetas_opt[j], losses[j], accepted[j] = optimize([psi0], max_iter=max_iter[j], L=L, num_trash=num_trash, meas_fitter=None) #, pick_optimizer=\"adam\")\n",
    "plt.plot(losses[j])\n",
    "plt.title(f\"min loss = {np.min(losses[j])}\")\n",
    "plt.show()"
   ]
  },
  {
   "cell_type": "code",
   "execution_count": null,
   "id": "b949bffb-3476-4633-a253-201dc35bf7e6",
   "metadata": {},
   "outputs": [],
   "source": [
    "j=3\n",
    "L, num_trash = Ls[j], num_trashs[j]\n",
    "print(L,num_trash)\n",
    "t_list = np.ones(L-1)\n",
    "for i in range(len(t_list)):\n",
    "    t_list[i] -= deltat*(-1)**i\n",
    "E0, psi0 = DMRG_EBH(L, V, t_list, chi_max=chi, bc_MPS='finite')\n",
    "thetas_opt[j], losses[j], accepted[j] = optimize([psi0], max_iter=max_iter[j], L=L, num_trash=num_trash, meas_fitter=None) #, pick_optimizer=\"adam\")\n",
    "plt.plot(losses[j])\n",
    "plt.title(f\"min loss = {np.min(losses[j])}\")\n",
    "plt.show()"
   ]
  },
  {
   "cell_type": "code",
   "execution_count": 118,
   "id": "920344f9-f47b-4fc2-8d86-18eeaa57e4e1",
   "metadata": {},
   "outputs": [
    {
     "name": "stdout",
     "output_type": "stream",
     "text": [
      "3 1\n"
     ]
    },
    {
     "name": "stderr",
     "output_type": "stream",
     "text": [
      "/home/kkottmann/TeNPy/tenpy/algorithms/dmrg.py:1916: UserWarning: H is zero in the given block, nothing to diagonalize.We just return the initial state again.\n",
      "  warnings.warn(\"H is zero in the given block, nothing to diagonalize.\"\n"
     ]
    },
    {
     "name": "stdout",
     "output_type": "stream",
     "text": [
      "Time: 7.31577 sec\n",
      "(array([1.35451217, 2.06295882, 4.22419098, 1.35475741]), 0.0, 600)\n"
     ]
    },
    {
     "data": {
      "image/png": "[encoded data removed]",
      "text/plain": [
       "<Figure size 432x288 with 1 Axes>"
      ]
     },
     "metadata": {
      "needs_background": "light"
     },
     "output_type": "display_data"
    },
    {
     "name": "stdout",
     "output_type": "stream",
     "text": [
      "4 2\n"
     ]
    },
    {
     "name": "stderr",
     "output_type": "stream",
     "text": [
      "/home/kkottmann/TeNPy/tenpy/algorithms/dmrg.py:1916: UserWarning: H is zero in the given block, nothing to diagonalize.We just return the initial state again.\n",
      "  warnings.warn(\"H is zero in the given block, nothing to diagonalize.\"\n"
     ]
    },
    {
     "name": "stdout",
     "output_type": "stream",
     "text": [
      "Time: 10.87325 sec\n",
      "(array([ 3.14030410e+00,  3.95846365e+00,  4.02076389e+00,  3.13065946e+00,\n",
      "        3.13715661e+00,  3.79653409e+00,  5.76164365e+00,  4.56784018e+00,\n",
      "       -8.39293525e-04,  1.79976826e+00]), 0.0, 600)\n"
     ]
    },
    {
     "data": {
      "image/png": "[encoded data removed]",
      "text/plain": [
       "<Figure size 432x288 with 1 Axes>"
      ]
     },
     "metadata": {
      "needs_background": "light"
     },
     "output_type": "display_data"
    },
    {
     "name": "stdout",
     "output_type": "stream",
     "text": [
      "8 3\n"
     ]
    },
    {
     "name": "stderr",
     "output_type": "stream",
     "text": [
      "/home/kkottmann/TeNPy/tenpy/algorithms/dmrg.py:1916: UserWarning: H is zero in the given block, nothing to diagonalize.We just return the initial state again.\n",
      "  warnings.warn(\"H is zero in the given block, nothing to diagonalize.\"\n"
     ]
    },
    {
     "name": "stdout",
     "output_type": "stream",
     "text": [
      "Time: 33.10143 sec\n",
      "(array([ 3.13095373,  8.71683255,  2.50542712,  3.35162993,  2.26179756,\n",
      "        6.33730274, -0.38019221, -0.07373724, -0.01909336,  6.17101323,\n",
      "        4.8327714 ,  2.42943577,  4.78822677,  5.25884107,  5.97352589,\n",
      "        4.60323196,  3.07677885,  4.82030213,  3.12958861,  1.90749458,\n",
      "        9.16015035,  3.68716278,  3.06791303,  1.13986599, -0.11031543,\n",
      "       -0.02285825,  0.5478112 ]), 0.459, 900)\n"
     ]
    },
    {
     "data": {
      "image/png": "[encoded data removed]",
      "text/plain": [
       "<Figure size 432x288 with 1 Axes>"
      ]
     },
     "metadata": {
      "needs_background": "light"
     },
     "output_type": "display_data"
    },
    {
     "name": "stdout",
     "output_type": "stream",
     "text": [
      "16 4\n"
     ]
    },
    {
     "name": "stderr",
     "output_type": "stream",
     "text": [
      "/home/kkottmann/TeNPy/tenpy/algorithms/dmrg.py:1916: UserWarning: H is zero in the given block, nothing to diagonalize.We just return the initial state again.\n",
      "  warnings.warn(\"H is zero in the given block, nothing to diagonalize.\"\n",
      "/home/kkottmann/TeNPy/tenpy/tools/params.py:223: UserWarning: unused option ['P_tol'] for config lanczos_params\n",
      "\n",
      "  warnings.warn(msg.format(keys=sorted(unused), name=self.name))\n"
     ]
    },
    {
     "ename": "KeyboardInterrupt",
     "evalue": "",
     "output_type": "error",
     "traceback": [
      "\u001b[0;31m---------------------------------------------------------------------------\u001b[0m",
      "\u001b[0;31mKeyboardInterrupt\u001b[0m                         Traceback (most recent call last)",
      "\u001b[0;32m<ipython-input-118-ebadebcc5a6b>\u001b[0m in \u001b[0;36m<module>\u001b[0;34m\u001b[0m\n\u001b[1;32m      5\u001b[0m         \u001b[0mt_list\u001b[0m\u001b[0;34m[\u001b[0m\u001b[0mi\u001b[0m\u001b[0;34m]\u001b[0m \u001b[0;34m-=\u001b[0m \u001b[0mdeltat\u001b[0m\u001b[0;34m*\u001b[0m\u001b[0;34m(\u001b[0m\u001b[0;34m-\u001b[0m\u001b[0;36m1\u001b[0m\u001b[0;34m)\u001b[0m\u001b[0;34m**\u001b[0m\u001b[0mi\u001b[0m\u001b[0;34m\u001b[0m\u001b[0;34m\u001b[0m\u001b[0m\n\u001b[1;32m      6\u001b[0m     \u001b[0mE0\u001b[0m\u001b[0;34m,\u001b[0m \u001b[0mpsi0\u001b[0m \u001b[0;34m=\u001b[0m \u001b[0mDMRG_EBH\u001b[0m\u001b[0;34m(\u001b[0m\u001b[0mL\u001b[0m\u001b[0;34m,\u001b[0m \u001b[0mV\u001b[0m\u001b[0;34m,\u001b[0m \u001b[0mt_list\u001b[0m\u001b[0;34m,\u001b[0m \u001b[0mchi_max\u001b[0m\u001b[0;34m=\u001b[0m\u001b[0mchi\u001b[0m\u001b[0;34m,\u001b[0m \u001b[0mbc_MPS\u001b[0m\u001b[0;34m=\u001b[0m\u001b[0;34m'finite'\u001b[0m\u001b[0;34m)\u001b[0m\u001b[0;34m\u001b[0m\u001b[0;34m\u001b[0m\u001b[0m\n\u001b[0;32m----> 7\u001b[0;31m     \u001b[0mthetas_opt\u001b[0m\u001b[0;34m[\u001b[0m\u001b[0mj\u001b[0m\u001b[0;34m]\u001b[0m\u001b[0;34m,\u001b[0m \u001b[0mlosses\u001b[0m\u001b[0;34m[\u001b[0m\u001b[0mj\u001b[0m\u001b[0;34m]\u001b[0m\u001b[0;34m,\u001b[0m \u001b[0maccepted\u001b[0m\u001b[0;34m[\u001b[0m\u001b[0mj\u001b[0m\u001b[0;34m]\u001b[0m \u001b[0;34m=\u001b[0m \u001b[0moptimize\u001b[0m\u001b[0;34m(\u001b[0m\u001b[0;34m[\u001b[0m\u001b[0mpsi0\u001b[0m\u001b[0;34m]\u001b[0m\u001b[0;34m,\u001b[0m \u001b[0mmax_iter\u001b[0m\u001b[0;34m=\u001b[0m\u001b[0mmax_iter\u001b[0m\u001b[0;34m[\u001b[0m\u001b[0mj\u001b[0m\u001b[0;34m]\u001b[0m\u001b[0;34m,\u001b[0m \u001b[0mL\u001b[0m\u001b[0;34m=\u001b[0m\u001b[0mL\u001b[0m\u001b[0;34m,\u001b[0m \u001b[0mnum_trash\u001b[0m\u001b[0;34m=\u001b[0m\u001b[0mnum_trash\u001b[0m\u001b[0;34m,\u001b[0m \u001b[0mmeas_fitter\u001b[0m\u001b[0;34m=\u001b[0m\u001b[0;32mNone\u001b[0m\u001b[0;34m)\u001b[0m \u001b[0;31m#, pick_optimizer=\"adam\")\u001b[0m\u001b[0;34m\u001b[0m\u001b[0;34m\u001b[0m\u001b[0m\n\u001b[0m\u001b[1;32m      8\u001b[0m     \u001b[0mplt\u001b[0m\u001b[0;34m.\u001b[0m\u001b[0mplot\u001b[0m\u001b[0;34m(\u001b[0m\u001b[0mlosses\u001b[0m\u001b[0;34m[\u001b[0m\u001b[0mj\u001b[0m\u001b[0;34m]\u001b[0m\u001b[0;34m)\u001b[0m\u001b[0;34m\u001b[0m\u001b[0;34m\u001b[0m\u001b[0m\n\u001b[1;32m      9\u001b[0m     \u001b[0mplt\u001b[0m\u001b[0;34m.\u001b[0m\u001b[0mtitle\u001b[0m\u001b[0;34m(\u001b[0m\u001b[0;34mf\"min loss = {np.min(losses[j])}\"\u001b[0m\u001b[0;34m)\u001b[0m\u001b[0;34m\u001b[0m\u001b[0;34m\u001b[0m\u001b[0m\n",
      "\u001b[0;32m<ipython-input-112-8a24df4a7b05>\u001b[0m in \u001b[0;36moptimize\u001b[0;34m(init_states, L, num_trash, thetas, shots, max_iter, vqe, param_encoding, x, pick_optimizer, meas_fitter)\u001b[0m\n\u001b[1;32m     43\u001b[0m                            \u001b[0;31m# to reduce time figure out optimal learning rate and perturbation in advance\u001b[0m\u001b[0;34m\u001b[0m\u001b[0;34m\u001b[0m\u001b[0;34m\u001b[0m\u001b[0m\n\u001b[1;32m     44\u001b[0m     \u001b[0mstart_time\u001b[0m \u001b[0;34m=\u001b[0m \u001b[0mtime\u001b[0m\u001b[0;34m.\u001b[0m\u001b[0mtime\u001b[0m\u001b[0;34m(\u001b[0m\u001b[0;34m)\u001b[0m\u001b[0;34m\u001b[0m\u001b[0;34m\u001b[0m\u001b[0m\n\u001b[0;32m---> 45\u001b[0;31m     ret = optimizer.optimize(\n\u001b[0m\u001b[1;32m     46\u001b[0m                             \u001b[0mnum_vars\u001b[0m\u001b[0;34m=\u001b[0m\u001b[0mlen\u001b[0m\u001b[0;34m(\u001b[0m\u001b[0mthetas\u001b[0m\u001b[0;34m)\u001b[0m\u001b[0;34m,\u001b[0m\u001b[0;34m\u001b[0m\u001b[0;34m\u001b[0m\u001b[0m\n\u001b[1;32m     47\u001b[0m                             \u001b[0mobjective_function\u001b[0m\u001b[0;34m=\u001b[0m\u001b[0;34m(\u001b[0m\u001b[0;32mlambda\u001b[0m \u001b[0mthetas\u001b[0m\u001b[0;34m:\u001b[0m \u001b[0mcost_function\u001b[0m\u001b[0;34m(\u001b[0m\u001b[0mthetas\u001b[0m\u001b[0;34m,\u001b[0m \u001b[0mL\u001b[0m\u001b[0;34m,\u001b[0m \u001b[0mnum_trash\u001b[0m\u001b[0;34m,\u001b[0m \u001b[0minit_states\u001b[0m\u001b[0;34m,\u001b[0m \u001b[0mshots\u001b[0m\u001b[0;34m,\u001b[0m \u001b[0mvqe\u001b[0m\u001b[0;34m,\u001b[0m \u001b[0mparam_encoding\u001b[0m\u001b[0;34m,\u001b[0m \u001b[0mx\u001b[0m\u001b[0;34m,\u001b[0m \u001b[0mmeas_fitter\u001b[0m\u001b[0;34m=\u001b[0m\u001b[0mmeas_fitter\u001b[0m\u001b[0;34m)\u001b[0m\u001b[0;34m)\u001b[0m\u001b[0;34m,\u001b[0m\u001b[0;34m\u001b[0m\u001b[0;34m\u001b[0m\u001b[0m\n",
      "\u001b[0;32m~/anaconda3/envs/qiskit_env/lib/python3.9/site-packages/qiskit/algorithms/optimizers/spsa.py\u001b[0m in \u001b[0;36moptimize\u001b[0;34m(self, num_vars, objective_function, gradient_function, variable_bounds, initial_point)\u001b[0m\n\u001b[1;32m    367\u001b[0m     def optimize(self, num_vars, objective_function, gradient_function=None,\n\u001b[1;32m    368\u001b[0m                  variable_bounds=None, initial_point=None):\n\u001b[0;32m--> 369\u001b[0;31m         \u001b[0;32mreturn\u001b[0m \u001b[0mself\u001b[0m\u001b[0;34m.\u001b[0m\u001b[0m_minimize\u001b[0m\u001b[0;34m(\u001b[0m\u001b[0mobjective_function\u001b[0m\u001b[0;34m,\u001b[0m \u001b[0minitial_point\u001b[0m\u001b[0;34m)\u001b[0m\u001b[0;34m\u001b[0m\u001b[0;34m\u001b[0m\u001b[0m\n\u001b[0m\u001b[1;32m    370\u001b[0m \u001b[0;34m\u001b[0m\u001b[0m\n\u001b[1;32m    371\u001b[0m \u001b[0;34m\u001b[0m\u001b[0m\n",
      "\u001b[0;32m~/anaconda3/envs/qiskit_env/lib/python3.9/site-packages/qiskit/algorithms/optimizers/spsa.py\u001b[0m in \u001b[0;36m_minimize\u001b[0;34m(self, loss, initial_point)\u001b[0m\n\u001b[1;32m    261\u001b[0m         \u001b[0;31m# this happens only here because for the calibration the loss function is required\u001b[0m\u001b[0;34m\u001b[0m\u001b[0;34m\u001b[0m\u001b[0;34m\u001b[0m\u001b[0m\n\u001b[1;32m    262\u001b[0m         \u001b[0;32mif\u001b[0m \u001b[0mself\u001b[0m\u001b[0;34m.\u001b[0m\u001b[0mlearning_rate\u001b[0m \u001b[0;32mis\u001b[0m \u001b[0;32mNone\u001b[0m \u001b[0;32mand\u001b[0m \u001b[0mself\u001b[0m\u001b[0;34m.\u001b[0m\u001b[0mperturbation\u001b[0m \u001b[0;32mis\u001b[0m \u001b[0;32mNone\u001b[0m\u001b[0;34m:\u001b[0m\u001b[0;34m\u001b[0m\u001b[0;34m\u001b[0m\u001b[0m\n\u001b[0;32m--> 263\u001b[0;31m             \u001b[0mget_learning_rate\u001b[0m\u001b[0;34m,\u001b[0m \u001b[0mget_perturbation\u001b[0m \u001b[0;34m=\u001b[0m \u001b[0mself\u001b[0m\u001b[0;34m.\u001b[0m\u001b[0mcalibrate\u001b[0m\u001b[0;34m(\u001b[0m\u001b[0mloss\u001b[0m\u001b[0;34m,\u001b[0m \u001b[0minitial_point\u001b[0m\u001b[0;34m)\u001b[0m\u001b[0;34m\u001b[0m\u001b[0;34m\u001b[0m\u001b[0m\n\u001b[0m\u001b[1;32m    264\u001b[0m             \u001b[0;31m# get iterator\u001b[0m\u001b[0;34m\u001b[0m\u001b[0;34m\u001b[0m\u001b[0;34m\u001b[0m\u001b[0m\n\u001b[1;32m    265\u001b[0m             \u001b[0meta\u001b[0m \u001b[0;34m=\u001b[0m \u001b[0mget_learning_rate\u001b[0m\u001b[0;34m(\u001b[0m\u001b[0;34m)\u001b[0m\u001b[0;34m\u001b[0m\u001b[0;34m\u001b[0m\u001b[0m\n",
      "\u001b[0;32m~/anaconda3/envs/qiskit_env/lib/python3.9/site-packages/qiskit/algorithms/optimizers/spsa.py\u001b[0m in \u001b[0;36mcalibrate\u001b[0;34m(loss, initial_point, c, stability_constant, target_magnitude, alpha, gamma, modelspace)\u001b[0m\n\u001b[1;32m    180\u001b[0m             \u001b[0;31m# compute the random directon\u001b[0m\u001b[0;34m\u001b[0m\u001b[0;34m\u001b[0m\u001b[0;34m\u001b[0m\u001b[0m\n\u001b[1;32m    181\u001b[0m             \u001b[0mpert\u001b[0m \u001b[0;34m=\u001b[0m \u001b[0mbernoulli_perturbation\u001b[0m\u001b[0;34m(\u001b[0m\u001b[0mdim\u001b[0m\u001b[0;34m)\u001b[0m\u001b[0;34m\u001b[0m\u001b[0;34m\u001b[0m\u001b[0m\n\u001b[0;32m--> 182\u001b[0;31m             \u001b[0mdelta\u001b[0m \u001b[0;34m=\u001b[0m \u001b[0mloss\u001b[0m\u001b[0;34m(\u001b[0m\u001b[0minitial_point\u001b[0m \u001b[0;34m+\u001b[0m \u001b[0mc\u001b[0m \u001b[0;34m*\u001b[0m \u001b[0mpert\u001b[0m\u001b[0;34m)\u001b[0m \u001b[0;34m-\u001b[0m \u001b[0mloss\u001b[0m\u001b[0;34m(\u001b[0m\u001b[0minitial_point\u001b[0m \u001b[0;34m-\u001b[0m \u001b[0mc\u001b[0m \u001b[0;34m*\u001b[0m \u001b[0mpert\u001b[0m\u001b[0;34m)\u001b[0m\u001b[0;34m\u001b[0m\u001b[0;34m\u001b[0m\u001b[0m\n\u001b[0m\u001b[1;32m    183\u001b[0m \u001b[0;34m\u001b[0m\u001b[0m\n\u001b[1;32m    184\u001b[0m             \u001b[0mavg_magnitudes\u001b[0m \u001b[0;34m+=\u001b[0m \u001b[0mnp\u001b[0m\u001b[0;34m.\u001b[0m\u001b[0mabs\u001b[0m\u001b[0;34m(\u001b[0m\u001b[0mdelta\u001b[0m \u001b[0;34m/\u001b[0m \u001b[0;34m(\u001b[0m\u001b[0;36m2\u001b[0m \u001b[0;34m*\u001b[0m \u001b[0mc\u001b[0m\u001b[0;34m)\u001b[0m\u001b[0;34m)\u001b[0m\u001b[0;34m\u001b[0m\u001b[0;34m\u001b[0m\u001b[0m\n",
      "\u001b[0;32m<ipython-input-112-8a24df4a7b05>\u001b[0m in \u001b[0;36m<lambda>\u001b[0;34m(thetas)\u001b[0m\n\u001b[1;32m     45\u001b[0m     ret = optimizer.optimize(\n\u001b[1;32m     46\u001b[0m                             \u001b[0mnum_vars\u001b[0m\u001b[0;34m=\u001b[0m\u001b[0mlen\u001b[0m\u001b[0;34m(\u001b[0m\u001b[0mthetas\u001b[0m\u001b[0;34m)\u001b[0m\u001b[0;34m,\u001b[0m\u001b[0;34m\u001b[0m\u001b[0;34m\u001b[0m\u001b[0m\n\u001b[0;32m---> 47\u001b[0;31m                             \u001b[0mobjective_function\u001b[0m\u001b[0;34m=\u001b[0m\u001b[0;34m(\u001b[0m\u001b[0;32mlambda\u001b[0m \u001b[0mthetas\u001b[0m\u001b[0;34m:\u001b[0m \u001b[0mcost_function\u001b[0m\u001b[0;34m(\u001b[0m\u001b[0mthetas\u001b[0m\u001b[0;34m,\u001b[0m \u001b[0mL\u001b[0m\u001b[0;34m,\u001b[0m \u001b[0mnum_trash\u001b[0m\u001b[0;34m,\u001b[0m \u001b[0minit_states\u001b[0m\u001b[0;34m,\u001b[0m \u001b[0mshots\u001b[0m\u001b[0;34m,\u001b[0m \u001b[0mvqe\u001b[0m\u001b[0;34m,\u001b[0m \u001b[0mparam_encoding\u001b[0m\u001b[0;34m,\u001b[0m \u001b[0mx\u001b[0m\u001b[0;34m,\u001b[0m \u001b[0mmeas_fitter\u001b[0m\u001b[0;34m=\u001b[0m\u001b[0mmeas_fitter\u001b[0m\u001b[0;34m)\u001b[0m\u001b[0;34m)\u001b[0m\u001b[0;34m,\u001b[0m\u001b[0;34m\u001b[0m\u001b[0;34m\u001b[0m\u001b[0m\n\u001b[0m\u001b[1;32m     48\u001b[0m                             \u001b[0minitial_point\u001b[0m\u001b[0;34m=\u001b[0m\u001b[0mthetas\u001b[0m\u001b[0;34m\u001b[0m\u001b[0;34m\u001b[0m\u001b[0m\n\u001b[1;32m     49\u001b[0m                             )\n",
      "\u001b[0;32m<ipython-input-112-8a24df4a7b05>\u001b[0m in \u001b[0;36mcost_function\u001b[0;34m(thetas, L, num_trash, init_states, shots, vqe, param_encoding, x, meas_fitter)\u001b[0m\n\u001b[1;32m     11\u001b[0m     \u001b[0mcost\u001b[0m \u001b[0;34m=\u001b[0m \u001b[0;36m0.\u001b[0m\u001b[0;34m\u001b[0m\u001b[0;34m\u001b[0m\u001b[0m\n\u001b[1;32m     12\u001b[0m     \u001b[0;32mfor\u001b[0m \u001b[0minit_state\u001b[0m \u001b[0;32min\u001b[0m \u001b[0minit_states\u001b[0m\u001b[0;34m:\u001b[0m\u001b[0;34m\u001b[0m\u001b[0;34m\u001b[0m\u001b[0m\n\u001b[0;32m---> 13\u001b[0;31m         \u001b[0mcost\u001b[0m \u001b[0;34m+=\u001b[0m \u001b[0mcost_function_single\u001b[0m\u001b[0;34m(\u001b[0m\u001b[0mthetas\u001b[0m\u001b[0;34m,\u001b[0m \u001b[0mL\u001b[0m\u001b[0;34m,\u001b[0m \u001b[0mnum_trash\u001b[0m\u001b[0;34m,\u001b[0m \u001b[0minit_state\u001b[0m\u001b[0;34m,\u001b[0m \u001b[0mshots\u001b[0m\u001b[0;34m,\u001b[0m \u001b[0mvqe\u001b[0m\u001b[0;34m,\u001b[0m \u001b[0mparam_encoding\u001b[0m\u001b[0;34m,\u001b[0m \u001b[0mmeas_fitter\u001b[0m\u001b[0;34m=\u001b[0m\u001b[0mmeas_fitter\u001b[0m\u001b[0;34m)\u001b[0m\u001b[0;34m\u001b[0m\u001b[0;34m\u001b[0m\u001b[0m\n\u001b[0m\u001b[1;32m     14\u001b[0m     \u001b[0;32mreturn\u001b[0m \u001b[0mcost\u001b[0m\u001b[0;34m/\u001b[0m\u001b[0mlen\u001b[0m\u001b[0;34m(\u001b[0m\u001b[0minit_states\u001b[0m\u001b[0;34m)\u001b[0m\u001b[0;34m\u001b[0m\u001b[0;34m\u001b[0m\u001b[0m\n\u001b[1;32m     15\u001b[0m \u001b[0;34m\u001b[0m\u001b[0m\n",
      "\u001b[0;32m<ipython-input-112-8a24df4a7b05>\u001b[0m in \u001b[0;36mcost_function_single\u001b[0;34m(thetas, L, num_trash, init_state, shots, vqe, param_encoding, x, meas_fitter)\u001b[0m\n\u001b[1;32m      3\u001b[0m     \u001b[0;34m\"\"\" Optimizes circuit \"\"\"\u001b[0m\u001b[0;34m\u001b[0m\u001b[0;34m\u001b[0m\u001b[0m\n\u001b[1;32m      4\u001b[0m     \u001b[0;32mif\u001b[0m \u001b[0mparam_encoding\u001b[0m\u001b[0;34m:\u001b[0m \u001b[0mthetas\u001b[0m \u001b[0;34m=\u001b[0m \u001b[0mfeature_encoding\u001b[0m\u001b[0;34m(\u001b[0m\u001b[0mthetas\u001b[0m\u001b[0;34m,\u001b[0m \u001b[0mx\u001b[0m\u001b[0;34m)\u001b[0m\u001b[0;34m\u001b[0m\u001b[0;34m\u001b[0m\u001b[0m\n\u001b[0;32m----> 5\u001b[0;31m     \u001b[0mout\u001b[0m \u001b[0;34m=\u001b[0m \u001b[0mrun_circuit\u001b[0m\u001b[0;34m(\u001b[0m\u001b[0mthetas\u001b[0m\u001b[0;34m,\u001b[0m \u001b[0mL\u001b[0m\u001b[0;34m,\u001b[0m \u001b[0mnum_trash\u001b[0m\u001b[0;34m,\u001b[0m \u001b[0minit_state\u001b[0m\u001b[0;34m,\u001b[0m \u001b[0mvqe\u001b[0m\u001b[0;34m=\u001b[0m\u001b[0mvqe\u001b[0m\u001b[0;34m,\u001b[0m \u001b[0mshots\u001b[0m\u001b[0;34m=\u001b[0m\u001b[0mshots\u001b[0m\u001b[0;34m,\u001b[0m \u001b[0mmeas_fitter\u001b[0m\u001b[0;34m=\u001b[0m\u001b[0mmeas_fitter\u001b[0m\u001b[0;34m)\u001b[0m\u001b[0;34m\u001b[0m\u001b[0;34m\u001b[0m\u001b[0m\n\u001b[0m\u001b[1;32m      6\u001b[0m     \u001b[0mcost\u001b[0m \u001b[0;34m=\u001b[0m \u001b[0mnp\u001b[0m\u001b[0;34m.\u001b[0m\u001b[0msum\u001b[0m\u001b[0;34m(\u001b[0m\u001b[0;34m[\u001b[0m\u001b[0mout\u001b[0m\u001b[0;34m[\u001b[0m\u001b[0m_\u001b[0m\u001b[0;34m]\u001b[0m\u001b[0;34m*\u001b[0m\u001b[0mcount_ones\u001b[0m\u001b[0;34m(\u001b[0m\u001b[0m_\u001b[0m\u001b[0;34m)\u001b[0m \u001b[0;32mfor\u001b[0m \u001b[0m_\u001b[0m \u001b[0;32min\u001b[0m \u001b[0mout\u001b[0m \u001b[0;32mif\u001b[0m \u001b[0m_\u001b[0m \u001b[0;34m!=\u001b[0m \u001b[0;34m\"0\"\u001b[0m \u001b[0;34m*\u001b[0m \u001b[0mnum_trash\u001b[0m\u001b[0;34m]\u001b[0m\u001b[0;34m)\u001b[0m \u001b[0;31m# all measurement results except \"000\"\u001b[0m\u001b[0;34m\u001b[0m\u001b[0;34m\u001b[0m\u001b[0m\n\u001b[1;32m      7\u001b[0m     \u001b[0;32mreturn\u001b[0m \u001b[0mcost\u001b[0m\u001b[0;34m/\u001b[0m\u001b[0mshots\u001b[0m\u001b[0;34m\u001b[0m\u001b[0;34m\u001b[0m\u001b[0m\n",
      "\u001b[0;32m<ipython-input-104-e77175faba66>\u001b[0m in \u001b[0;36mrun_circuit\u001b[0;34m(thetas, L, num_trash, init_state, vqe, shots, meas_fitter)\u001b[0m\n\u001b[1;32m      9\u001b[0m     \u001b[0;31m# Execute the circuit\u001b[0m\u001b[0;34m\u001b[0m\u001b[0;34m\u001b[0m\u001b[0;34m\u001b[0m\u001b[0m\n\u001b[1;32m     10\u001b[0m     \u001b[0mjob_sim\u001b[0m \u001b[0;34m=\u001b[0m \u001b[0mbackend\u001b[0m\u001b[0;34m.\u001b[0m\u001b[0mrun\u001b[0m\u001b[0;34m(\u001b[0m\u001b[0mtcirc\u001b[0m\u001b[0;34m,\u001b[0m \u001b[0mshots\u001b[0m\u001b[0;34m=\u001b[0m\u001b[0mshots\u001b[0m\u001b[0;34m)\u001b[0m \u001b[0;31m# , seed_simulator=123, seed_transpiler=234 fix seed to make it reproducible\u001b[0m\u001b[0;34m\u001b[0m\u001b[0;34m\u001b[0m\u001b[0m\n\u001b[0;32m---> 11\u001b[0;31m     \u001b[0mresult\u001b[0m \u001b[0;34m=\u001b[0m \u001b[0mjob_sim\u001b[0m\u001b[0;34m.\u001b[0m\u001b[0mresult\u001b[0m\u001b[0;34m(\u001b[0m\u001b[0;34m)\u001b[0m\u001b[0;34m\u001b[0m\u001b[0;34m\u001b[0m\u001b[0m\n\u001b[0m\u001b[1;32m     12\u001b[0m     \u001b[0;31m# Results without mitigation\u001b[0m\u001b[0;34m\u001b[0m\u001b[0;34m\u001b[0m\u001b[0;34m\u001b[0m\u001b[0m\n\u001b[1;32m     13\u001b[0m     \u001b[0mcounts\u001b[0m \u001b[0;34m=\u001b[0m \u001b[0mresult\u001b[0m\u001b[0;34m.\u001b[0m\u001b[0mget_counts\u001b[0m\u001b[0;34m(\u001b[0m\u001b[0;34m)\u001b[0m\u001b[0;34m\u001b[0m\u001b[0;34m\u001b[0m\u001b[0m\n",
      "\u001b[0;32m~/anaconda3/envs/qiskit_env/lib/python3.9/site-packages/qiskit/providers/aer/aerjob.py\u001b[0m in \u001b[0;36m_wrapper\u001b[0;34m(self, *args, **kwargs)\u001b[0m\n\u001b[1;32m     41\u001b[0m         \u001b[0;32mif\u001b[0m \u001b[0mself\u001b[0m\u001b[0;34m.\u001b[0m\u001b[0m_future\u001b[0m \u001b[0;32mis\u001b[0m \u001b[0;32mNone\u001b[0m\u001b[0;34m:\u001b[0m\u001b[0;34m\u001b[0m\u001b[0;34m\u001b[0m\u001b[0m\n\u001b[1;32m     42\u001b[0m             \u001b[0;32mraise\u001b[0m \u001b[0mJobError\u001b[0m\u001b[0;34m(\u001b[0m\u001b[0;34m\"Job not submitted yet!. You have to .submit() first!\"\u001b[0m\u001b[0;34m)\u001b[0m\u001b[0;34m\u001b[0m\u001b[0;34m\u001b[0m\u001b[0m\n\u001b[0;32m---> 43\u001b[0;31m         \u001b[0;32mreturn\u001b[0m \u001b[0mfunc\u001b[0m\u001b[0;34m(\u001b[0m\u001b[0mself\u001b[0m\u001b[0;34m,\u001b[0m \u001b[0;34m*\u001b[0m\u001b[0margs\u001b[0m\u001b[0;34m,\u001b[0m \u001b[0;34m**\u001b[0m\u001b[0mkwargs\u001b[0m\u001b[0;34m)\u001b[0m\u001b[0;34m\u001b[0m\u001b[0;34m\u001b[0m\u001b[0m\n\u001b[0m\u001b[1;32m     44\u001b[0m     \u001b[0;32mreturn\u001b[0m \u001b[0m_wrapper\u001b[0m\u001b[0;34m\u001b[0m\u001b[0;34m\u001b[0m\u001b[0m\n\u001b[1;32m     45\u001b[0m \u001b[0;34m\u001b[0m\u001b[0m\n",
      "\u001b[0;32m~/anaconda3/envs/qiskit_env/lib/python3.9/site-packages/qiskit/providers/aer/aerjob.py\u001b[0m in \u001b[0;36mresult\u001b[0;34m(self, timeout)\u001b[0m\n\u001b[1;32m    100\u001b[0m             \u001b[0mconcurrent\u001b[0m\u001b[0;34m.\u001b[0m\u001b[0mfutures\u001b[0m\u001b[0;34m.\u001b[0m\u001b[0mCancelledError\u001b[0m\u001b[0;34m:\u001b[0m \u001b[0;32mif\u001b[0m \u001b[0mjob\u001b[0m \u001b[0mcancelled\u001b[0m \u001b[0mbefore\u001b[0m \u001b[0mcompleted\u001b[0m\u001b[0;34m.\u001b[0m\u001b[0;34m\u001b[0m\u001b[0;34m\u001b[0m\u001b[0m\n\u001b[1;32m    101\u001b[0m         \"\"\"\n\u001b[0;32m--> 102\u001b[0;31m         \u001b[0;32mreturn\u001b[0m \u001b[0mself\u001b[0m\u001b[0;34m.\u001b[0m\u001b[0m_future\u001b[0m\u001b[0;34m.\u001b[0m\u001b[0mresult\u001b[0m\u001b[0;34m(\u001b[0m\u001b[0mtimeout\u001b[0m\u001b[0;34m=\u001b[0m\u001b[0mtimeout\u001b[0m\u001b[0;34m)\u001b[0m\u001b[0;34m\u001b[0m\u001b[0;34m\u001b[0m\u001b[0m\n\u001b[0m\u001b[1;32m    103\u001b[0m \u001b[0;34m\u001b[0m\u001b[0m\n\u001b[1;32m    104\u001b[0m     \u001b[0;34m@\u001b[0m\u001b[0mrequires_submit\u001b[0m\u001b[0;34m\u001b[0m\u001b[0;34m\u001b[0m\u001b[0m\n",
      "\u001b[0;32m~/anaconda3/envs/qiskit_env/lib/python3.9/concurrent/futures/_base.py\u001b[0m in \u001b[0;36mresult\u001b[0;34m(self, timeout)\u001b[0m\n\u001b[1;32m    438\u001b[0m                     \u001b[0;32mreturn\u001b[0m \u001b[0mself\u001b[0m\u001b[0;34m.\u001b[0m\u001b[0m__get_result\u001b[0m\u001b[0;34m(\u001b[0m\u001b[0;34m)\u001b[0m\u001b[0;34m\u001b[0m\u001b[0;34m\u001b[0m\u001b[0m\n\u001b[1;32m    439\u001b[0m \u001b[0;34m\u001b[0m\u001b[0m\n\u001b[0;32m--> 440\u001b[0;31m                 \u001b[0mself\u001b[0m\u001b[0;34m.\u001b[0m\u001b[0m_condition\u001b[0m\u001b[0;34m.\u001b[0m\u001b[0mwait\u001b[0m\u001b[0;34m(\u001b[0m\u001b[0mtimeout\u001b[0m\u001b[0;34m)\u001b[0m\u001b[0;34m\u001b[0m\u001b[0;34m\u001b[0m\u001b[0m\n\u001b[0m\u001b[1;32m    441\u001b[0m \u001b[0;34m\u001b[0m\u001b[0m\n\u001b[1;32m    442\u001b[0m                 \u001b[0;32mif\u001b[0m \u001b[0mself\u001b[0m\u001b[0;34m.\u001b[0m\u001b[0m_state\u001b[0m \u001b[0;32min\u001b[0m \u001b[0;34m[\u001b[0m\u001b[0mCANCELLED\u001b[0m\u001b[0;34m,\u001b[0m \u001b[0mCANCELLED_AND_NOTIFIED\u001b[0m\u001b[0;34m]\u001b[0m\u001b[0;34m:\u001b[0m\u001b[0;34m\u001b[0m\u001b[0;34m\u001b[0m\u001b[0m\n",
      "\u001b[0;32m~/anaconda3/envs/qiskit_env/lib/python3.9/threading.py\u001b[0m in \u001b[0;36mwait\u001b[0;34m(self, timeout)\u001b[0m\n\u001b[1;32m    310\u001b[0m         \u001b[0;32mtry\u001b[0m\u001b[0;34m:\u001b[0m    \u001b[0;31m# restore state no matter what (e.g., KeyboardInterrupt)\u001b[0m\u001b[0;34m\u001b[0m\u001b[0;34m\u001b[0m\u001b[0m\n\u001b[1;32m    311\u001b[0m             \u001b[0;32mif\u001b[0m \u001b[0mtimeout\u001b[0m \u001b[0;32mis\u001b[0m \u001b[0;32mNone\u001b[0m\u001b[0;34m:\u001b[0m\u001b[0;34m\u001b[0m\u001b[0;34m\u001b[0m\u001b[0m\n\u001b[0;32m--> 312\u001b[0;31m                 \u001b[0mwaiter\u001b[0m\u001b[0;34m.\u001b[0m\u001b[0macquire\u001b[0m\u001b[0;34m(\u001b[0m\u001b[0;34m)\u001b[0m\u001b[0;34m\u001b[0m\u001b[0;34m\u001b[0m\u001b[0m\n\u001b[0m\u001b[1;32m    313\u001b[0m                 \u001b[0mgotit\u001b[0m \u001b[0;34m=\u001b[0m \u001b[0;32mTrue\u001b[0m\u001b[0;34m\u001b[0m\u001b[0;34m\u001b[0m\u001b[0m\n\u001b[1;32m    314\u001b[0m             \u001b[0;32melse\u001b[0m\u001b[0;34m:\u001b[0m\u001b[0;34m\u001b[0m\u001b[0;34m\u001b[0m\u001b[0m\n",
      "\u001b[0;31mKeyboardInterrupt\u001b[0m: "
     ]
    }
   ],
   "source": [
    "for j,(L,num_trash) in enumerate(zip(Ls,num_trashs)):\n",
    "    print(L,num_trash)\n",
    "    t_list = np.ones(L-1)\n",
    "    for i in range(len(t_list)):\n",
    "        t_list[i] -= deltat*(-1)**i\n",
    "    E0, psi0 = DMRG_EBH(L, V, t_list, chi_max=chi, bc_MPS='finite')\n",
    "    thetas_opt[j], losses[j], accepted[j] = optimize([psi0], max_iter=max_iter[j], L=L, num_trash=num_trash, meas_fitter=None) #, pick_optimizer=\"adam\")\n",
    "    plt.plot(losses[j])\n",
    "    plt.title(f\"min loss = {np.min(losses[j])}\")\n",
    "    plt.show()"
   ]
  },
  {
   "cell_type": "code",
   "execution_count": null,
   "id": "b323352a-c014-40ac-8606-d4f2ff4be8b1",
   "metadata": {},
   "outputs": [],
   "source": [
    "np.savez(filename + \"_losses\", losses=losses, thetas_opt = thetas_opt, Ls=Ls, max_iter=max_iter, num_trashs=num_trashs)"
   ]
  },
  {
   "cell_type": "code",
   "execution_count": null,
   "id": "547b0cf0-c92c-4cf0-ab26-5460917c41e6",
   "metadata": {},
   "outputs": [],
   "source": [
    "temp = np.load(filename + \"_losses.npz\", allow_pickle=True)\n",
    "losses0 = temp[\"losses\"]"
   ]
  },
  {
   "cell_type": "code",
   "execution_count": null,
   "id": "bb17c5ac-279f-4298-82b3-87951bb1c08c",
   "metadata": {},
   "outputs": [],
   "source": [
    "min_losses = [np.min(l) for l in losses0]"
   ]
  },
  {
   "cell_type": "code",
   "execution_count": null,
   "id": "d9e814ed-027f-42e9-9a76-2715fbec3ac5",
   "metadata": {},
   "outputs": [],
   "source": [
    "min_losses"
   ]
  },
  {
   "cell_type": "code",
   "execution_count": null,
   "id": "e20c70e2-32e5-444b-a6e2-d01de74fb4ae",
   "metadata": {},
   "outputs": [],
   "source": [
    "fig, ax = plt.subplots(figsize=(6,5))\n",
    "ax.plot(Ls, min_losses,\"x--\")\n",
    "#ax.set_yscale(\"log\")\n",
    "#ax.set_xscale(\"log\")"
   ]
  },
  {
   "cell_type": "code",
   "execution_count": null,
   "id": "35677513-09f2-4902-936f-7372f00e91c0",
   "metadata": {},
   "outputs": [],
   "source": []
  }
 ],
 "metadata": {
  "kernelspec": {
   "display_name": "Python 3",
   "language": "python",
   "name": "python3"
  },
  "language_info": {
   "codemirror_mode": {
    "name": "ipython",
    "version": 3
   },
   "file_extension": ".py",
   "mimetype": "text/x-python",
   "name": "python",
   "nbconvert_exporter": "python",
   "pygments_lexer": "ipython3",
   "version": "3.9.4"
  }
 },
 "nbformat": 4,
 "nbformat_minor": 5
}
