{
 "cells": [
  {
   "cell_type": "code",
   "execution_count": 1,
   "id": "af601cb9-59f6-4e17-a9ce-3bef14c8010f",
   "metadata": {},
   "outputs": [],
   "source": [
    "import time\n",
    "import datetime\n",
    "import numpy as np\n",
    "from matplotlib import pyplot as plt\n",
    "\n",
    "import qiskit\n",
    "from qiskit import *\n",
    "from qiskit.opflow import X,Z,I\n",
    "from qiskit.opflow.state_fns import StateFn, CircuitStateFn\n",
    "from qiskit.providers.aer import StatevectorSimulator, AerSimulator\n",
    "from qiskit.algorithms import VQE\n",
    "from qiskit.algorithms.optimizers import COBYLA, SLSQP, SPSA\n",
    "from scipy import sparse\n",
    "import scipy.sparse.linalg.eigen.arpack as arp\n",
    "from modules.utils import *"
   ]
  },
  {
   "cell_type": "code",
   "execution_count": 7,
   "id": "0004eee1-9180-40e7-8216-a18f71a94c91",
   "metadata": {},
   "outputs": [
    {
     "name": "stdout",
     "output_type": "stream",
     "text": [
      "data/qsim_params_VQE_Ising_L5_anti_1_single-jobs\n"
     ]
    }
   ],
   "source": [
    "gz = 0\n",
    "anti = 1\n",
    "gx = 1e-1\n",
    "\n",
    "L = 5\n",
    "num_trash = 2\n",
    "name = f\"qsim_params_VQE_Ising_L{L:.0f}_anti_{anti:.0f}_single-jobs\"\n",
    "filename = 'data/' + name\n",
    "print(filename)\n",
    "gx_vals = np.logspace(-2,2,logspace_size)"
   ]
  },
  {
   "cell_type": "code",
   "execution_count": 9,
   "id": "4f6023ac-4f42-4e92-ad82-8cfbd33d65b9",
   "metadata": {},
   "outputs": [
    {
     "name": "stderr",
     "output_type": "stream",
     "text": [
      "ibmqfactory.load_account:WARNING:2021-05-28 16:46:17,658: Credentials are already in use. The existing account in the session will be replaced.\n"
     ]
    }
   ],
   "source": [
    "# more in-depth noise models https://qiskit.org/documentation/tutorials/simulators/2_device_noise_simulation.html\n",
    "#backend = qiskit.Aer.get_backend('qasm_simulator') # apparently outdated (legacy)\n",
    "IBMQ.load_account() # this then automatically loads your saved account\n",
    "provider = IBMQ.get_provider(hub='ibm-q-research')\n",
    "\n",
    "real_backend = provider.backends(simulator=False, operational=True)[6]\n",
    "backend = qiskit.providers.aer.AerSimulator.from_backend(real_backend)\n",
    "backend_sim = backend"
   ]
  },
  {
   "cell_type": "markdown",
   "id": "51de6b42-bb82-432a-9467-58d49749945a",
   "metadata": {},
   "source": [
    "## Test VQE execution"
   ]
  },
  {
   "cell_type": "code",
   "execution_count": 13,
   "id": "913d3909-1760-44db-a5fb-80a7e8afcc5c",
   "metadata": {},
   "outputs": [],
   "source": [
    "ansatz = qiskit.circuit.library.EfficientSU2(L, reps=3)\n",
    "ansatz = qiskit.transpile(ansatz, backend)\n",
    "\n",
    "#optimizer = SLSQP(maxiter=1000)\n",
    "#optimizer = COBYLA(maxiter=1000)\n",
    "optimizer = SPSA(maxiter=1000)\n",
    "\n",
    "vqe = VQE(ansatz, optimizer, quantum_instance=backend) "
   ]
  },
  {
   "cell_type": "code",
   "execution_count": 14,
   "id": "6c4bdc38-3548-49e7-ae2d-abc05789a9df",
   "metadata": {},
   "outputs": [
    {
     "name": "stderr",
     "output_type": "stream",
     "text": [
      "Measured Observable is not composed of only Paulis, converting to Pauli representation, which can be expensive.\n"
     ]
    },
    {
     "name": "stdout",
     "output_type": "stream",
     "text": [
      "elapsed time 0:04:22.447792\n"
     ]
    }
   ],
   "source": [
    "t0 = datetime.datetime.now()\n",
    "H = QHIsing(L,anti,np.float32(gx),np.float32(gz))\n",
    "result = vqe.compute_minimum_eigenvalue(H, aux_operators=[QMag(L,anti)]) #ED with Qiskit VQE\n",
    "print(f\"elapsed time {datetime.datetime.now()-t0}\")"
   ]
  },
  {
   "cell_type": "code",
   "execution_count": 15,
   "id": "246e5431-c6ed-49cb-8d23-7afde6334880",
   "metadata": {},
   "outputs": [
    {
     "name": "stdout",
     "output_type": "stream",
     "text": [
      "ED energy: -4.0185091477191905 ;; VQE energy: -1.461083984634024\n",
      "ED mag: (0.9971832823312762+0j) ;; VQE mag: [[0.2972656249999999]]\n"
     ]
    }
   ],
   "source": [
    "# ED\n",
    "ED_state, E, ham = ising_groundstate(L, anti, np.float32(gx), np.float32(gz))\n",
    "print(f\"ED energy: {E} ;; VQE energy: {result.eigenvalue}\")\n",
    "print(f\"ED mag: {ED_state.T.conj()@Mag(L,anti)@ED_state} ;; VQE mag: {result.aux_operator_eigenvalues}\")"
   ]
  },
  {
   "cell_type": "code",
   "execution_count": 27,
   "id": "25bb78ba-7caa-43f1-ab05-e1191f0469d5",
   "metadata": {},
   "outputs": [],
   "source": [
    "phis = [sort_params(result.optimal_parameters)] # needs to be called phis for later"
   ]
  },
  {
   "cell_type": "markdown",
   "id": "7656f057-5700-4d20-8bca-cf6aa2aae386",
   "metadata": {},
   "source": [
    "### Compare with simulated ED results\n",
    "get results from simulated VQE and put through the \"real\" circuit"
   ]
  },
  {
   "cell_type": "code",
   "execution_count": 35,
   "id": "b9372976-5108-4fb3-aec3-ab1269a852c8",
   "metadata": {},
   "outputs": [
    {
     "name": "stdout",
     "output_type": "stream",
     "text": [
      "elapsed time 0:00:16.575262\n"
     ]
    }
   ],
   "source": [
    "vqe2 = VQE(qiskit.circuit.library.EfficientSU2(L, reps=3), optimizer, quantum_instance=StatevectorSimulator()) \n",
    "t0 = datetime.datetime.now()\n",
    "result2 = vqe2.compute_minimum_eigenvalue(H, aux_operators=[QMag(L,anti)]) #ED with Qiskit VQE\n",
    "print(f\"elapsed time {datetime.datetime.now()-t0}\")"
   ]
  },
  {
   "cell_type": "code",
   "execution_count": 36,
   "id": "fc88e6f6-4a92-4846-b84c-9e02cb22e5b3",
   "metadata": {},
   "outputs": [],
   "source": [
    "phis.append(sort_params(result2.optimal_parameters))"
   ]
  },
  {
   "cell_type": "code",
   "execution_count": 37,
   "id": "80746484-eaa9-48e8-ae5f-e304a274f90c",
   "metadata": {},
   "outputs": [],
   "source": [
    "state = init_vqe(phis[-1], L=L)"
   ]
  },
  {
   "cell_type": "code",
   "execution_count": 38,
   "id": "24d88b3a-d8f1-44a5-aac5-6c4165ec626f",
   "metadata": {},
   "outputs": [
    {
     "data": {
      "text/plain": [
       "<qiskit.circuit.library.n_local.efficient_su2.EfficientSU2 at 0x7fe2f3da6fd0>"
      ]
     },
     "execution_count": 38,
     "metadata": {},
     "output_type": "execute_result"
    }
   ],
   "source": [
    "state"
   ]
  },
  {
   "cell_type": "code",
   "execution_count": 41,
   "id": "73ef60c9-705c-4d65-a769-6ffc998102ea",
   "metadata": {},
   "outputs": [],
   "source": [
    "state = init_vqe(phis[-1], L=L)\n",
    "state = qiskit.transpile(state, backend)\n",
    "meas_outcome = ~StateFn(QMag(L,anti)) @ StateFn(state)\n",
    "\n",
    "Qmag2 = meas_outcome.eval()\n",
    "e_outcome = ~StateFn(H) @ StateFn(state)\n",
    "Qen2 = e_outcome.eval()"
   ]
  },
  {
   "cell_type": "code",
   "execution_count": 43,
   "id": "0342f87a-25e4-40a7-b0b0-a699464ebb68",
   "metadata": {},
   "outputs": [
    {
     "name": "stdout",
     "output_type": "stream",
     "text": [
      "ED energy: -4.0185091477191905 ;; VQE energy: -1.461083984634024 ;; VQE energy from simulated: -4.016651757443969 ;; VQE simualted but real execution: (-4.012639227671821+4.44e-16j)\n",
      "ED mag: (0.9971832823312762+0j) ;; VQE mag: [[0.2972656249999999]] ;; VQE magfrom simulated: [[0.9973691421765032]] ;; VQE simualted but real execution: (0.997369142176503+0j)\n"
     ]
    }
   ],
   "source": [
    "print(f\"ED energy: {E} ;; VQE energy: {result.eigenvalue} ;; VQE energy from simulated: {result2.eigenvalue} ;; VQE simualted but real execution: {Qen2}\")\n",
    "print(f\"ED mag: {ED_state.T.conj()@Mag(L,anti)@ED_state} ;; VQE mag: {result.aux_operator_eigenvalues} ;; VQE magfrom simulated: {result2.aux_operator_eigenvalues} ;; VQE simualted but real execution: {Qmag2}\")"
   ]
  },
  {
   "cell_type": "markdown",
   "id": "faf6a2d0-8fc6-4ff7-9190-b09961cd6436",
   "metadata": {},
   "source": [
    "## Test Training "
   ]
  },
  {
   "cell_type": "code",
   "execution_count": 19,
   "id": "9d6f4cb9-1b04-49bc-8381-95b5ff8cb79f",
   "metadata": {},
   "outputs": [],
   "source": [
    "##############################################################################\n",
    "### II - Training  ###########################################################\n",
    "##############################################################################\n",
    "\n",
    "thetas = np.random.uniform(0, 2*np.pi, 2*L+2) # initial parameters without feature encoding\n",
    "# thetas = np.random.uniform(0, 2*np.pi, (2*L+2, 2)) # initial parameters with feature encoding"
   ]
  },
  {
   "cell_type": "code",
   "execution_count": 20,
   "id": "bd73b43b-f015-455f-9189-4e0ab7990ea1",
   "metadata": {},
   "outputs": [],
   "source": [
    "# linear entangler (as in scales linearly with trash qubits)\n",
    "def get_entangler_map(L, num_trash, i_permut=1):\n",
    "    result = []\n",
    "    nums = list(range(L)) # here was the problem, it doesnt like when list elements are taken from numpy\n",
    "    nums_compressed = nums.copy()[:L-num_trash]\n",
    "    nums_trash = nums.copy()[-num_trash:]\n",
    "    #print(nums, nums_compressed, nums_trash)\n",
    "    # combine all trash qubits with themselves\n",
    "    for trash_q in nums_trash[:-1]:\n",
    "        result.append((trash_q+1,trash_q))\n",
    "    # combine each of the trash qubits with every n-th\n",
    "    repeated = list(nums_trash) * (L-num_trash) # repeat the list of trash indices cyclicly\n",
    "    for i in range(L-num_trash):\n",
    "        result.append((repeated[i_permut + i], nums_compressed[i]))\n",
    "    return result\n",
    "\n",
    "def QAE_Ansatz(thetas, L, num_trash, insert_barriers=False, parametrized_gate = \"ry\", entangling_gate = \"cz\"):\n",
    "    entanglement = [get_entangler_map(L,num_trash,i_permut) for i_permut in range(num_trash)]\n",
    "    circ = qiskit.circuit.library.TwoLocal(L, \n",
    "                                           parametrized_gate,\n",
    "                                           entangling_gate,\n",
    "                                           entanglement,\n",
    "                                           reps=num_trash,\n",
    "                                           insert_barriers=insert_barriers,\n",
    "                                           skip_final_rotation_layer=True\n",
    "                                          ).assign_parameters(thetas[:-num_trash])\n",
    "    if insert_barriers: circ.barrier()\n",
    "    for i in range(num_trash):\n",
    "        circ.ry(thetas[L-i-1], L-i-1)\n",
    "        #circ.ry(circuit.Parameter(f'θ{i}'), L-i-1)\n",
    "    return circ\n",
    "\n",
    "def prepare_circuit(thetas, L=6, num_trash=2, init_state=None, measurement=True, vqe=True):\n",
    "    qreg = QuantumRegister(L, 'q')\n",
    "    creg = ClassicalRegister(num_trash, 'c')\n",
    "    circ = QuantumCircuit(qreg, creg)\n",
    "    circ += QAE_Ansatz(thetas, L, num_trash, insert_barriers=True)#.assign_parameters(thetas) # difference to bind?\n",
    "    if measurement:\n",
    "        for i in range(num_trash):\n",
    "            circ.measure(qreg[L-i-1], creg[i])\n",
    "    if init_state is not None:\n",
    "        if vqe:\n",
    "            circ = init_vqe(init_state,L=L) + circ\n",
    "        else:\n",
    "            circ.initialize(init_state, qreg)\n",
    "    return circ"
   ]
  },
  {
   "cell_type": "markdown",
   "id": "25880ab3-2588-4ac7-95bf-6f8e0b78ccb4",
   "metadata": {},
   "source": [
    "### Execute circuit\n",
    "Circuit is executed on simulator and measurement outcomes on the trash qubits are stored"
   ]
  },
  {
   "cell_type": "code",
   "execution_count": 24,
   "id": "b05a9275-ff0c-4779-ac98-dbd0be93a942",
   "metadata": {},
   "outputs": [],
   "source": [
    "def run_circuit(thetas, L, num_trash, init_state, vqe=True, shots=1000, backend=backend):\n",
    "    circ = prepare_circuit(thetas, L, num_trash, init_state, vqe=vqe)\n",
    "    circ = qiskit.transpile(circ, backend)\n",
    "    # Execute the circuit on the qasm simulator.\n",
    "    job_sim = execute(circ, backend_sim, shots=shots, seed_simulator=123, seed_transpiler=234) # fix seed to make it reproducible\n",
    "    return job_sim"
   ]
  },
  {
   "cell_type": "code",
   "execution_count": 28,
   "id": "26aaeb26-9613-4f0f-89a3-3b3723401913",
   "metadata": {},
   "outputs": [],
   "source": [
    "phi = phis[0]\n",
    "job = run_circuit(thetas, L, num_trash, phi)\n",
    "counts = job.result().get_counts()"
   ]
  },
  {
   "cell_type": "code",
   "execution_count": 29,
   "id": "9c49524b-4d83-40ae-8335-e8276948311a",
   "metadata": {},
   "outputs": [
    {
     "data": {
      "text/plain": [
       "{'11': 199, '01': 199, '10': 287, '00': 315}"
      ]
     },
     "execution_count": 29,
     "metadata": {},
     "output_type": "execute_result"
    }
   ],
   "source": [
    "counts"
   ]
  },
  {
   "cell_type": "markdown",
   "id": "d91914cb-9d99-4594-9f2d-cd040218888e",
   "metadata": {},
   "source": [
    "### Optimize circuit\n",
    "Define cost function (averaged hamming distance of measurement outcomes) and minimze it using either scipy or qiskit optimizer modules (the latter is also based on scipy though)."
   ]
  },
  {
   "cell_type": "code",
   "execution_count": 30,
   "id": "bb478aa8-2576-46d9-8dc3-73209c5c29a3",
   "metadata": {},
   "outputs": [],
   "source": [
    "\n",
    "\n",
    "def cost_function_single(thetas, L, num_trash, p, shots=1000, vqe=True, param_encoding=False, x=0):\n",
    "    \"\"\" Optimizes circuit \"\"\"\n",
    "    if vqe:\n",
    "        init_state = phis[p]\n",
    "    else:\n",
    "        J, gx, gz = p\n",
    "        init_state, _ = ising_groundstate(L, J, gx, gz)\n",
    "    if param_encoding: thetas = feature_encoding(thetas, x) \n",
    "    out = run_circuit(thetas, L, num_trash, init_state, vqe=vqe, shots=shots).result().get_counts()\n",
    "    cost = out.get('11', 0)*2 + out.get('01', 0) + out.get('10', 0)\n",
    "    return cost/shots\n",
    "\n",
    "def cost_function(thetas, L, num_trash, ising_params, shots=1000, vqe=True, param_encoding=False, x=0):\n",
    "    \"\"\" Optimizes circuit \"\"\"\n",
    "    cost = 0.\n",
    "    n_samples = len(ising_params)\n",
    "    for i, p in enumerate(ising_params):\n",
    "        if param_encoding: \n",
    "            cost += cost_function_single(thetas, L, num_trash, p, shots, vqe, param_encoding, x[i])\n",
    "        else:\n",
    "            cost += cost_function_single(thetas, L, num_trash, p, shots, vqe, param_encoding)\n",
    "    return cost/n_samples\n",
    "\n",
    "def optimize(ising_params, L=6, num_trash=2, thetas=None, shots=1000, max_iter=400, vqe=True, param_encoding=False, x=0, pick_optimizer = None):\n",
    "    if thetas is None:\n",
    "        n_params = (2*L+2)*2 if param_encoding else (2*L+2)\n",
    "        thetas = np.random.uniform(0, 2*np.pi, n_params) # initial parameters without feature encoding\n",
    "        \n",
    "    print(\"Initial cost: {:.3f}\".format(cost_function(thetas, L, num_trash, ising_params, shots, vqe, param_encoding, x)))\n",
    "    \n",
    "    counts, values, accepted = [], [], []\n",
    "    def store_intermediate_result(eval_count, parameters, mean, std, ac):\n",
    "        # counts.append(eval_count)\n",
    "        values.append(mean)\n",
    "        accepted.append(ac)\n",
    "\n",
    "    # Initialize optimizer\n",
    "    if pick_optimizer == \"cobyla\":\n",
    "        optimizer = COBYLA(maxiter=max_iter, tol=0.0001)\n",
    "    if pick_optimizer == \"adam\" or pick_optimizer == \"ADAM\":\n",
    "        optimizer = qiskit.algorithms.optimizers.ADAM(maxiter=max_iter)\n",
    "    # optimizer = L_BFGS_B(maxfun=300, maxiter=max_iter)#, factr=10, iprint=- 1, epsilon=1e-08)\n",
    "    if pick_optimizer == \"spsa\" or pick_optimizer == None:\n",
    "        optimizer = SPSA(maxiter=max_iter,\n",
    "                         #blocking=True,\n",
    "                         callback=store_intermediate_result,\n",
    "                         #learning_rate=1e-1,\n",
    "                         #perturbation=0.4\n",
    "                         ) # recommended from qiskit (first iteraction takes quite long)\n",
    "                           # to reduce time figure out optimal learning rate and perturbation in advance\n",
    "\n",
    "    start_time = time.time()\n",
    "    ret = optimizer.optimize(\n",
    "                            num_vars=len(thetas),\n",
    "                            objective_function=(lambda thetas: cost_function(thetas, L, num_trash, ising_params, shots, vqe, param_encoding, x)),\n",
    "                            initial_point=thetas\n",
    "                            )\n",
    "    print(\"Time: {:.5f} sec\".format(time.time()-start_time))\n",
    "    print(ret)\n",
    "    return ret[0], values, accepted\n",
    "\n"
   ]
  },
  {
   "cell_type": "code",
   "execution_count": 31,
   "id": "95cf2444-3d28-4dc4-845a-1e335298799b",
   "metadata": {},
   "outputs": [],
   "source": [
    "def run_inference(thetas, shots=1000, L=5):\n",
    "    cost = np.zeros((len(gx_vals)))\n",
    "    shots = 1000\n",
    "    for i,p in enumerate(list(zip(gxs, gzs))):\n",
    "            cost[i] = cost_function_single(thetas, L, num_trash, i, shots=shots)\n",
    "    return cost"
   ]
  },
  {
   "cell_type": "code",
   "execution_count": null,
   "id": "bd6e185f-2081-477c-9703-f17d642a7b37",
   "metadata": {},
   "outputs": [],
   "source": []
  },
  {
   "cell_type": "code",
   "execution_count": 32,
   "id": "92e7b9f2-e8a3-4394-bb0b-6dc0097b3f73",
   "metadata": {},
   "outputs": [
    {
     "name": "stdout",
     "output_type": "stream",
     "text": [
      "Initial cost: 1.073\n",
      "Time: 87.05973 sec\n",
      "(array([ 8.62093881,  1.64621556,  4.34012675, -0.08811855, -0.08377322,\n",
      "        3.80926389,  5.85356059,  5.94192758,  0.23473311, -0.25130999,\n",
      "       -0.21227317,  1.29001248]), 0.719, 300)\n"
     ]
    }
   ],
   "source": [
    "# from the original vqe calculated state\n",
    "thetas, loss, accepted = optimize([0], max_iter=100, L=5) #, pick_optimizer=\"adam\")"
   ]
  },
  {
   "cell_type": "code",
   "execution_count": 33,
   "id": "23ba8476-765a-449d-a6ab-7c9b528715c0",
   "metadata": {},
   "outputs": [
    {
     "data": {
      "text/plain": [
       "[<matplotlib.lines.Line2D at 0x7fe2ad4a8d60>]"
      ]
     },
     "execution_count": 33,
     "metadata": {},
     "output_type": "execute_result"
    },
    {
     "data": {
      "image/png": "[encoded data removed]",
      "text/plain": [
       "<Figure size 432x288 with 1 Axes>"
      ]
     },
     "metadata": {
      "needs_background": "light"
     },
     "output_type": "display_data"
    }
   ],
   "source": [
    "plt.plot(loss)"
   ]
  },
  {
   "cell_type": "code",
   "execution_count": 44,
   "id": "e6735358-fba9-4dca-a605-7ba44ab2dc38",
   "metadata": {},
   "outputs": [
    {
     "name": "stdout",
     "output_type": "stream",
     "text": [
      "Initial cost: 1.059\n",
      "Time: 92.52694 sec\n",
      "(array([ 5.28069876,  4.33928498,  2.33835442,  3.19871708, -0.10435896,\n",
      "        3.26580548,  1.91447475,  3.54516646,  0.08645491,  0.3357119 ,\n",
      "        3.43387543,  4.20053885]), 0.783, 300)\n"
     ]
    }
   ],
   "source": [
    "# using the VQE parameters from simulation\n",
    "thetas, loss, accepted = optimize([1], max_iter=100, L=5) #, pick_optimizer=\"adam\")"
   ]
  },
  {
   "cell_type": "code",
   "execution_count": 45,
   "id": "b47db123-ef80-41b7-a3ec-9d0b0bb593f5",
   "metadata": {},
   "outputs": [
    {
     "data": {
      "text/plain": [
       "[<matplotlib.lines.Line2D at 0x7fe2f3d42f10>]"
      ]
     },
     "execution_count": 45,
     "metadata": {},
     "output_type": "execute_result"
    },
    {
     "data": {
      "image/png": "[encoded data removed]",
      "text/plain": [
       "<Figure size 432x288 with 1 Axes>"
      ]
     },
     "metadata": {
      "needs_background": "light"
     },
     "output_type": "display_data"
    }
   ],
   "source": [
    "plt.plot(loss)"
   ]
  },
  {
   "cell_type": "code",
   "execution_count": null,
   "id": "5f6c7c4d-2e95-412b-b2d4-d7cce690d29b",
   "metadata": {},
   "outputs": [],
   "source": []
  }
 ],
 "metadata": {
  "kernelspec": {
   "display_name": "Python 3",
   "language": "python",
   "name": "python3"
  },
  "language_info": {
   "codemirror_mode": {
    "name": "ipython",
    "version": 3
   },
   "file_extension": ".py",
   "mimetype": "text/x-python",
   "name": "python",
   "nbconvert_exporter": "python",
   "pygments_lexer": "ipython3",
   "version": "3.9.4"
  }
 },
 "nbformat": 4,
 "nbformat_minor": 5
}
