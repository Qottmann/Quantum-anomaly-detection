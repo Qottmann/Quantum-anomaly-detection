{
 "cells": [
  {
   "cell_type": "code",
   "execution_count": 6,
   "id": "147e73da",
   "metadata": {},
   "outputs": [],
   "source": [
    "import time\n",
    "import numpy as np\n",
    "import qiskit\n",
    "from qiskit.opflow import X,Z,I\n",
    "from qiskit.opflow.state_fns import StateFn, CircuitStateFn\n",
    "\n",
    "from modules.utils import *\n",
    "\n",
    "import matplotlib.pyplot as plt\n",
    "\n",
    "from scipy import sparse\n",
    "import scipy.sparse.linalg.eigen.arpack as arp\n",
    "%matplotlib inline"
   ]
  },
  {
   "cell_type": "code",
   "execution_count": 7,
   "id": "726ac772-35c2-413d-a5e6-3660521c169d",
   "metadata": {},
   "outputs": [],
   "source": [
    "import numpy as np\n",
    "from qiskit.opflow import I, X, Y, Z, H, CX, Zero, ListOp, PauliExpectation, PauliTrotterEvolution, CircuitSampler, MatrixEvolution, Suzuki\n",
    "from qiskit.circuit import Parameter\n",
    "from qiskit import BasicAer"
   ]
  },
  {
   "cell_type": "markdown",
   "id": "05d4f7e3",
   "metadata": {},
   "source": [
    "I am basically following this https://qiskit.org/documentation/tutorials/operators/01_operator_flow.html#Part-IV:-Converters"
   ]
  },
  {
   "cell_type": "code",
   "execution_count": 44,
   "id": "971be365",
   "metadata": {},
   "outputs": [],
   "source": [
    "L=5\n",
    "anti = -1\n",
    "gx = 1e-2\n",
    "gz = 1e-2"
   ]
  },
  {
   "cell_type": "code",
   "execution_count": null,
   "id": "a7fb0f91-76b0-41dd-a5e6-81e1db4950db",
   "metadata": {},
   "outputs": [],
   "source": []
  },
  {
   "cell_type": "code",
   "execution_count": 45,
   "id": "85874376-55af-4380-b342-c061580b4f26",
   "metadata": {},
   "outputs": [],
   "source": [
    "two_qubit_H2 = QHIsing(L,anti,np.float32(gx),np.float32(gz))"
   ]
  },
  {
   "cell_type": "code",
   "execution_count": 99,
   "id": "9a831ed5-eb15-43c4-afd1-20dc6c67ebc3",
   "metadata": {},
   "outputs": [
    {
     "data": {
      "text/plain": [
       "PauliSumOp(SparsePauliOp([[ True, False, False, False,  True, False,  True,  True,\n",
       "                 True, False,  True,  True,  True, False,  True, False,\n",
       "                False, False],\n",
       "               [ True, False, False, False, False, False,  True,  True,\n",
       "                 True, False,  True,  True,  True,  True,  True, False,\n",
       "                False, False]],\n",
       "              coeffs=[1.+0.j, 1.+0.j]), coeff=1.0)"
      ]
     },
     "execution_count": 99,
     "metadata": {},
     "output_type": "execute_result"
    }
   ],
   "source": [
    "two_qubit_H2 = 1 * (X^X^X^Z^X + Z^Z^Z^Z^X)\n",
    "two_qubit_H2"
   ]
  },
  {
   "cell_type": "code",
   "execution_count": 100,
   "id": "c95bb4a3-1d8a-474a-950b-543ace389b56",
   "metadata": {},
   "outputs": [],
   "source": [
    "evo_time = Parameter('θ')\n",
    "evolution_op = (evo_time * two_qubit_H2).exp_i()"
   ]
  },
  {
   "cell_type": "code",
   "execution_count": 101,
   "id": "29e89b11-64a4-49f6-b8be-78f544b03313",
   "metadata": {},
   "outputs": [],
   "source": [
    "h2_measurement = StateFn(two_qubit_H2).adjoint()\n",
    "#print(h2_measurement)"
   ]
  },
  {
   "cell_type": "code",
   "execution_count": 102,
   "id": "eeddb8b5-1eca-4558-8375-894201f35fae",
   "metadata": {},
   "outputs": [],
   "source": [
    "evo_and_meas = h2_measurement @ evolution_op @ Zero\n",
    "#print(evo_and_meas)"
   ]
  },
  {
   "cell_type": "code",
   "execution_count": 103,
   "id": "985a99cc-4b32-4a24-8e4f-e68a62052681",
   "metadata": {},
   "outputs": [],
   "source": [
    "trotterized_op = PauliTrotterEvolution(trotter_mode=Suzuki(order=2, reps=1)).convert(evo_and_meas)"
   ]
  },
  {
   "cell_type": "code",
   "execution_count": 104,
   "id": "075fb9aa-1684-43a0-97f2-accc43711e40",
   "metadata": {},
   "outputs": [],
   "source": [
    "bound = trotterized_op.bind_parameters({evo_time: .5})"
   ]
  },
  {
   "cell_type": "code",
   "execution_count": 105,
   "id": "84131ec2-c261-445b-b07d-86096d0d24b1",
   "metadata": {},
   "outputs": [],
   "source": [
    "diagonalized_meas_op = PauliExpectation().convert(trotterized_op)"
   ]
  },
  {
   "cell_type": "code",
   "execution_count": 106,
   "id": "ddbfa8a6-26f7-4736-87af-2e271b23bc0f",
   "metadata": {},
   "outputs": [],
   "source": [
    "evo_time_points = [1,2,3,4]\n",
    "h2_trotter_expectations = diagonalized_meas_op.bind_parameters({evo_time: evo_time_points})"
   ]
  },
  {
   "cell_type": "code",
   "execution_count": 107,
   "id": "2b61db21-b56d-4c9a-a167-f94122106c2b",
   "metadata": {},
   "outputs": [
    {
     "data": {
      "text/plain": [
       "array([-1.565e-15+0.j, -1.900e-16+0.j, -7.900e-17+0.j,  6.400e-17+0.j])"
      ]
     },
     "execution_count": 107,
     "metadata": {},
     "output_type": "execute_result"
    }
   ],
   "source": [
    "h2_trotter_expectations.eval()"
   ]
  },
  {
   "cell_type": "markdown",
   "id": "c6f8eed6-de1e-4f5f-975b-453123cf5ad9",
   "metadata": {},
   "source": [
    "but if you rerun it with complex values it doesnt work because the trotterization takes use of the unitarity of the Ops."
   ]
  },
  {
   "cell_type": "code",
   "execution_count": null,
   "id": "d53f4deb-f255-41f2-87b8-85bf6468bc88",
   "metadata": {},
   "outputs": [],
   "source": []
  },
  {
   "cell_type": "code",
   "execution_count": null,
   "id": "4fea14da-1795-4b9b-9af2-36449984a82d",
   "metadata": {},
   "outputs": [],
   "source": []
  },
  {
   "cell_type": "code",
   "execution_count": null,
   "id": "799328e5-3e27-411e-88ae-0b34a0a53677",
   "metadata": {},
   "outputs": [],
   "source": []
  },
  {
   "cell_type": "code",
   "execution_count": 41,
   "id": "5c2d89c9",
   "metadata": {},
   "outputs": [],
   "source": [
    "# Ops\n",
    "H = QHIsing(L,anti,np.float32(gx),np.float32(gz))\n",
    "H_meas = StateFn(H).adjoint()\n",
    "mag = QMag(L,anti)"
   ]
  },
  {
   "cell_type": "code",
   "execution_count": 66,
   "id": "97a606cd-421c-49f4-8c36-d25785ad5725",
   "metadata": {},
   "outputs": [
    {
     "data": {
      "text/plain": [
       "DictStateFn({'11111': 1}, coeff=1.0, is_measurement=False)"
      ]
     },
     "execution_count": 66,
     "metadata": {},
     "output_type": "execute_result"
    }
   ],
   "source": [
    "qiskit.opflow.One^5"
   ]
  },
  {
   "cell_type": "code",
   "execution_count": 67,
   "id": "5b481527-8440-48cb-87d7-be7832b140ae",
   "metadata": {},
   "outputs": [
    {
     "data": {
      "text/plain": [
       "VectorStateFn(DictStateFn({'11111': 1}, coeff=1.0, is_measurement=False), coeff=1.0, is_measurement=False)"
      ]
     },
     "execution_count": 67,
     "metadata": {},
     "output_type": "execute_result"
    }
   ],
   "source": [
    "qiskit.opflow.VectorStateFn(qiskit.opflow.One^5)"
   ]
  },
  {
   "cell_type": "code",
   "execution_count": 69,
   "id": "c983c2da-1424-4992-a73c-9ecee4d39e4e",
   "metadata": {},
   "outputs": [],
   "source": [
    "asd = H_meas @ qiskit.opflow.One^5"
   ]
  },
  {
   "cell_type": "code",
   "execution_count": 70,
   "id": "d14962ef-a5f9-4bcc-83c1-d37b03f370ed",
   "metadata": {},
   "outputs": [
    {
     "ename": "RecursionError",
     "evalue": "maximum recursion depth exceeded in comparison",
     "output_type": "error",
     "traceback": [
      "\u001b[0;31m---------------------------------------------------------------------------\u001b[0m",
      "\u001b[0;31mRecursionError\u001b[0m                            Traceback (most recent call last)",
      "\u001b[0;32m<ipython-input-70-ec242e36de8b>\u001b[0m in \u001b[0;36m<module>\u001b[0;34m\u001b[0m\n\u001b[0;32m----> 1\u001b[0;31m \u001b[0masd\u001b[0m\u001b[0;34m.\u001b[0m\u001b[0meval\u001b[0m\u001b[0;34m(\u001b[0m\u001b[0;34m)\u001b[0m\u001b[0;34m\u001b[0m\u001b[0;34m\u001b[0m\u001b[0m\n\u001b[0m",
      "\u001b[0;32m~/anaconda3/envs/qiskit_env/lib/python3.9/site-packages/qiskit/opflow/list_ops/tensored_op.py\u001b[0m in \u001b[0;36meval\u001b[0;34m(self, front)\u001b[0m\n\u001b[1;32m     77\u001b[0m         \u001b[0;32mif\u001b[0m \u001b[0mself\u001b[0m\u001b[0;34m.\u001b[0m\u001b[0m_is_empty\u001b[0m\u001b[0;34m(\u001b[0m\u001b[0;34m)\u001b[0m\u001b[0;34m:\u001b[0m\u001b[0;34m\u001b[0m\u001b[0;34m\u001b[0m\u001b[0m\n\u001b[1;32m     78\u001b[0m             \u001b[0;32mreturn\u001b[0m \u001b[0;36m0.0\u001b[0m\u001b[0;34m\u001b[0m\u001b[0;34m\u001b[0m\u001b[0m\n\u001b[0;32m---> 79\u001b[0;31m         \u001b[0;32mreturn\u001b[0m \u001b[0mcast\u001b[0m\u001b[0;34m(\u001b[0m\u001b[0mUnion\u001b[0m\u001b[0;34m[\u001b[0m\u001b[0mOperatorBase\u001b[0m\u001b[0;34m,\u001b[0m \u001b[0mcomplex\u001b[0m\u001b[0;34m]\u001b[0m\u001b[0;34m,\u001b[0m \u001b[0mself\u001b[0m\u001b[0;34m.\u001b[0m\u001b[0mto_matrix_op\u001b[0m\u001b[0;34m(\u001b[0m\u001b[0;34m)\u001b[0m\u001b[0;34m.\u001b[0m\u001b[0meval\u001b[0m\u001b[0;34m(\u001b[0m\u001b[0mfront\u001b[0m\u001b[0;34m=\u001b[0m\u001b[0mfront\u001b[0m\u001b[0;34m)\u001b[0m\u001b[0;34m)\u001b[0m\u001b[0;34m\u001b[0m\u001b[0;34m\u001b[0m\u001b[0m\n\u001b[0m\u001b[1;32m     80\u001b[0m \u001b[0;34m\u001b[0m\u001b[0m\n\u001b[1;32m     81\u001b[0m     \u001b[0;31m# Try collapsing list or trees of tensor products.\u001b[0m\u001b[0;34m\u001b[0m\u001b[0;34m\u001b[0m\u001b[0;34m\u001b[0m\u001b[0m\n",
      "... last 1 frames repeated, from the frame below ...\n",
      "\u001b[0;32m~/anaconda3/envs/qiskit_env/lib/python3.9/site-packages/qiskit/opflow/list_ops/tensored_op.py\u001b[0m in \u001b[0;36meval\u001b[0;34m(self, front)\u001b[0m\n\u001b[1;32m     77\u001b[0m         \u001b[0;32mif\u001b[0m \u001b[0mself\u001b[0m\u001b[0;34m.\u001b[0m\u001b[0m_is_empty\u001b[0m\u001b[0;34m(\u001b[0m\u001b[0;34m)\u001b[0m\u001b[0;34m:\u001b[0m\u001b[0;34m\u001b[0m\u001b[0;34m\u001b[0m\u001b[0m\n\u001b[1;32m     78\u001b[0m             \u001b[0;32mreturn\u001b[0m \u001b[0;36m0.0\u001b[0m\u001b[0;34m\u001b[0m\u001b[0;34m\u001b[0m\u001b[0m\n\u001b[0;32m---> 79\u001b[0;31m         \u001b[0;32mreturn\u001b[0m \u001b[0mcast\u001b[0m\u001b[0;34m(\u001b[0m\u001b[0mUnion\u001b[0m\u001b[0;34m[\u001b[0m\u001b[0mOperatorBase\u001b[0m\u001b[0;34m,\u001b[0m \u001b[0mcomplex\u001b[0m\u001b[0;34m]\u001b[0m\u001b[0;34m,\u001b[0m \u001b[0mself\u001b[0m\u001b[0;34m.\u001b[0m\u001b[0mto_matrix_op\u001b[0m\u001b[0;34m(\u001b[0m\u001b[0;34m)\u001b[0m\u001b[0;34m.\u001b[0m\u001b[0meval\u001b[0m\u001b[0;34m(\u001b[0m\u001b[0mfront\u001b[0m\u001b[0;34m=\u001b[0m\u001b[0mfront\u001b[0m\u001b[0;34m)\u001b[0m\u001b[0;34m)\u001b[0m\u001b[0;34m\u001b[0m\u001b[0;34m\u001b[0m\u001b[0m\n\u001b[0m\u001b[1;32m     80\u001b[0m \u001b[0;34m\u001b[0m\u001b[0m\n\u001b[1;32m     81\u001b[0m     \u001b[0;31m# Try collapsing list or trees of tensor products.\u001b[0m\u001b[0;34m\u001b[0m\u001b[0;34m\u001b[0m\u001b[0;34m\u001b[0m\u001b[0m\n",
      "\u001b[0;31mRecursionError\u001b[0m: maximum recursion depth exceeded in comparison"
     ]
    }
   ],
   "source": [
    "asd.eval()"
   ]
  },
  {
   "cell_type": "code",
   "execution_count": 22,
   "id": "7ee76cff",
   "metadata": {},
   "outputs": [],
   "source": [
    "evo_time = qiskit.circuit.Parameter('θ') # note that we will have to bind it laterevo_time = Parameter('θ')"
   ]
  },
  {
   "cell_type": "code",
   "execution_count": 23,
   "id": "6531cbdb",
   "metadata": {},
   "outputs": [],
   "source": [
    "evolution_op = (evo_time  * H).exp_i() #* 1j\n",
    "# expH = suzi.convert(H)"
   ]
  },
  {
   "cell_type": "code",
   "execution_count": 24,
   "id": "0be55ad3-2666-4b9a-b121-108b7dc25f44",
   "metadata": {},
   "outputs": [],
   "source": [
    "evo_and_meas = H_meas @ evolution_op"
   ]
  },
  {
   "cell_type": "code",
   "execution_count": 25,
   "id": "87d7d1e7-e080-4c02-9a51-6fa0255cb6c7",
   "metadata": {},
   "outputs": [],
   "source": [
    "trotterized_op = qiskit.opflow.evolutions.PauliTrotterEvolution(trotter_mode=qiskit.opflow.evolutions.Suzuki(order=2, reps=1)).convert(evo_and_meas)"
   ]
  },
  {
   "cell_type": "code",
   "execution_count": 26,
   "id": "c8af65df-27a2-42cc-a2a8-99e9497d91d6",
   "metadata": {},
   "outputs": [],
   "source": [
    "bound = trotterized_op.bind_parameters({evo_time: .5})"
   ]
  },
  {
   "cell_type": "code",
   "execution_count": 32,
   "id": "c585b2b5-5916-44df-9037-b50fdcf1bdce",
   "metadata": {},
   "outputs": [
    {
     "data": {
      "text/plain": [
       "SummedOp([CircuitOp(<qiskit.circuit.quantumcircuit.QuantumCircuit object at 0x7fca19b60fd0>, coeff=1.0), CircuitOp(<qiskit.circuit.quantumcircuit.QuantumCircuit object at 0x7fca19a5c2e0>, coeff=-0.009999999776482582), CircuitOp(<qiskit.circuit.quantumcircuit.QuantumCircuit object at 0x7fca19a65ac0>, coeff=-0.010099999776482581), CircuitOp(<qiskit.circuit.quantumcircuit.QuantumCircuit object at 0x7fca199f62e0>, coeff=1.0), CircuitOp(<qiskit.circuit.quantumcircuit.QuantumCircuit object at 0x7fca199f8a90>, coeff=-0.009999999776482582), CircuitOp(<qiskit.circuit.quantumcircuit.QuantumCircuit object at 0x7fca19a122b0>, coeff=-0.009999999776482582), CircuitOp(<qiskit.circuit.quantumcircuit.QuantumCircuit object at 0x7fca19b63490>, coeff=1.0), CircuitOp(<qiskit.circuit.quantumcircuit.QuantumCircuit object at 0x7fca19a2a2b0>, coeff=-0.009999999776482582), CircuitOp(<qiskit.circuit.quantumcircuit.QuantumCircuit object at 0x7fca199b2a90>, coeff=-0.009999999776482582), CircuitOp(<qiskit.circuit.quantumcircuit.QuantumCircuit object at 0x7fca199c52b0>, coeff=1.0), CircuitOp(<qiskit.circuit.quantumcircuit.QuantumCircuit object at 0x7fca199ceac0>, coeff=-0.009999999776482582), CircuitOp(<qiskit.circuit.quantumcircuit.QuantumCircuit object at 0x7fca199df310>, coeff=-0.009999999776482582), CircuitOp(<qiskit.circuit.quantumcircuit.QuantumCircuit object at 0x7fca199e9af0>, coeff=-0.009999999776482582), CircuitOp(<qiskit.circuit.quantumcircuit.QuantumCircuit object at 0x7fca1997a310>, coeff=-0.009999999776482582)], coeff=1.0, abelian=False)"
      ]
     },
     "execution_count": 32,
     "metadata": {},
     "output_type": "execute_result"
    }
   ],
   "source": [
    "bound.eval()"
   ]
  },
  {
   "cell_type": "code",
   "execution_count": 33,
   "id": "9bdc2e54-11d6-49ca-83d4-3eb84064eb25",
   "metadata": {},
   "outputs": [],
   "source": [
    "diagonalized_meas_op = qiskit.opflow.PauliExpectation().convert(trotterized_op)"
   ]
  },
  {
   "cell_type": "code",
   "execution_count": 34,
   "id": "e5bd69b9-6fd8-4679-bff9-8eb8e3645ac1",
   "metadata": {},
   "outputs": [],
   "source": [
    "h2_trotter_expectations = diagonalized_meas_op.bind_parameters({evo_time: 1})"
   ]
  },
  {
   "cell_type": "code",
   "execution_count": 35,
   "id": "ac692938-2371-4a0b-a0b0-77553b665ff5",
   "metadata": {},
   "outputs": [
    {
     "data": {
      "text/plain": [
       "SummedOp([SummedOp([CircuitOp(<qiskit.circuit.quantumcircuit.QuantumCircuit object at 0x7fca19ccdb80>, coeff=-0.009999999776482582), CircuitOp(<qiskit.circuit.quantumcircuit.QuantumCircuit object at 0x7fca199a8a60>, coeff=-0.009999999776482582), CircuitOp(<qiskit.circuit.quantumcircuit.QuantumCircuit object at 0x7fca19937220>, coeff=1.0), CircuitOp(<qiskit.circuit.quantumcircuit.QuantumCircuit object at 0x7fca19941a30>, coeff=1.0), CircuitOp(<qiskit.circuit.quantumcircuit.QuantumCircuit object at 0x7fca19952280>, coeff=1.0), CircuitOp(<qiskit.circuit.quantumcircuit.QuantumCircuit object at 0x7fca1995ba90>, coeff=-0.010099999776482581), CircuitOp(<qiskit.circuit.quantumcircuit.QuantumCircuit object at 0x7fca1996d2b0>, coeff=1.0), CircuitOp(<qiskit.circuit.quantumcircuit.QuantumCircuit object at 0x7fca198f7ac0>, coeff=-0.009999999776482582), CircuitOp(<qiskit.circuit.quantumcircuit.QuantumCircuit object at 0x7fca19909190>, coeff=-0.009999999776482582)], coeff=1.0, abelian=False), SummedOp([CircuitOp(<qiskit.circuit.quantumcircuit.QuantumCircuit object at 0x7fca19b0e640>, coeff=-0.009999999776482582), CircuitOp(<qiskit.circuit.quantumcircuit.QuantumCircuit object at 0x7fca198d3580>, coeff=-0.009999999776482582), CircuitOp(<qiskit.circuit.quantumcircuit.QuantumCircuit object at 0x7fca198b3a60>, coeff=-0.009999999776482582), CircuitOp(<qiskit.circuit.quantumcircuit.QuantumCircuit object at 0x7fca19af5ca0>, coeff=-0.009999999776482582), CircuitOp(<qiskit.circuit.quantumcircuit.QuantumCircuit object at 0x7fca198e3a30>, coeff=-0.009999999776482582)], coeff=1.0, abelian=False)], coeff=1.0, abelian=False)"
      ]
     },
     "execution_count": 35,
     "metadata": {},
     "output_type": "execute_result"
    }
   ],
   "source": [
    "h2_trotter_expectations.eval()"
   ]
  },
  {
   "cell_type": "code",
   "execution_count": 35,
   "id": "f431f8c7",
   "metadata": {},
   "outputs": [
    {
     "data": {
      "text/plain": [
       "(qiskit.opflow.primitive_ops.pauli_sum_op.PauliSumOp,\n",
       " qiskit.opflow.evolutions.evolved_op.EvolvedOp)"
      ]
     },
     "execution_count": 35,
     "metadata": {},
     "output_type": "execute_result"
    }
   ],
   "source": [
    "H.__class__, evolution_op.__class__"
   ]
  },
  {
   "cell_type": "code",
   "execution_count": 38,
   "id": "88d85873-a39d-4ad2-8abe-609767a03cd5",
   "metadata": {},
   "outputs": [],
   "source": [
    "def imaginary_time_evolution(tau, L, gx, gz, anti=-1):\n",
    "    H = QHIsing(L,anti,np.float32(gx),np.float32(gz))\n",
    "    evo_time = qiskit.circuit.Parameter('tau') # note that we will have to bind it later\n",
    "    evolution_op = (tau * 1j * H).exp_i()\n",
    "    trotterized_op = qiskit.opflow.evolutions.PauliTrotterEvolution(trotter_mode=qiskit.opflow.evolutions.Suzuki(order=2, reps=1)).convert(H_meas @ evolution_op)\n",
    "    return trotterized_op"
   ]
  },
  {
   "cell_type": "code",
   "execution_count": 39,
   "id": "8398e168-433f-4416-b4b4-9dd74805012f",
   "metadata": {},
   "outputs": [],
   "source": [
    "trott_op = imaginary_time_evolution(tau=1, L=5, gx=1e-2, gz=1e-2, anti=-1)"
   ]
  },
  {
   "cell_type": "code",
   "execution_count": 40,
   "id": "033d78ce-3420-4c93-87e6-b08474dba12f",
   "metadata": {},
   "outputs": [
    {
     "ename": "AttributeError",
     "evalue": "'ComposedOp' object has no attribute 'bind_param'",
     "output_type": "error",
     "traceback": [
      "\u001b[0;31m---------------------------------------------------------------------------\u001b[0m",
      "\u001b[0;31mAttributeError\u001b[0m                            Traceback (most recent call last)",
      "\u001b[0;32m<ipython-input-40-55cc291d6e06>\u001b[0m in \u001b[0;36m<module>\u001b[0;34m\u001b[0m\n\u001b[0;32m----> 1\u001b[0;31m \u001b[0mtrott_op\u001b[0m\u001b[0;34m.\u001b[0m\u001b[0mbind_param\u001b[0m\u001b[0;34m(\u001b[0m\u001b[0;34m{\u001b[0m\u001b[0mevo_\u001b[0m\u001b[0;34m}\u001b[0m\u001b[0;34m)\u001b[0m\u001b[0;34m\u001b[0m\u001b[0;34m\u001b[0m\u001b[0m\n\u001b[0m",
      "\u001b[0;31mAttributeError\u001b[0m: 'ComposedOp' object has no attribute 'bind_param'"
     ]
    }
   ],
   "source": [
    "trott_op.bind_param({evo_})"
   ]
  },
  {
   "cell_type": "code",
   "execution_count": 27,
   "id": "a3a1c87e-435e-4613-b0ba-7e70c2427c35",
   "metadata": {},
   "outputs": [],
   "source": [
    "bound = trott_op.bind_parameters({evo_time: 1})"
   ]
  },
  {
   "cell_type": "code",
   "execution_count": 28,
   "id": "199855a3-19c7-4134-8f5b-c973269d8b71",
   "metadata": {},
   "outputs": [
    {
     "data": {
      "text/html": [
       "<pre style=\"word-wrap: normal;white-space: pre;background: #fff0;line-height: 1.1;font-family: &quot;Courier New&quot;,Courier,monospace\">global phase: 0\n",
       "     ┌────────────────────────────────┐┌────────────────────────────────┐┌───┐»\n",
       "q_0: ┤ RZ(-0.00999999977648258*I*tau) ├┤ RX(-0.00999999977648258*I*tau) ├┤ X ├»\n",
       "     ├────────────────────────────────┤├────────────────────────────────┤└─┬─┘»\n",
       "q_1: ┤ RZ(-0.00999999977648258*I*tau) ├┤ RX(-0.00999999977648258*I*tau) ├──■──»\n",
       "     ├────────────────────────────────┤├────────────────────────────────┤     »\n",
       "q_2: ┤ RZ(-0.00999999977648258*I*tau) ├┤ RX(-0.00999999977648258*I*tau) ├─────»\n",
       "     ├────────────────────────────────┤├────────────────────────────────┤     »\n",
       "q_3: ┤ RZ(-0.00999999977648258*I*tau) ├┤ RX(-0.00999999977648258*I*tau) ├─────»\n",
       "     ├───────────────────────────────┬┘├────────────────────────────────┤     »\n",
       "q_4: ┤ RZ(-0.0100999997764826*I*tau) ├─┤ RX(-0.00999999977648258*I*tau) ├─────»\n",
       "     └───────────────────────────────┘ └────────────────────────────────┘     »\n",
       "«     ┌───────────────┐┌───┐                                                 »\n",
       "«q_0: ┤ RZ(1.0*I*tau) ├┤ X ├─────────────────────────────────────────────────»\n",
       "«     └───────────────┘└─┬─┘┌───┐┌───────────────┐┌───┐                      »\n",
       "«q_1: ───────────────────■──┤ X ├┤ RZ(1.0*I*tau) ├┤ X ├──────────────────────»\n",
       "«                           └─┬─┘└───────────────┘└─┬─┘┌───┐┌───────────────┐»\n",
       "«q_2: ────────────────────────■─────────────────────■──┤ X ├┤ RZ(1.0*I*tau) ├»\n",
       "«                                                      └─┬─┘└───────────────┘»\n",
       "«q_3: ───────────────────────────────────────────────────■───────────────────»\n",
       "«                                                                            »\n",
       "«q_4: ───────────────────────────────────────────────────────────────────────»\n",
       "«                                                                            »\n",
       "«                                                                »\n",
       "«q_0: ───────────────────────────────────────────────────────────»\n",
       "«                                                                »\n",
       "«q_1: ───────────────────────────────────────────────────────────»\n",
       "«     ┌───┐                                                      »\n",
       "«q_2: ┤ X ├──────────────────────────────────────────────────────»\n",
       "«     └─┬─┘┌───┐┌───────────────┐┌───┐┌───┐┌───────────────┐┌───┐»\n",
       "«q_3: ──■──┤ X ├┤ RZ(1.0*I*tau) ├┤ X ├┤ X ├┤ RZ(1.0*I*tau) ├┤ X ├»\n",
       "«          └─┬─┘└───────────────┘└─┬─┘└─┬─┘└───────────────┘└─┬─┘»\n",
       "«q_4: ───────■─────────────────────■────■─────────────────────■──»\n",
       "«                                                                »\n",
       "«                                                                             »\n",
       "«q_0: ────────────────────────────────────────────────────────────────────────»\n",
       "«                                                                             »\n",
       "«q_1: ────────────────────────────────────────────────────────────────────────»\n",
       "«                   ┌───┐                       ┌───────────────┐        ┌───┐»\n",
       "«q_2: ──────────────┤ X ├───────────────────────┤ RZ(1.0*I*tau) ├────────┤ X ├»\n",
       "«                   └─┬─┘                       └───────────────┘        └─┬─┘»\n",
       "«q_3: ────────────────■────────────────────────────────────────────────────■──»\n",
       "«     ┌────────────────────────────────┐┌───────────────────────────────┐     »\n",
       "«q_4: ┤ RX(-0.00999999977648258*I*tau) ├┤ RZ(-0.0100999997764826*I*tau) ├─────»\n",
       "«     └────────────────────────────────┘└───────────────────────────────┘     »\n",
       "«                                                                              »\n",
       "«q_0: ─────────────────────────────────────────────────────────────────────────»\n",
       "«                   ┌───┐                       ┌───────────────┐         ┌───┐»\n",
       "«q_1: ──────────────┤ X ├───────────────────────┤ RZ(1.0*I*tau) ├─────────┤ X ├»\n",
       "«                   └─┬─┘                       └───────────────┘         └─┬─┘»\n",
       "«q_2: ────────────────■─────────────────────────────────────────────────────■──»\n",
       "«     ┌────────────────────────────────┐┌────────────────────────────────┐     »\n",
       "«q_3: ┤ RX(-0.00999999977648258*I*tau) ├┤ RZ(-0.00999999977648258*I*tau) ├─────»\n",
       "«     └────────────────────────────────┘└────────────────────────────────┘     »\n",
       "«q_4: ─────────────────────────────────────────────────────────────────────────»\n",
       "«                                                                              »\n",
       "«                   ┌───┐                       ┌───────────────┐         ┌───┐»\n",
       "«q_0: ──────────────┤ X ├───────────────────────┤ RZ(1.0*I*tau) ├─────────┤ X ├»\n",
       "«                   └─┬─┘                       └───────────────┘         └─┬─┘»\n",
       "«q_1: ────────────────■─────────────────────────────────────────────────────■──»\n",
       "«     ┌────────────────────────────────┐┌────────────────────────────────┐     »\n",
       "«q_2: ┤ RX(-0.00999999977648258*I*tau) ├┤ RZ(-0.00999999977648258*I*tau) ├─────»\n",
       "«     └────────────────────────────────┘└────────────────────────────────┘     »\n",
       "«q_3: ─────────────────────────────────────────────────────────────────────────»\n",
       "«                                                                              »\n",
       "«q_4: ─────────────────────────────────────────────────────────────────────────»\n",
       "«                                                                              »\n",
       "«     ┌────────────────────────────────┐┌────────────────────────────────┐\n",
       "«q_0: ┤ RX(-0.00999999977648258*I*tau) ├┤ RZ(-0.00999999977648258*I*tau) ├\n",
       "«     ├────────────────────────────────┤├────────────────────────────────┤\n",
       "«q_1: ┤ RX(-0.00999999977648258*I*tau) ├┤ RZ(-0.00999999977648258*I*tau) ├\n",
       "«     └────────────────────────────────┘└────────────────────────────────┘\n",
       "«q_2: ────────────────────────────────────────────────────────────────────\n",
       "«                                                                         \n",
       "«q_3: ────────────────────────────────────────────────────────────────────\n",
       "«                                                                         \n",
       "«q_4: ────────────────────────────────────────────────────────────────────\n",
       "«                                                                         </pre>"
      ],
      "text/plain": [
       "global phase: 0\n",
       "     ┌────────────────────────────────┐┌────────────────────────────────┐┌───┐»\n",
       "q_0: ┤ RZ(-0.00999999977648258*I*tau) ├┤ RX(-0.00999999977648258*I*tau) ├┤ X ├»\n",
       "     ├────────────────────────────────┤├────────────────────────────────┤└─┬─┘»\n",
       "q_1: ┤ RZ(-0.00999999977648258*I*tau) ├┤ RX(-0.00999999977648258*I*tau) ├──■──»\n",
       "     ├────────────────────────────────┤├────────────────────────────────┤     »\n",
       "q_2: ┤ RZ(-0.00999999977648258*I*tau) ├┤ RX(-0.00999999977648258*I*tau) ├─────»\n",
       "     ├────────────────────────────────┤├────────────────────────────────┤     »\n",
       "q_3: ┤ RZ(-0.00999999977648258*I*tau) ├┤ RX(-0.00999999977648258*I*tau) ├─────»\n",
       "     ├───────────────────────────────┬┘├────────────────────────────────┤     »\n",
       "q_4: ┤ RZ(-0.0100999997764826*I*tau) ├─┤ RX(-0.00999999977648258*I*tau) ├─────»\n",
       "     └───────────────────────────────┘ └────────────────────────────────┘     »\n",
       "«     ┌───────────────┐┌───┐                                                 »\n",
       "«q_0: ┤ RZ(1.0*I*tau) ├┤ X ├─────────────────────────────────────────────────»\n",
       "«     └───────────────┘└─┬─┘┌───┐┌───────────────┐┌───┐                      »\n",
       "«q_1: ───────────────────■──┤ X ├┤ RZ(1.0*I*tau) ├┤ X ├──────────────────────»\n",
       "«                           └─┬─┘└───────────────┘└─┬─┘┌───┐┌───────────────┐»\n",
       "«q_2: ────────────────────────■─────────────────────■──┤ X ├┤ RZ(1.0*I*tau) ├»\n",
       "«                                                      └─┬─┘└───────────────┘»\n",
       "«q_3: ───────────────────────────────────────────────────■───────────────────»\n",
       "«                                                                            »\n",
       "«q_4: ───────────────────────────────────────────────────────────────────────»\n",
       "«                                                                            »\n",
       "«                                                                »\n",
       "«q_0: ───────────────────────────────────────────────────────────»\n",
       "«                                                                »\n",
       "«q_1: ───────────────────────────────────────────────────────────»\n",
       "«     ┌───┐                                                      »\n",
       "«q_2: ┤ X ├──────────────────────────────────────────────────────»\n",
       "«     └─┬─┘┌───┐┌───────────────┐┌───┐┌───┐┌───────────────┐┌───┐»\n",
       "«q_3: ──■──┤ X ├┤ RZ(1.0*I*tau) ├┤ X ├┤ X ├┤ RZ(1.0*I*tau) ├┤ X ├»\n",
       "«          └─┬─┘└───────────────┘└─┬─┘└─┬─┘└───────────────┘└─┬─┘»\n",
       "«q_4: ───────■─────────────────────■────■─────────────────────■──»\n",
       "«                                                                »\n",
       "«                                                                             »\n",
       "«q_0: ────────────────────────────────────────────────────────────────────────»\n",
       "«                                                                             »\n",
       "«q_1: ────────────────────────────────────────────────────────────────────────»\n",
       "«                   ┌───┐                       ┌───────────────┐        ┌───┐»\n",
       "«q_2: ──────────────┤ X ├───────────────────────┤ RZ(1.0*I*tau) ├────────┤ X ├»\n",
       "«                   └─┬─┘                       └───────────────┘        └─┬─┘»\n",
       "«q_3: ────────────────■────────────────────────────────────────────────────■──»\n",
       "«     ┌────────────────────────────────┐┌───────────────────────────────┐     »\n",
       "«q_4: ┤ RX(-0.00999999977648258*I*tau) ├┤ RZ(-0.0100999997764826*I*tau) ├─────»\n",
       "«     └────────────────────────────────┘└───────────────────────────────┘     »\n",
       "«                                                                              »\n",
       "«q_0: ─────────────────────────────────────────────────────────────────────────»\n",
       "«                   ┌───┐                       ┌───────────────┐         ┌───┐»\n",
       "«q_1: ──────────────┤ X ├───────────────────────┤ RZ(1.0*I*tau) ├─────────┤ X ├»\n",
       "«                   └─┬─┘                       └───────────────┘         └─┬─┘»\n",
       "«q_2: ────────────────■─────────────────────────────────────────────────────■──»\n",
       "«     ┌────────────────────────────────┐┌────────────────────────────────┐     »\n",
       "«q_3: ┤ RX(-0.00999999977648258*I*tau) ├┤ RZ(-0.00999999977648258*I*tau) ├─────»\n",
       "«     └────────────────────────────────┘└────────────────────────────────┘     »\n",
       "«q_4: ─────────────────────────────────────────────────────────────────────────»\n",
       "«                                                                              »\n",
       "«                   ┌───┐                       ┌───────────────┐         ┌───┐»\n",
       "«q_0: ──────────────┤ X ├───────────────────────┤ RZ(1.0*I*tau) ├─────────┤ X ├»\n",
       "«                   └─┬─┘                       └───────────────┘         └─┬─┘»\n",
       "«q_1: ────────────────■─────────────────────────────────────────────────────■──»\n",
       "«     ┌────────────────────────────────┐┌────────────────────────────────┐     »\n",
       "«q_2: ┤ RX(-0.00999999977648258*I*tau) ├┤ RZ(-0.00999999977648258*I*tau) ├─────»\n",
       "«     └────────────────────────────────┘└────────────────────────────────┘     »\n",
       "«q_3: ─────────────────────────────────────────────────────────────────────────»\n",
       "«                                                                              »\n",
       "«q_4: ─────────────────────────────────────────────────────────────────────────»\n",
       "«                                                                              »\n",
       "«     ┌────────────────────────────────┐┌────────────────────────────────┐\n",
       "«q_0: ┤ RX(-0.00999999977648258*I*tau) ├┤ RZ(-0.00999999977648258*I*tau) ├\n",
       "«     ├────────────────────────────────┤├────────────────────────────────┤\n",
       "«q_1: ┤ RX(-0.00999999977648258*I*tau) ├┤ RZ(-0.00999999977648258*I*tau) ├\n",
       "«     └────────────────────────────────┘└────────────────────────────────┘\n",
       "«q_2: ────────────────────────────────────────────────────────────────────\n",
       "«                                                                         \n",
       "«q_3: ────────────────────────────────────────────────────────────────────\n",
       "«                                                                         \n",
       "«q_4: ────────────────────────────────────────────────────────────────────\n",
       "«                                                                         "
      ]
     },
     "execution_count": 28,
     "metadata": {},
     "output_type": "execute_result"
    }
   ],
   "source": [
    "bound.to_circuit().draw()"
   ]
  },
  {
   "cell_type": "code",
   "execution_count": 29,
   "id": "c72327c2-d6a4-4e43-979f-aeb8e9b5090d",
   "metadata": {},
   "outputs": [],
   "source": [
    "mag_res = ~StateFn(mag) @ StateFn(trott_op)"
   ]
  },
  {
   "cell_type": "code",
   "execution_count": 30,
   "id": "f30a8bf9-3ab0-43c7-b109-bb2b9c9be27e",
   "metadata": {},
   "outputs": [
    {
     "ename": "TypeError",
     "evalue": "ParameterExpression with unbound parameters ({Parameter(tau)}) cannot be cast to a float.",
     "output_type": "error",
     "traceback": [
      "\u001b[0;31m---------------------------------------------------------------------------\u001b[0m",
      "\u001b[0;31mTypeError\u001b[0m                                 Traceback (most recent call last)",
      "\u001b[0;32m<ipython-input-30-a005035d81de>\u001b[0m in \u001b[0;36m<module>\u001b[0;34m\u001b[0m\n\u001b[0;32m----> 1\u001b[0;31m \u001b[0mmag_res\u001b[0m\u001b[0;34m.\u001b[0m\u001b[0meval\u001b[0m\u001b[0;34m(\u001b[0m\u001b[0;34m)\u001b[0m\u001b[0;34m\u001b[0m\u001b[0;34m\u001b[0m\u001b[0m\n\u001b[0m",
      "\u001b[0;32m~/anaconda3/envs/qiskit_env/lib/python3.9/site-packages/qiskit/opflow/list_ops/composed_op.py\u001b[0m in \u001b[0;36meval\u001b[0;34m(self, front)\u001b[0m\n\u001b[1;32m    131\u001b[0m             \u001b[0meval_list\u001b[0m \u001b[0;34m=\u001b[0m \u001b[0;34m[\u001b[0m\u001b[0mStateFn\u001b[0m\u001b[0;34m(\u001b[0m\u001b[0mfront\u001b[0m\u001b[0;34m,\u001b[0m \u001b[0mis_measurement\u001b[0m\u001b[0;34m=\u001b[0m\u001b[0;32mTrue\u001b[0m\u001b[0;34m)\u001b[0m\u001b[0;34m]\u001b[0m \u001b[0;34m+\u001b[0m \u001b[0meval_list\u001b[0m  \u001b[0;31m# type: ignore\u001b[0m\u001b[0;34m\u001b[0m\u001b[0;34m\u001b[0m\u001b[0m\n\u001b[1;32m    132\u001b[0m \u001b[0;34m\u001b[0m\u001b[0m\n\u001b[0;32m--> 133\u001b[0;31m         \u001b[0;32mreturn\u001b[0m \u001b[0mreduce\u001b[0m\u001b[0;34m(\u001b[0m\u001b[0mtree_recursive_eval\u001b[0m\u001b[0;34m,\u001b[0m \u001b[0mreversed\u001b[0m\u001b[0;34m(\u001b[0m\u001b[0meval_list\u001b[0m\u001b[0;34m)\u001b[0m\u001b[0;34m)\u001b[0m\u001b[0;34m\u001b[0m\u001b[0;34m\u001b[0m\u001b[0m\n\u001b[0m\u001b[1;32m    134\u001b[0m \u001b[0;34m\u001b[0m\u001b[0m\n\u001b[1;32m    135\u001b[0m     \u001b[0;31m# Try collapsing list or trees of compositions into a single <Measurement | Op | State>.\u001b[0m\u001b[0;34m\u001b[0m\u001b[0;34m\u001b[0m\u001b[0;34m\u001b[0m\u001b[0m\n",
      "\u001b[0;32m~/anaconda3/envs/qiskit_env/lib/python3.9/site-packages/qiskit/opflow/list_ops/composed_op.py\u001b[0m in \u001b[0;36mtree_recursive_eval\u001b[0;34m(r, l_arg)\u001b[0m\n\u001b[1;32m    121\u001b[0m                 \u001b[0;32mreturn\u001b[0m \u001b[0;34m[\u001b[0m\u001b[0mtree_recursive_eval\u001b[0m\u001b[0;34m(\u001b[0m\u001b[0mr_op\u001b[0m\u001b[0;34m,\u001b[0m \u001b[0ml_arg\u001b[0m\u001b[0;34m)\u001b[0m \u001b[0;32mfor\u001b[0m \u001b[0mr_op\u001b[0m \u001b[0;32min\u001b[0m \u001b[0mr\u001b[0m\u001b[0;34m]\u001b[0m\u001b[0;34m\u001b[0m\u001b[0;34m\u001b[0m\u001b[0m\n\u001b[1;32m    122\u001b[0m             \u001b[0;32melse\u001b[0m\u001b[0;34m:\u001b[0m\u001b[0;34m\u001b[0m\u001b[0;34m\u001b[0m\u001b[0m\n\u001b[0;32m--> 123\u001b[0;31m                 \u001b[0;32mreturn\u001b[0m \u001b[0ml_arg\u001b[0m\u001b[0;34m.\u001b[0m\u001b[0meval\u001b[0m\u001b[0;34m(\u001b[0m\u001b[0mr\u001b[0m\u001b[0;34m)\u001b[0m\u001b[0;34m\u001b[0m\u001b[0;34m\u001b[0m\u001b[0m\n\u001b[0m\u001b[1;32m    124\u001b[0m \u001b[0;34m\u001b[0m\u001b[0m\n\u001b[1;32m    125\u001b[0m         \u001b[0meval_list\u001b[0m \u001b[0;34m=\u001b[0m \u001b[0mself\u001b[0m\u001b[0;34m.\u001b[0m\u001b[0moplist\u001b[0m\u001b[0;34m.\u001b[0m\u001b[0mcopy\u001b[0m\u001b[0;34m(\u001b[0m\u001b[0;34m)\u001b[0m\u001b[0;34m\u001b[0m\u001b[0;34m\u001b[0m\u001b[0m\n",
      "\u001b[0;32m~/anaconda3/envs/qiskit_env/lib/python3.9/site-packages/qiskit/opflow/state_fns/operator_state_fn.py\u001b[0m in \u001b[0;36meval\u001b[0;34m(self, front)\u001b[0m\n\u001b[1;32m    219\u001b[0m             \u001b[0mfront\u001b[0m \u001b[0;34m=\u001b[0m \u001b[0mfront\u001b[0m\u001b[0;34m.\u001b[0m\u001b[0meval\u001b[0m\u001b[0;34m(\u001b[0m\u001b[0;34m)\u001b[0m\u001b[0;34m\u001b[0m\u001b[0;34m\u001b[0m\u001b[0m\n\u001b[1;32m    220\u001b[0m \u001b[0;34m\u001b[0m\u001b[0m\n\u001b[0;32m--> 221\u001b[0;31m         \u001b[0;32mreturn\u001b[0m \u001b[0mfront\u001b[0m\u001b[0;34m.\u001b[0m\u001b[0madjoint\u001b[0m\u001b[0;34m(\u001b[0m\u001b[0;34m)\u001b[0m\u001b[0;34m.\u001b[0m\u001b[0meval\u001b[0m\u001b[0;34m(\u001b[0m\u001b[0mcast\u001b[0m\u001b[0;34m(\u001b[0m\u001b[0mOperatorBase\u001b[0m\u001b[0;34m,\u001b[0m \u001b[0mself\u001b[0m\u001b[0;34m.\u001b[0m\u001b[0mprimitive\u001b[0m\u001b[0;34m.\u001b[0m\u001b[0meval\u001b[0m\u001b[0;34m(\u001b[0m\u001b[0mfront\u001b[0m\u001b[0;34m)\u001b[0m\u001b[0;34m)\u001b[0m\u001b[0;34m)\u001b[0m \u001b[0;34m*\u001b[0m \u001b[0mself\u001b[0m\u001b[0;34m.\u001b[0m\u001b[0mcoeff\u001b[0m\u001b[0;34m\u001b[0m\u001b[0;34m\u001b[0m\u001b[0m\n\u001b[0m\u001b[1;32m    222\u001b[0m \u001b[0;34m\u001b[0m\u001b[0m\n\u001b[1;32m    223\u001b[0m     def sample(self,\n",
      "\u001b[0;32m~/anaconda3/envs/qiskit_env/lib/python3.9/site-packages/qiskit/opflow/primitive_ops/pauli_sum_op.py\u001b[0m in \u001b[0;36meval\u001b[0;34m(self, front)\u001b[0m\n\u001b[1;32m    324\u001b[0m         \u001b[0;31m# Covers VectorStateFn and OperatorStateFn\u001b[0m\u001b[0;34m\u001b[0m\u001b[0;34m\u001b[0m\u001b[0;34m\u001b[0m\u001b[0m\n\u001b[1;32m    325\u001b[0m         \u001b[0mfront\u001b[0m \u001b[0;34m=\u001b[0m \u001b[0mcast\u001b[0m\u001b[0;34m(\u001b[0m\u001b[0mStateFn\u001b[0m\u001b[0;34m,\u001b[0m \u001b[0mfront\u001b[0m\u001b[0;34m)\u001b[0m\u001b[0;34m\u001b[0m\u001b[0;34m\u001b[0m\u001b[0m\n\u001b[0;32m--> 326\u001b[0;31m         \u001b[0;32mreturn\u001b[0m \u001b[0mself\u001b[0m\u001b[0;34m.\u001b[0m\u001b[0mto_matrix_op\u001b[0m\u001b[0;34m(\u001b[0m\u001b[0;34m)\u001b[0m\u001b[0;34m.\u001b[0m\u001b[0meval\u001b[0m\u001b[0;34m(\u001b[0m\u001b[0mfront\u001b[0m\u001b[0;34m.\u001b[0m\u001b[0mto_matrix_op\u001b[0m\u001b[0;34m(\u001b[0m\u001b[0;34m)\u001b[0m\u001b[0;34m)\u001b[0m\u001b[0;34m\u001b[0m\u001b[0;34m\u001b[0m\u001b[0m\n\u001b[0m\u001b[1;32m    327\u001b[0m \u001b[0;34m\u001b[0m\u001b[0m\n\u001b[1;32m    328\u001b[0m     \u001b[0;32mdef\u001b[0m \u001b[0mexp_i\u001b[0m\u001b[0;34m(\u001b[0m\u001b[0mself\u001b[0m\u001b[0;34m)\u001b[0m \u001b[0;34m->\u001b[0m \u001b[0mOperatorBase\u001b[0m\u001b[0;34m:\u001b[0m\u001b[0;34m\u001b[0m\u001b[0;34m\u001b[0m\u001b[0m\n",
      "\u001b[0;32m~/anaconda3/envs/qiskit_env/lib/python3.9/site-packages/qiskit/opflow/state_fns/operator_state_fn.py\u001b[0m in \u001b[0;36mto_matrix_op\u001b[0;34m(self, massive)\u001b[0m\n\u001b[1;32m    118\u001b[0m     \u001b[0;32mdef\u001b[0m \u001b[0mto_matrix_op\u001b[0m\u001b[0;34m(\u001b[0m\u001b[0mself\u001b[0m\u001b[0;34m,\u001b[0m \u001b[0mmassive\u001b[0m\u001b[0;34m:\u001b[0m \u001b[0mbool\u001b[0m \u001b[0;34m=\u001b[0m \u001b[0;32mFalse\u001b[0m\u001b[0;34m)\u001b[0m \u001b[0;34m->\u001b[0m \u001b[0;34m\"OperatorStateFn\"\u001b[0m\u001b[0;34m:\u001b[0m\u001b[0;34m\u001b[0m\u001b[0;34m\u001b[0m\u001b[0m\n\u001b[1;32m    119\u001b[0m         \u001b[0;34m\"\"\" Return a MatrixOp for this operator. \"\"\"\u001b[0m\u001b[0;34m\u001b[0m\u001b[0;34m\u001b[0m\u001b[0m\n\u001b[0;32m--> 120\u001b[0;31m         return OperatorStateFn(self.primitive.to_matrix_op(massive=massive) * self.coeff,\n\u001b[0m\u001b[1;32m    121\u001b[0m                                is_measurement=self.is_measurement)\n\u001b[1;32m    122\u001b[0m \u001b[0;34m\u001b[0m\u001b[0m\n",
      "\u001b[0;32m~/anaconda3/envs/qiskit_env/lib/python3.9/site-packages/qiskit/opflow/primitive_ops/primitive_op.py\u001b[0m in \u001b[0;36mto_matrix_op\u001b[0;34m(self, massive)\u001b[0m\n\u001b[1;32m    245\u001b[0m         \u001b[0mop\u001b[0m \u001b[0;34m=\u001b[0m \u001b[0mself\u001b[0m\u001b[0;34m.\u001b[0m\u001b[0mcopy\u001b[0m\u001b[0;34m(\u001b[0m\u001b[0;34m)\u001b[0m\u001b[0;34m\u001b[0m\u001b[0;34m\u001b[0m\u001b[0m\n\u001b[1;32m    246\u001b[0m         \u001b[0mop\u001b[0m\u001b[0;34m.\u001b[0m\u001b[0m_coeff\u001b[0m \u001b[0;34m=\u001b[0m \u001b[0;36m1\u001b[0m\u001b[0;34m\u001b[0m\u001b[0;34m\u001b[0m\u001b[0m\n\u001b[0;32m--> 247\u001b[0;31m         \u001b[0mprim_mat\u001b[0m \u001b[0;34m=\u001b[0m \u001b[0mop\u001b[0m\u001b[0;34m.\u001b[0m\u001b[0mto_matrix\u001b[0m\u001b[0;34m(\u001b[0m\u001b[0mmassive\u001b[0m\u001b[0;34m=\u001b[0m\u001b[0mmassive\u001b[0m\u001b[0;34m)\u001b[0m\u001b[0;34m\u001b[0m\u001b[0;34m\u001b[0m\u001b[0m\n\u001b[0m\u001b[1;32m    248\u001b[0m         \u001b[0;32mfrom\u001b[0m \u001b[0;34m.\u001b[0m\u001b[0mmatrix_op\u001b[0m \u001b[0;32mimport\u001b[0m \u001b[0mMatrixOp\u001b[0m\u001b[0;34m\u001b[0m\u001b[0;34m\u001b[0m\u001b[0m\n\u001b[1;32m    249\u001b[0m         \u001b[0;32mreturn\u001b[0m \u001b[0mMatrixOp\u001b[0m\u001b[0;34m(\u001b[0m\u001b[0mprim_mat\u001b[0m\u001b[0;34m,\u001b[0m \u001b[0mcoeff\u001b[0m\u001b[0;34m=\u001b[0m\u001b[0mcoeff\u001b[0m\u001b[0;34m)\u001b[0m\u001b[0;34m\u001b[0m\u001b[0;34m\u001b[0m\u001b[0m\n",
      "\u001b[0;32m~/anaconda3/envs/qiskit_env/lib/python3.9/site-packages/qiskit/opflow/primitive_ops/circuit_op.py\u001b[0m in \u001b[0;36mto_matrix\u001b[0;34m(self, massive)\u001b[0m\n\u001b[1;32m    142\u001b[0m     \u001b[0;32mdef\u001b[0m \u001b[0mto_matrix\u001b[0m\u001b[0;34m(\u001b[0m\u001b[0mself\u001b[0m\u001b[0;34m,\u001b[0m \u001b[0mmassive\u001b[0m\u001b[0;34m:\u001b[0m \u001b[0mbool\u001b[0m \u001b[0;34m=\u001b[0m \u001b[0;32mFalse\u001b[0m\u001b[0;34m)\u001b[0m \u001b[0;34m->\u001b[0m \u001b[0mnp\u001b[0m\u001b[0;34m.\u001b[0m\u001b[0mndarray\u001b[0m\u001b[0;34m:\u001b[0m\u001b[0;34m\u001b[0m\u001b[0;34m\u001b[0m\u001b[0m\n\u001b[1;32m    143\u001b[0m         \u001b[0mOperatorBase\u001b[0m\u001b[0;34m.\u001b[0m\u001b[0m_check_massive\u001b[0m\u001b[0;34m(\u001b[0m\u001b[0;34m'to_matrix'\u001b[0m\u001b[0;34m,\u001b[0m \u001b[0;32mTrue\u001b[0m\u001b[0;34m,\u001b[0m \u001b[0mself\u001b[0m\u001b[0;34m.\u001b[0m\u001b[0mnum_qubits\u001b[0m\u001b[0;34m,\u001b[0m \u001b[0mmassive\u001b[0m\u001b[0;34m)\u001b[0m\u001b[0;34m\u001b[0m\u001b[0;34m\u001b[0m\u001b[0m\n\u001b[0;32m--> 144\u001b[0;31m         \u001b[0munitary\u001b[0m \u001b[0;34m=\u001b[0m \u001b[0mqiskit\u001b[0m\u001b[0;34m.\u001b[0m\u001b[0mquantum_info\u001b[0m\u001b[0;34m.\u001b[0m\u001b[0mOperator\u001b[0m\u001b[0;34m(\u001b[0m\u001b[0mself\u001b[0m\u001b[0;34m.\u001b[0m\u001b[0mto_circuit\u001b[0m\u001b[0;34m(\u001b[0m\u001b[0;34m)\u001b[0m\u001b[0;34m)\u001b[0m\u001b[0;34m.\u001b[0m\u001b[0mdata\u001b[0m\u001b[0;34m\u001b[0m\u001b[0;34m\u001b[0m\u001b[0m\n\u001b[0m\u001b[1;32m    145\u001b[0m         \u001b[0;32mreturn\u001b[0m \u001b[0munitary\u001b[0m \u001b[0;34m*\u001b[0m \u001b[0mself\u001b[0m\u001b[0;34m.\u001b[0m\u001b[0mcoeff\u001b[0m\u001b[0;34m\u001b[0m\u001b[0;34m\u001b[0m\u001b[0m\n\u001b[1;32m    146\u001b[0m \u001b[0;34m\u001b[0m\u001b[0m\n",
      "\u001b[0;32m~/anaconda3/envs/qiskit_env/lib/python3.9/site-packages/qiskit/quantum_info/operators/operator.py\u001b[0m in \u001b[0;36m__init__\u001b[0;34m(self, data, input_dims, output_dims)\u001b[0m\n\u001b[1;32m     84\u001b[0m             \u001b[0;31m# conditional gates, measure, or reset will cause an\u001b[0m\u001b[0;34m\u001b[0m\u001b[0;34m\u001b[0m\u001b[0;34m\u001b[0m\u001b[0m\n\u001b[1;32m     85\u001b[0m             \u001b[0;31m# exception to be raised.\u001b[0m\u001b[0;34m\u001b[0m\u001b[0;34m\u001b[0m\u001b[0;34m\u001b[0m\u001b[0m\n\u001b[0;32m---> 86\u001b[0;31m             \u001b[0mself\u001b[0m\u001b[0;34m.\u001b[0m\u001b[0m_data\u001b[0m \u001b[0;34m=\u001b[0m \u001b[0mself\u001b[0m\u001b[0;34m.\u001b[0m\u001b[0m_init_instruction\u001b[0m\u001b[0;34m(\u001b[0m\u001b[0mdata\u001b[0m\u001b[0;34m)\u001b[0m\u001b[0;34m.\u001b[0m\u001b[0mdata\u001b[0m\u001b[0;34m\u001b[0m\u001b[0;34m\u001b[0m\u001b[0m\n\u001b[0m\u001b[1;32m     87\u001b[0m         \u001b[0;32melif\u001b[0m \u001b[0mhasattr\u001b[0m\u001b[0;34m(\u001b[0m\u001b[0mdata\u001b[0m\u001b[0;34m,\u001b[0m \u001b[0;34m'to_operator'\u001b[0m\u001b[0;34m)\u001b[0m\u001b[0;34m:\u001b[0m\u001b[0;34m\u001b[0m\u001b[0;34m\u001b[0m\u001b[0m\n\u001b[1;32m     88\u001b[0m             \u001b[0;31m# If the data object has a 'to_operator' attribute this is given\u001b[0m\u001b[0;34m\u001b[0m\u001b[0;34m\u001b[0m\u001b[0;34m\u001b[0m\u001b[0m\n",
      "\u001b[0;32m~/anaconda3/envs/qiskit_env/lib/python3.9/site-packages/qiskit/quantum_info/operators/operator.py\u001b[0m in \u001b[0;36m_init_instruction\u001b[0;34m(cls, instruction)\u001b[0m\n\u001b[1;32m    450\u001b[0m         \u001b[0;32mif\u001b[0m \u001b[0misinstance\u001b[0m\u001b[0;34m(\u001b[0m\u001b[0minstruction\u001b[0m\u001b[0;34m,\u001b[0m \u001b[0mQuantumCircuit\u001b[0m\u001b[0;34m)\u001b[0m\u001b[0;34m:\u001b[0m\u001b[0;34m\u001b[0m\u001b[0;34m\u001b[0m\u001b[0m\n\u001b[1;32m    451\u001b[0m             \u001b[0minstruction\u001b[0m \u001b[0;34m=\u001b[0m \u001b[0minstruction\u001b[0m\u001b[0;34m.\u001b[0m\u001b[0mto_instruction\u001b[0m\u001b[0;34m(\u001b[0m\u001b[0;34m)\u001b[0m\u001b[0;34m\u001b[0m\u001b[0;34m\u001b[0m\u001b[0m\n\u001b[0;32m--> 452\u001b[0;31m         \u001b[0mop\u001b[0m\u001b[0;34m.\u001b[0m\u001b[0m_append_instruction\u001b[0m\u001b[0;34m(\u001b[0m\u001b[0minstruction\u001b[0m\u001b[0;34m)\u001b[0m\u001b[0;34m\u001b[0m\u001b[0;34m\u001b[0m\u001b[0m\n\u001b[0m\u001b[1;32m    453\u001b[0m         \u001b[0;32mreturn\u001b[0m \u001b[0mop\u001b[0m\u001b[0;34m\u001b[0m\u001b[0;34m\u001b[0m\u001b[0m\n\u001b[1;32m    454\u001b[0m \u001b[0;34m\u001b[0m\u001b[0m\n",
      "\u001b[0;32m~/anaconda3/envs/qiskit_env/lib/python3.9/site-packages/qiskit/quantum_info/operators/operator.py\u001b[0m in \u001b[0;36m_append_instruction\u001b[0;34m(self, obj, qargs)\u001b[0m\n\u001b[1;32m    494\u001b[0m                 \u001b[0mdimension\u001b[0m \u001b[0;34m=\u001b[0m \u001b[0;36m2\u001b[0m \u001b[0;34m**\u001b[0m \u001b[0mobj\u001b[0m\u001b[0;34m.\u001b[0m\u001b[0mnum_qubits\u001b[0m\u001b[0;34m\u001b[0m\u001b[0;34m\u001b[0m\u001b[0m\n\u001b[1;32m    495\u001b[0m                 op = self.compose(\n\u001b[0;32m--> 496\u001b[0;31m                     \u001b[0mScalarOp\u001b[0m\u001b[0;34m(\u001b[0m\u001b[0mdimension\u001b[0m\u001b[0;34m,\u001b[0m \u001b[0mnp\u001b[0m\u001b[0;34m.\u001b[0m\u001b[0mexp\u001b[0m\u001b[0;34m(\u001b[0m\u001b[0;36m1j\u001b[0m \u001b[0;34m*\u001b[0m \u001b[0mfloat\u001b[0m\u001b[0;34m(\u001b[0m\u001b[0mobj\u001b[0m\u001b[0;34m.\u001b[0m\u001b[0mdefinition\u001b[0m\u001b[0;34m.\u001b[0m\u001b[0mglobal_phase\u001b[0m\u001b[0;34m)\u001b[0m\u001b[0;34m)\u001b[0m\u001b[0;34m)\u001b[0m\u001b[0;34m,\u001b[0m\u001b[0;34m\u001b[0m\u001b[0;34m\u001b[0m\u001b[0m\n\u001b[0m\u001b[1;32m    497\u001b[0m                     qargs=qargs)\n\u001b[1;32m    498\u001b[0m                 \u001b[0mself\u001b[0m\u001b[0;34m.\u001b[0m\u001b[0m_data\u001b[0m \u001b[0;34m=\u001b[0m \u001b[0mop\u001b[0m\u001b[0;34m.\u001b[0m\u001b[0mdata\u001b[0m\u001b[0;34m\u001b[0m\u001b[0;34m\u001b[0m\u001b[0m\n",
      "\u001b[0;32m~/anaconda3/envs/qiskit_env/lib/python3.9/site-packages/qiskit/circuit/parameterexpression.py\u001b[0m in \u001b[0;36m__float__\u001b[0;34m(self)\u001b[0m\n\u001b[1;32m    350\u001b[0m     \u001b[0;32mdef\u001b[0m \u001b[0m__float__\u001b[0m\u001b[0;34m(\u001b[0m\u001b[0mself\u001b[0m\u001b[0;34m)\u001b[0m\u001b[0;34m:\u001b[0m\u001b[0;34m\u001b[0m\u001b[0;34m\u001b[0m\u001b[0m\n\u001b[1;32m    351\u001b[0m         \u001b[0;32mif\u001b[0m \u001b[0mself\u001b[0m\u001b[0;34m.\u001b[0m\u001b[0mparameters\u001b[0m\u001b[0;34m:\u001b[0m\u001b[0;34m\u001b[0m\u001b[0;34m\u001b[0m\u001b[0m\n\u001b[0;32m--> 352\u001b[0;31m             raise TypeError('ParameterExpression with unbound parameters ({}) '\n\u001b[0m\u001b[1;32m    353\u001b[0m                             'cannot be cast to a float.'.format(self.parameters))\n\u001b[1;32m    354\u001b[0m         \u001b[0;32mreturn\u001b[0m \u001b[0mfloat\u001b[0m\u001b[0;34m(\u001b[0m\u001b[0mself\u001b[0m\u001b[0;34m.\u001b[0m\u001b[0m_symbol_expr\u001b[0m\u001b[0;34m)\u001b[0m\u001b[0;34m\u001b[0m\u001b[0;34m\u001b[0m\u001b[0m\n",
      "\u001b[0;31mTypeError\u001b[0m: ParameterExpression with unbound parameters ({Parameter(tau)}) cannot be cast to a float."
     ]
    }
   ],
   "source": [
    "mag_res.eval()"
   ]
  },
  {
   "cell_type": "code",
   "execution_count": 31,
   "id": "a087225d-9923-49b4-a11b-8500e735492a",
   "metadata": {},
   "outputs": [
    {
     "ename": "TypeError",
     "evalue": "ParameterExpression with unbound parameters ({Parameter(tau)}) cannot be cast to a float.",
     "output_type": "error",
     "traceback": [
      "\u001b[0;31m---------------------------------------------------------------------------\u001b[0m",
      "\u001b[0;31mTypeError\u001b[0m                                 Traceback (most recent call last)",
      "\u001b[0;32m<ipython-input-31-e748b90ab765>\u001b[0m in \u001b[0;36m<module>\u001b[0;34m\u001b[0m\n\u001b[0;32m----> 1\u001b[0;31m \u001b[0mbound\u001b[0m\u001b[0;34m.\u001b[0m\u001b[0meval\u001b[0m\u001b[0;34m(\u001b[0m\u001b[0;34m)\u001b[0m\u001b[0;34m\u001b[0m\u001b[0;34m\u001b[0m\u001b[0m\n\u001b[0m",
      "\u001b[0;32m~/anaconda3/envs/qiskit_env/lib/python3.9/site-packages/qiskit/opflow/primitive_ops/circuit_op.py\u001b[0m in \u001b[0;36meval\u001b[0;34m(self, front)\u001b[0m\n\u001b[1;32m    195\u001b[0m             \u001b[0;32mreturn\u001b[0m \u001b[0mself\u001b[0m\u001b[0;34m.\u001b[0m\u001b[0mcompose\u001b[0m\u001b[0;34m(\u001b[0m\u001b[0mfront\u001b[0m\u001b[0;34m)\u001b[0m\u001b[0;34m\u001b[0m\u001b[0;34m\u001b[0m\u001b[0m\n\u001b[1;32m    196\u001b[0m \u001b[0;34m\u001b[0m\u001b[0m\n\u001b[0;32m--> 197\u001b[0;31m         \u001b[0;32mreturn\u001b[0m \u001b[0mself\u001b[0m\u001b[0;34m.\u001b[0m\u001b[0mto_matrix_op\u001b[0m\u001b[0;34m(\u001b[0m\u001b[0;34m)\u001b[0m\u001b[0;34m.\u001b[0m\u001b[0meval\u001b[0m\u001b[0;34m(\u001b[0m\u001b[0mfront\u001b[0m\u001b[0;34m)\u001b[0m\u001b[0;34m\u001b[0m\u001b[0;34m\u001b[0m\u001b[0m\n\u001b[0m\u001b[1;32m    198\u001b[0m \u001b[0;34m\u001b[0m\u001b[0m\n\u001b[1;32m    199\u001b[0m     \u001b[0;32mdef\u001b[0m \u001b[0mto_circuit\u001b[0m\u001b[0;34m(\u001b[0m\u001b[0mself\u001b[0m\u001b[0;34m)\u001b[0m \u001b[0;34m->\u001b[0m \u001b[0mQuantumCircuit\u001b[0m\u001b[0;34m:\u001b[0m\u001b[0;34m\u001b[0m\u001b[0;34m\u001b[0m\u001b[0m\n",
      "\u001b[0;32m~/anaconda3/envs/qiskit_env/lib/python3.9/site-packages/qiskit/opflow/primitive_ops/primitive_op.py\u001b[0m in \u001b[0;36mto_matrix_op\u001b[0;34m(self, massive)\u001b[0m\n\u001b[1;32m    245\u001b[0m         \u001b[0mop\u001b[0m \u001b[0;34m=\u001b[0m \u001b[0mself\u001b[0m\u001b[0;34m.\u001b[0m\u001b[0mcopy\u001b[0m\u001b[0;34m(\u001b[0m\u001b[0;34m)\u001b[0m\u001b[0;34m\u001b[0m\u001b[0;34m\u001b[0m\u001b[0m\n\u001b[1;32m    246\u001b[0m         \u001b[0mop\u001b[0m\u001b[0;34m.\u001b[0m\u001b[0m_coeff\u001b[0m \u001b[0;34m=\u001b[0m \u001b[0;36m1\u001b[0m\u001b[0;34m\u001b[0m\u001b[0;34m\u001b[0m\u001b[0m\n\u001b[0;32m--> 247\u001b[0;31m         \u001b[0mprim_mat\u001b[0m \u001b[0;34m=\u001b[0m \u001b[0mop\u001b[0m\u001b[0;34m.\u001b[0m\u001b[0mto_matrix\u001b[0m\u001b[0;34m(\u001b[0m\u001b[0mmassive\u001b[0m\u001b[0;34m=\u001b[0m\u001b[0mmassive\u001b[0m\u001b[0;34m)\u001b[0m\u001b[0;34m\u001b[0m\u001b[0;34m\u001b[0m\u001b[0m\n\u001b[0m\u001b[1;32m    248\u001b[0m         \u001b[0;32mfrom\u001b[0m \u001b[0;34m.\u001b[0m\u001b[0mmatrix_op\u001b[0m \u001b[0;32mimport\u001b[0m \u001b[0mMatrixOp\u001b[0m\u001b[0;34m\u001b[0m\u001b[0;34m\u001b[0m\u001b[0m\n\u001b[1;32m    249\u001b[0m         \u001b[0;32mreturn\u001b[0m \u001b[0mMatrixOp\u001b[0m\u001b[0;34m(\u001b[0m\u001b[0mprim_mat\u001b[0m\u001b[0;34m,\u001b[0m \u001b[0mcoeff\u001b[0m\u001b[0;34m=\u001b[0m\u001b[0mcoeff\u001b[0m\u001b[0;34m)\u001b[0m\u001b[0;34m\u001b[0m\u001b[0;34m\u001b[0m\u001b[0m\n",
      "\u001b[0;32m~/anaconda3/envs/qiskit_env/lib/python3.9/site-packages/qiskit/opflow/primitive_ops/circuit_op.py\u001b[0m in \u001b[0;36mto_matrix\u001b[0;34m(self, massive)\u001b[0m\n\u001b[1;32m    142\u001b[0m     \u001b[0;32mdef\u001b[0m \u001b[0mto_matrix\u001b[0m\u001b[0;34m(\u001b[0m\u001b[0mself\u001b[0m\u001b[0;34m,\u001b[0m \u001b[0mmassive\u001b[0m\u001b[0;34m:\u001b[0m \u001b[0mbool\u001b[0m \u001b[0;34m=\u001b[0m \u001b[0;32mFalse\u001b[0m\u001b[0;34m)\u001b[0m \u001b[0;34m->\u001b[0m \u001b[0mnp\u001b[0m\u001b[0;34m.\u001b[0m\u001b[0mndarray\u001b[0m\u001b[0;34m:\u001b[0m\u001b[0;34m\u001b[0m\u001b[0;34m\u001b[0m\u001b[0m\n\u001b[1;32m    143\u001b[0m         \u001b[0mOperatorBase\u001b[0m\u001b[0;34m.\u001b[0m\u001b[0m_check_massive\u001b[0m\u001b[0;34m(\u001b[0m\u001b[0;34m'to_matrix'\u001b[0m\u001b[0;34m,\u001b[0m \u001b[0;32mTrue\u001b[0m\u001b[0;34m,\u001b[0m \u001b[0mself\u001b[0m\u001b[0;34m.\u001b[0m\u001b[0mnum_qubits\u001b[0m\u001b[0;34m,\u001b[0m \u001b[0mmassive\u001b[0m\u001b[0;34m)\u001b[0m\u001b[0;34m\u001b[0m\u001b[0;34m\u001b[0m\u001b[0m\n\u001b[0;32m--> 144\u001b[0;31m         \u001b[0munitary\u001b[0m \u001b[0;34m=\u001b[0m \u001b[0mqiskit\u001b[0m\u001b[0;34m.\u001b[0m\u001b[0mquantum_info\u001b[0m\u001b[0;34m.\u001b[0m\u001b[0mOperator\u001b[0m\u001b[0;34m(\u001b[0m\u001b[0mself\u001b[0m\u001b[0;34m.\u001b[0m\u001b[0mto_circuit\u001b[0m\u001b[0;34m(\u001b[0m\u001b[0;34m)\u001b[0m\u001b[0;34m)\u001b[0m\u001b[0;34m.\u001b[0m\u001b[0mdata\u001b[0m\u001b[0;34m\u001b[0m\u001b[0;34m\u001b[0m\u001b[0m\n\u001b[0m\u001b[1;32m    145\u001b[0m         \u001b[0;32mreturn\u001b[0m \u001b[0munitary\u001b[0m \u001b[0;34m*\u001b[0m \u001b[0mself\u001b[0m\u001b[0;34m.\u001b[0m\u001b[0mcoeff\u001b[0m\u001b[0;34m\u001b[0m\u001b[0;34m\u001b[0m\u001b[0m\n\u001b[1;32m    146\u001b[0m \u001b[0;34m\u001b[0m\u001b[0m\n",
      "\u001b[0;32m~/anaconda3/envs/qiskit_env/lib/python3.9/site-packages/qiskit/quantum_info/operators/operator.py\u001b[0m in \u001b[0;36m__init__\u001b[0;34m(self, data, input_dims, output_dims)\u001b[0m\n\u001b[1;32m     84\u001b[0m             \u001b[0;31m# conditional gates, measure, or reset will cause an\u001b[0m\u001b[0;34m\u001b[0m\u001b[0;34m\u001b[0m\u001b[0;34m\u001b[0m\u001b[0m\n\u001b[1;32m     85\u001b[0m             \u001b[0;31m# exception to be raised.\u001b[0m\u001b[0;34m\u001b[0m\u001b[0;34m\u001b[0m\u001b[0;34m\u001b[0m\u001b[0m\n\u001b[0;32m---> 86\u001b[0;31m             \u001b[0mself\u001b[0m\u001b[0;34m.\u001b[0m\u001b[0m_data\u001b[0m \u001b[0;34m=\u001b[0m \u001b[0mself\u001b[0m\u001b[0;34m.\u001b[0m\u001b[0m_init_instruction\u001b[0m\u001b[0;34m(\u001b[0m\u001b[0mdata\u001b[0m\u001b[0;34m)\u001b[0m\u001b[0;34m.\u001b[0m\u001b[0mdata\u001b[0m\u001b[0;34m\u001b[0m\u001b[0;34m\u001b[0m\u001b[0m\n\u001b[0m\u001b[1;32m     87\u001b[0m         \u001b[0;32melif\u001b[0m \u001b[0mhasattr\u001b[0m\u001b[0;34m(\u001b[0m\u001b[0mdata\u001b[0m\u001b[0;34m,\u001b[0m \u001b[0;34m'to_operator'\u001b[0m\u001b[0;34m)\u001b[0m\u001b[0;34m:\u001b[0m\u001b[0;34m\u001b[0m\u001b[0;34m\u001b[0m\u001b[0m\n\u001b[1;32m     88\u001b[0m             \u001b[0;31m# If the data object has a 'to_operator' attribute this is given\u001b[0m\u001b[0;34m\u001b[0m\u001b[0;34m\u001b[0m\u001b[0;34m\u001b[0m\u001b[0m\n",
      "\u001b[0;32m~/anaconda3/envs/qiskit_env/lib/python3.9/site-packages/qiskit/quantum_info/operators/operator.py\u001b[0m in \u001b[0;36m_init_instruction\u001b[0;34m(cls, instruction)\u001b[0m\n\u001b[1;32m    450\u001b[0m         \u001b[0;32mif\u001b[0m \u001b[0misinstance\u001b[0m\u001b[0;34m(\u001b[0m\u001b[0minstruction\u001b[0m\u001b[0;34m,\u001b[0m \u001b[0mQuantumCircuit\u001b[0m\u001b[0;34m)\u001b[0m\u001b[0;34m:\u001b[0m\u001b[0;34m\u001b[0m\u001b[0;34m\u001b[0m\u001b[0m\n\u001b[1;32m    451\u001b[0m             \u001b[0minstruction\u001b[0m \u001b[0;34m=\u001b[0m \u001b[0minstruction\u001b[0m\u001b[0;34m.\u001b[0m\u001b[0mto_instruction\u001b[0m\u001b[0;34m(\u001b[0m\u001b[0;34m)\u001b[0m\u001b[0;34m\u001b[0m\u001b[0;34m\u001b[0m\u001b[0m\n\u001b[0;32m--> 452\u001b[0;31m         \u001b[0mop\u001b[0m\u001b[0;34m.\u001b[0m\u001b[0m_append_instruction\u001b[0m\u001b[0;34m(\u001b[0m\u001b[0minstruction\u001b[0m\u001b[0;34m)\u001b[0m\u001b[0;34m\u001b[0m\u001b[0;34m\u001b[0m\u001b[0m\n\u001b[0m\u001b[1;32m    453\u001b[0m         \u001b[0;32mreturn\u001b[0m \u001b[0mop\u001b[0m\u001b[0;34m\u001b[0m\u001b[0;34m\u001b[0m\u001b[0m\n\u001b[1;32m    454\u001b[0m \u001b[0;34m\u001b[0m\u001b[0m\n",
      "\u001b[0;32m~/anaconda3/envs/qiskit_env/lib/python3.9/site-packages/qiskit/quantum_info/operators/operator.py\u001b[0m in \u001b[0;36m_append_instruction\u001b[0;34m(self, obj, qargs)\u001b[0m\n\u001b[1;32m    494\u001b[0m                 \u001b[0mdimension\u001b[0m \u001b[0;34m=\u001b[0m \u001b[0;36m2\u001b[0m \u001b[0;34m**\u001b[0m \u001b[0mobj\u001b[0m\u001b[0;34m.\u001b[0m\u001b[0mnum_qubits\u001b[0m\u001b[0;34m\u001b[0m\u001b[0;34m\u001b[0m\u001b[0m\n\u001b[1;32m    495\u001b[0m                 op = self.compose(\n\u001b[0;32m--> 496\u001b[0;31m                     \u001b[0mScalarOp\u001b[0m\u001b[0;34m(\u001b[0m\u001b[0mdimension\u001b[0m\u001b[0;34m,\u001b[0m \u001b[0mnp\u001b[0m\u001b[0;34m.\u001b[0m\u001b[0mexp\u001b[0m\u001b[0;34m(\u001b[0m\u001b[0;36m1j\u001b[0m \u001b[0;34m*\u001b[0m \u001b[0mfloat\u001b[0m\u001b[0;34m(\u001b[0m\u001b[0mobj\u001b[0m\u001b[0;34m.\u001b[0m\u001b[0mdefinition\u001b[0m\u001b[0;34m.\u001b[0m\u001b[0mglobal_phase\u001b[0m\u001b[0;34m)\u001b[0m\u001b[0;34m)\u001b[0m\u001b[0;34m)\u001b[0m\u001b[0;34m,\u001b[0m\u001b[0;34m\u001b[0m\u001b[0;34m\u001b[0m\u001b[0m\n\u001b[0m\u001b[1;32m    497\u001b[0m                     qargs=qargs)\n\u001b[1;32m    498\u001b[0m                 \u001b[0mself\u001b[0m\u001b[0;34m.\u001b[0m\u001b[0m_data\u001b[0m \u001b[0;34m=\u001b[0m \u001b[0mop\u001b[0m\u001b[0;34m.\u001b[0m\u001b[0mdata\u001b[0m\u001b[0;34m\u001b[0m\u001b[0;34m\u001b[0m\u001b[0m\n",
      "\u001b[0;32m~/anaconda3/envs/qiskit_env/lib/python3.9/site-packages/qiskit/circuit/parameterexpression.py\u001b[0m in \u001b[0;36m__float__\u001b[0;34m(self)\u001b[0m\n\u001b[1;32m    350\u001b[0m     \u001b[0;32mdef\u001b[0m \u001b[0m__float__\u001b[0m\u001b[0;34m(\u001b[0m\u001b[0mself\u001b[0m\u001b[0;34m)\u001b[0m\u001b[0;34m:\u001b[0m\u001b[0;34m\u001b[0m\u001b[0;34m\u001b[0m\u001b[0m\n\u001b[1;32m    351\u001b[0m         \u001b[0;32mif\u001b[0m \u001b[0mself\u001b[0m\u001b[0;34m.\u001b[0m\u001b[0mparameters\u001b[0m\u001b[0;34m:\u001b[0m\u001b[0;34m\u001b[0m\u001b[0;34m\u001b[0m\u001b[0m\n\u001b[0;32m--> 352\u001b[0;31m             raise TypeError('ParameterExpression with unbound parameters ({}) '\n\u001b[0m\u001b[1;32m    353\u001b[0m                             'cannot be cast to a float.'.format(self.parameters))\n\u001b[1;32m    354\u001b[0m         \u001b[0;32mreturn\u001b[0m \u001b[0mfloat\u001b[0m\u001b[0;34m(\u001b[0m\u001b[0mself\u001b[0m\u001b[0;34m.\u001b[0m\u001b[0m_symbol_expr\u001b[0m\u001b[0;34m)\u001b[0m\u001b[0;34m\u001b[0m\u001b[0;34m\u001b[0m\u001b[0m\n",
      "\u001b[0;31mTypeError\u001b[0m: ParameterExpression with unbound parameters ({Parameter(tau)}) cannot be cast to a float."
     ]
    }
   ],
   "source": [
    "bound.eval()"
   ]
  },
  {
   "cell_type": "code",
   "execution_count": null,
   "id": "088b9733-10dc-41ad-860e-ebc78e12e6e5",
   "metadata": {},
   "outputs": [],
   "source": [
    "bound = trotterized_op.bind_parameters({evo_time: tau})"
   ]
  },
  {
   "cell_type": "markdown",
   "id": "f5ae9ee8",
   "metadata": {},
   "source": [
    "As far as I can tell, we need to work with these StateFns instead of circuits"
   ]
  },
  {
   "cell_type": "code",
   "execution_count": 11,
   "id": "5d93cbf8",
   "metadata": {},
   "outputs": [],
   "source": [
    "# this is a dummy circuit for the sake of checking how I can combine the evolved state with a circuit later\n",
    "circ = qiskit.circuit.library.TwoLocal(5,\"rx\",\"cz\", reps=1,entanglement=\"linear\")"
   ]
  },
  {
   "cell_type": "code",
   "execution_count": 12,
   "id": "3ff15d9a",
   "metadata": {},
   "outputs": [
    {
     "data": {
      "text/html": [
       "<pre style=\"word-wrap: normal;white-space: pre;background: #fff0;line-height: 1.1;font-family: &quot;Courier New&quot;,Courier,monospace\">     ┌──────────┐   ┌──────────┐                                    \n",
       "q_0: ┤ RX(θ[0]) ├─■─┤ RX(θ[5]) ├────────────────────────────────────\n",
       "     ├──────────┤ │ └──────────┘┌──────────┐                        \n",
       "q_1: ┤ RX(θ[1]) ├─■──────■──────┤ RX(θ[6]) ├────────────────────────\n",
       "     ├──────────┤        │      └──────────┘┌──────────┐            \n",
       "q_2: ┤ RX(θ[2]) ├────────■───────────■──────┤ RX(θ[7]) ├────────────\n",
       "     ├──────────┤                    │      └──────────┘┌──────────┐\n",
       "q_3: ┤ RX(θ[3]) ├────────────────────■───────────■──────┤ RX(θ[8]) ├\n",
       "     ├──────────┤                                │      ├──────────┤\n",
       "q_4: ┤ RX(θ[4]) ├────────────────────────────────■──────┤ RX(θ[9]) ├\n",
       "     └──────────┘                                       └──────────┘</pre>"
      ],
      "text/plain": [
       "     ┌──────────┐   ┌──────────┐                                    \n",
       "q_0: ┤ RX(θ[0]) ├─■─┤ RX(θ[5]) ├────────────────────────────────────\n",
       "     ├──────────┤ │ └──────────┘┌──────────┐                        \n",
       "q_1: ┤ RX(θ[1]) ├─■──────■──────┤ RX(θ[6]) ├────────────────────────\n",
       "     ├──────────┤        │      └──────────┘┌──────────┐            \n",
       "q_2: ┤ RX(θ[2]) ├────────■───────────■──────┤ RX(θ[7]) ├────────────\n",
       "     ├──────────┤                    │      └──────────┘┌──────────┐\n",
       "q_3: ┤ RX(θ[3]) ├────────────────────■───────────■──────┤ RX(θ[8]) ├\n",
       "     ├──────────┤                                │      ├──────────┤\n",
       "q_4: ┤ RX(θ[4]) ├────────────────────────────────■──────┤ RX(θ[9]) ├\n",
       "     └──────────┘                                       └──────────┘"
      ]
     },
     "execution_count": 12,
     "metadata": {},
     "output_type": "execute_result"
    }
   ],
   "source": [
    "circ.draw()"
   ]
  },
  {
   "cell_type": "code",
   "execution_count": 13,
   "id": "202a7f32",
   "metadata": {},
   "outputs": [],
   "source": [
    "circ_fn = CircuitStateFn(circ)"
   ]
  },
  {
   "cell_type": "code",
   "execution_count": 14,
   "id": "bd7c1dd1",
   "metadata": {},
   "outputs": [
    {
     "name": "stdout",
     "output_type": "stream",
     "text": [
      "CircuitStateFn(\n",
      "     ┌──────────┐   ┌──────────┐                                    \n",
      "q_0: ┤ RX(θ[0]) ├─■─┤ RX(θ[5]) ├────────────────────────────────────\n",
      "     ├──────────┤ │ └──────────┘┌──────────┐                        \n",
      "q_1: ┤ RX(θ[1]) ├─■──────■──────┤ RX(θ[6]) ├────────────────────────\n",
      "     ├──────────┤        │      └──────────┘┌──────────┐            \n",
      "q_2: ┤ RX(θ[2]) ├────────■───────────■──────┤ RX(θ[7]) ├────────────\n",
      "     ├──────────┤                    │      └──────────┘┌──────────┐\n",
      "q_3: ┤ RX(θ[3]) ├────────────────────■───────────■──────┤ RX(θ[8]) ├\n",
      "     ├──────────┤                                │      ├──────────┤\n",
      "q_4: ┤ RX(θ[4]) ├────────────────────────────────■──────┤ RX(θ[9]) ├\n",
      "     └──────────┘                                       └──────────┘\n",
      ")\n"
     ]
    }
   ],
   "source": [
    "print(circ_fn)"
   ]
  },
  {
   "cell_type": "code",
   "execution_count": 15,
   "id": "607ce189",
   "metadata": {},
   "outputs": [
    {
     "name": "stdout",
     "output_type": "stream",
     "text": [
      "ComposedOp([\n",
      "  e^(-i*1.0*I*t * (\n",
      "    1.0 * ZZIII\n",
      "    - 0.009999999776482582 * XIIII\n",
      "    - 0.010099999776482581 * ZIIII\n",
      "    + 1.0 * IZZII\n",
      "    - 0.009999999776482582 * IXIII\n",
      "    - 0.009999999776482582 * IZIII\n",
      "    + 1.0 * IIZZI\n",
      "    - 0.009999999776482582 * IIXII\n",
      "    - 0.009999999776482582 * IIZII\n",
      "    + 1.0 * IIIZZ\n",
      "    - 0.009999999776482582 * IIIXI\n",
      "    - 0.009999999776482582 * IIIZI\n",
      "    - 0.009999999776482582 * IIIIX\n",
      "    - 0.009999999776482582 * IIIIZ\n",
      "  )),\n",
      "  CircuitStateFn(\n",
      "       ┌──────────┐   ┌──────────┐                                    \n",
      "  q_0: ┤ RX(θ[0]) ├─■─┤ RX(θ[5]) ├────────────────────────────────────\n",
      "       ├──────────┤ │ └──────────┘┌──────────┐                        \n",
      "  q_1: ┤ RX(θ[1]) ├─■──────■──────┤ RX(θ[6]) ├────────────────────────\n",
      "       ├──────────┤        │      └──────────┘┌──────────┐            \n",
      "  q_2: ┤ RX(θ[2]) ├────────■───────────■──────┤ RX(θ[7]) ├────────────\n",
      "       ├──────────┤                    │      └──────────┘┌──────────┐\n",
      "  q_3: ┤ RX(θ[3]) ├────────────────────■───────────■──────┤ RX(θ[8]) ├\n",
      "       ├──────────┤                                │      ├──────────┤\n",
      "  q_4: ┤ RX(θ[4]) ├────────────────────────────────■──────┤ RX(θ[9]) ├\n",
      "       └──────────┘                                       └──────────┘\n",
      "  )\n",
      "])\n"
     ]
    }
   ],
   "source": [
    "evolved_processed = evolution_op @ circ_fn # first the imaginary time evolution, then the dummy processing\n",
    "print(evolved_processed )"
   ]
  },
  {
   "cell_type": "code",
   "execution_count": 16,
   "id": "d440c923",
   "metadata": {},
   "outputs": [
    {
     "name": "stdout",
     "output_type": "stream",
     "text": [
      "CircuitStateFn(\n",
      "global phase: 0\n",
      "     ┌──────────┐   ┌──────────┐┌──────────────────────────────┐»\n",
      "q_0: ┤ RX(θ[0]) ├─■─┤ RX(θ[5]) ├┤ RZ(-0.00999999977648258*I*t) ├»\n",
      "     ├──────────┤ │ └──────────┘└─────────┬──────────┬─────────┘»\n",
      "q_1: ┤ RX(θ[1]) ├─■──────■────────────────┤ RX(θ[6]) ├──────────»\n",
      "     ├──────────┤        │                └──────────┘          »\n",
      "q_2: ┤ RX(θ[2]) ├────────■─────────────────────■────────────────»\n",
      "     ├──────────┤                              │                »\n",
      "q_3: ┤ RX(θ[3]) ├──────────────────────────────■────────────────»\n",
      "     ├──────────┤                                               »\n",
      "q_4: ┤ RX(θ[4]) ├───────────────────────────────────────────────»\n",
      "     └──────────┘                                               »\n",
      "«     ┌──────────────────────────────┐                                »\n",
      "«q_0: ┤ RX(-0.00999999977648258*I*t) ├────────────────────────────────»\n",
      "«     ├──────────────────────────────┤┌──────────────────────────────┐»\n",
      "«q_1: ┤ RZ(-0.00999999977648258*I*t) ├┤ RX(-0.00999999977648258*I*t) ├»\n",
      "«     └─────────┬──────────┬─────────┘├──────────────────────────────┤»\n",
      "«q_2: ──────────┤ RX(θ[7]) ├──────────┤ RZ(-0.00999999977648258*I*t) ├»\n",
      "«               └──────────┘          └─────────┬──────────┬─────────┘»\n",
      "«q_3: ───────────────■──────────────────────────┤ RX(θ[8]) ├──────────»\n",
      "«                    │                          ├──────────┤          »\n",
      "«q_4: ───────────────■──────────────────────────┤ RX(θ[9]) ├──────────»\n",
      "«                                               └──────────┘          »\n",
      "«                  ┌───┐                      ┌─────────────┐         ┌───┐»\n",
      "«q_0: ─────────────┤ X ├──────────────────────┤ RZ(1.0*I*t) ├─────────┤ X ├»\n",
      "«                  └─┬─┘                      └─────────────┘         └─┬─┘»\n",
      "«q_1: ───────────────■──────────────────────────────────────────────────■──»\n",
      "«     ┌──────────────────────────────┐                                     »\n",
      "«q_2: ┤ RX(-0.00999999977648258*I*t) ├─────────────────────────────────────»\n",
      "«     ├──────────────────────────────┤┌──────────────────────────────┐     »\n",
      "«q_3: ┤ RZ(-0.00999999977648258*I*t) ├┤ RX(-0.00999999977648258*I*t) ├─────»\n",
      "«     ├─────────────────────────────┬┘├──────────────────────────────┤     »\n",
      "«q_4: ┤ RZ(-0.0100999997764826*I*t) ├─┤ RX(-0.00999999977648258*I*t) ├─────»\n",
      "«     └─────────────────────────────┘ └──────────────────────────────┘     »\n",
      "«                                                                           »\n",
      "«q_0: ──────────────────────────────────────────────────────────────────────»\n",
      "«     ┌───┐┌─────────────┐┌───┐                                             »\n",
      "«q_1: ┤ X ├┤ RZ(1.0*I*t) ├┤ X ├─────────────────────────────────────────────»\n",
      "«     └─┬─┘└─────────────┘└─┬─┘┌───┐┌─────────────┐┌───┐                    »\n",
      "«q_2: ──■───────────────────■──┤ X ├┤ RZ(1.0*I*t) ├┤ X ├────────────────────»\n",
      "«                              └─┬─┘└─────────────┘└─┬─┘┌───┐┌─────────────┐»\n",
      "«q_3: ───────────────────────────■───────────────────■──┤ X ├┤ RZ(1.0*I*t) ├»\n",
      "«                                                       └─┬─┘└─────────────┘»\n",
      "«q_4: ────────────────────────────────────────────────────■─────────────────»\n",
      "«                                                                           »\n",
      "«                                                                   »\n",
      "«q_0: ──────────────────────────────────────────────────────────────»\n",
      "«                                                                   »\n",
      "«q_1: ──────────────────────────────────────────────────────────────»\n",
      "«                                                ┌───┐              »\n",
      "«q_2: ───────────────────────────────────────────┤ X ├──────────────»\n",
      "«     ┌───┐┌───┐┌─────────────┐┌───┐             └─┬─┘              »\n",
      "«q_3: ┤ X ├┤ X ├┤ RZ(1.0*I*t) ├┤ X ├───────────────■────────────────»\n",
      "«     └─┬─┘└─┬─┘└─────────────┘└─┬─┘┌──────────────────────────────┐»\n",
      "«q_4: ──■────■───────────────────■──┤ RX(-0.00999999977648258*I*t) ├»\n",
      "«                                   └──────────────────────────────┘»\n",
      "«                                                                         »\n",
      "«q_0: ────────────────────────────────────────────────────────────────────»\n",
      "«                                                      ┌───┐              »\n",
      "«q_1: ─────────────────────────────────────────────────┤ X ├──────────────»\n",
      "«             ┌─────────────┐        ┌───┐             └─┬─┘              »\n",
      "«q_2: ────────┤ RZ(1.0*I*t) ├────────┤ X ├───────────────■────────────────»\n",
      "«             └─────────────┘        └─┬─┘┌──────────────────────────────┐»\n",
      "«q_3: ─────────────────────────────────■──┤ RX(-0.00999999977648258*I*t) ├»\n",
      "«     ┌─────────────────────────────┐     └──────────────────────────────┘»\n",
      "«q_4: ┤ RZ(-0.0100999997764826*I*t) ├─────────────────────────────────────»\n",
      "«     └─────────────────────────────┘                                     »\n",
      "«                                                       ┌───┐              »\n",
      "«q_0: ──────────────────────────────────────────────────┤ X ├──────────────»\n",
      "«             ┌─────────────┐         ┌───┐             └─┬─┘              »\n",
      "«q_1: ────────┤ RZ(1.0*I*t) ├─────────┤ X ├───────────────■────────────────»\n",
      "«             └─────────────┘         └─┬─┘┌──────────────────────────────┐»\n",
      "«q_2: ──────────────────────────────────■──┤ RX(-0.00999999977648258*I*t) ├»\n",
      "«     ┌──────────────────────────────┐     └──────────────────────────────┘»\n",
      "«q_3: ┤ RZ(-0.00999999977648258*I*t) ├─────────────────────────────────────»\n",
      "«     └──────────────────────────────┘                                     »\n",
      "«q_4: ─────────────────────────────────────────────────────────────────────»\n",
      "«                                                                          »\n",
      "«             ┌─────────────┐         ┌───┐┌──────────────────────────────┐»\n",
      "«q_0: ────────┤ RZ(1.0*I*t) ├─────────┤ X ├┤ RX(-0.00999999977648258*I*t) ├»\n",
      "«             └─────────────┘         └─┬─┘├──────────────────────────────┤»\n",
      "«q_1: ──────────────────────────────────■──┤ RX(-0.00999999977648258*I*t) ├»\n",
      "«     ┌──────────────────────────────┐     └──────────────────────────────┘»\n",
      "«q_2: ┤ RZ(-0.00999999977648258*I*t) ├─────────────────────────────────────»\n",
      "«     └──────────────────────────────┘                                     »\n",
      "«q_3: ─────────────────────────────────────────────────────────────────────»\n",
      "«                                                                          »\n",
      "«q_4: ─────────────────────────────────────────────────────────────────────»\n",
      "«                                                                          »\n",
      "«     ┌──────────────────────────────┐\n",
      "«q_0: ┤ RZ(-0.00999999977648258*I*t) ├\n",
      "«     ├──────────────────────────────┤\n",
      "«q_1: ┤ RZ(-0.00999999977648258*I*t) ├\n",
      "«     └──────────────────────────────┘\n",
      "«q_2: ────────────────────────────────\n",
      "«                                     \n",
      "«q_3: ────────────────────────────────\n",
      "«                                     \n",
      "«q_4: ────────────────────────────────\n",
      "«                                     \n",
      ")\n"
     ]
    }
   ],
   "source": [
    "trotterized_op = qiskit.opflow.evolutions.PauliTrotterEvolution(trotter_mode=qiskit.opflow.evolutions.Suzuki(order=2, reps=1)).convert(evolved_processed)\n",
    "print(trotterized_op)"
   ]
  },
  {
   "cell_type": "code",
   "execution_count": 17,
   "id": "1fd49d1c",
   "metadata": {},
   "outputs": [],
   "source": [
    "bound = trotterized_op.bind_parameters({evo_time: .5j})"
   ]
  },
  {
   "cell_type": "code",
   "execution_count": 18,
   "id": "cc58b894",
   "metadata": {},
   "outputs": [
    {
     "data": {
      "text/html": [
       "<pre style=\"word-wrap: normal;white-space: pre;background: #fff0;line-height: 1.1;font-family: &quot;Courier New&quot;,Courier,monospace\">     ┌──────────┐   ┌──────────┐┌─────────────────────────┐»\n",
       "q_0: ┤ RX(θ[0]) ├─■─┤ RX(θ[5]) ├┤ RZ(0.00499999988824129) ├»\n",
       "     ├──────────┤ │ └──────────┘└───────┬──────────┬──────┘»\n",
       "q_1: ┤ RX(θ[1]) ├─■──────■──────────────┤ RX(θ[6]) ├───────»\n",
       "     ├──────────┤        │              └──────────┘       »\n",
       "q_2: ┤ RX(θ[2]) ├────────■───────────────────■─────────────»\n",
       "     ├──────────┤                            │             »\n",
       "q_3: ┤ RX(θ[3]) ├────────────────────────────■─────────────»\n",
       "     ├──────────┤                                          »\n",
       "q_4: ┤ RX(θ[4]) ├──────────────────────────────────────────»\n",
       "     └──────────┘                                          »\n",
       "«     ┌─────────────────────────┐                           »\n",
       "«q_0: ┤ RX(0.00499999988824129) ├───────────────────────────»\n",
       "«     ├─────────────────────────┤┌─────────────────────────┐»\n",
       "«q_1: ┤ RZ(0.00499999988824129) ├┤ RX(0.00499999988824129) ├»\n",
       "«     └───────┬──────────┬──────┘├─────────────────────────┤»\n",
       "«q_2: ────────┤ RX(θ[7]) ├───────┤ RZ(0.00499999988824129) ├»\n",
       "«             └──────────┘       └───────┬──────────┬──────┘»\n",
       "«q_3: ─────────────■─────────────────────┤ RX(θ[8]) ├───────»\n",
       "«                  │                     ├──────────┤       »\n",
       "«q_4: ─────────────■─────────────────────┤ RX(θ[9]) ├───────»\n",
       "«                                        └──────────┘       »\n",
       "«                ┌───┐            ┌────────────────────────┐┌───┐     »\n",
       "«q_0: ───────────┤ X ├────────────┤ RZ(-0.500000000000000) ├┤ X ├─────»\n",
       "«                └─┬─┘            └────────────────────────┘└─┬─┘┌───┐»\n",
       "«q_1: ─────────────■──────────────────────────────────────────■──┤ X ├»\n",
       "«     ┌─────────────────────────┐                                └─┬─┘»\n",
       "«q_2: ┤ RX(0.00499999988824129) ├──────────────────────────────────■──»\n",
       "«     ├─────────────────────────┤┌─────────────────────────┐          »\n",
       "«q_3: ┤ RZ(0.00499999988824129) ├┤ RX(0.00499999988824129) ├──────────»\n",
       "«     ├─────────────────────────┤├─────────────────────────┤          »\n",
       "«q_4: ┤ RZ(0.00504999988824129) ├┤ RX(0.00499999988824129) ├──────────»\n",
       "«     └─────────────────────────┘└─────────────────────────┘          »\n",
       "«                                                                             »\n",
       "«q_0: ────────────────────────────────────────────────────────────────────────»\n",
       "«     ┌────────────────────────┐┌───┐                                         »\n",
       "«q_1: ┤ RZ(-0.500000000000000) ├┤ X ├─────────────────────────────────────────»\n",
       "«     └────────────────────────┘└─┬─┘┌───┐┌────────────────────────┐┌───┐     »\n",
       "«q_2: ────────────────────────────■──┤ X ├┤ RZ(-0.500000000000000) ├┤ X ├─────»\n",
       "«                                    └─┬─┘└────────────────────────┘└─┬─┘┌───┐»\n",
       "«q_3: ─────────────────────────────────■──────────────────────────────■──┤ X ├»\n",
       "«                                                                        └─┬─┘»\n",
       "«q_4: ─────────────────────────────────────────────────────────────────────■──»\n",
       "«                                                                             »\n",
       "«                                                                        »\n",
       "«q_0: ───────────────────────────────────────────────────────────────────»\n",
       "«                                                                        »\n",
       "«q_1: ───────────────────────────────────────────────────────────────────»\n",
       "«                                                                        »\n",
       "«q_2: ───────────────────────────────────────────────────────────────────»\n",
       "«     ┌────────────────────────┐┌───┐┌───┐┌────────────────────────┐┌───┐»\n",
       "«q_3: ┤ RZ(-0.500000000000000) ├┤ X ├┤ X ├┤ RZ(-0.500000000000000) ├┤ X ├»\n",
       "«     └────────────────────────┘└─┬─┘└─┬─┘└────────────────────────┘└─┬─┘»\n",
       "«q_4: ────────────────────────────■────■──────────────────────────────■──»\n",
       "«                                                                        »\n",
       "«                                                                »\n",
       "«q_0: ───────────────────────────────────────────────────────────»\n",
       "«                                                                »\n",
       "«q_1: ───────────────────────────────────────────────────────────»\n",
       "«                ┌───┐            ┌────────────────────────┐┌───┐»\n",
       "«q_2: ───────────┤ X ├────────────┤ RZ(-0.500000000000000) ├┤ X ├»\n",
       "«                └─┬─┘            └────────────────────────┘└─┬─┘»\n",
       "«q_3: ─────────────■──────────────────────────────────────────■──»\n",
       "«     ┌─────────────────────────┐┌─────────────────────────┐     »\n",
       "«q_4: ┤ RX(0.00499999988824129) ├┤ RZ(0.00504999988824129) ├─────»\n",
       "«     └─────────────────────────┘└─────────────────────────┘     »\n",
       "«                                                                »\n",
       "«q_0: ───────────────────────────────────────────────────────────»\n",
       "«                ┌───┐            ┌────────────────────────┐┌───┐»\n",
       "«q_1: ───────────┤ X ├────────────┤ RZ(-0.500000000000000) ├┤ X ├»\n",
       "«                └─┬─┘            └────────────────────────┘└─┬─┘»\n",
       "«q_2: ─────────────■──────────────────────────────────────────■──»\n",
       "«     ┌─────────────────────────┐┌─────────────────────────┐     »\n",
       "«q_3: ┤ RX(0.00499999988824129) ├┤ RZ(0.00499999988824129) ├─────»\n",
       "«     └─────────────────────────┘└─────────────────────────┘     »\n",
       "«q_4: ───────────────────────────────────────────────────────────»\n",
       "«                                                                »\n",
       "«                ┌───┐            ┌────────────────────────┐┌───┐»\n",
       "«q_0: ───────────┤ X ├────────────┤ RZ(-0.500000000000000) ├┤ X ├»\n",
       "«                └─┬─┘            └────────────────────────┘└─┬─┘»\n",
       "«q_1: ─────────────■──────────────────────────────────────────■──»\n",
       "«     ┌─────────────────────────┐┌─────────────────────────┐     »\n",
       "«q_2: ┤ RX(0.00499999988824129) ├┤ RZ(0.00499999988824129) ├─────»\n",
       "«     └─────────────────────────┘└─────────────────────────┘     »\n",
       "«q_3: ───────────────────────────────────────────────────────────»\n",
       "«                                                                »\n",
       "«q_4: ───────────────────────────────────────────────────────────»\n",
       "«                                                                »\n",
       "«     ┌─────────────────────────┐┌─────────────────────────┐\n",
       "«q_0: ┤ RX(0.00499999988824129) ├┤ RZ(0.00499999988824129) ├\n",
       "«     ├─────────────────────────┤├─────────────────────────┤\n",
       "«q_1: ┤ RX(0.00499999988824129) ├┤ RZ(0.00499999988824129) ├\n",
       "«     └─────────────────────────┘└─────────────────────────┘\n",
       "«q_2: ──────────────────────────────────────────────────────\n",
       "«                                                           \n",
       "«q_3: ──────────────────────────────────────────────────────\n",
       "«                                                           \n",
       "«q_4: ──────────────────────────────────────────────────────\n",
       "«                                                           </pre>"
      ],
      "text/plain": [
       "     ┌──────────┐   ┌──────────┐┌─────────────────────────┐»\n",
       "q_0: ┤ RX(θ[0]) ├─■─┤ RX(θ[5]) ├┤ RZ(0.00499999988824129) ├»\n",
       "     ├──────────┤ │ └──────────┘└───────┬──────────┬──────┘»\n",
       "q_1: ┤ RX(θ[1]) ├─■──────■──────────────┤ RX(θ[6]) ├───────»\n",
       "     ├──────────┤        │              └──────────┘       »\n",
       "q_2: ┤ RX(θ[2]) ├────────■───────────────────■─────────────»\n",
       "     ├──────────┤                            │             »\n",
       "q_3: ┤ RX(θ[3]) ├────────────────────────────■─────────────»\n",
       "     ├──────────┤                                          »\n",
       "q_4: ┤ RX(θ[4]) ├──────────────────────────────────────────»\n",
       "     └──────────┘                                          »\n",
       "«     ┌─────────────────────────┐                           »\n",
       "«q_0: ┤ RX(0.00499999988824129) ├───────────────────────────»\n",
       "«     ├─────────────────────────┤┌─────────────────────────┐»\n",
       "«q_1: ┤ RZ(0.00499999988824129) ├┤ RX(0.00499999988824129) ├»\n",
       "«     └───────┬──────────┬──────┘├─────────────────────────┤»\n",
       "«q_2: ────────┤ RX(θ[7]) ├───────┤ RZ(0.00499999988824129) ├»\n",
       "«             └──────────┘       └───────┬──────────┬──────┘»\n",
       "«q_3: ─────────────■─────────────────────┤ RX(θ[8]) ├───────»\n",
       "«                  │                     ├──────────┤       »\n",
       "«q_4: ─────────────■─────────────────────┤ RX(θ[9]) ├───────»\n",
       "«                                        └──────────┘       »\n",
       "«                ┌───┐            ┌────────────────────────┐┌───┐     »\n",
       "«q_0: ───────────┤ X ├────────────┤ RZ(-0.500000000000000) ├┤ X ├─────»\n",
       "«                └─┬─┘            └────────────────────────┘└─┬─┘┌───┐»\n",
       "«q_1: ─────────────■──────────────────────────────────────────■──┤ X ├»\n",
       "«     ┌─────────────────────────┐                                └─┬─┘»\n",
       "«q_2: ┤ RX(0.00499999988824129) ├──────────────────────────────────■──»\n",
       "«     ├─────────────────────────┤┌─────────────────────────┐          »\n",
       "«q_3: ┤ RZ(0.00499999988824129) ├┤ RX(0.00499999988824129) ├──────────»\n",
       "«     ├─────────────────────────┤├─────────────────────────┤          »\n",
       "«q_4: ┤ RZ(0.00504999988824129) ├┤ RX(0.00499999988824129) ├──────────»\n",
       "«     └─────────────────────────┘└─────────────────────────┘          »\n",
       "«                                                                             »\n",
       "«q_0: ────────────────────────────────────────────────────────────────────────»\n",
       "«     ┌────────────────────────┐┌───┐                                         »\n",
       "«q_1: ┤ RZ(-0.500000000000000) ├┤ X ├─────────────────────────────────────────»\n",
       "«     └────────────────────────┘└─┬─┘┌───┐┌────────────────────────┐┌───┐     »\n",
       "«q_2: ────────────────────────────■──┤ X ├┤ RZ(-0.500000000000000) ├┤ X ├─────»\n",
       "«                                    └─┬─┘└────────────────────────┘└─┬─┘┌───┐»\n",
       "«q_3: ─────────────────────────────────■──────────────────────────────■──┤ X ├»\n",
       "«                                                                        └─┬─┘»\n",
       "«q_4: ─────────────────────────────────────────────────────────────────────■──»\n",
       "«                                                                             »\n",
       "«                                                                        »\n",
       "«q_0: ───────────────────────────────────────────────────────────────────»\n",
       "«                                                                        »\n",
       "«q_1: ───────────────────────────────────────────────────────────────────»\n",
       "«                                                                        »\n",
       "«q_2: ───────────────────────────────────────────────────────────────────»\n",
       "«     ┌────────────────────────┐┌───┐┌───┐┌────────────────────────┐┌───┐»\n",
       "«q_3: ┤ RZ(-0.500000000000000) ├┤ X ├┤ X ├┤ RZ(-0.500000000000000) ├┤ X ├»\n",
       "«     └────────────────────────┘└─┬─┘└─┬─┘└────────────────────────┘└─┬─┘»\n",
       "«q_4: ────────────────────────────■────■──────────────────────────────■──»\n",
       "«                                                                        »\n",
       "«                                                                »\n",
       "«q_0: ───────────────────────────────────────────────────────────»\n",
       "«                                                                »\n",
       "«q_1: ───────────────────────────────────────────────────────────»\n",
       "«                ┌───┐            ┌────────────────────────┐┌───┐»\n",
       "«q_2: ───────────┤ X ├────────────┤ RZ(-0.500000000000000) ├┤ X ├»\n",
       "«                └─┬─┘            └────────────────────────┘└─┬─┘»\n",
       "«q_3: ─────────────■──────────────────────────────────────────■──»\n",
       "«     ┌─────────────────────────┐┌─────────────────────────┐     »\n",
       "«q_4: ┤ RX(0.00499999988824129) ├┤ RZ(0.00504999988824129) ├─────»\n",
       "«     └─────────────────────────┘└─────────────────────────┘     »\n",
       "«                                                                »\n",
       "«q_0: ───────────────────────────────────────────────────────────»\n",
       "«                ┌───┐            ┌────────────────────────┐┌───┐»\n",
       "«q_1: ───────────┤ X ├────────────┤ RZ(-0.500000000000000) ├┤ X ├»\n",
       "«                └─┬─┘            └────────────────────────┘└─┬─┘»\n",
       "«q_2: ─────────────■──────────────────────────────────────────■──»\n",
       "«     ┌─────────────────────────┐┌─────────────────────────┐     »\n",
       "«q_3: ┤ RX(0.00499999988824129) ├┤ RZ(0.00499999988824129) ├─────»\n",
       "«     └─────────────────────────┘└─────────────────────────┘     »\n",
       "«q_4: ───────────────────────────────────────────────────────────»\n",
       "«                                                                »\n",
       "«                ┌───┐            ┌────────────────────────┐┌───┐»\n",
       "«q_0: ───────────┤ X ├────────────┤ RZ(-0.500000000000000) ├┤ X ├»\n",
       "«                └─┬─┘            └────────────────────────┘└─┬─┘»\n",
       "«q_1: ─────────────■──────────────────────────────────────────■──»\n",
       "«     ┌─────────────────────────┐┌─────────────────────────┐     »\n",
       "«q_2: ┤ RX(0.00499999988824129) ├┤ RZ(0.00499999988824129) ├─────»\n",
       "«     └─────────────────────────┘└─────────────────────────┘     »\n",
       "«q_3: ───────────────────────────────────────────────────────────»\n",
       "«                                                                »\n",
       "«q_4: ───────────────────────────────────────────────────────────»\n",
       "«                                                                »\n",
       "«     ┌─────────────────────────┐┌─────────────────────────┐\n",
       "«q_0: ┤ RX(0.00499999988824129) ├┤ RZ(0.00499999988824129) ├\n",
       "«     ├─────────────────────────┤├─────────────────────────┤\n",
       "«q_1: ┤ RX(0.00499999988824129) ├┤ RZ(0.00499999988824129) ├\n",
       "«     └─────────────────────────┘└─────────────────────────┘\n",
       "«q_2: ──────────────────────────────────────────────────────\n",
       "«                                                           \n",
       "«q_3: ──────────────────────────────────────────────────────\n",
       "«                                                           \n",
       "«q_4: ──────────────────────────────────────────────────────\n",
       "«                                                           "
      ]
     },
     "execution_count": 18,
     "metadata": {},
     "output_type": "execute_result"
    }
   ],
   "source": [
    "bound.to_circuit().draw()"
   ]
  },
  {
   "cell_type": "code",
   "execution_count": 20,
   "id": "9851b4b8",
   "metadata": {},
   "outputs": [
    {
     "name": "stderr",
     "output_type": "stream",
     "text": [
      "<ipython-input-20-100ad986e4f8>:2: DeprecationWarning: `np.float` is a deprecated alias for the builtin `float`. To silence this warning, use `float` by itself. Doing this will not modify any behavior and is safe. If you specifically wanted the numpy scalar type, use `np.float64` here.\n",
      "Deprecated in NumPy 1.20; for more details and guidance: https://numpy.org/devdocs/release/1.20.0-notes.html#deprecations\n",
      "  init_state, E, ham = ising_groundstate(L, anti, np.float(gx), np.float(gz))\n"
     ]
    }
   ],
   "source": [
    "# ED result\n",
    "Smag = Mag(L,anti)\n",
    "init_state, E, ham = ising_groundstate(L, anti, np.float(gx), np.float(gz))\n",
    "Sen = E\n",
    "Smags = init_state.T.conj()@Smag@init_state #Magnetization with Numpy results"
   ]
  },
  {
   "cell_type": "code",
   "execution_count": null,
   "id": "685d8b64-11ab-4409-bcfd-818eb575f594",
   "metadata": {},
   "outputs": [],
   "source": []
  }
 ],
 "metadata": {
  "kernelspec": {
   "display_name": "Python 3",
   "language": "python",
   "name": "python3"
  },
  "language_info": {
   "codemirror_mode": {
    "name": "ipython",
    "version": 3
   },
   "file_extension": ".py",
   "mimetype": "text/x-python",
   "name": "python",
   "nbconvert_exporter": "python",
   "pygments_lexer": "ipython3",
   "version": "3.9.4"
  }
 },
 "nbformat": 4,
 "nbformat_minor": 5
}
