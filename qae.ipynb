{
 "cells": [
  {
   "cell_type": "code",
   "execution_count": 39,
   "id": "c417d5fc",
   "metadata": {},
   "outputs": [],
   "source": [
    "import numpy as np\n",
    "from scipy.optimize import minimize\n",
    "from qiskit import *\n",
    "%matplotlib inline"
   ]
  },
  {
   "cell_type": "code",
   "execution_count": 40,
   "id": "2026d0cf",
   "metadata": {},
   "outputs": [],
   "source": [
    "L = 6\n",
    "thetas = np.random.uniform(0, 2*np.pi, 2*L+2) # initial parameters"
   ]
  },
  {
   "cell_type": "code",
   "execution_count": 41,
   "id": "bf3988c7",
   "metadata": {},
   "outputs": [],
   "source": [
    "def prepare_circuit(thetas):\n",
    "    qreg = QuantumRegister(L, 'q')\n",
    "    creg = ClassicalRegister(2, 'c')\n",
    "    circ = QuantumCircuit(qreg, creg)\n",
    "    for i,t in enumerate(thetas[:L]):\n",
    "        circ.ry(t, i)\n",
    "    circ.cz(5,4)\n",
    "    circ.cz(5,3)\n",
    "    circ.cz(5,1)\n",
    "    circ.cz(4,2)\n",
    "    circ.cz(4,0)\n",
    "    for i,t in enumerate(thetas[L:2*L]):\n",
    "        circ.ry(t, i)\n",
    "    circ.cz(5,4)\n",
    "    circ.cz(5,2)\n",
    "    circ.cz(4,3)\n",
    "    circ.cz(5,0)\n",
    "    circ.cz(4,1)\n",
    "    circ.ry(thetas[2*L], 4)\n",
    "    circ.ry(thetas[2*L+1], 5)\n",
    "    circ.measure(qreg[4], creg[0])\n",
    "    circ.measure(qreg[5], creg[1])\n",
    "    return circ"
   ]
  },
  {
   "cell_type": "code",
   "execution_count": 42,
   "id": "f608e393",
   "metadata": {},
   "outputs": [
    {
     "data": {
      "image/png": "[encoded data removed]",
      "text/plain": [
       "<Figure size 929.397x445.48 with 1 Axes>"
      ]
     },
     "execution_count": 42,
     "metadata": {},
     "output_type": "execute_result"
    }
   ],
   "source": [
    "circ = prepare_circuit(thetas)\n",
    "circ.draw('mpl') # trash qubits are at the bottom"
   ]
  },
  {
   "cell_type": "code",
   "execution_count": 43,
   "id": "aacc06af",
   "metadata": {},
   "outputs": [],
   "source": [
    "# Use Aer's qasm_simulator\n",
    "backend_sim = Aer.get_backend('qasm_simulator')\n",
    "\n",
    "def run_circuit(thetas):\n",
    "    circ = prepare_circuit(thetas)\n",
    "\n",
    "    # Execute the circuit on the qasm simulator.\n",
    "    job_sim = execute(circ, backend_sim, shots=100, memory=True)\n",
    "\n",
    "    # Grab the results from the job.\n",
    "    result_sim = job_sim.result()\n",
    "\n",
    "    counts = result_sim.get_counts(circ)\n",
    "#     print(counts)\n",
    "    \n",
    "    mems = result_sim.get_memory(circ)\n",
    "#     print(mems)\n",
    "    return counts"
   ]
  },
  {
   "cell_type": "code",
   "execution_count": 44,
   "id": "461b93cc",
   "metadata": {},
   "outputs": [
    {
     "data": {
      "text/plain": [
       "27"
      ]
     },
     "execution_count": 44,
     "metadata": {},
     "output_type": "execute_result"
    }
   ],
   "source": [
    "run_circuit(thetas)['00']"
   ]
  },
  {
   "cell_type": "code",
   "execution_count": 45,
   "id": "0978d4e3",
   "metadata": {},
   "outputs": [],
   "source": [
    "def cost_function(thetas):\n",
    "    cost = 0\n",
    "    out = run_circuit(thetas)\n",
    "    cost = out.get('11', 0)*2 + out.get('01', 0) + out.get('10', 0)\n",
    "    return cost/100 # due to the 100 shots"
   ]
  },
  {
   "cell_type": "code",
   "execution_count": 46,
   "id": "0a2bb925",
   "metadata": {},
   "outputs": [
    {
     "data": {
      "text/plain": [
       "0.78"
      ]
     },
     "execution_count": 46,
     "metadata": {},
     "output_type": "execute_result"
    }
   ],
   "source": [
    "cost_function(thetas)"
   ]
  },
  {
   "cell_type": "code",
   "execution_count": 47,
   "id": "390f3b72",
   "metadata": {},
   "outputs": [],
   "source": [
    "# result = minimize(cost_function, thetas, method='BFGS', options={'maxiter': 10})\n",
    "result = minimize(cost_function, thetas, method='Powell', options={'maxiter': 10, 'ftol': 0.01})"
   ]
  },
  {
   "cell_type": "code",
   "execution_count": 48,
   "id": "fdc9803a",
   "metadata": {},
   "outputs": [
    {
     "name": "stdout",
     "output_type": "stream",
     "text": [
      "0.08\n",
      "[ 3.31245517 10.55401208  6.7930748   3.64925027  1.67305754  0.02084847\n",
      "  6.95929701  2.4618587   4.47459938  0.97395419  2.1346659  -0.30972849\n",
      "  0.31129307 -0.03193944]\n"
     ]
    }
   ],
   "source": [
    "print(result.fun) # cost function after optimization\n",
    "print(result.x) # optimized parameters"
   ]
  },
  {
   "cell_type": "code",
   "execution_count": null,
   "id": "14642b02",
   "metadata": {},
   "outputs": [],
   "source": []
  }
 ],
 "metadata": {
  "kernelspec": {
   "display_name": "Python 3",
   "language": "python",
   "name": "python3"
  },
  "language_info": {
   "codemirror_mode": {
    "name": "ipython",
    "version": 3
   },
   "file_extension": ".py",
   "mimetype": "text/x-python",
   "name": "python",
   "nbconvert_exporter": "python",
   "pygments_lexer": "ipython3",
   "version": "3.8.8"
  }
 },
 "nbformat": 4,
 "nbformat_minor": 5
}
