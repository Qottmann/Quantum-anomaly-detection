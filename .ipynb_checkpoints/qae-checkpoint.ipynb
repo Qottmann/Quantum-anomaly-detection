{
 "cells": [
  {
   "cell_type": "markdown",
   "id": "966b796b",
   "metadata": {},
   "source": [
    "# Variational quantum autoencoder\n",
    "\n",
    "Circuit ansatz from: https://arxiv.org/pdf/2010.06599.pdf"
   ]
  },
  {
   "cell_type": "code",
   "execution_count": 1,
   "id": "c417d5fc",
   "metadata": {},
   "outputs": [],
   "source": [
    "import time\n",
    "import numpy as np\n",
    "from scipy.optimize import minimize, basinhopping\n",
    "from qiskit import *\n",
    "from qiskit.quantum_info import Statevector\n",
    "from qiskit.algorithms.optimizers import COBYLA, L_BFGS_B, SPSA\n",
    "import matplotlib.pyplot as plt\n",
    "%matplotlib inline"
   ]
  },
  {
   "cell_type": "markdown",
   "id": "440789d2",
   "metadata": {},
   "source": [
    "### Exact diagonalization \n",
    "In order to get ground state for input into quantum circuit"
   ]
  },
  {
   "cell_type": "code",
   "execution_count": 2,
   "id": "e8db1eb8",
   "metadata": {},
   "outputs": [],
   "source": [
    "# from: https://tenpy.readthedocs.io/en/latest/toycodes/tfi_exact.html\n",
    "import numpy as np\n",
    "import scipy.sparse as sparse\n",
    "import scipy.sparse.linalg.eigen.arpack as arp\n",
    "import warnings\n",
    "import scipy.integrate\n",
    "\n",
    "\n",
    "def ising_groundstate(L, J, g):\n",
    "    \"\"\"For comparison: obtain ground state energy from exact diagonalization.\n",
    "\n",
    "    Exponentially expensive in L, only works for small enough `L` <~ 20.\n",
    "    \"\"\"\n",
    "    if L >= 20:\n",
    "        warnings.warn(\"Large L: Exact diagonalization might take a long time!\")\n",
    "    # get single site operaors\n",
    "    sx = sparse.csr_matrix(np.array([[0., 1.], [1., 0.]]))\n",
    "    sz = sparse.csr_matrix(np.array([[1., 0.], [0., -1.]]))\n",
    "    id = sparse.csr_matrix(np.eye(2))\n",
    "    sx_list = []  # sx_list[i] = kron([id, id, ..., id, sx, id, .... id])\n",
    "    sz_list = []\n",
    "    for i_site in range(L):\n",
    "        x_ops = [id] * L\n",
    "        z_ops = [id] * L\n",
    "        x_ops[i_site] = sx\n",
    "        z_ops[i_site] = sz\n",
    "        X = x_ops[0]\n",
    "        Z = z_ops[0]\n",
    "        for j in range(1, L):\n",
    "            X = sparse.kron(X, x_ops[j], 'csr')\n",
    "            Z = sparse.kron(Z, z_ops[j], 'csr')\n",
    "        sx_list.append(X)\n",
    "        sz_list.append(Z)\n",
    "    H_xx = sparse.csr_matrix((2**L, 2**L))\n",
    "    H_z = sparse.csr_matrix((2**L, 2**L))\n",
    "    for i in range(L - 1):\n",
    "        H_xx = H_xx + sx_list[i] * sx_list[(i + 1) % L]\n",
    "    for i in range(L):\n",
    "        H_z = H_z + sz_list[i]\n",
    "    H = -J * H_xx - g * H_z\n",
    "    E, V = arp.eigsh(H, k=1, which='SA', return_eigenvectors=True, ncv=20)\n",
    "    return V[:,0], E[0]\n",
    "init_state, E = ising_groundstate(6, 1., 1.)"
   ]
  },
  {
   "cell_type": "markdown",
   "id": "1ad839e0",
   "metadata": {},
   "source": [
    "### Define variational quantum circuit\n",
    "At the moment only works for 6 quibts (two of them are trash qubits).\n",
    "\n",
    "Other ansatze that might be worth trying: PauliTwoDesign, RealAmplitudes, EfficientSU2"
   ]
  },
  {
   "cell_type": "code",
   "execution_count": 3,
   "id": "2026d0cf",
   "metadata": {},
   "outputs": [],
   "source": [
    "# Use Aer's qasm_simulator\n",
    "backend_sim = Aer.get_backend('qasm_simulator')\n",
    "\n",
    "L = 6 # system size\n",
    "thetas = np.random.uniform(0, 2*np.pi, 2*L+2) # initial parameters without feature encoding\n",
    "# thetas = np.random.uniform(0, 2*np.pi, (2*L+2, 2)) # initial parameters with feature encoding"
   ]
  },
  {
   "cell_type": "code",
   "execution_count": 4,
   "id": "bf3988c7",
   "metadata": {},
   "outputs": [],
   "source": [
    "def prepare_circuit(init_state=None, measurement=True):\n",
    "    qreg = QuantumRegister(L, 'q')\n",
    "    creg = ClassicalRegister(2, 'c')\n",
    "    circ = QuantumCircuit(qreg, creg)\n",
    "    entangler_map1 = [(5, 4), (5, 3), (5, 1), (4, 2), (4, 0)]\n",
    "    entangler_map2 = [(5, 4), (5, 2), (4, 3), (5, 0), (4, 1)]\n",
    "    circ += circuit.library.TwoLocal(L, 'ry', 'cz', entanglement = [entangler_map1, entangler_map2], reps=2, insert_barriers=True, skip_final_rotation_layer=True)\n",
    "    circ.ry(circuit.Parameter('θ1'), 4)\n",
    "    circ.ry(circuit.Parameter('θ2'), 5)\n",
    "    if measurement:\n",
    "        circ.measure(qreg[4], creg[0])\n",
    "        circ.measure(qreg[5], creg[1])\n",
    "    if init_state is not None: circ.initialize(init_state, qreg)\n",
    "    return circ\n",
    "\n",
    "# same circuit as above (more explicit)\n",
    "def prepare_circuit2(thetas, init_state=None, measurement=True):\n",
    "    qreg = QuantumRegister(L, 'q')\n",
    "    creg = ClassicalRegister(2, 'c')\n",
    "    circ = QuantumCircuit(qreg, creg)\n",
    "    if init_state is not None: circ.initialize(init_state, qreg)\n",
    "    for i,t in enumerate(thetas[:L]):\n",
    "        circ.ry(t, i)\n",
    "    circ.cz(5,4)\n",
    "    circ.cz(5,3)\n",
    "    circ.cz(5,1)\n",
    "    circ.cz(4,2)\n",
    "    circ.cz(4,0)\n",
    "    for i,t in enumerate(thetas[L:2*L]):\n",
    "        circ.ry(t, i)\n",
    "    circ.cz(5,4)\n",
    "    circ.cz(5,2)\n",
    "    circ.cz(4,3)\n",
    "    circ.cz(5,0)\n",
    "    circ.cz(4,1)\n",
    "    circ.ry(thetas[2*L], 4)\n",
    "    circ.ry(thetas[2*L+1], 5)\n",
    "    if measurement:\n",
    "        circ.measure(qreg[4], creg[0])\n",
    "        circ.measure(qreg[5], creg[1])\n",
    "    return circ"
   ]
  },
  {
   "cell_type": "code",
   "execution_count": 5,
   "id": "5ec95b7a",
   "metadata": {},
   "outputs": [],
   "source": [
    "def feature_encoding(thetas, x):\n",
    "    \"\"\" thetas: parameters to be optimized, x: Ising model parameter (eg. field) \"\"\"\n",
    "    new_thetas = []\n",
    "    thetas = thetas.reshape((-1,2))\n",
    "    for theta in thetas:\n",
    "        new_thetas.append(theta[0] * x + theta[1])\n",
    "    return new_thetas"
   ]
  },
  {
   "cell_type": "code",
   "execution_count": 8,
   "id": "c0a34a67",
   "metadata": {},
   "outputs": [
    {
     "data": {
      "image/png": "[encoded data removed]",
      "text/plain": [
       "<Figure size 1110x445.48 with 1 Axes>"
      ]
     },
     "execution_count": 8,
     "metadata": {},
     "output_type": "execute_result"
    }
   ],
   "source": [
    "circ = prepare_circuit()\n",
    "t_qc = transpile(circ, backend=backend_sim)\n",
    "circ.draw('mpl') # trash qubits are at the bottom"
   ]
  },
  {
   "cell_type": "code",
   "execution_count": 9,
   "id": "f608e393",
   "metadata": {},
   "outputs": [
    {
     "data": {
      "image/png": "[encoded data removed]",
      "text/plain": [
       "<Figure size 929.397x445.48 with 1 Axes>"
      ]
     },
     "execution_count": 9,
     "metadata": {},
     "output_type": "execute_result"
    }
   ],
   "source": [
    "circ = prepare_circuit2(thetas)\n",
    "# circ = prepare_circuit(feature_encoding(thetas, .6))\n",
    "circ.draw('mpl') # identical to above"
   ]
  },
  {
   "cell_type": "markdown",
   "id": "83039206",
   "metadata": {},
   "source": [
    "### Execute circuit\n",
    "Circuit is executed on simulator and measurement outcomes on the trash qubits are stored"
   ]
  },
  {
   "cell_type": "code",
   "execution_count": 15,
   "id": "aacc06af",
   "metadata": {},
   "outputs": [
    {
     "data": {
      "text/plain": [
       "26"
      ]
     },
     "execution_count": 15,
     "metadata": {},
     "output_type": "execute_result"
    }
   ],
   "source": [
    "def run_circuit(thetas, init_state, shots=100):\n",
    "    circ = prepare_circuit2(thetas, init_state)\n",
    "\n",
    "    # Execute the circuit on the qasm simulator.\n",
    "    job_sim = execute(circ, backend_sim, shots=shots)#, memory=True)\n",
    "\n",
    "    # Grab the results from the job.\n",
    "    result_sim = job_sim.result()\n",
    "\n",
    "    counts = result_sim.get_counts(circ)\n",
    "#     print(counts)\n",
    "    \n",
    "#     mems = result_sim.get_memory(circ)\n",
    "#     print(mems)\n",
    "    return counts\n",
    "run_circuit(thetas, init_state)['11']"
   ]
  },
  {
   "cell_type": "markdown",
   "id": "8a9bd59e",
   "metadata": {},
   "source": [
    "### Optimize circuit\n",
    "Define cost function (averaged hamming distance of measurement outcomes) and minimze it using either scipy or qiskit optimizer modules (the latter is also based on scipy though)."
   ]
  },
  {
   "cell_type": "code",
   "execution_count": 28,
   "id": "be957958",
   "metadata": {},
   "outputs": [
    {
     "data": {
      "text/plain": [
       "0.051"
      ]
     },
     "execution_count": 28,
     "metadata": {},
     "output_type": "execute_result"
    }
   ],
   "source": [
    "def cost_function(thetas, t_qc):\n",
    "    \"\"\" Optimizes circuit for a range of input states (slower!!) \"\"\"\n",
    "    n_samples = 20 # different training states\n",
    "    #gs = np.random.uniform(0.5, 1.0, n_samples) # Ising parameters to optimize for\n",
    "    gs = np.linspace(0.1, 0.6, n_samples)\n",
    "    shots = 100 # Number of measurements for single training example\n",
    "    cost = 0.\n",
    "    for g in gs:\n",
    "        init_state, _ = ising_groundstate(L, 1.0, g)\n",
    "        t_qc.initialize(init_state, range(L))\n",
    "#         new_thetas = feature_encoding(thetas, g) # comment out when running w/o feature encoding\n",
    "        new_thetas = thetas\n",
    "        qobj = compiler.assemble(t_qc.bind_parameters(new_thetas), backend=backend_sim, shots=shots)\n",
    "        result = backend_sim.run(qobj).result()\n",
    "        out = result.get_counts()\n",
    "        cost += (out.get('11', 0)*2 + out.get('01', 0) + out.get('10', 0))\n",
    "    return cost/(shots * n_samples)\n",
    "cost_function(thetas, t_qc)"
   ]
  },
  {
   "cell_type": "code",
   "execution_count": 40,
   "id": "0978d4e3",
   "metadata": {},
   "outputs": [
    {
     "data": {
      "text/plain": [
       "0.01"
      ]
     },
     "execution_count": 40,
     "metadata": {},
     "output_type": "execute_result"
    }
   ],
   "source": [
    "J, g = 1., 1.5 # Ising parameters for which ground state should be compressed\n",
    "init_state, _ = ising_groundstate(L, J, g)\n",
    "t_qc.initialize(init_state, range(L))\n",
    "\n",
    "def cost_function_single(thetas, t_qc):\n",
    "    \"\"\" Optimizes circuit for single input state \"\"\"\n",
    "    shots = 1000 # Number of measurements for single training example\n",
    "    qobj = compiler.assemble(t_qc.bind_parameters(thetas), backend=backend_sim, shots=shots)\n",
    "    result = backend_sim.run(qobj).result()\n",
    "    out = result.get_counts()\n",
    "    cost = out.get('11', 0)*2 + out.get('01', 0) + out.get('10', 0)\n",
    "    return cost/shots\n",
    "cost_function_single(thetas, t_qc)"
   ]
  },
  {
   "cell_type": "code",
   "execution_count": 16,
   "id": "9c5fe7c0",
   "metadata": {},
   "outputs": [
    {
     "data": {
      "text/plain": [
       "0.94"
      ]
     },
     "execution_count": 16,
     "metadata": {},
     "output_type": "execute_result"
    }
   ],
   "source": [
    "def cost_function_old(thetas):\n",
    "    \"\"\" OLD version: Optimizes circuit for a range of input states (slower!!) \"\"\"\n",
    "    n_samples = 20 # different training states\n",
    "    #gs = np.random.uniform(0.5, 1.0, n_samples) # Ising parameters to optimize for\n",
    "    gs = np.linspace(0.1, 0.6, n_samples)\n",
    "    shots = 100 # Number of measurements for single training example\n",
    "    cost = 0.\n",
    "    for g in gs:\n",
    "        init_state, _ = ising_groundstate(L, 1.0, g)\n",
    "#         new_thetas = feature_encoding(thetas, g) # comment out when running w/o feature encoding\n",
    "        new_thetas = thetas\n",
    "        out = run_circuit(new_thetas, init_state, shots=shots)\n",
    "        cost += (out.get('11', 0)*2 + out.get('01', 0) + out.get('10', 0))\n",
    "    return cost/(shots * n_samples)\n",
    "cost_function_old(thetas)"
   ]
  },
  {
   "cell_type": "code",
   "execution_count": 17,
   "id": "94cf1dae",
   "metadata": {},
   "outputs": [],
   "source": [
    "#reset random seed\n",
    "np.random.seed(123)"
   ]
  },
  {
   "cell_type": "code",
   "execution_count": 32,
   "id": "14642b02",
   "metadata": {},
   "outputs": [
    {
     "name": "stdout",
     "output_type": "stream",
     "text": [
      "Time:  19.15021800994873\n"
     ]
    },
    {
     "data": {
      "text/plain": [
       "(array([ 2.95704913,  6.38046155,  0.06309858,  1.75634094,  3.08068115,\n",
       "         2.07396251,  5.08781174,  6.2303564 ,  5.53206952,  3.63265806,\n",
       "         5.85461147,  2.81687055,  1.97448526, -0.16149091]),\n",
       " 0.02,\n",
       " 50)"
      ]
     },
     "execution_count": 32,
     "metadata": {},
     "output_type": "execute_result"
    }
   ],
   "source": [
    "thetas = np.random.uniform(0, 2*np.pi, 2*L+2) # initial parameters without feature encoding\n",
    "# thetas = np.random.uniform(0, 2*np.pi, ((2*L+2)*2)) # initial parameters with feature encoding\n",
    "\n",
    "# counts, values = [], []\n",
    "# def store_intermediate_result(eval_count, parameters, mean, std):\n",
    "#     counts.append(eval_count)\n",
    "#     values.append(mean)\n",
    "\n",
    "# Initialize optimizer\n",
    "optimizer = COBYLA(maxiter=50, tol=0.0001)\n",
    "# optimizer = L_BFGS_B(maxfun=300, maxiter=500)#, factr=10, iprint=- 1, epsilon=1e-08)\n",
    "# optimizer = SPSA(maxiter=1)#, callback=store_intermediate_result) # recommended from qiskit but terribly slow\n",
    "\n",
    "start_time = time.time()\n",
    "ret = optimizer.optimize(num_vars=thetas.shape[0], objective_function=(lambda thetas: cost_function_single(thetas, t_qc)), initial_point=thetas)\n",
    "print(\"Time: \", time.time()-start_time)\n",
    "ret"
   ]
  },
  {
   "cell_type": "code",
   "execution_count": 34,
   "id": "c22d5d9f",
   "metadata": {},
   "outputs": [],
   "source": [
    "thetas = ret[0]"
   ]
  },
  {
   "cell_type": "code",
   "execution_count": 129,
   "id": "390f3b72",
   "metadata": {},
   "outputs": [],
   "source": [
    "# #scipy\n",
    "# result = minimize(cost_function_old, thetas, method='BFGS', options={'maxiter': 10})\n",
    "# #result = minimize(cost_function_old, thetas, method='Powell', options={'maxiter': 10, 'ftol': 0.01})\n",
    "# #Haven't tried the next one yet (but first qae paper used it)\n",
    "# result = basinhopping(cost_function_old, thetas, niter=100, T=1.0, stepsize=0.5)\n",
    "\n",
    "\n",
    "# print(result.fun) # cost function after optimization\n",
    "# print(result.x) # optimized parameters"
   ]
  },
  {
   "cell_type": "markdown",
   "id": "7f0894d4",
   "metadata": {},
   "source": [
    "### Test circuit\n",
    "Test optimized circuit on different Ising parameter values and (hopefully) observe phase transition"
   ]
  },
  {
   "cell_type": "code",
   "execution_count": 47,
   "id": "a04ec1a2",
   "metadata": {},
   "outputs": [],
   "source": [
    "gs = np.linspace(0.01, 2.0, 50)\n",
    "gs = [1.0, 1.5, 2.0]\n",
    "cost = []\n",
    "shots = 10000\n",
    "for g in gs:\n",
    "    init_state_test, _ = ising_groundstate(L, 1.0, g)\n",
    "#     new_thetas = feature_encoding(thetas, g)\n",
    "    new_thetas = thetas\n",
    "    out = run_circuit(new_thetas, init_state_test, shots=shots)\n",
    "    cost.append((out.get('11', 0)*2 + out.get('01', 0) + out.get('10', 0))/shots)"
   ]
  },
  {
   "cell_type": "code",
   "execution_count": 186,
   "id": "e045ffb7",
   "metadata": {},
   "outputs": [
    {
     "data": {
      "image/png": "[encoded data removed]",
      "text/plain": [
       "<Figure size 432x288 with 1 Axes>"
      ]
     },
     "metadata": {
      "needs_background": "light"
     },
     "output_type": "display_data"
    }
   ],
   "source": [
    "plt.plot(gs, cost)\n",
    "plt.xlabel(r\"$g$\")\n",
    "plt.ylabel(\"Cost\");"
   ]
  },
  {
   "cell_type": "markdown",
   "id": "5c01277d",
   "metadata": {},
   "source": [
    "### Reproduce results from https://arxiv.org/pdf/2010.06599.pdf"
   ]
  },
  {
   "cell_type": "code",
   "execution_count": 43,
   "id": "c3f51729",
   "metadata": {},
   "outputs": [],
   "source": [
    "circ = prepare_circuit2(thetas, measurement=False)\n",
    "# circ = prepare_circuit(feature_encoding(thetas, 0.6), measurement=False)\n",
    "\n",
    "J, g = 1., 1.5\n",
    "init_state, _ = ising_groundstate(L, J, g)\n",
    "state = Statevector(init_state)\n",
    "state = state.evolve(circ)\n",
    "traced_state = qiskit.quantum_info.partial_trace(state,range(0,4))"
   ]
  },
  {
   "cell_type": "code",
   "execution_count": 194,
   "id": "8bfaaca5",
   "metadata": {},
   "outputs": [
    {
     "data": {
      "image/png": "[encoded data removed]",
      "text/plain": [
       "<Figure size 432x288 with 2 Axes>"
      ]
     },
     "metadata": {
      "needs_background": "light"
     },
     "output_type": "display_data"
    }
   ],
   "source": [
    "plt.imshow(np.real(traced_state.data), cmap='RdBu', vmin=-1.0, vmax=1.0, interpolation='none')\n",
    "plt.colorbar()\n",
    "plt.axis('off');\n",
    "# upper left corner corresponds to |00><00|"
   ]
  },
  {
   "cell_type": "code",
   "execution_count": null,
   "id": "f4b96d2a",
   "metadata": {},
   "outputs": [],
   "source": []
  }
 ],
 "metadata": {
  "kernelspec": {
   "display_name": "Python 3",
   "language": "python",
   "name": "python3"
  },
  "language_info": {
   "codemirror_mode": {
    "name": "ipython",
    "version": 3
   },
   "file_extension": ".py",
   "mimetype": "text/x-python",
   "name": "python",
   "nbconvert_exporter": "python",
   "pygments_lexer": "ipython3",
   "version": "3.9.4"
  }
 },
 "nbformat": 4,
 "nbformat_minor": 5
}
