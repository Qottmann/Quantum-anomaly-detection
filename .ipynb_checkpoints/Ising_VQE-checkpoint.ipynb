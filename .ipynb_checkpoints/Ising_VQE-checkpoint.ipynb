{
 "cells": [
  {
   "cell_type": "code",
   "execution_count": null,
   "metadata": {},
   "outputs": [],
   "source": [
    "from qiskit import BasicAer\n",
    "from qiskit.aqua.operators import X, Z, I\n",
    "from qiskit.aqua import QuantumInstance, aqua_globals\n",
    "from qiskit.aqua.algorithms import VQE\n",
    "from qiskit.aqua.components.optimizers import SLSQP\n",
    "from qiskit.circuit.library import TwoLocal\n",
    "from qiskit.aqua import aqua_globals\n",
    "\n",
    "h = 0.5\n",
    "\n",
    "H = (Z ^ Z ^ I ^ I ^ I) + \\\n",
    "    (I ^ Z ^ Z ^ I ^ I) + \\\n",
    "    (I ^ I ^ Z ^ Z ^ I) + \\\n",
    "    (I ^ I ^ I ^ Z ^ Z) + \\\n",
    "    (h * X ^ I ^ I ^ I ^ I) + \\\n",
    "    (h * I ^ X ^ I ^ I ^ I) + \\\n",
    "    (h * I ^ I ^ X ^ I ^ I) + \\\n",
    "    (h * I ^ I ^ I ^ X ^ I) + \\\n",
    "    (h * I ^ I ^ I ^ I ^ X) \n",
    "\n",
    "seed = 50\n",
    "aqua_globals.random_seed = seed\n",
    "qi = QuantumInstance(BasicAer.get_backend('statevector_simulator'), seed_transpiler=seed, seed_simulator=seed)\n",
    "\n",
    "ansatz = TwoLocal(rotation_blocks='ry', entanglement_blocks='cz')\n",
    "slsqp = SLSQP(maxiter=1000)\n",
    "vqe = VQE(operator=H, var_form=ansatz, optimizer=slsqp, quantum_instance=qi)\n",
    "result = vqe.run()\n",
    "\n",
    "import pprint\n",
    "pp = pprint.PrettyPrinter(indent=4)\n",
    "pp.pprint(result)\n",
    "\n",
    "print('Energy: ', result.eigenvalue)"
   ]
  },
  {
   "cell_type": "code",
   "execution_count": null,
   "metadata": {},
   "outputs": [],
   "source": [
    "from tenpy.networks.mps import MPS\n",
    "from tenpy.models.tf_ising import TFIChain\n",
    "from tenpy.algorithms import dmrg\n",
    "import matplotlib.pyplot as plt\n",
    "\n",
    "def DMRG_TFI(L, h, chi_max = 30, verbose=0, bc = 'finite', perturbation=False, orthogonal=[]):\n",
    "    \n",
    "    '''DMRG in the TFI model in a finite 1D chain'''\n",
    "\n",
    "    model_params = dict(L=L, J=1., g=h, bc_MPS=bc, conserve=None, verbose=verbose)\n",
    "    M = TFIChain(model_params)\n",
    "    psi = MPS.from_product_state(M.lat.mps_sites(), [\"up\"] * M.lat.N_sites, bc=M.lat.bc_MPS)\n",
    "   \n",
    "    dmrg_params = {                                                                                             \n",
    "        'mixer': True,                                                                                          \n",
    "        'trunc_params': {                                                                                       \n",
    "        'chi_max': chi_max,                                                                                                                                                                    \n",
    "        },                                                                                                      \n",
    "        'max_E_err': 1.e-16,                                                                                    \n",
    "        'verbose': 0,\n",
    "        'orthogonal_to': orthogonal}\n",
    "    \n",
    "    info = dmrg.run(psi, M, dmrg_params)\n",
    "    \n",
    "    return info['E'], psi\n",
    "\n",
    "L = 5\n",
    "h = 0.5\n",
    "\n",
    "E, psi = DMRG_TFI(L, h, chi_max = 100)\n",
    "print('Energy: ', E)"
   ]
  },
  {
   "cell_type": "code",
   "execution_count": null,
   "metadata": {},
   "outputs": [],
   "source": []
  }
 ],
 "metadata": {
  "kernelspec": {
   "display_name": "Python 3",
   "language": "python",
   "name": "python3"
  },
  "language_info": {
   "codemirror_mode": {
    "name": "ipython",
    "version": 3
   },
   "file_extension": ".py",
   "mimetype": "text/x-python",
   "name": "python",
   "nbconvert_exporter": "python",
   "pygments_lexer": "ipython3",
   "version": "3.7.3"
  }
 },
 "nbformat": 4,
 "nbformat_minor": 2
}
