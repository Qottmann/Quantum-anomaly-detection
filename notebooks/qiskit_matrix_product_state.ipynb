{
 "cells": [
  {
   "cell_type": "code",
   "execution_count": 1,
   "id": "f8edb210-a4ec-4baf-8982-673fcb4ccafc",
   "metadata": {},
   "outputs": [],
   "source": [
    "import sys\n",
    "sys.path.insert(1, '..') # sets the import path to the parent folder\n",
    "\n",
    "import time\n",
    "import itertools\n",
    "import numpy as np\n",
    "\n",
    "import qiskit\n",
    "from qiskit import *\n",
    "from qiskit.quantum_info import Statevector\n",
    "from qiskit.algorithms.optimizers import COBYLA, L_BFGS_B, SPSA\n",
    "from qiskit.opflow.state_fns import StateFn, CircuitStateFn\n",
    "from qiskit.providers.aer import StatevectorSimulator, AerSimulator\n",
    "\n",
    "from qiskit.opflow import CircuitSampler\n",
    "\n",
    "from qiskit.ignis.mitigation.measurement import CompleteMeasFitter # you will need to pip install qiskit-ignis\n",
    "from qiskit.ignis.mitigation.measurement import complete_meas_cal\n",
    "\n",
    "import matplotlib.pyplot as plt\n",
    "from matplotlib.ticker import MaxNLocator\n",
    "from matplotlib.colors import BoundaryNorm\n",
    "cmap = plt.get_cmap(\"plasma\") #'viridis'\n",
    "\n",
    "from modules.utils import *\n",
    "\n",
    "from qae import *\n",
    "\n",
    "import datetime"
   ]
  },
  {
   "cell_type": "code",
   "execution_count": 2,
   "id": "b083b876-c91e-4798-ad00-45b130671f4a",
   "metadata": {},
   "outputs": [
    {
     "name": "stderr",
     "output_type": "stream",
     "text": [
      "/home/kkottmann/TeNPy/tenpy/tools/optimization.py:308: UserWarning: Couldn't load compiled cython code. Code will run a bit slower.\n",
      "  warnings.warn(\"Couldn't load compiled cython code. Code will run a bit slower.\")\n"
     ]
    }
   ],
   "source": [
    "from tenpy.networks.mps import MPS\n",
    "from tenpy.models.hubbard import BoseHubbardChain\n",
    "from tenpy.algorithms import dmrg\n",
    "from tenpy.linalg import np_conserved\n",
    "\n",
    "def DMRG_EBH(L, V, t_list, chi_max=30, bc_MPS='infinite'):\n",
    "\n",
    "    model_params = dict(n_max=1, filling=0.5, bc_MPS=bc_MPS, t=t_list,\n",
    "                        L=L, V=V, mu=0, conserve='N')\n",
    "    M = BoseHubbardChain(model_params)\n",
    "        \n",
    "    vector=[]\n",
    "    for i in range(M.lat.N_sites):\n",
    "        if i%2:\n",
    "            vector.append(1)\n",
    "        else:\n",
    "            vector.append(0)\n",
    "\n",
    "    psi = MPS.from_product_state(M.lat.mps_sites(), vector, bc=M.lat.bc_MPS)    \n",
    "        \n",
    "    dmrg_params = {                                                                                             \n",
    "        'mixer': True,                                                                                          \n",
    "        'trunc_params': {                                                                                       \n",
    "        'chi_max': chi_max,                                                                                                                                                                    \n",
    "        },                                                                                                      \n",
    "        'max_E_err': 1.e-16,                                                                                    \n",
    "        #'verbose': 0\n",
    "    }\n",
    "    \n",
    "    info = dmrg.run(psi, M, dmrg_params)\n",
    "    \n",
    "    return info['E'], psi"
   ]
  },
  {
   "cell_type": "code",
   "execution_count": 3,
   "id": "2455116c-ec9b-4864-a55d-4608e29bf020",
   "metadata": {},
   "outputs": [
    {
     "name": "stdout",
     "output_type": "stream",
     "text": [
      "0.17.4 1.20.1\n"
     ]
    }
   ],
   "source": [
    "print(qiskit.__version__, np.__version__)"
   ]
  },
  {
   "cell_type": "code",
   "execution_count": 4,
   "id": "e6790455-5f05-4fb1-b2d7-14318b2434d2",
   "metadata": {},
   "outputs": [],
   "source": [
    "#IBMQ.load_account() # this then automatically loads your saved account\n",
    "#provider = IBMQ.get_provider(hub='ibm-q-research')"
   ]
  },
  {
   "cell_type": "code",
   "execution_count": 5,
   "id": "8ed32c34-5bef-4829-9159-b9631cee1ca4",
   "metadata": {},
   "outputs": [],
   "source": [
    "#device = provider.backend.ibmq_rome # 6 bogota ; 4 rome"
   ]
  },
  {
   "cell_type": "code",
   "execution_count": 6,
   "id": "bd703227-20e9-499d-9794-eb65b433c138",
   "metadata": {},
   "outputs": [],
   "source": [
    "### Real device execution:\n",
    "#backend = device \n",
    "\n",
    "### Simulation with noise profile from real device\n",
    "#backend = qiskit.providers.aer.AerSimulator.from_backend(device)\n",
    "\n",
    "### Simulation without noise\n",
    "backend = qiskit.providers.aer.AerSimulator(method=\"matrix_product_state\")\n",
    "#backend = StatevectorSimulator()"
   ]
  },
  {
   "cell_type": "code",
   "execution_count": 7,
   "id": "8b6bddb0-76c8-49c9-9ede-86a9f6ff3a40",
   "metadata": {},
   "outputs": [],
   "source": [
    "### Preliminaries\n",
    "L = 10\n",
    "num_trash = 2\n",
    "anti = 1 # 1 for ferromagnetic Ising model, -1 for antiferromagnet\n",
    "\n",
    "filename = \"data/QAEAnsatz_scaling_MPS\""
   ]
  },
  {
   "cell_type": "code",
   "execution_count": 8,
   "id": "7c0c72c6-c490-4d67-81ad-0dc10b31a65e",
   "metadata": {},
   "outputs": [
    {
     "name": "stdout",
     "output_type": "stream",
     "text": [
      "bond dimension :  8\n"
     ]
    }
   ],
   "source": [
    "V = 1\n",
    "deltat=1\n",
    "chi = 2**3\n",
    "print(\"bond dimension : \", chi)"
   ]
  },
  {
   "cell_type": "code",
   "execution_count": 9,
   "id": "b96860e5-d84f-464e-b012-e5a07342e8cb",
   "metadata": {},
   "outputs": [
    {
     "name": "stderr",
     "output_type": "stream",
     "text": [
      "/home/kkottmann/TeNPy/tenpy/algorithms/dmrg.py:1916: UserWarning: H is zero in the given block, nothing to diagonalize.We just return the initial state again.\n",
      "  warnings.warn(\"H is zero in the given block, nothing to diagonalize.\"\n"
     ]
    }
   ],
   "source": [
    "t_list = np.ones(L-1)\n",
    "for i in range(len(t_list)):\n",
    "    t_list[i] -= deltat*(-1)**i\n",
    "E0, psi0 = DMRG_EBH(L, V, t_list, chi_max=chi, bc_MPS='finite')"
   ]
  },
  {
   "cell_type": "markdown",
   "id": "cf3dd415-7f18-4c1b-8bbd-9eee622732ac",
   "metadata": {},
   "source": [
    "Match qiskits way of encoding matrix product states. I.e. a state is composed of  \n",
    "state = (A_list, S_list)  \n",
    "where A_list is a list consisting of tuples of matrices (so having (A[0], A[1]) instead of A[2, chi, chi])  \n",
    "and S_list are the singular values (can only assume so, the [documentation is trash](https://qiskit.org/documentation/stubs/qiskit.providers.aer.library.set_matrix_product_state.html#qiskit.providers.aer.library.set_matrix_product_state)!)  \n",
    "I came to this conclusion by looking what `save_matrix_product_state` is saving and guessing from the shape of it:"
   ]
  },
  {
   "cell_type": "markdown",
   "id": "f9a9dc70-dd8e-4efd-b9dd-d515fc674f4f",
   "metadata": {},
   "source": [
    "### dummy-save a matrix product state to check shapes and conventions"
   ]
  },
  {
   "cell_type": "code",
   "execution_count": 10,
   "id": "e19b5382-2aaa-46eb-8465-9e28bca78b54",
   "metadata": {},
   "outputs": [],
   "source": [
    "thetas = np.random.rand(num_trash*(L+1))\n",
    "QAE_circ = QAEAnsatz(num_qubits = L, num_trash_qubits= num_trash, trash_qubits_idxs = list(range(num_trash)), measure_trash=False).assign_parameters(thetas)"
   ]
  },
  {
   "cell_type": "code",
   "execution_count": 11,
   "id": "7d7f2bb9-ec9d-4808-ab83-bcf0953bff64",
   "metadata": {},
   "outputs": [
    {
     "data": {
      "text/plain": [
       "<qiskit.circuit.instructionset.InstructionSet at 0x7fb4a93402b0>"
      ]
     },
     "execution_count": 11,
     "metadata": {},
     "output_type": "execute_result"
    }
   ],
   "source": [
    "QAE_circ.save_matrix_product_state(label=\"my_mps\")"
   ]
  },
  {
   "cell_type": "code",
   "execution_count": 12,
   "id": "69db7d8b-a74c-478f-922c-624385c2cb3e",
   "metadata": {},
   "outputs": [],
   "source": [
    "result = backend.run(QAE_circ).result()"
   ]
  },
  {
   "cell_type": "code",
   "execution_count": 13,
   "id": "6408120e-cfa6-432b-b5e6-045ba230a2e2",
   "metadata": {},
   "outputs": [],
   "source": [
    "#result.data(0)[\"my_mps\"]"
   ]
  },
  {
   "cell_type": "code",
   "execution_count": 14,
   "id": "da146dd3-2991-43c6-ac00-6277b02653fa",
   "metadata": {},
   "outputs": [
    {
     "data": {
      "text/plain": [
       "[((1, 2), (1, 2)),\n",
       " ((2, 4), (2, 4)),\n",
       " ((4, 8), (4, 8)),\n",
       " ((8, 16), (8, 16)),\n",
       " ((16, 16), (16, 16)),\n",
       " ((16, 16), (16, 16)),\n",
       " ((16, 8), (16, 8)),\n",
       " ((8, 4), (8, 4)),\n",
       " ((4, 2), (4, 2)),\n",
       " ((2, 1), (2, 1))]"
      ]
     },
     "execution_count": 14,
     "metadata": {},
     "output_type": "execute_result"
    }
   ],
   "source": [
    "[(_[0].shape, _[1].shape) for _ in result.data(0)[\"my_mps\"][0]]"
   ]
  },
  {
   "cell_type": "code",
   "execution_count": 15,
   "id": "a1faf22b-1cfa-4e84-bd49-e3d52db329d6",
   "metadata": {},
   "outputs": [
    {
     "data": {
      "text/plain": [
       "[(2,), (4,), (8,), (16,), (16,), (16,), (8,), (4,), (2,)]"
      ]
     },
     "execution_count": 15,
     "metadata": {},
     "output_type": "execute_result"
    }
   ],
   "source": [
    "[_.shape for _ in result.data(0)[\"my_mps\"][1]]"
   ]
  },
  {
   "cell_type": "markdown",
   "id": "4f3d378a-8b12-493f-9832-5acd9f8ae0eb",
   "metadata": {},
   "source": [
    "### Construct state in qiskit form"
   ]
  },
  {
   "cell_type": "code",
   "execution_count": 16,
   "id": "972134ff-1adf-4cc8-a26b-8621bb8f3215",
   "metadata": {},
   "outputs": [],
   "source": [
    "# G is only the local tensor (not multiplied by any singular values) - see https://tenpy.readthedocs.io/en/latest/reference/tenpy.networks.mps.html\n",
    "A_list = [psi0.get_B(i, form=\"G\").to_ndarray().transpose([1,0,2]) for i in range(L)]\n",
    "for i,A in enumerate(A_list):\n",
    "    A_list[i] = (A[0], A[1])"
   ]
  },
  {
   "cell_type": "code",
   "execution_count": 17,
   "id": "8aefb18e-a916-4bce-b553-5d4a3d808d42",
   "metadata": {},
   "outputs": [
    {
     "data": {
      "text/plain": [
       "[((1, 1), (1, 1)),\n",
       " ((1, 2), (1, 2)),\n",
       " ((2, 2), (2, 2)),\n",
       " ((2, 4), (2, 4)),\n",
       " ((4, 4), (4, 4)),\n",
       " ((4, 4), (4, 4)),\n",
       " ((4, 2), (4, 2)),\n",
       " ((2, 2), (2, 2)),\n",
       " ((2, 1), (2, 1)),\n",
       " ((1, 1), (1, 1))]"
      ]
     },
     "execution_count": 17,
     "metadata": {},
     "output_type": "execute_result"
    }
   ],
   "source": [
    "[(_[0].shape, _[1].shape) for _ in A_list]"
   ]
  },
  {
   "cell_type": "code",
   "execution_count": 18,
   "id": "f4f285a6-3793-48f1-818a-9c4c0e35ef14",
   "metadata": {},
   "outputs": [],
   "source": [
    "S_list = [psi0.get_SR(i) for i in range(L-1)] # skip trivial last bond; hast to be of size L-1"
   ]
  },
  {
   "cell_type": "code",
   "execution_count": 19,
   "id": "9b7dda80-d001-4ea5-a839-0612d9145001",
   "metadata": {},
   "outputs": [],
   "source": [
    "state = (A_list, S_list)"
   ]
  },
  {
   "cell_type": "code",
   "execution_count": 20,
   "id": "376b67ba-be78-4515-affc-2e3f40583d65",
   "metadata": {},
   "outputs": [],
   "source": [
    "initcirc = QuantumCircuit(QuantumRegister(L,\"q\")) #,ClassicalRegister(num_trash, 'c')"
   ]
  },
  {
   "cell_type": "code",
   "execution_count": 21,
   "id": "ffcc69d9-aefb-4f9d-b91d-9bafb089805d",
   "metadata": {},
   "outputs": [
    {
     "data": {
      "text/html": [
       "<pre style=\"word-wrap: normal;white-space: pre;background: #fff0;line-height: 1.1;font-family: &quot;Courier New&quot;,Courier,monospace\">      ░ \n",
       "q_0: ─░─\n",
       "      ░ \n",
       "q_1: ─░─\n",
       "      ░ \n",
       "q_2: ─░─\n",
       "      ░ \n",
       "q_3: ─░─\n",
       "      ░ \n",
       "q_4: ─░─\n",
       "      ░ \n",
       "q_5: ─░─\n",
       "      ░ \n",
       "q_6: ─░─\n",
       "      ░ \n",
       "q_7: ─░─\n",
       "      ░ \n",
       "q_8: ─░─\n",
       "      ░ \n",
       "q_9: ─░─\n",
       "      ░ </pre>"
      ],
      "text/plain": [
       "      ░ \n",
       "q_0: ─░─\n",
       "      ░ \n",
       "q_1: ─░─\n",
       "      ░ \n",
       "q_2: ─░─\n",
       "      ░ \n",
       "q_3: ─░─\n",
       "      ░ \n",
       "q_4: ─░─\n",
       "      ░ \n",
       "q_5: ─░─\n",
       "      ░ \n",
       "q_6: ─░─\n",
       "      ░ \n",
       "q_7: ─░─\n",
       "      ░ \n",
       "q_8: ─░─\n",
       "      ░ \n",
       "q_9: ─░─\n",
       "      ░ "
      ]
     },
     "execution_count": 21,
     "metadata": {},
     "output_type": "execute_result"
    }
   ],
   "source": [
    "initcirc.set_matrix_product_state(state)\n",
    "initcirc.draw()"
   ]
  },
  {
   "cell_type": "markdown",
   "id": "13970ce1-ba03-48b5-8b43-a7438540910e",
   "metadata": {},
   "source": [
    "### Test validity\n",
    "#### Check expectation value"
   ]
  },
  {
   "cell_type": "code",
   "execution_count": 22,
   "id": "ec9588ba-eb27-46ad-b0ff-a49ae5be75ba",
   "metadata": {},
   "outputs": [
    {
     "data": {
      "text/plain": [
       "[<matplotlib.lines.Line2D at 0x7fb4a92b54c0>]"
      ]
     },
     "execution_count": 22,
     "metadata": {},
     "output_type": "execute_result"
    },
    {
     "data": {
      "image/png": "[encoded data removed]",
      "text/plain": [
       "<Figure size 432x288 with 1 Axes>"
      ]
     },
     "metadata": {
      "needs_background": "light"
     },
     "output_type": "display_data"
    }
   ],
   "source": [
    "plt.plot(psi0.expectation_value(\"N\"))"
   ]
  },
  {
   "cell_type": "code",
   "execution_count": 23,
   "id": "37ce3f92-5e1d-441b-a502-d4bc990dc7ec",
   "metadata": {},
   "outputs": [],
   "source": [
    "i=0"
   ]
  },
  {
   "cell_type": "code",
   "execution_count": 24,
   "id": "144fca2b-6d38-4813-86c9-6e9fb2389000",
   "metadata": {},
   "outputs": [],
   "source": [
    "qi = qiskit.utils.QuantumInstance(backend=backend, # , seed_simulator=seed, seed_transpiler=seed\n",
    "                                  shots = 1000,\n",
    "                                  #coupling_map=coupling_map,\n",
    "                                  #noise_model=noise_model, # comment out on real device execution\n",
    "                                  #measurement_error_mitigation_cls= CompleteMeasFitter, \n",
    "                                  #cals_matrix_refresh_period=30  #How often to refresh the calibration matrix in measurement mitigation. in minutes\n",
    "                                 )"
   ]
  },
  {
   "cell_type": "code",
   "execution_count": 25,
   "id": "d8c1facc-4c8a-4bed-b225-35fc78f8c5fd",
   "metadata": {},
   "outputs": [],
   "source": [
    "QZ = np.zeros(L)"
   ]
  },
  {
   "cell_type": "code",
   "execution_count": 26,
   "id": "bc5d4c68-1f92-40f5-9c00-588edc44453c",
   "metadata": {},
   "outputs": [
    {
     "name": "stderr",
     "output_type": "stream",
     "text": [
      "<ipython-input-26-50c7739f7155>:3: ComplexWarning: Casting complex values to real discards the imaginary part\n",
      "  QZ[i] = CircuitSampler(qi).convert(meas_outcome).eval()\n"
     ]
    }
   ],
   "source": [
    "for i in range(L):\n",
    "    meas_outcome = ~StateFn(QNKron(L,Z,I,i)) @ StateFn(initcirc)\n",
    "    QZ[i] = CircuitSampler(qi).convert(meas_outcome).eval()"
   ]
  },
  {
   "cell_type": "code",
   "execution_count": 27,
   "id": "2a79fe4d-6c8f-4557-a78d-46e0770ef637",
   "metadata": {},
   "outputs": [
    {
     "data": {
      "text/plain": [
       "[<matplotlib.lines.Line2D at 0x7fb4a2111e80>]"
      ]
     },
     "execution_count": 27,
     "metadata": {},
     "output_type": "execute_result"
    },
    {
     "data": {
      "image/png": "[encoded data removed]",
      "text/plain": [
       "<Figure size 432x288 with 1 Axes>"
      ]
     },
     "metadata": {
      "needs_background": "light"
     },
     "output_type": "display_data"
    }
   ],
   "source": [
    "plt.plot(QZ)"
   ]
  },
  {
   "cell_type": "markdown",
   "id": "cb4b6d26-36ec-4215-a00c-34a9c2aac59e",
   "metadata": {},
   "source": [
    "shift in magnitude due to using $N$ type operator in tenpy and Pauli $Z$ in qiskit"
   ]
  },
  {
   "cell_type": "code",
   "execution_count": null,
   "id": "fa51c7cc-0703-49e7-b19e-d9d49b81744a",
   "metadata": {},
   "outputs": [],
   "source": []
  }
 ],
 "metadata": {
  "kernelspec": {
   "display_name": "Python 3",
   "language": "python",
   "name": "python3"
  },
  "language_info": {
   "codemirror_mode": {
    "name": "ipython",
    "version": 3
   },
   "file_extension": ".py",
   "mimetype": "text/x-python",
   "name": "python",
   "nbconvert_exporter": "python",
   "pygments_lexer": "ipython3",
   "version": "3.9.4"
  }
 },
 "nbformat": 4,
 "nbformat_minor": 5
}
