{
 "cells": [
  {
   "cell_type": "code",
   "execution_count": 1,
   "id": "bd98e2fa-c67f-433f-8a36-0ca4c125fc97",
   "metadata": {},
   "outputs": [],
   "source": [
    "import time\n",
    "import datetime\n",
    "import numpy as np\n",
    "from matplotlib import pyplot as plt\n",
    "\n",
    "import qiskit\n",
    "from qiskit import *\n",
    "from qiskit.opflow import X,Z,I\n",
    "from qiskit.opflow.state_fns import StateFn, CircuitStateFn\n",
    "from qiskit.providers.aer import StatevectorSimulator, AerSimulator\n",
    "from qiskit.algorithms import VQE\n",
    "from qiskit.algorithms.optimizers import COBYLA, SLSQP, SPSA\n",
    "from qiskit.opflow import CircuitSampler\n",
    "\n",
    "from qiskit.ignis.mitigation.measurement import CompleteMeasFitter # you will need to pip install qiskit-ignis\n",
    "\n",
    "from scipy import sparse\n",
    "import scipy.sparse.linalg.eigen.arpack as arp\n",
    "from modules.utils import *"
   ]
  },
  {
   "cell_type": "code",
   "execution_count": 7,
   "id": "dc5f0696-c607-4f70-9259-1605be155851",
   "metadata": {},
   "outputs": [],
   "source": [
    "IBMQ.load_account() # this then automatically loads your saved account\n",
    "provider = IBMQ.get_provider(hub='ibm-q-research')"
   ]
  },
  {
   "cell_type": "code",
   "execution_count": 8,
   "id": "da877f43-8363-4634-9726-91b8620a7073",
   "metadata": {},
   "outputs": [
    {
     "name": "stdout",
     "output_type": "stream",
     "text": [
      "ibmq_rome\n"
     ]
    }
   ],
   "source": [
    "device = provider.backend.ibmq_rome\n",
    "print(device)"
   ]
  },
  {
   "cell_type": "code",
   "execution_count": 9,
   "id": "b99f5f5e-6f2e-45b5-b7f2-33d996725794",
   "metadata": {},
   "outputs": [],
   "source": [
    "#backend = device\n",
    "backend = qiskit.providers.aer.AerSimulator.from_backend(device)"
   ]
  },
  {
   "cell_type": "code",
   "execution_count": 10,
   "id": "d059c92c-6608-4f05-8de1-a0e3f198626d",
   "metadata": {},
   "outputs": [],
   "source": [
    "coupling_map = device.configuration().coupling_map\n",
    "noise_model = qiskit.providers.aer.noise.NoiseModel.from_backend(device)\n",
    "basis_gates = noise_model.basis_gates"
   ]
  },
  {
   "cell_type": "code",
   "execution_count": 11,
   "id": "99a5ec03-f1cf-4cdc-be5f-188a1d56c4ba",
   "metadata": {},
   "outputs": [],
   "source": [
    "#aqua_globals.random_seed = seed\n",
    "qi = qiskit.utils.QuantumInstance(backend=backend, # , seed_simulator=seed, seed_transpiler=seed\n",
    "                         coupling_map=coupling_map, noise_model=noise_model,\n",
    "                         measurement_error_mitigation_cls= CompleteMeasFitter, \n",
    "                         cals_matrix_refresh_period=30  #How often to refresh the calibration matrix in measurement mitigation. in minutes\n",
    "                                 )"
   ]
  },
  {
   "cell_type": "code",
   "execution_count": 12,
   "id": "35cae2d5-bc46-4221-9444-719122a96d11",
   "metadata": {},
   "outputs": [],
   "source": [
    "# linear entangler (as in scales linearly with trash qubits)\n",
    "def get_entangler_map(L, num_trash, i_permut=1):\n",
    "    result = []\n",
    "    nums = list(range(L)) # here was the problem, it doesnt like when list elements are taken from numpy\n",
    "    nums_compressed = nums.copy()[:L-num_trash]\n",
    "    nums_trash = nums.copy()[-num_trash:]\n",
    "    #print(nums, nums_compressed, nums_trash)\n",
    "    # combine all trash qubits with themselves\n",
    "    for trash_q in nums_trash[:-1]:\n",
    "        result.append((trash_q+1,trash_q))\n",
    "    # combine each of the trash qubits with every n-th\n",
    "    repeated = list(nums_trash) * (L-num_trash) # repeat the list of trash indices cyclicly\n",
    "    for i in range(L-num_trash):\n",
    "        result.append((repeated[i_permut + i], nums_compressed[i]))\n",
    "    return result\n",
    "\n",
    "def QAE_Ansatz(thetas, L, num_trash, insert_barriers=False, parametrized_gate = \"ry\", entangling_gate = \"cz\"):\n",
    "    entanglement = [get_entangler_map(L,num_trash,i_permut) for i_permut in range(num_trash)]\n",
    "    circ = qiskit.circuit.library.TwoLocal(L, \n",
    "                                           parametrized_gate,\n",
    "                                           entangling_gate,\n",
    "                                           entanglement,\n",
    "                                           reps=num_trash,\n",
    "                                           insert_barriers=insert_barriers,\n",
    "                                           skip_final_rotation_layer=True\n",
    "                                          ).assign_parameters(thetas[:-num_trash])\n",
    "    if insert_barriers: circ.barrier()\n",
    "    for i in range(num_trash):\n",
    "        circ.ry(thetas[L-i-1], L-i-1)\n",
    "        #circ.ry(circuit.Parameter(f'θ{i}'), L-i-1)\n",
    "    return circ\n",
    "\n",
    "def prepare_circuit(thetas, L=6, num_trash=2, init_state=None, measurement=True, vqe=True):\n",
    "    qreg = QuantumRegister(L, 'q')\n",
    "    creg = ClassicalRegister(num_trash, 'c')\n",
    "    circ = QuantumCircuit(qreg, creg)\n",
    "    circ += QAE_Ansatz(thetas, L, num_trash, insert_barriers=True)#.assign_parameters(thetas) # difference to bind?\n",
    "    if measurement:\n",
    "        for i in range(num_trash):\n",
    "            circ.measure(qreg[L-i-1], creg[i])\n",
    "    if init_state is not None:\n",
    "        if vqe:\n",
    "            circ = init_vqe(init_state,L=L) + circ\n",
    "        else:\n",
    "            circ.initialize(init_state, qreg)\n",
    "    return circ, qreg"
   ]
  },
  {
   "cell_type": "code",
   "execution_count": 13,
   "id": "e6c1d7fc-d270-4032-b3ca-d08ed4683eb0",
   "metadata": {},
   "outputs": [],
   "source": [
    "def feature_encoding(thetas, x):\n",
    "    \"\"\" thetas: parameters to be optimized, x: Ising model parameter (eg. field) \"\"\"\n",
    "    new_thetas = []\n",
    "    thetas = thetas.reshape((-1,2))\n",
    "    for theta in thetas:\n",
    "        new_thetas.append(theta[0] * x + theta[1])\n",
    "    return new_thetas"
   ]
  },
  {
   "cell_type": "markdown",
   "id": "d7843e1e-d40c-483f-a915-e96e926fa587",
   "metadata": {},
   "source": [
    "# Measurement Error mitigation\n",
    "I have low hopes this will actually do something"
   ]
  },
  {
   "cell_type": "code",
   "execution_count": 15,
   "id": "ee8cfc91-ed33-4b07-b4c0-1c61c6ee972e",
   "metadata": {},
   "outputs": [],
   "source": [
    "backend_sim = backend"
   ]
  },
  {
   "cell_type": "code",
   "execution_count": 16,
   "id": "b1d6ce18-50aa-4b52-871e-c0ef947c03c1",
   "metadata": {},
   "outputs": [
    {
     "data": {
      "text/plain": [
       "18"
      ]
     },
     "execution_count": 16,
     "metadata": {},
     "output_type": "execute_result"
    }
   ],
   "source": [
    "def run_circuit(thetas, L, num_trash, init_state, vqe=True, shots=100):\n",
    "    circ, qreg = prepare_circuit(thetas, L, num_trash, init_state, vqe=vqe)\n",
    "\n",
    "    # Execute the circuit on the qasm simulator.\n",
    "    job_sim = execute(circ, backend_sim, shots=shots, seed_simulator=123, seed_transpiler=234) # fix seed to make it reproducible\n",
    "\n",
    "    # Grab the results from the job.\n",
    "    result_sim = job_sim.result()\n",
    "\n",
    "    counts = result_sim.get_counts(circ)\n",
    "#     print(counts)\n",
    "    \n",
    "#     mems = result_sim.get_memory(circ)\n",
    "#     print(mems)\n",
    "    return counts\n",
    "L = 5\n",
    "num_trash = 2\n",
    "phi = np.random.rand(40)\n",
    "thetas = np.random.uniform(0, 2*np.pi, 2*L+2)\n",
    "run_circuit(thetas, L, num_trash, phi)['11']"
   ]
  },
  {
   "cell_type": "code",
   "execution_count": 17,
   "id": "e091a180-5e8d-4db0-88d4-28c538fd6633",
   "metadata": {},
   "outputs": [],
   "source": [
    "from qiskit.ignis.mitigation.measurement import complete_meas_cal"
   ]
  },
  {
   "cell_type": "code",
   "execution_count": 18,
   "id": "3fc5d271-044c-4d89-b5a1-950d3126034e",
   "metadata": {},
   "outputs": [],
   "source": [
    "circ, qreg = prepare_circuit(thetas, L, num_trash, phi)"
   ]
  },
  {
   "cell_type": "code",
   "execution_count": 19,
   "id": "8ace351d-5232-4aef-9b3e-0111175970c1",
   "metadata": {},
   "outputs": [],
   "source": [
    "qubit_list = [L-i-1 for i in range(num_trash)] # only need to calibrate the trash qubits"
   ]
  },
  {
   "cell_type": "code",
   "execution_count": 20,
   "id": "f4053873-a304-4b20-b848-b4f82d620ec7",
   "metadata": {},
   "outputs": [],
   "source": [
    "meas_calibs, state_labels = complete_meas_cal(qubit_list=qubit_list, qr=qreg, circlabel='mcal')"
   ]
  },
  {
   "cell_type": "code",
   "execution_count": 21,
   "id": "a9688f72-5c43-4e54-b1bf-6b5acb57ced1",
   "metadata": {},
   "outputs": [],
   "source": [
    "job = qiskit.execute(meas_calibs, backend=backend, shots=1000, noise_model=noise_model)\n",
    "cal_results = job.result()"
   ]
  },
  {
   "cell_type": "code",
   "execution_count": 22,
   "id": "6c7628f9-1359-451c-ad06-e541dc00f661",
   "metadata": {},
   "outputs": [],
   "source": [
    "meas_fitter = CompleteMeasFitter(cal_results, state_labels, circlabel='mcal')"
   ]
  },
  {
   "cell_type": "code",
   "execution_count": 23,
   "id": "11943cb1-6243-44a9-8eae-3320c4d9902c",
   "metadata": {},
   "outputs": [
    {
     "name": "stdout",
     "output_type": "stream",
     "text": [
      "[[0.982 0.033 0.039 0.002]\n",
      " [0.01  0.955 0.    0.032]\n",
      " [0.008 0.001 0.955 0.036]\n",
      " [0.    0.011 0.006 0.93 ]]\n"
     ]
    }
   ],
   "source": [
    "print(meas_fitter.cal_matrix)"
   ]
  },
  {
   "cell_type": "code",
   "execution_count": 24,
   "id": "d5b77ee0-eaec-400f-bcb2-031bdbb8bce7",
   "metadata": {},
   "outputs": [
    {
     "data": {
      "image/png": "[encoded data removed]",
      "text/plain": [
       "<Figure size 432x288 with 2 Axes>"
      ]
     },
     "metadata": {
      "needs_background": "light"
     },
     "output_type": "display_data"
    }
   ],
   "source": [
    "meas_fitter.plot_calibration()"
   ]
  },
  {
   "cell_type": "code",
   "execution_count": 25,
   "id": "ec21ae61-0385-47c6-8931-7afbcb65247e",
   "metadata": {},
   "outputs": [],
   "source": [
    "job_sim = execute(circ, backend, shots=1000) # fix seed to make it reproducible"
   ]
  },
  {
   "cell_type": "code",
   "execution_count": 26,
   "id": "5f5199cd-69ba-45c2-a292-bd3b0b59d2e6",
   "metadata": {},
   "outputs": [],
   "source": [
    "result = job_sim.result()"
   ]
  },
  {
   "cell_type": "code",
   "execution_count": 27,
   "id": "7c8dab37-ec47-4c45-9ab4-6ce850f6b8ff",
   "metadata": {},
   "outputs": [],
   "source": [
    "# Results without mitigation\n",
    "raw_counts = result.get_counts()\n",
    "\n",
    "# Get the filter object\n",
    "meas_filter = meas_fitter.filter\n",
    "\n",
    "# Results with mitigation\n",
    "mitigated_results = meas_filter.apply(result)\n",
    "mitigated_counts = mitigated_results.get_counts(0)"
   ]
  },
  {
   "cell_type": "code",
   "execution_count": 28,
   "id": "c817dc1f-180c-49fa-aae8-90e14583b59f",
   "metadata": {},
   "outputs": [
    {
     "data": {
      "image/png": "[encoded data removed]",
      "text/plain": [
       "<Figure size 504x360 with 1 Axes>"
      ]
     },
     "execution_count": 28,
     "metadata": {},
     "output_type": "execute_result"
    }
   ],
   "source": [
    "from qiskit.tools.visualization import *\n",
    "plot_histogram([raw_counts, mitigated_counts], legend=['raw', 'mitigated'])"
   ]
  },
  {
   "cell_type": "code",
   "execution_count": null,
   "id": "43ccb6da-6d5e-46a6-b626-d17062887529",
   "metadata": {},
   "outputs": [],
   "source": []
  }
 ],
 "metadata": {
  "kernelspec": {
   "display_name": "Python 3",
   "language": "python",
   "name": "python3"
  },
  "language_info": {
   "codemirror_mode": {
    "name": "ipython",
    "version": 3
   },
   "file_extension": ".py",
   "mimetype": "text/x-python",
   "name": "python",
   "nbconvert_exporter": "python",
   "pygments_lexer": "ipython3",
   "version": "3.9.4"
  }
 },
 "nbformat": 4,
 "nbformat_minor": 5
}
