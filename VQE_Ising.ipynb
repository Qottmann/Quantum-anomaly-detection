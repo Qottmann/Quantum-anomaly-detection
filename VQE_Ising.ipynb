{
 "cells": [
  {
   "cell_type": "code",
   "execution_count": null,
   "metadata": {},
   "outputs": [],
   "source": [
    "import time\n",
    "import numpy as np\n",
    "import qiskit\n",
    "from qiskit.opflow import X,Z,I\n",
    "from qiskit.opflow.state_fns import StateFn, CircuitStateFn\n",
    "from qiskit.providers.aer import StatevectorSimulator, AerSimulator\n",
    "from qiskit.algorithms import VQE\n",
    "from qiskit.algorithms.optimizers import COBYLA, SLSQP, SPSA\n",
    "import matplotlib.pyplot as plt\n",
    "from scipy import sparse\n",
    "import scipy.sparse.linalg.eigen.arpack as arp\n",
    "from modules.utils import *\n",
    "\n",
    "%matplotlib inline"
   ]
  },
  {
   "cell_type": "markdown",
   "metadata": {},
   "source": [
    "# ISING"
   ]
  },
  {
   "cell_type": "markdown",
   "metadata": {},
   "source": [
    "## Obtain the VQE parameters using StatevectorSimulator (NOT NOISY)"
   ]
  },
  {
   "cell_type": "code",
   "execution_count": null,
   "metadata": {},
   "outputs": [],
   "source": [
    "L = 6\n",
    "anti = 1.\n",
    "\n",
    "gx_vals = np.logspace(-2,2,10)\n",
    "gz_vals = np.logspace(-2,2,10)\n",
    "\n",
    "backend = StatevectorSimulator()\n",
    "optimizer = SLSQP(maxiter=1000)\n",
    "ansatz = qiskit.circuit.library.EfficientSU2(L, reps=3)\n",
    "\n",
    "#backend= AerSimulator() \n",
    "#optimizer = SPSA(maxiter=1000)\n",
    "#ansatz = qiskit.circuit.library.EfficientSU2(L, reps=3)\n",
    "\n",
    "vqe = VQE(ansatz, optimizer, quantum_instance=backend) \n",
    "\n",
    "opt_params = []\n",
    "gx_list = []\n",
    "gz_list = []\n",
    "\n",
    "for i,gx in enumerate(gx_vals):\n",
    "    for j,gz in enumerate(gz_vals):\n",
    "    \n",
    "        print('gx: %.2f, gz: %.2f' %(gx,gz))\n",
    "\n",
    "        H = QHIsing(L,anti,np.float32(gx),np.float32(gz))\n",
    "        result = vqe.compute_minimum_eigenvalue(H) #ED with Qiskit VQE\n",
    "        \n",
    "        gx_list.append(gx)\n",
    "        gz_list.append(gz)\n",
    "        opt_params.append(sort_params(result.optimal_parameters))\n",
    "\n",
    "        #plt.figure(figsize=(5,5))\n",
    "        #plt.plot(abs(np.conjugate(result.eigenstate)*result.eigenstate), 'o-')\n",
    "        #plt.title('gx: %.2f, gz: %.2f' %(gx,gz), fontsize=20)\n",
    "        #plt.show()\n",
    "\n",
    "np.savez(f'data/params_VQE_Ising_L%.0f_anti_%.0f.npz' %(L,anti), gx_list=gx_list, gz_list=gz_list, opt_params=opt_params)"
   ]
  },
  {
   "cell_type": "markdown",
   "metadata": {},
   "source": [
    "## Recover ansatz with optimal parameters and calculate magnetization and energies"
   ]
  },
  {
   "cell_type": "code",
   "execution_count": null,
   "metadata": {},
   "outputs": [],
   "source": [
    "L = 6\n",
    "anti = 1.\n",
    "\n",
    "VQE_params = np.load(f'data/params_VQE_Ising_L{L}_anti_%.0f.npz' %anti, allow_pickle=True)\n",
    "gx_list = VQE_params['gx_list']\n",
    "gz_list = VQE_params['gz_list']\n",
    "opt_params = VQE_params['opt_params']\n",
    "\n",
    "mag = QMag(L,anti) #magnetization operator (Qiskit)\n",
    "Smag = Mag(L,anti) #magnetization operator (numpy)\n",
    "# the ~ is the adjoint, but also it turns the is_measurement attribute to True\n",
    "~StateFn(mag)\n",
    "# state is technically a circuit, that prepares the ground state via VQE circuit\n",
    "#state.draw() # uncomment to see, but is very long\n",
    "\n",
    "Qen=np.zeros(len(opt_params)); Sen=np.zeros(len(opt_params)) #energies\n",
    "Qmags=np.zeros(len(opt_params)); Smags=np.zeros(len(opt_params)) #magnetizations"
   ]
  },
  {
   "cell_type": "code",
   "execution_count": null,
   "metadata": {},
   "outputs": [],
   "source": [
    "for j in range(len(opt_params)):\n",
    "    \n",
    "    gx = gx_list[j]\n",
    "    gz = gz_list[j]\n",
    "    H = QHIsing(L, anti, np.float32(gx), np.float32(gz)) # build Hamiltonian Op\n",
    "    state = init_vqe(opt_params[j], L=L)\n",
    "    StateFn(state)   \n",
    "    meas_outcome = ~StateFn(mag) @ StateFn(state)\n",
    "    \n",
    "    Qmags[j] = meas_outcome.eval()\n",
    "    e_outcome = ~StateFn(H) @ StateFn(state)\n",
    "    Qen[j] = e_outcome.eval()\n",
    "\n",
    "    init_state, E, ham = ising_groundstate(L, anti, np.float(gx), np.float(gz))\n",
    "    Sen[j] = E\n",
    "    Smags[j] = init_state.T.conj()@Smag@init_state #Magnetization with Numpy results"
   ]
  },
  {
   "cell_type": "markdown",
   "metadata": {},
   "source": [
    "## Figures"
   ]
  },
  {
   "cell_type": "code",
   "execution_count": null,
   "metadata": {},
   "outputs": [],
   "source": [
    "fig,ax = plt.subplots(figsize=(8,5))\n",
    "cmap = plt.get_cmap(\"plasma\") #'viridis'\n",
    "im = ax.pcolormesh(gz_vals, gx_vals, abs(Smags).reshape(len(gz_vals),len(gx_vals)), cmap=cmap)\n",
    "cbar = fig.colorbar(im, ax=ax)\n",
    "cbar.ax.tick_params(labelsize=20)\n",
    "plt.xscale(\"log\")\n",
    "plt.yscale(\"log\")\n",
    "ax.set_title(\"Magnetization ED L %.0f anti %.0f\" %(L, anti),fontsize=20)\n",
    "ax.set_xlabel(r\"$g_z$\",fontsize=24)\n",
    "ax.set_ylabel(r\"$g_x$\",fontsize=24)\n",
    "ax.tick_params(labelsize=20)\n",
    "\n",
    "fig,ax = plt.subplots(figsize=(8,5))\n",
    "cmap = plt.get_cmap(\"plasma\") #'viridis'\n",
    "im = ax.pcolormesh(gz_vals, gx_vals, abs(Qmags).reshape(len(gz_vals),len(gx_vals)), cmap=cmap)\n",
    "cbar = fig.colorbar(im, ax=ax)\n",
    "cbar.ax.tick_params(labelsize=20)\n",
    "plt.xscale(\"log\")\n",
    "plt.yscale(\"log\")\n",
    "ax.set_title(\"Magnetization VQE L %.0f anti %.0f\" %(L, anti),fontsize=20)\n",
    "ax.set_xlabel(r\"$g_z$\",fontsize=24)\n",
    "ax.set_ylabel(r\"$g_x$\",fontsize=24)\n",
    "ax.tick_params(labelsize=20)"
   ]
  },
  {
   "cell_type": "code",
   "execution_count": null,
   "metadata": {},
   "outputs": [],
   "source": [
    "fig,ax = plt.subplots(figsize=(8,5))\n",
    "cmap = plt.get_cmap(\"plasma\") #'viridis'\n",
    "im = ax.pcolormesh(gz_vals, gx_vals, Sen.reshape(len(gz_vals),len(gx_vals)), cmap=cmap)\n",
    "cbar = fig.colorbar(im, ax=ax)\n",
    "cbar.ax.tick_params(labelsize=20)\n",
    "plt.xscale(\"log\")\n",
    "plt.yscale(\"log\")\n",
    "ax.set_title(\"Energies ED L %.0f anti %.0f\" %(L, anti),fontsize=20)\n",
    "ax.set_xlabel(r\"$g_z$\",fontsize=24)\n",
    "ax.set_ylabel(r\"$g_x$\",fontsize=24)\n",
    "ax.tick_params(labelsize=20)\n",
    "\n",
    "fig,ax = plt.subplots(figsize=(8,5))\n",
    "cmap = plt.get_cmap(\"plasma\") #'viridis'\n",
    "im = ax.pcolormesh(gz_vals, gx_vals, Qen.reshape(len(gz_vals),len(gx_vals)), cmap=cmap)\n",
    "cbar = fig.colorbar(im, ax=ax)\n",
    "cbar.ax.tick_params(labelsize=20)\n",
    "plt.xscale(\"log\")\n",
    "plt.yscale(\"log\")\n",
    "ax.set_title(\"Energies VQE L %.0f anti %.0f\" %(L, anti),fontsize=20)\n",
    "ax.set_xlabel(r\"$g_z$\",fontsize=24)\n",
    "ax.set_ylabel(r\"$g_x$\",fontsize=24)\n",
    "ax.tick_params(labelsize=20)"
   ]
  },
  {
   "cell_type": "markdown",
   "metadata": {},
   "source": [
    "# ISING ANTIFERROMAGNETIC"
   ]
  },
  {
   "cell_type": "markdown",
   "metadata": {},
   "source": [
    "## Obtain the VQE parameters using StatevectorSimulator (NOT NOISY)"
   ]
  },
  {
   "cell_type": "code",
   "execution_count": null,
   "metadata": {},
   "outputs": [],
   "source": [
    "L = 6\n",
    "anti = -1.\n",
    "\n",
    "gx_vals = np.logspace(-2,2,10)\n",
    "gz_vals = np.logspace(-2,2,10)\n",
    "\n",
    "backend = StatevectorSimulator()\n",
    "optimizer = SLSQP(maxiter=1000)\n",
    "ansatz = qiskit.circuit.library.EfficientSU2(L, reps=3)\n",
    "\n",
    "#backend= AerSimulator() \n",
    "#optimizer = SPSA(maxiter=1000)\n",
    "#ansatz = qiskit.circuit.library.EfficientSU2(L, reps=3)\n",
    "\n",
    "vqe = VQE(ansatz, optimizer, quantum_instance=backend) \n",
    "\n",
    "opt_params = []\n",
    "gx_list = []\n",
    "gz_list = []\n",
    "\n",
    "for i,gx in enumerate(gx_vals):\n",
    "    for j,gz in enumerate(gz_vals):\n",
    "    \n",
    "        print('gx: %.2f, gz: %.2f' %(gx,gz))\n",
    "\n",
    "        H = QHIsing(L,anti,np.float32(gx),np.float32(gz))\n",
    "        result = vqe.compute_minimum_eigenvalue(H) #ED with Qiskit VQE\n",
    "        \n",
    "        gx_list.append(gx)\n",
    "        gz_list.append(gz)\n",
    "        opt_params.append(sort_params(result.optimal_parameters))\n",
    "\n",
    "        #plt.figure(figsize=(5,5))\n",
    "        #plt.plot(abs(np.conjugate(result.eigenstate)*result.eigenstate), 'o-')\n",
    "        #plt.title('gx: %.2f, gz: %.2f' %(gx,gz), fontsize=20)\n",
    "        #plt.show()\n",
    "\n",
    "np.savez(f'data/params_VQE_Ising_L%.0f_anti_%.0f.npz' %(L,anti), gx_list=gx_list, gz_list=gz_list, opt_params=opt_params)"
   ]
  },
  {
   "cell_type": "markdown",
   "metadata": {},
   "source": [
    "## Recover ansatz with optimal parameters and calculate magnetization and energies"
   ]
  },
  {
   "cell_type": "code",
   "execution_count": null,
   "metadata": {},
   "outputs": [],
   "source": [
    "L = 2\n",
    "anti = -1.\n",
    "\n",
    "VQE_params = np.load(f'data/params_VQE_Ising_L{L}_anti_%.0f.npz' %anti, allow_pickle=True)\n",
    "gx_list = VQE_params['gx_list']\n",
    "gz_list = VQE_params['gz_list']\n",
    "opt_params = VQE_params['opt_params']\n",
    "\n",
    "mag = QMag(L,anti) #magnetization operator (Qiskit)\n",
    "Smag = Mag(L,anti) #magnetization operator (numpy)\n",
    "# the ~ is the adjoint, but also it turns the is_measurement attribute to True\n",
    "~StateFn(mag)\n",
    "# state is technically a circuit, that prepares the ground state via VQE circuit\n",
    "#state.draw() # uncomment to see, but is very long\n",
    "\n",
    "Qen=np.zeros(len(opt_params)); Sen=np.zeros(len(opt_params)) #energies\n",
    "Qmags=np.zeros(len(opt_params)); Smags=np.zeros(len(opt_params)) #magnetizations"
   ]
  },
  {
   "cell_type": "code",
   "execution_count": null,
   "metadata": {},
   "outputs": [],
   "source": [
    "for j in range(len(opt_params)):\n",
    "    \n",
    "    gx = gx_list[j]\n",
    "    gz = gz_list[j]\n",
    "    H = QHIsing(L, anti, np.float32(gx), np.float32(gz)) # build Hamiltonian Op\n",
    "    state = init_vqe(opt_params[j], L=L)\n",
    "    StateFn(state)   \n",
    "    meas_outcome = ~StateFn(mag) @ StateFn(state)\n",
    "    \n",
    "    Qmags[j] = meas_outcome.eval()\n",
    "    e_outcome = ~StateFn(H) @ StateFn(state)\n",
    "    Qen[j] = e_outcome.eval()\n",
    "\n",
    "    init_state, E, ham = ising_groundstate(L, anti, np.float(gx), np.float(gz))\n",
    "    Sen[j] = E\n",
    "    Smags[j] = init_state.T.conj()@Smag@init_state #Magnetization with Numpy results"
   ]
  },
  {
   "cell_type": "markdown",
   "metadata": {},
   "source": [
    "## Figures"
   ]
  },
  {
   "cell_type": "code",
   "execution_count": null,
   "metadata": {},
   "outputs": [],
   "source": [
    "fig,ax = plt.subplots(figsize=(8,5))\n",
    "cmap = plt.get_cmap(\"plasma\") #'viridis'\n",
    "im = ax.pcolormesh(gz_vals, gx_vals, abs(Smags).reshape(len(gz_vals),len(gx_vals)), cmap=cmap)\n",
    "cbar = fig.colorbar(im, ax=ax)\n",
    "cbar.ax.tick_params(labelsize=20)\n",
    "plt.xscale(\"log\")\n",
    "plt.yscale(\"log\")\n",
    "ax.set_title(\"Magnetization ED L %.0f anti %.0f\" %(L, anti),fontsize=20)\n",
    "ax.set_xlabel(r\"$g_z$\",fontsize=24)\n",
    "ax.set_ylabel(r\"$g_x$\",fontsize=24)\n",
    "ax.tick_params(labelsize=20)\n",
    "\n",
    "fig,ax = plt.subplots(figsize=(8,5))\n",
    "cmap = plt.get_cmap(\"plasma\") #'viridis'\n",
    "im = ax.pcolormesh(gz_vals, gx_vals, abs(Qmags).reshape(len(gz_vals),len(gx_vals)), cmap=cmap)\n",
    "cbar = fig.colorbar(im, ax=ax)\n",
    "cbar.ax.tick_params(labelsize=20)\n",
    "plt.xscale(\"log\")\n",
    "plt.yscale(\"log\")\n",
    "ax.set_title(\"Magnetization VQE L %.0f anti %.0f\" %(L, anti),fontsize=20)\n",
    "ax.set_xlabel(r\"$g_z$\",fontsize=24)\n",
    "ax.set_ylabel(r\"$g_x$\",fontsize=24)\n",
    "ax.tick_params(labelsize=20)"
   ]
  },
  {
   "cell_type": "code",
   "execution_count": null,
   "metadata": {},
   "outputs": [],
   "source": [
    "fig,ax = plt.subplots(figsize=(8,5))\n",
    "cmap = plt.get_cmap(\"plasma\") #'viridis'\n",
    "im = ax.pcolormesh(gz_vals, gx_vals, Sen.reshape(len(gz_vals),len(gx_vals)), cmap=cmap)\n",
    "cbar = fig.colorbar(im, ax=ax)\n",
    "cbar.ax.tick_params(labelsize=20)\n",
    "plt.xscale(\"log\")\n",
    "plt.yscale(\"log\")\n",
    "ax.set_title(\"Energies ED L %.0f anti %.0f\" %(L, anti),fontsize=20)\n",
    "ax.set_xlabel(r\"$g_z$\",fontsize=24)\n",
    "ax.set_ylabel(r\"$g_x$\",fontsize=24)\n",
    "ax.tick_params(labelsize=20)\n",
    "\n",
    "fig,ax = plt.subplots(figsize=(8,5))\n",
    "cmap = plt.get_cmap(\"plasma\") #'viridis'\n",
    "im = ax.pcolormesh(gz_vals, gx_vals, Qen.reshape(len(gz_vals),len(gx_vals)), cmap=cmap)\n",
    "cbar = fig.colorbar(im, ax=ax)\n",
    "cbar.ax.tick_params(labelsize=20)\n",
    "plt.xscale(\"log\")\n",
    "plt.yscale(\"log\")\n",
    "ax.set_title(\"Energies VQE L %.0f anti %.0f\" %(L, anti),fontsize=20)\n",
    "ax.set_xlabel(r\"$g_z$\",fontsize=24)\n",
    "ax.set_ylabel(r\"$g_x$\",fontsize=24)\n",
    "ax.tick_params(labelsize=20)"
   ]
  },
  {
   "cell_type": "code",
   "execution_count": null,
   "metadata": {},
   "outputs": [],
   "source": []
  }
 ],
 "metadata": {
  "kernelspec": {
   "display_name": "Python 3",
   "language": "python",
   "name": "python3"
  },
  "language_info": {
   "codemirror_mode": {
    "name": "ipython",
    "version": 3
   },
   "file_extension": ".py",
   "mimetype": "text/x-python",
   "name": "python",
   "nbconvert_exporter": "python",
   "pygments_lexer": "ipython3",
   "version": "3.7.3"
  }
 },
 "nbformat": 4,
 "nbformat_minor": 5
}
